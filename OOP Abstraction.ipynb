{
 "cells": [
  {
   "cell_type": "code",
   "execution_count": null,
   "id": "b959ea38",
   "metadata": {},
   "outputs": [
    {
     "name": "stdout",
     "output_type": "stream",
     "text": [
      "Transfer Bank berhasil dengan nominal Rp 1000\n"
     ]
    }
   ],
   "source": [
    "# Abstraction\n",
    "# menyembunyikan detail yang tidak penting, hanya menampilkan inti/fitur yang diperlukan.\n",
    "\n",
    "# Abstraction biasanya dibuat dengan:\n",
    "# - Method yang sengaja hanya memberi gambaran umum → detailnya diurus class turunan.\n",
    "# - Abstract Class (dengan abc module di Python).\n",
    "# - Mendefinisikan method apa yang harus ada di turunan.\n",
    "from abc import ABC, abstractmethod\n",
    "\n",
    "class payment(ABC): # kelas abstrak\n",
    "\n",
    "    @abstractmethod\n",
    "    def pay (self, amount):\n",
    "        pass # fungsi ini sengaja kosong, isi nanti di subclass\n",
    "\n",
    "# sub-class\n",
    "class transferBank(payment):\n",
    "    def pay (self, amount):\n",
    "        print(f'Transfer Bank berhasil dengan nominal Rp {amount}')\n",
    "    \n",
    "class OVO (payment):\n",
    "    def pay(self, amount):\n",
    "        print(f'Transfer dengan OVO berhasil, sejumlah Rp {amount}')\n",
    "\n",
    "# buat objek\n",
    "pembayaran1 = transferBank()\n",
    "pembayaran1.pay(1000)\n",
    "\n",
    "\n"
   ]
  },
  {
   "cell_type": "code",
   "execution_count": 10,
   "id": "c6ad9ca1",
   "metadata": {},
   "outputs": [
    {
     "name": "stdout",
     "output_type": "stream",
     "text": [
      "Suara Kucing berbunyi Meow\n",
      "Suara Anjing berbunyi Guk, Guk\n"
     ]
    }
   ],
   "source": [
    "# Abstraction\n",
    "\n",
    "\"\"\"\n",
    "Buat class abstrak Hewan dengan metode abstrak suara. \n",
    "Buat subclass Kucing dan Anjing yang mengimplementasikan metode suara untuk mengeluarkan suara spesifik masing-masing \n",
    "(contoh: \"Meow\" untuk Kucing, \"Bark\" untuk Anjing).\n",
    "\"\"\"\n",
    "\n",
    "from abc import ABC, abstractmethod\n",
    "\n",
    "class abstrakhewan (ABC): # kelas abstrak\n",
    "\n",
    "    @abstractmethod\n",
    "    def abstrak_suara (self, suara: str):\n",
    "        pass\n",
    "\n",
    "# buat subclass\n",
    "class kucing(abstrakhewan):\n",
    "    def abstrak_suara(self, suara: str):\n",
    "        self.suara = suara\n",
    "        return f'Suara Kucing berbunyi {self.suara}'\n",
    "\n",
    "class anjing(abstrakhewan) :\n",
    "    def abstrak_suara(self, suara: str):\n",
    "        self.suara = suara\n",
    "        return f'Suara Anjing berbunyi {self.suara}'\n",
    "\n",
    "# buat objek\n",
    "Kucing = kucing()\n",
    "print(Kucing.abstrak_suara('Meow'))\n",
    "\n",
    "Anjing = anjing()\n",
    "print(Anjing.abstrak_suara(\"Guk, Guk\"))\n"
   ]
  },
  {
   "cell_type": "code",
   "execution_count": null,
   "id": "0501eedc",
   "metadata": {},
   "outputs": [],
   "source": []
  }
 ],
 "metadata": {
  "kernelspec": {
   "display_name": ".venv (3.12.1)",
   "language": "python",
   "name": "python3"
  },
  "language_info": {
   "codemirror_mode": {
    "name": "ipython",
    "version": 3
   },
   "file_extension": ".py",
   "mimetype": "text/x-python",
   "name": "python",
   "nbconvert_exporter": "python",
   "pygments_lexer": "ipython3",
   "version": "3.12.0"
  }
 },
 "nbformat": 4,
 "nbformat_minor": 5
}
