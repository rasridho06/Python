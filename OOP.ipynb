{
 "cells": [
  {
   "cell_type": "markdown",
   "metadata": {},
   "source": [
    "Object Oriented Programming"
   ]
  },
  {
   "cell_type": "code",
   "execution_count": 2,
   "metadata": {},
   "outputs": [
    {
     "name": "stdout",
     "output_type": "stream",
     "text": [
      "{'name': 'sniper', 'health': 100}\n",
      "<__main__.hero object at 0x000001D565655160>\n"
     ]
    }
   ],
   "source": [
    "class hero : # template\n",
    "    pass # digunakan untuk mengatakan \"tidak ada apa-apa di sini untuk saat ini\"\n",
    "\n",
    "hero1 = hero() # object atau instance\n",
    "hero2 = hero()\n",
    "hero3 = hero()\n",
    "\n",
    "hero1.name = 'sniper'\n",
    "hero1.health = 100\n",
    "\n",
    "hero2.name = 'sven'\n",
    "hero2.health = 200\n",
    "\n",
    "hero3.name = 'lunox'\n",
    "hero3.health = 300\n",
    "\n",
    "print(hero1.__dict__)\n",
    "print(hero1)"
   ]
  },
  {
   "cell_type": "code",
   "execution_count": 1,
   "metadata": {},
   "outputs": [],
   "source": [
    "class hero : # template\n",
    "    def __init__(self):\n",
    "        print(\"hero1\")"
   ]
  },
  {
   "cell_type": "code",
   "execution_count": null,
   "metadata": {},
   "outputs": [],
   "source": []
  }
 ],
 "metadata": {
  "kernelspec": {
   "display_name": "Python 3",
   "language": "python",
   "name": "python3"
  },
  "language_info": {
   "codemirror_mode": {
    "name": "ipython",
    "version": 3
   },
   "file_extension": ".py",
   "mimetype": "text/x-python",
   "name": "python",
   "nbconvert_exporter": "python",
   "pygments_lexer": "ipython3",
   "version": "3.12.1"
  }
 },
 "nbformat": 4,
 "nbformat_minor": 2
}
