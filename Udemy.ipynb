{
 "cells": [
  {
   "cell_type": "code",
   "execution_count": 1,
   "metadata": {},
   "outputs": [
    {
     "name": "stdout",
     "output_type": "stream",
     "text": [
      "3\n"
     ]
    }
   ],
   "source": [
    "# belajar python lagi\n",
    "\n",
    "x = 1\n",
    "y = 2\n",
    "z = x+y\n",
    "print(z)"
   ]
  },
  {
   "cell_type": "code",
   "execution_count": 1,
   "metadata": {},
   "outputs": [
    {
     "name": "stdout",
     "output_type": "stream",
     "text": [
      "=== Contoh operator 'not' ===\n",
      "Nilai awal: True\n",
      "Setelah 'not': False\n",
      "\n",
      "Nilai awal: False\n",
      "Setelah 'not': True\n",
      "\n",
      "=== Contoh operator '!=' ===\n",
      "Apakah 5 != 3? True\n",
      "Apakah 7 != 7? False\n",
      "\n",
      "=== Gabungan 'not' dan '==' ===\n",
      "not (x == y) dengan x=10, y=20 -> True\n",
      "x != y dengan x=10, y=20 -> True\n",
      "\n",
      "=== Coba sendiri ===\n",
      "not (x == y) -> True\n",
      "x != y -> True\n"
     ]
    }
   ],
   "source": [
    "# Contoh interaktif operator 'not' dan '!='\n",
    "\n",
    "print(\"=== Contoh operator 'not' ===\")\n",
    "nilai_boolean = True\n",
    "print(f\"Nilai awal: {nilai_boolean}\")\n",
    "print(f\"Setelah 'not': {not nilai_boolean}\")\n",
    "\n",
    "nilai_boolean = False\n",
    "print(f\"\\nNilai awal: {nilai_boolean}\")\n",
    "print(f\"Setelah 'not': {not nilai_boolean}\")\n",
    "\n",
    "print(\"\\n=== Contoh operator '!=' ===\")\n",
    "a = 5\n",
    "b = 3\n",
    "print(f\"Apakah {a} != {b}? {a != b}\")\n",
    "\n",
    "c = 7\n",
    "d = 7\n",
    "print(f\"Apakah {c} != {d}? {c != d}\")\n",
    "\n",
    "print(\"\\n=== Gabungan 'not' dan '==' ===\")\n",
    "x = 10\n",
    "y = 20\n",
    "print(f\"not (x == y) dengan x={x}, y={y} -> {not (x == y)}\")\n",
    "print(f\"x != y dengan x={x}, y={y} -> {x != y}\")\n",
    "\n",
    "# Kamu bisa coba ganti nilai variabel di bawah ini dan lihat hasilnya\n",
    "print(\"\\n=== Coba sendiri ===\")\n",
    "x = int(input(\"Masukkan nilai x: \"))\n",
    "y = int(input(\"Masukkan nilai y: \"))\n",
    "\n",
    "print(f\"not (x == y) -> {not (x == y)}\")\n",
    "print(f\"x != y -> {x != y}\")\n",
    "\n"
   ]
  },
  {
   "cell_type": "code",
   "execution_count": null,
   "metadata": {},
   "outputs": [],
   "source": []
  }
 ],
 "metadata": {
  "kernelspec": {
   "display_name": "Python 3",
   "language": "python",
   "name": "python3"
  },
  "language_info": {
   "codemirror_mode": {
    "name": "ipython",
    "version": 3
   },
   "file_extension": ".py",
   "mimetype": "text/x-python",
   "name": "python",
   "nbconvert_exporter": "python",
   "pygments_lexer": "ipython3",
   "version": "3.12.1"
  }
 },
 "nbformat": 4,
 "nbformat_minor": 2
}
