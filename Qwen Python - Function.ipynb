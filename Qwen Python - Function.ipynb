{
 "cells": [
  {
   "cell_type": "markdown",
   "id": "a0a408ae",
   "metadata": {},
   "source": [
    "# Fungsi\n",
    "    # sebuah blok kode yang dirancang untuk melakukan tugas tertentu.\n",
    "\n",
    "# fungsi memiliki tujuan serupa :\n",
    "    # Menghindari Duplikasi Kode: Jika ada bagian kode yang sering digunakan, kamu cukup menulisnya sekali dalam sebuah fungsi dan memanggilnya kapan pun dibutuhkan.\n",
    "    # Mempermudah Debugging: Jika ada kesalahan, kamu hanya perlu memeriksa bagian kode yang relevan di dalam fungsi tertentu, bukan seluruh program.\n",
    "    # Meningkatkan Kejelasan Program: Dengan memberi nama fungsi yang deskriptif, kode menjadi lebih mudah dimengerti oleh orang lain (atau oleh dirimu sendiri di masa depan).\n",
    "\n",
    "# Sebuah fungsi biasanya terdiri dari beberapa bagian utama:\n",
    "    # Nama Fungsi: Identitas fungsi yang digunakan untuk memanggilnya.\n",
    "    # Parameter (Opsional): Input yang diberikan kepada fungsi untuk diproses.\n",
    "    # Badan Fungsi: Serangkaian instruksi yang menjelaskan apa yang harus dilakukan oleh fungsi.\n",
    "    # Return (Opsional): Nilai atau hasil yang dikembalikan oleh fungsi setelah selesai bekerja.\n",
    "\n",
    "# Parameter adalah sesuatu yang menjadi batasan atau acuan untuk mengukur atau menilai sesuatu.\n",
    "# Dalam konteks pemrograman, parameter adalah variabel yang didefinisikan dalam fungsi untuk menerima nilai (input) saat fungsi dipanggil .\n"
   ]
  },
  {
   "cell_type": "code",
   "execution_count": 4,
   "id": "91769365",
   "metadata": {},
   "outputs": [
    {
     "name": "stdout",
     "output_type": "stream",
     "text": [
      "Tambahkan 2 sendok teh gula aren dan 3 ml susu UHT\n"
     ]
    }
   ],
   "source": [
    "def resep_kopi_aren (gula, susu) : # gula dan susu ada parameter yang digunakan untuk membuat fungsi\n",
    "    print(f'Tambahkan {gula} sendok teh gula aren dan {susu} ml susu UHT')\n",
    "\n",
    "resep_kopi_aren (2, 3)"
   ]
  },
  {
   "cell_type": "markdown",
   "id": "7bee0894",
   "metadata": {},
   "source": [
    "# | Istilah           | Penjelasan                                         |\n",
    "# | ----------------- | -------------------------------------------------- |\n",
    "# | Function          | Seperti mesin, mengerjakan sesuatu                 |\n",
    "# | Input (parameter) | Bahan yang dimasukkan ke mesin                     |\n",
    "# | `return`          | Hasil yang keluar dari mesin                       |\n",
    "# | Tanpa `return`    | Hasil tidak bisa dipakai di luar function          |\n",
    "# | Dengan `return`   | Hasil bisa disimpan, diolah lagi, atau ditampilkan |"
   ]
  },
  {
   "cell_type": "markdown",
   "id": "ba13a93c",
   "metadata": {},
   "source": [
    "# return\n",
    "\n",
    "# return digunakan untuk mengembalikan nilai dari fungsi ke tempat fungsi itu dipanggil.\n",
    "    # Tanpa return, fungsi hanya melakukan sesuatu (seperti mencetak), \n",
    "    # Tapi tidak menyimpan atau mengembalikan hasil.\n",
    "\n",
    "# Fungsi tanpa return\n",
    "    # Fungsi melakukan sesuatu, tapi tidak perlu mengembalikan nilai.\n",
    "    # Kapan digunakan:\n",
    "        # Menampilkan output ke layar\n",
    "        # Menulis file\n",
    "        # Mengirim email\n",
    "        # Insert ke database\n",
    "        # Logging aktivitas\n",
    "\n",
    "# Fungsi Dengan return\n",
    "    # Fungsi memproses sesuatu dan mengembalikan hasilnya.\n",
    "    # Kapan digunakan:\n",
    "        # Mengembalikan hasil perhitungan\n",
    "        # Mengolah data dan hasilnya disimpan\n",
    "        # Validasi atau transformasi data\n",
    "        # Fungsi pendukung (helper) dalam data pipeline\n",
    "    # Keuntungan : Nilai yang di-return bisa disimpan, dipakai lagi, dioper ke fungsi lain, dll.\n",
    "\n",
    "# Tips:\n",
    "    # Kalau kamu butuh hasilnya nanti → pakai return.\n",
    "    # Kalau tujuannya hanya menjalankan sesuatu → cukup print, tidak perlu return."
   ]
  },
  {
   "cell_type": "markdown",
   "id": "d25e6e83",
   "metadata": {},
   "source": [
    "# Contoh lain\n",
    "1. Fungsi TANPA return:\n",
    "Asistenmu langsung melakukan sesuatu untukmu.\n",
    "Misalnya:\n",
    "\n",
    "Kamu bilang: “Tolong bacain daftar tugas hari ini.”\n",
    "Asistenmu: langsung membacakannya (tidak kasih kertasnya kembali)."
   ]
  },
  {
   "cell_type": "code",
   "execution_count": 6,
   "id": "c136be07",
   "metadata": {},
   "outputs": [
    {
     "name": "stdout",
     "output_type": "stream",
     "text": [
      "1. Belajar Python\n",
      "2. Cuci piring\n"
     ]
    }
   ],
   "source": [
    "def bacakan_tugas():\n",
    "    print(\"1. Belajar Python\\n2. Cuci piring\")\n",
    "\n",
    "bacakan_tugas()"
   ]
  },
  {
   "cell_type": "markdown",
   "id": "43c462b4",
   "metadata": {},
   "source": [
    "2. Fungsi DENGAN return:\n",
    "Asistenmu menghitung atau cari sesuatu lalu kasih hasilnya ke kamu.\n",
    "\n",
    "Kamu bilang: “Tolong hitung 3 + 5 dan kasih tahu hasilnya.”\n",
    "Asistenmu: kasih kamu kertas bertuliskan 8."
   ]
  },
  {
   "cell_type": "code",
   "execution_count": 3,
   "id": "72bcc314",
   "metadata": {},
   "outputs": [
    {
     "name": "stdout",
     "output_type": "stream",
     "text": [
      "8\n"
     ]
    }
   ],
   "source": [
    "def hitung():\n",
    "    return 3 + 5\n",
    "\n",
    "hasil = hitung()\n",
    "print(hasil)  # Output: 8\n"
   ]
  },
  {
   "cell_type": "markdown",
   "id": "bf493198",
   "metadata": {},
   "source": [
    "# Analogi Gampang Lainnya\n",
    "print() = ngomong langsung\n",
    "return = nulis di kertas buat disimpan atau diproses lagi"
   ]
  },
  {
   "cell_type": "markdown",
   "id": "bc9fdbe5",
   "metadata": {},
   "source": [
    "# Jenis Fungsi Lainnya\n",
    "\n",
    "1. Tanpa parameter dan tanpa return "
   ]
  },
  {
   "cell_type": "code",
   "execution_count": null,
   "id": "2cb214cc",
   "metadata": {},
   "outputs": [
    {
     "name": "stdout",
     "output_type": "stream",
     "text": [
      "Hai!\n"
     ]
    }
   ],
   "source": [
    "def halo():\n",
    "    print(\"Hai!\")\n",
    "\n",
    "halo()"
   ]
  },
  {
   "cell_type": "markdown",
   "id": "d98f7496",
   "metadata": {},
   "source": [
    "2. Dengan parameter tapi tanpa return:"
   ]
  },
  {
   "cell_type": "code",
   "execution_count": 9,
   "id": "f6fc4249",
   "metadata": {},
   "outputs": [
    {
     "name": "stdout",
     "output_type": "stream",
     "text": [
      "Halo, ridho\n"
     ]
    }
   ],
   "source": [
    "def cetak_nama(nama):\n",
    "    print(f\"Halo, {nama}\")\n",
    "\n",
    "cetak_nama('ridho')"
   ]
  },
  {
   "cell_type": "markdown",
   "id": "d312ab9b",
   "metadata": {},
   "source": [
    "3. Dengan parameter dan return:"
   ]
  },
  {
   "cell_type": "code",
   "execution_count": 10,
   "id": "479da4e4",
   "metadata": {},
   "outputs": [
    {
     "data": {
      "text/plain": [
       "16"
      ]
     },
     "execution_count": 10,
     "metadata": {},
     "output_type": "execute_result"
    }
   ],
   "source": [
    "def luas_persegi(sisi):\n",
    "    return sisi * sisi\n",
    "\n",
    "luas_persegi(4)"
   ]
  },
  {
   "cell_type": "code",
   "execution_count": null,
   "id": "377bc1ba",
   "metadata": {},
   "outputs": [],
   "source": []
  }
 ],
 "metadata": {
  "kernelspec": {
   "display_name": ".venv",
   "language": "python",
   "name": "python3"
  },
  "language_info": {
   "codemirror_mode": {
    "name": "ipython",
    "version": 3
   },
   "file_extension": ".py",
   "mimetype": "text/x-python",
   "name": "python",
   "nbconvert_exporter": "python",
   "pygments_lexer": "ipython3",
   "version": "3.12.0"
  }
 },
 "nbformat": 4,
 "nbformat_minor": 5
}
