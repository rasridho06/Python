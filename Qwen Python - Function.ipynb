{
 "cells": [
  {
   "cell_type": "markdown",
   "id": "a0a408ae",
   "metadata": {},
   "source": [
    "# Fungsi\n",
    "    # sebuah blok kode yang dirancang untuk melakukan tugas tertentu.\n",
    "\n",
    "# fungsi memiliki tujuan serupa :\n",
    "    # Menghindari Duplikasi Kode: Jika ada bagian kode yang sering digunakan, kamu cukup menulisnya sekali dalam sebuah fungsi dan memanggilnya kapan pun dibutuhkan.\n",
    "    # Mempermudah Debugging: Jika ada kesalahan, kamu hanya perlu memeriksa bagian kode yang relevan di dalam fungsi tertentu, bukan seluruh program.\n",
    "    # Meningkatkan Kejelasan Program: Dengan memberi nama fungsi yang deskriptif, kode menjadi lebih mudah dimengerti oleh orang lain (atau oleh dirimu sendiri di masa depan).\n",
    "\n",
    "# Sebuah fungsi biasanya terdiri dari beberapa bagian utama:\n",
    "    # Nama Fungsi: Identitas fungsi yang digunakan untuk memanggilnya.\n",
    "    # Parameter (Opsional): Input yang diberikan kepada fungsi untuk diproses.\n",
    "    # Badan Fungsi: Serangkaian instruksi yang menjelaskan apa yang harus dilakukan oleh fungsi.\n",
    "    # Return (Opsional): Nilai atau hasil yang dikembalikan oleh fungsi setelah selesai bekerja.\n",
    "\n",
    "# Parameter adalah sesuatu yang menjadi batasan atau acuan untuk mengukur atau menilai sesuatu.\n",
    "# Dalam konteks pemrograman, parameter adalah variabel yang didefinisikan dalam fungsi untuk menerima nilai (input) saat fungsi dipanggil .\n"
   ]
  },
  {
   "cell_type": "code",
   "execution_count": 4,
   "id": "91769365",
   "metadata": {},
   "outputs": [
    {
     "name": "stdout",
     "output_type": "stream",
     "text": [
      "Tambahkan 2 sendok teh gula aren dan 3 ml susu UHT\n"
     ]
    }
   ],
   "source": [
    "def resep_kopi_aren (gula, susu) : # gula dan susu ada parameter yang digunakan untuk membuat fungsi\n",
    "    print(f'Tambahkan {gula} sendok teh gula aren dan {susu} ml susu UHT')\n",
    "\n",
    "resep_kopi_aren (2, 3)"
   ]
  },
  {
   "cell_type": "markdown",
   "id": "7bee0894",
   "metadata": {},
   "source": [
    "# | Istilah           | Penjelasan                                         |\n",
    "# | ----------------- | -------------------------------------------------- |\n",
    "# | Function          | Seperti mesin, mengerjakan sesuatu                 |\n",
    "# | Input (parameter) | Bahan yang dimasukkan ke mesin                     |\n",
    "# | `return`          | Hasil yang keluar dari mesin                       |\n",
    "# | Tanpa `return`    | Hasil tidak bisa dipakai di luar function          |\n",
    "# | Dengan `return`   | Hasil bisa disimpan, diolah lagi, atau ditampilkan |"
   ]
  },
  {
   "cell_type": "markdown",
   "id": "ba13a93c",
   "metadata": {},
   "source": [
    "# return\n",
    "\n",
    "# return digunakan untuk mengembalikan nilai dari fungsi ke tempat fungsi itu dipanggil.\n",
    "    # Tanpa return, fungsi hanya melakukan sesuatu (seperti mencetak), \n",
    "    # Tapi tidak menyimpan atau mengembalikan hasil.\n",
    "\n",
    "# Fungsi tanpa return\n",
    "    # Fungsi melakukan sesuatu, tapi tidak perlu mengembalikan nilai.\n",
    "    # Kapan digunakan:\n",
    "        # Menampilkan output ke layar\n",
    "        # Menulis file\n",
    "        # Mengirim email\n",
    "        # Insert ke database\n",
    "        # Logging aktivitas\n",
    "\n",
    "# Fungsi Dengan return\n",
    "    # Fungsi memproses sesuatu dan mengembalikan hasilnya.\n",
    "    # Kapan digunakan:\n",
    "        # Mengembalikan hasil perhitungan\n",
    "        # Mengolah data dan hasilnya disimpan\n",
    "        # Validasi atau transformasi data\n",
    "        # Fungsi pendukung (helper) dalam data pipeline\n",
    "    # Keuntungan : Nilai yang di-return bisa disimpan, dipakai lagi, dioper ke fungsi lain, dll.\n",
    "\n",
    "# Tips:\n",
    "    # Kalau kamu butuh hasilnya nanti → pakai return.\n",
    "    # Kalau tujuannya hanya menjalankan sesuatu → cukup print, tidak perlu return."
   ]
  },
  {
   "cell_type": "markdown",
   "id": "d25e6e83",
   "metadata": {},
   "source": [
    "# Contoh lain\n",
    "1. Fungsi TANPA return:\n",
    "Asistenmu langsung melakukan sesuatu untukmu.\n",
    "Misalnya:\n",
    "\n",
    "Kamu bilang: “Tolong bacain daftar tugas hari ini.”\n",
    "Asistenmu: langsung membacakannya (tidak kasih kertasnya kembali)."
   ]
  },
  {
   "cell_type": "code",
   "execution_count": 6,
   "id": "c136be07",
   "metadata": {},
   "outputs": [
    {
     "name": "stdout",
     "output_type": "stream",
     "text": [
      "1. Belajar Python\n",
      "2. Cuci piring\n"
     ]
    }
   ],
   "source": [
    "def bacakan_tugas():\n",
    "    print(\"1. Belajar Python\\n2. Cuci piring\")\n",
    "\n",
    "bacakan_tugas()"
   ]
  },
  {
   "cell_type": "markdown",
   "id": "43c462b4",
   "metadata": {},
   "source": [
    "2. Fungsi DENGAN return:\n",
    "Asistenmu menghitung atau cari sesuatu lalu kasih hasilnya ke kamu.\n",
    "\n",
    "Kamu bilang: “Tolong hitung 3 + 5 dan kasih tahu hasilnya.”\n",
    "Asistenmu: kasih kamu kertas bertuliskan 8."
   ]
  },
  {
   "cell_type": "code",
   "execution_count": 3,
   "id": "72bcc314",
   "metadata": {},
   "outputs": [
    {
     "name": "stdout",
     "output_type": "stream",
     "text": [
      "8\n"
     ]
    }
   ],
   "source": [
    "def hitung():\n",
    "    return 3 + 5\n",
    "\n",
    "hasil = hitung()\n",
    "print(hasil)  # Output: 8\n"
   ]
  },
  {
   "cell_type": "markdown",
   "id": "bf493198",
   "metadata": {},
   "source": [
    "# Analogi Gampang Lainnya\n",
    "print() = ngomong langsung\n",
    "return = nulis di kertas buat disimpan atau diproses lagi"
   ]
  },
  {
   "cell_type": "markdown",
   "id": "bc9fdbe5",
   "metadata": {},
   "source": [
    "# Jenis Fungsi Lainnya\n",
    "\n",
    "1. Tanpa parameter dan tanpa return "
   ]
  },
  {
   "cell_type": "code",
   "execution_count": null,
   "id": "2cb214cc",
   "metadata": {},
   "outputs": [
    {
     "name": "stdout",
     "output_type": "stream",
     "text": [
      "Hai!\n"
     ]
    }
   ],
   "source": [
    "def halo():\n",
    "    print(\"Hai!\")\n",
    "\n",
    "halo()"
   ]
  },
  {
   "cell_type": "markdown",
   "id": "d98f7496",
   "metadata": {},
   "source": [
    "2. Dengan parameter tapi tanpa return:"
   ]
  },
  {
   "cell_type": "code",
   "execution_count": 9,
   "id": "f6fc4249",
   "metadata": {},
   "outputs": [
    {
     "name": "stdout",
     "output_type": "stream",
     "text": [
      "Halo, ridho\n"
     ]
    }
   ],
   "source": [
    "def cetak_nama(nama):\n",
    "    print(f\"Halo, {nama}\")\n",
    "\n",
    "cetak_nama('ridho')"
   ]
  },
  {
   "cell_type": "markdown",
   "id": "d312ab9b",
   "metadata": {},
   "source": [
    "3. Dengan parameter dan return:"
   ]
  },
  {
   "cell_type": "code",
   "execution_count": 10,
   "id": "479da4e4",
   "metadata": {},
   "outputs": [
    {
     "data": {
      "text/plain": [
       "16"
      ]
     },
     "execution_count": 10,
     "metadata": {},
     "output_type": "execute_result"
    }
   ],
   "source": [
    "def luas_persegi(sisi):\n",
    "    return sisi * sisi\n",
    "\n",
    "luas_persegi(4)"
   ]
  },
  {
   "cell_type": "markdown",
   "id": "a377da4c",
   "metadata": {},
   "source": [
    "1. Menghitung Rata-Rata Jumlah Transaksi\n",
    "\n",
    "Buatlah sebuah fungsi bernama hitung_rata_transaksi yang menerima tiga parameter berupa jumlah transaksi harian (angka). Fungsi ini harus mengembalikan rata-rata dari ketiga angka tersebut."
   ]
  },
  {
   "cell_type": "code",
   "execution_count": null,
   "id": "c55bcac5",
   "metadata": {},
   "outputs": [
    {
     "ename": "TypeError",
     "evalue": "avg_trx() takes 1 positional argument but 3 were given",
     "output_type": "error",
     "traceback": [
      "\u001b[31m---------------------------------------------------------------------------\u001b[39m",
      "\u001b[31mTypeError\u001b[39m                                 Traceback (most recent call last)",
      "\u001b[36mCell\u001b[39m\u001b[36m \u001b[39m\u001b[32mIn[12]\u001b[39m\u001b[32m, line 5\u001b[39m\n\u001b[32m      2\u001b[39m     \u001b[38;5;28msum\u001b[39m(list_transaksi)/\u001b[38;5;28mlen\u001b[39m(list_transaksi)\n\u001b[32m      3\u001b[39m     \u001b[38;5;28;01mreturn\u001b[39;00m list_transaksi\n\u001b[32m----> \u001b[39m\u001b[32m5\u001b[39m \u001b[43mavg_trx\u001b[49m\u001b[43m(\u001b[49m\u001b[32;43m1\u001b[39;49m\u001b[43m,\u001b[49m\u001b[32;43m3\u001b[39;49m\u001b[43m,\u001b[49m\u001b[32;43m4\u001b[39;49m\u001b[43m)\u001b[49m\n",
      "\u001b[31mTypeError\u001b[39m: avg_trx() takes 1 positional argument but 3 were given"
     ]
    }
   ],
   "source": [
    "def avg_trx (list_transaksi) :\n",
    "    sum(list_transaksi)/len(list_transaksi)\n",
    "    return list_transaksi\n",
    "\n",
    "avg_trx(1,3,4) # output error\n"
   ]
  },
  {
   "cell_type": "code",
   "execution_count": null,
   "id": "74a1d501",
   "metadata": {},
   "outputs": [
    {
     "name": "stdout",
     "output_type": "stream",
     "text": [
      "[3, 15, 10, 21, 49]\n"
     ]
    }
   ],
   "source": [
    "# perbaikan dari soal 1\n",
    "\n",
    "# sederhana\n",
    "\n",
    "def avg_trx (a, b, c) :\n",
    "    return a+b+c/3\n",
    "\n",
    "avg_trx(2,3,5)\n",
    "\n",
    "# advance \n",
    "# tambahkan bintang * sebelum kata parameter\n",
    "\n",
    "def avg_transaksi (*trx) :\n",
    "    return sum(trx) / len(trx)\n",
    "\n",
    "avg_transaksi = [3,15,10,21,49]\n",
    "print(avg_transaksi) # output [3, 15, 10, 21, 49]\n",
    "\n",
    "# output tidak sesuai yang diharapkan karena fungsi avg_transaksi() hilang, dan diganti oleh variabel list avg_transaksi.\n",
    "# Lalu, ketika kamu print(avg_transaksi), yang muncul ya list-nya — bukan hasil perhitungan fungsi."
   ]
  },
  {
   "cell_type": "code",
   "execution_count": null,
   "id": "40ff1aac",
   "metadata": {},
   "outputs": [
    {
     "name": "stdout",
     "output_type": "stream",
     "text": [
      "19.6\n"
     ]
    }
   ],
   "source": [
    "# Solusi no 1\n",
    "\n",
    "def avg_transaksi (*trx) :\n",
    "    return sum(trx) / len(trx)\n",
    "\n",
    "data_transaksi = [3,15,10,21,49]\n",
    "print(avg_transaksi(*data_transaksi)) # output 19.6"
   ]
  },
  {
   "cell_type": "markdown",
   "id": "f43745a0",
   "metadata": {},
   "source": [
    "# Analogi:\n",
    "Bayangkan kamu buka warung nasi uduk. Kadang pelanggan bilang:\n",
    "\n",
    "\"Bang, nasi + ayam goreng + tempe\"\n",
    "\n",
    "Kadang: \"Bang, nasi + telur + tahu + sambal + kerupuk\"\n",
    "\n",
    "Kamu sebagai penjual (fungsi) tidak tahu pasti isi pesanan (argumen) dari setiap orang, jadi kamu bilang:\n",
    "\n",
    "\"Udah, kamu sebutin aja sebanyak-banyaknya, nanti gue tampung semua.\"\n",
    "\n",
    "Nah, itulah gunanya *args.\n",
    "\n",
    "# Penjelasan Sederhana:\n",
    "Kata args sebenarnya bebas mau pakai nama apa saja, tapi bintangnya * itu penting.\n",
    "\n",
    "*args artinya: \"kumpulkan semua argumen posisi (tanpa nama) ke dalam satu wadah berupa tuple.\"\n",
    "\n",
    "Cocok digunakan jika kita tidak tahu berapa banyak data yang akan dimasukkan ke fungsi.\n",
    "\n"
   ]
  },
  {
   "cell_type": "markdown",
   "id": "b3419b40",
   "metadata": {},
   "source": [
    "# Soal 2\n",
    "\n",
    "Membuat Format Nama File\n",
    "\n",
    "Buat fungsi format_nama_file yang menerima dua string: nama_tabel dan tanggal. Gabungkan keduanya menjadi format: \"{nama_tabel}_{tanggal}.csv\" dan return hasilnya."
   ]
  },
  {
   "cell_type": "code",
   "execution_count": 29,
   "id": "445323ae",
   "metadata": {},
   "outputs": [
    {
     "name": "stdout",
     "output_type": "stream",
     "text": [
      "<function format_file at 0x000001010E7F9BC0>\n",
      "sales01-01-2025.csv\n"
     ]
    }
   ],
   "source": [
    "def format_file_salah (table, tanggal) :\n",
    "    return str('table') + str('tanggal') + str('.csv')\n",
    "\n",
    "format_file_salah ('sales','01-01-2025')\n",
    "\n",
    "\n",
    "# output salah karena 'tabletanggal.csv'\n",
    "# karena mengubah string 'table' dan 'tanggal' secara literal—bukan variabelnya, tapi teks \"table\" dan \"tanggal\"\n",
    "\n",
    "# perbaikan\n",
    "\n",
    "def format_file (table, tanggal) :\n",
    "    return table + tanggal + str('.csv')\n",
    "\n",
    "format_file ('sales','01-01-2025')\n",
    "print(format_file) \n",
    "\n",
    "# output <function format_file at 0x000001010E840360>\n",
    "# karena mencetak fungsi itu sendiri, bukan hasil dari fungsi.\n",
    "\n",
    "# perbaikan \n",
    "def format_file(table, tanggal):\n",
    "    return table + tanggal + str('.csv')\n",
    "\n",
    "print(format_file('sales', '01-01-2025'))\n",
    "\n"
   ]
  },
  {
   "cell_type": "markdown",
   "id": "c49d3b8f",
   "metadata": {},
   "source": [
    "# Menentukan Ukuran Data\n",
    "\n",
    "Buat fungsi cek_ukuran_data yang menerima satu angka (jumlah baris data), dan return \"kecil\" jika kurang dari 1000, \"sedang\" jika antara 1000–10000, dan \"besar\" jika lebih dari 10000."
   ]
  },
  {
   "cell_type": "code",
   "execution_count": null,
   "id": "3a902c6d",
   "metadata": {},
   "outputs": [
    {
     "name": "stdout",
     "output_type": "stream",
     "text": [
      "{5000: 'Sedang', 750: 'Kecil', 25710: 'Besar', 3221: 'Sedang'}\n",
      "{5000: 'Sedang'}\n"
     ]
    }
   ],
   "source": [
    "# def check_file_size (*listdata) :\n",
    "#     result = []\n",
    "#     if listdata < 1000 :\n",
    "#         print(\"Kecil\")\n",
    "#     elif listdata < 10000 :\n",
    "#         print(\"Sedang\")\n",
    "#     else :\n",
    "#         print(\"Besar\")\n",
    "#     return result\n",
    "\n",
    "# check_file_size(5000, 750, 25710, 3221) # output error\n",
    "\n",
    "# perbaikan\n",
    "def check_file_size (*listdata) :\n",
    "    result = {}\n",
    "    for size in listdata :\n",
    "        if size < 1000 :\n",
    "            result[size] = \"Kecil\"\n",
    "        elif size < 10000 :\n",
    "            result[size] = \"Sedang\"\n",
    "        else :\n",
    "            result[size] = \"Besar\"\n",
    "    return result\n",
    "\n",
    "print(check_file_size(5000, 750, 25710, 3221))\n",
    "\n",
    "# Penjelasan:\n",
    "# return result diletakkan di luar loop (for).\n",
    "# Artinya: semua data akan diproses dahulu dalam loop, lalu hasilnya baru dikembalikan sekali di akhir.\n",
    "# Ini menghasilkan output lengkap:\n",
    "\n",
    "def check_file_size_2 (*listdata):\n",
    "    result = {}\n",
    "    for size in listdata:\n",
    "        if size < 1000:\n",
    "            result[size] = \"Kecil\"\n",
    "        elif size < 10000:\n",
    "            result[size] = \"Sedang\"\n",
    "        else:\n",
    "            result[size] = \"Besar\"\n",
    "        return result\n",
    "\n",
    "print(check_file_size_2(5000, 750, 25710, 3221))\n",
    "\n",
    "# Kesalahan:\n",
    "# return result diletakkan di dalam loop for.\n",
    "# Jadi, saat elemen pertama (5000) selesai diproses, fungsi langsung mengembalikan hasil dan berhenti. \n",
    "# Elemen berikutnya tidak diproses.\n",
    "\n"
   ]
  },
  {
   "cell_type": "code",
   "execution_count": 2,
   "id": "37530d50",
   "metadata": {},
   "outputs": [
    {
     "data": {
      "text/plain": [
       "672"
      ]
     },
     "execution_count": 2,
     "metadata": {},
     "output_type": "execute_result"
    }
   ],
   "source": [
    "# Lambda\n",
    "    # lambda adalah cara singkat untuk menulis fungsi kecil dan sederhana dalam satu baris.\n",
    "\n",
    "# Analogi\n",
    "    # Bayangin kamu mau bikin telur ceplok.\n",
    "    # Kalau kamu niat masak pagi-pagi, kamu pakai kompor, minyak, dan alat lengkap → ini seperti fungsi biasa (def).\n",
    "    # Tapi kalau kamu lagi buru-buru, kamu pakai microwave dan telur ceplok instan → ini seperti lambda, cepat, 1 langkah doang!\n",
    "\n",
    "# Kesimpulan\n",
    "# | Fungsi Biasa            | Lambda                   |\n",
    "# | ----------------------- | ------------------------ |\n",
    "# | Bisa panjang            | Harus 1 baris            |\n",
    "# | Bisa punya nama         | Bisa tanpa nama          |\n",
    "# | Cocok buat logika rumit | Cocok buat logika simpel |\n",
    "\n",
    "\n",
    "def perkalian (x,y) :\n",
    "    return x*y\n",
    "\n",
    "perkalian(35,43)\n",
    "\n",
    "perkalian_2 = lambda x, y : x*y\n",
    "\n",
    "perkalian_2(12, 56)\n",
    "\n"
   ]
  },
  {
   "cell_type": "code",
   "execution_count": null,
   "id": "df3c0fca",
   "metadata": {},
   "outputs": [],
   "source": [
    "# Scope\n",
    "    # Scope adalah daerah di mana suatu variabel bisa diakses.\n",
    "\n",
    "# Tipe Scope\n",
    "# | Tipe Scope | Penjelasan                                                              | Contoh           |\n",
    "# | ---------- | ----------------------------------------------------------------------- | ---------------- |\n",
    "# | **Global** | Variabel yang dideklarasikan di luar fungsi. Bisa diakses dari manapun. | `x = 10`         |\n",
    "# | **Local**  | Variabel yang hanya ada di dalam fungsi. Tidak bisa diakses dari luar.  | `def f(): y = 5` |\n",
    "\n",
    "# Analogi\n",
    "    # Bayangin kamu tinggal di rumah besar. Di dalamnya ada ruang tamu (global), dan kamar tidur (local).\n",
    "    # Kalau kamu taruh mainan di ruang tamu, semua orang bisa lihat dan pakai → global variable.\n",
    "    # Tapi kalau kamu taruh mainan di kamar kamu, cuma kamu yang tahu → local variable.\n",
    "\n",
    "data_awal = ['patin', 'nila', 1000, '', None]\n",
    "    # Ini disebut global scope → bisa dipakai oleh semua fungsi.\n",
    "\n",
    "def data_cleaning (data) :\n",
    "    data_bersih = []\n",
    "\n",
    "\n"
   ]
  },
  {
   "cell_type": "code",
   "execution_count": null,
   "id": "bcb51b6c",
   "metadata": {},
   "outputs": [
    {
     "name": "stdout",
     "output_type": "stream",
     "text": [
      "['Sales', 'Marketing', 'IT', 'HR']\n"
     ]
    }
   ],
   "source": [
    "# Global scope\n",
    "data_kotor = [\"Sales \", \" Marketing \", None, \"IT\", \"\", \"HR\", None]\n",
    "\n",
    "# Ini adalah list yang berisi data mentah (belum dibersihkan).\n",
    "# Ada elemen yang tidak valid seperti:\n",
    "    # None (tidak ada data sama sekali)\n",
    "    # (string kosong)\n",
    "\n",
    "def bersihkan_data(data):  # local scope dimulai di sini\n",
    "    data_bersih = []       # ini local\n",
    "\n",
    "# Inisialisasi list kosong untuk menampung hasil data yang sudah dibersihkan.\n",
    "# Ini akan diisi hanya dengan item yang valid (bukan None atau string kosong).\n",
    "# Scope: data_bersih adalah variabel lokal hanya bisa diakses dalam fungsi ini.\n",
    "    \n",
    "    for item in data:\n",
    "        if item and item.strip():\n",
    "            data_bersih.append(item)\n",
    "    return data_bersih     # local scope berakhir di sini\n",
    "\n",
    "# data_bersih hanya hidup di dalam fungsi\n",
    "data_bersih_final = bersihkan_data(data_kotor)\n",
    "print(data_bersih_final)\n"
   ]
  },
  {
   "cell_type": "code",
   "execution_count": null,
   "id": "98e1324e",
   "metadata": {},
   "outputs": [
    {
     "name": "stdout",
     "output_type": "stream",
     "text": [
      "Sales\n",
      "Marketing\n"
     ]
    }
   ],
   "source": [
    "data = [\"Sales\", None, \"\", \"Marketing\", \" \"]\n",
    "\n",
    "for item in data:\n",
    "    if item and item.strip():\n",
    "        print(item)\n",
    "\n",
    "# .strip() adalah fungsi bawaan string di Python yang digunakan untuk menghapus spasi di awal dan akhir string\n",
    "# | Bagian         | Apa yang Dicek                                 |\n",
    "# | -------------- | ---------------------------------------------- |\n",
    "# | `item`         | Apakah item bukan `None` atau kosong (`\"\"`)    |\n",
    "# | `item.strip()` | Apakah item bukan hanya berisi spasi `\"     \"` |\n",
    "\n",
    "# Kenapa if item: bisa berarti \"bukan None, bukan kosong\"?\n",
    "# Karena Python punya konsep yang disebut \"truthy\" dan \"falsy\".\n",
    "\n",
    "# Nilai\tApakah dianggap False oleh Python?\n",
    "# None\t                                ✅ Ya\n",
    "# \"\" (string kosong)\t                ✅ Ya\n",
    "# 0 (angka nol)\t                        ✅ Ya\n",
    "# [], {}, () (list/dict/tuple kosong)\t✅ Ya\n",
    "# \"abc\", 123, [\"a\"] (isi ada)\t        ❌ Tidak (ini dianggap True)\n"
   ]
  },
  {
   "cell_type": "code",
   "execution_count": null,
   "id": "3f491890",
   "metadata": {},
   "outputs": [
    {
     "name": "stdout",
     "output_type": "stream",
     "text": [
      "matcha\n",
      "americano\n"
     ]
    }
   ],
   "source": [
    "data_1 = [1,\"matcha\",\" \", None, 5, \"\",\"americano\"]\n",
    "\n",
    "for individu in data_1 :\n",
    "    if isinstance(individu, str) and individu.strip() :\n",
    "        print(individu)\n",
    "\n",
    "# isinstance(individu, str) ➜ memastikan dulu bahwa individu adalah tipe string\n",
    "# individu.strip() ➜ hanya dipanggil jika memang string"
   ]
  },
  {
   "cell_type": "code",
   "execution_count": 8,
   "id": "f1d1acec",
   "metadata": {},
   "outputs": [],
   "source": [
    "import random as rd"
   ]
  },
  {
   "cell_type": "code",
   "execution_count": null,
   "id": "85a987ae",
   "metadata": {},
   "outputs": [
    {
     "name": "stdout",
     "output_type": "stream",
     "text": [
      "5\n"
     ]
    }
   ],
   "source": [
    "rnumber = rd.randint(5, 19)\n",
    "print(rnumber)"
   ]
  },
  {
   "cell_type": "code",
   "execution_count": null,
   "id": "7308debd",
   "metadata": {},
   "outputs": [
    {
     "name": "stdout",
     "output_type": "stream",
     "text": [
      "5\n",
      "1.0761839502863015\n",
      "3.8568870910872497\n"
     ]
    }
   ],
   "source": [
    "rd_number = rd.randint(1, 6) # integer\n",
    "print(rd_number)\n",
    "\n",
    "float_number = rd.random() * 1.5 # random float\n",
    "print(float_number)\n",
    "\n",
    "fl_numb = rd.uniform(3, 7) # float number between 3 and 7\n",
    "print(fl_numb)\n",
    "\n"
   ]
  },
  {
   "cell_type": "code",
   "execution_count": 15,
   "id": "e42f35b6",
   "metadata": {},
   "outputs": [
    {
     "name": "stdout",
     "output_type": "stream",
     "text": [
      "{'senin': 1, 'selasa': 1, 'rabu': 2, 'kamis': 1, 'jumat': 1, 'sabtu': 1, 'minggu': 3}\n"
     ]
    }
   ],
   "source": [
    "\n",
    "def split_kata (kata_kata) :\n",
    "    var_list = kata_kata.split (\", \")\n",
    "    frekuensi = {} #dictionary kosong\n",
    "\n",
    "    for hari in var_list :\n",
    "        if hari in frekuensi :\n",
    "            frekuensi[hari] += 1\n",
    "        else :\n",
    "            frekuensi[hari] = 1\n",
    "    \n",
    "    return frekuensi\n",
    "\n",
    "\n",
    "nama_hari = \"senin, selasa, rabu, kamis, rabu, jumat, sabtu, minggu, minggu, minggu\"\n",
    "hasil = split_kata(nama_hari)\n",
    "print(hasil)\n"
   ]
  },
  {
   "cell_type": "code",
   "execution_count": 10,
   "id": "d4cec25b",
   "metadata": {},
   "outputs": [
    {
     "name": "stdout",
     "output_type": "stream",
     "text": [
      "{'senin': 1, 'selasa': 1, 'rabu': 2, 'kamis': 1, 'jumat': 1, 'sabtu': 1, 'minggu': 3}\n"
     ]
    }
   ],
   "source": [
    "from collections import Counter\n",
    "\n",
    "def hitung_frekuensi_alt(kalimat):\n",
    "    kata_list = kalimat.split(\", \")\n",
    "    frekuensi = Counter(kata_list)\n",
    "    return dict(frekuensi)\n",
    "\n",
    "nama_hari = \"senin, selasa, rabu, kamis, rabu, jumat, sabtu, minggu, minggu, minggu\"\n",
    "hasil = hitung_frekuensi_alt(nama_hari)\n",
    "print(hasil)\n"
   ]
  },
  {
   "cell_type": "code",
   "execution_count": null,
   "id": "453c1cf2",
   "metadata": {},
   "outputs": [],
   "source": []
  }
 ],
 "metadata": {
  "kernelspec": {
   "display_name": ".venv",
   "language": "python",
   "name": "python3"
  },
  "language_info": {
   "codemirror_mode": {
    "name": "ipython",
    "version": 3
   },
   "file_extension": ".py",
   "mimetype": "text/x-python",
   "name": "python",
   "nbconvert_exporter": "python",
   "pygments_lexer": "ipython3",
   "version": "3.12.1"
  }
 },
 "nbformat": 4,
 "nbformat_minor": 5
}
