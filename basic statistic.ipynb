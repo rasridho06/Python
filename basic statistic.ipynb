{
 "cells": [
  {
   "cell_type": "code",
   "execution_count": null,
   "id": "cf15c7a1",
   "metadata": {},
   "outputs": [
    {
     "name": "stdout",
     "output_type": "stream",
     "text": [
      "Mode (kota yang paling sering muncul): Jakarta\n"
     ]
    }
   ],
   "source": [
    "import numpy as np\n",
    "\n",
    "# Data Kota dari studi kasus\n",
    "data_kota = [\"Jakarta\", \"Bandung\", \"Surabaya\", \"Jakarta\", \"Medan\", \"Jakarta\", \"Bandung\", \"Surabaya\"]\n",
    "\n",
    "# Menghitung mode menggunakan NumPy\n",
    "vals, counts = np.unique(data_kota, return_counts=True)\n",
    "mode_kota = vals[np.argmax(counts)]\n",
    "\n",
    "print(f\"Mode (kota yang paling sering muncul): {mode_kota}\")\n"
   ]
  },
  {
   "cell_type": "code",
   "execution_count": 3,
   "id": "b0f82be9",
   "metadata": {},
   "outputs": [
    {
     "name": "stdout",
     "output_type": "stream",
     "text": [
      "Median pendapatan: Rp 130,000.00\n"
     ]
    }
   ],
   "source": [
    "# Data Total_Pendapatan dari studi kasus\n",
    "data_pendapatan = [100000, 120000, 150000, 130000, 2000000]\n",
    "\n",
    "# Menghitung median menggunakan NumPy\n",
    "median_pendapatan = np.median(data_pendapatan)\n",
    "\n",
    "print(f\"Median pendapatan: Rp {median_pendapatan:,.2f}\")\n"
   ]
  },
  {
   "cell_type": "code",
   "execution_count": 4,
   "id": "2df7bb87",
   "metadata": {},
   "outputs": [
    {
     "name": "stdout",
     "output_type": "stream",
     "text": [
      "Range Tim A: Rp 40,000.00\n",
      "Range Tim B: Rp 240,000.00\n"
     ]
    }
   ],
   "source": [
    "tim_a = np.array([120000, 130000, 140000, 150000, 160000])\n",
    "tim_b = np.array([10000, 50000, 140000, 200000, 250000])\n",
    "\n",
    "range_a = np.ptp(tim_a) # ptp = peak-to-peak\n",
    "range_b = np.ptp(tim_b)\n",
    "\n",
    "print(f\"Range Tim A: Rp {range_a:,.2f}\")\n",
    "print(f\"Range Tim B: Rp {range_b:,.2f}\")\n"
   ]
  },
  {
   "cell_type": "code",
   "execution_count": 5,
   "id": "4b9b4647",
   "metadata": {},
   "outputs": [
    {
     "name": "stdout",
     "output_type": "stream",
     "text": [
      "IQR Tim A: Rp 20,000.00\n",
      "IQR Tim B: Rp 150,000.00\n"
     ]
    }
   ],
   "source": [
    "tim_a = np.array([120000, 130000, 140000, 150000, 160000])\n",
    "tim_b = np.array([10000, 50000, 140000, 200000, 250000])\n",
    "\n",
    "iqr_a = np.percentile(tim_a, 75) - np.percentile(tim_a, 25)\n",
    "iqr_b = np.percentile(tim_b, 75) - np.percentile(tim_b, 25)\n",
    "\n",
    "print(f\"IQR Tim A: Rp {iqr_a:,.2f}\")\n",
    "print(f\"IQR Tim B: Rp {iqr_b:,.2f}\")"
   ]
  },
  {
   "cell_type": "code",
   "execution_count": 6,
   "id": "eeefaf3d",
   "metadata": {},
   "outputs": [
    {
     "name": "stdout",
     "output_type": "stream",
     "text": [
      "Standard Deviation Tim A: Rp 15,811.39\n",
      "Standard Deviation Tim B: Rp 100,249.69\n"
     ]
    }
   ],
   "source": [
    "import numpy as np\n",
    "\n",
    "tim_a = np.array([120000, 130000, 140000, 150000, 160000])\n",
    "tim_b = np.array([10000, 50000, 140000, 200000, 250000])\n",
    "\n",
    "std_a = np.std(tim_a, ddof=1)\n",
    "std_b = np.std(tim_b, ddof=1)\n",
    "\n",
    "print(f\"Standard Deviation Tim A: Rp {std_a:,.2f}\")\n",
    "print(f\"Standard Deviation Tim B: Rp {std_b:,.2f}\")"
   ]
  },
  {
   "cell_type": "code",
   "execution_count": 7,
   "id": "0a8d80a5",
   "metadata": {},
   "outputs": [
    {
     "name": "stdout",
     "output_type": "stream",
     "text": [
      "Coefficient of Variation Tim A: 11.29%\n",
      "Coefficient of Variation Tim B: 77.12%\n"
     ]
    }
   ],
   "source": [
    "import numpy as np\n",
    "\n",
    "tim_a = np.array([120000, 130000, 140000, 150000, 160000])\n",
    "tim_b = np.array([10000, 50000, 140000, 200000, 250000])\n",
    "\n",
    "mean_a = np.mean(tim_a)\n",
    "std_a = np.std(tim_a, ddof=1)\n",
    "cv_a = (std_a / mean_a) * 100\n",
    "\n",
    "mean_b = np.mean(tim_b)\n",
    "std_b = np.std(tim_b, ddof=1)\n",
    "cv_b = (std_b / mean_b) * 100\n",
    "\n",
    "print(f\"Coefficient of Variation Tim A: {cv_a:,.2f}%\")\n",
    "print(f\"Coefficient of Variation Tim B: {cv_b:,.2f}%\")"
   ]
  },
  {
   "cell_type": "code",
   "execution_count": 8,
   "id": "734de893",
   "metadata": {},
   "outputs": [
    {
     "name": "stdout",
     "output_type": "stream",
     "text": [
      "Matriks Kovariansi:\n",
      "                 biaya_iklan  total_penjualan\n",
      "biaya_iklan             62.5            625.0\n",
      "total_penjualan        625.0           6250.0\n",
      "\n",
      "Kovariansi antara Biaya Iklan dan Total Penjualan: 625.00\n"
     ]
    }
   ],
   "source": [
    "import pandas as pd\n",
    "import numpy as np\n",
    "\n",
    "# Data contoh\n",
    "data = {'biaya_iklan': [10, 15, 20, 25, 30],\n",
    "       'total_penjualan': [100, 150, 200, 250, 300]}\n",
    "df = pd.DataFrame(data)\n",
    "\n",
    "# Menghitung Kovariansi dengan pandas\n",
    "covariance_matrix = df.cov()\n",
    "print(\"Matriks Kovariansi:\")\n",
    "print(covariance_matrix)\n",
    "\n",
    "# Nilai kovariansi antara 'biaya_iklan' dan 'total_penjualan'\n",
    "covariance_value = df['biaya_iklan'].cov(df['total_penjualan'])\n",
    "print(f\"\\nKovariansi antara Biaya Iklan dan Total Penjualan: {covariance_value:,.2f}\")\n"
   ]
  },
  {
   "cell_type": "code",
   "execution_count": 11,
   "id": "bc78036c",
   "metadata": {},
   "outputs": [
    {
     "ename": "ModuleNotFoundError",
     "evalue": "No module named 'seaborn'",
     "output_type": "error",
     "traceback": [
      "\u001b[31m---------------------------------------------------------------------------\u001b[39m",
      "\u001b[31mModuleNotFoundError\u001b[39m                       Traceback (most recent call last)",
      "\u001b[36mCell\u001b[39m\u001b[36m \u001b[39m\u001b[32mIn[11]\u001b[39m\u001b[32m, line 3\u001b[39m\n\u001b[32m      1\u001b[39m \u001b[38;5;28;01mimport\u001b[39;00m\u001b[38;5;250m \u001b[39m\u001b[34;01mpandas\u001b[39;00m\u001b[38;5;250m \u001b[39m\u001b[38;5;28;01mas\u001b[39;00m\u001b[38;5;250m \u001b[39m\u001b[34;01mpd\u001b[39;00m\n\u001b[32m      2\u001b[39m \u001b[38;5;28;01mimport\u001b[39;00m\u001b[38;5;250m \u001b[39m\u001b[34;01mmatplotlib\u001b[39;00m\u001b[34;01m.\u001b[39;00m\u001b[34;01mpyplot\u001b[39;00m\u001b[38;5;250m \u001b[39m\u001b[38;5;28;01mas\u001b[39;00m\u001b[38;5;250m \u001b[39m\u001b[34;01mplt\u001b[39;00m\n\u001b[32m----> \u001b[39m\u001b[32m3\u001b[39m \u001b[38;5;28;01mimport\u001b[39;00m\u001b[38;5;250m \u001b[39m\u001b[34;01mseaborn\u001b[39;00m\u001b[38;5;250m \u001b[39m\u001b[38;5;28;01mas\u001b[39;00m\u001b[38;5;250m \u001b[39m\u001b[34;01msns\u001b[39;00m  \n\u001b[32m      5\u001b[39m \u001b[38;5;66;03m# Data contoh\u001b[39;00m\n\u001b[32m      6\u001b[39m data = {\u001b[33m'\u001b[39m\u001b[33mbiaya_iklan\u001b[39m\u001b[33m'\u001b[39m: [\u001b[32m10\u001b[39m, \u001b[32m15\u001b[39m, \u001b[32m20\u001b[39m, \u001b[32m25\u001b[39m, \u001b[32m30\u001b[39m],\n\u001b[32m      7\u001b[39m        \u001b[33m'\u001b[39m\u001b[33mtotal_penjualan\u001b[39m\u001b[33m'\u001b[39m: [\u001b[32m100\u001b[39m, \u001b[32m150\u001b[39m, \u001b[32m200\u001b[39m, \u001b[32m250\u001b[39m, \u001b[32m300\u001b[39m]}\n",
      "\u001b[31mModuleNotFoundError\u001b[39m: No module named 'seaborn'"
     ]
    }
   ],
   "source": [
    "import pandas as pd\n",
    "import matplotlib.pyplot as plt\n",
    "import seaborn as sns  \n",
    "\n",
    "# Data contoh\n",
    "data = {'biaya_iklan': [10, 15, 20, 25, 30],\n",
    "       'total_penjualan': [100, 150, 200, 250, 300]}\n",
    "df = pd.DataFrame(data)\n",
    "\n",
    "# Menghitung matriks korelasi\n",
    "correlation_matrix = df.corr()\n",
    "print(\"Matriks Korelasi:\")\n",
    "print(correlation_matrix)\n",
    "\n",
    "# Nilai korelasi antara 'biaya_iklan' dan 'total_penjualan'\n",
    "correlation_value = df['biaya_iklan'].corr(df['total_penjualan'])\n",
    "print(f\"\\nKorelasi antara Biaya Iklan dan Total Penjualan: {correlation_value:,.2f}\")\n",
    "\n",
    "# Visualisasi Korelasi dengan Scatter Plot\n",
    "plt.figure(figsize=(8, 6))\n",
    "sns.scatterplot(x='biaya_iklan', y='total_penjualan', data=df)\n",
    "plt.title('Hubungan antara Biaya Iklan dan Total Penjualan')\n",
    "plt.xlabel('Biaya Iklan (dalam juta Rupiah)')\n",
    "plt.ylabel('Total Penjualan (dalam juta Rupiah)')\n",
    "plt.grid(True)\n",
    "plt.show()"
   ]
  },
  {
   "cell_type": "code",
   "execution_count": null,
   "id": "905e22ba",
   "metadata": {},
   "outputs": [],
   "source": []
  }
 ],
 "metadata": {
  "kernelspec": {
   "display_name": ".venv (3.12.1)",
   "language": "python",
   "name": "python3"
  },
  "language_info": {
   "codemirror_mode": {
    "name": "ipython",
    "version": 3
   },
   "file_extension": ".py",
   "mimetype": "text/x-python",
   "name": "python",
   "nbconvert_exporter": "python",
   "pygments_lexer": "ipython3",
   "version": "3.12.0"
  }
 },
 "nbformat": 4,
 "nbformat_minor": 5
}
