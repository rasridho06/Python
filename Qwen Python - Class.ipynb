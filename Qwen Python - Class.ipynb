{
 "cells": [
  {
   "cell_type": "markdown",
   "id": "01121aee",
   "metadata": {},
   "source": [
    "# Apa itu class?\n",
    "Bayangkan kamu sedang membuat blueprint (cetakan) untuk membangun banyak rumah. Blueprint itu bukan rumah, tapi rancangan. Nah, class adalah blueprint untuk membuat object.\n",
    "\n",
    "Class = Blueprint\n",
    "Object = Rumah yang dibangun dari blueprint itu\n",
    "\n",
    "# Kenapa butuh class?\n",
    "Kalau kamu ingin mengelola data yang kompleks seperti:\n",
    "    - Data mahasiswa (nama, NIM, jurusan)\n",
    "    - Data produk di toko (nama produk, harga, stok)\n",
    "Maka, class bisa digunakan untuk mengelompokkan data dan fungsi terkait dalam satu paket."
   ]
  },
  {
   "cell_type": "code",
   "execution_count": null,
   "id": "6c905d6a",
   "metadata": {},
   "outputs": [
    {
     "name": "stdout",
     "output_type": "stream",
     "text": [
      "Asus sedang dinyalakan\n",
      "8GB sedang dinyalakan\n"
     ]
    }
   ],
   "source": [
    "class Laptop: \n",
    "    # Ini mendefinisikan sebuah class bernama Laptop.\n",
    "    # Class adalah cetakan/blueprint untuk membuat object.\n",
    "    \n",
    "    def __init__(self, merk, ram):\n",
    "    \n",
    "    # 🔹 Ini adalah method khusus bernama __init__, disebut juga constructor.\n",
    "    # 🔹 Fungsi ini otomatis dipanggil saat object dibuat.\n",
    "        self.merk = merk          # atribut self: Wajib ada. Ini adalah referensi ke object itu sendiri.\n",
    "        self.ram = ram            # atribut merk, ram: Ini adalah input yang kamu kirim saat membuat object (diisi \"Asus\", \"8GB\").\n",
    "\n",
    "    def nyalakan(self):           # method\n",
    "        print(f\"{self.merk} sedang dinyalakan\")\n",
    "    \n",
    "    def nyalakan_lagi (self) :\n",
    "        print(f'{self.ram} sedang dinyalakan')\n",
    " \n",
    "laptop1 = Laptop(\"Asus\", \"8GB\")\n",
    "laptop1.nyalakan()\n",
    "laptop1.nyalakan_lagi()\n",
    "\n",
    "# attribut = informasi dari object\n",
    "# method = perintah kepada object tersebut\n"
   ]
  },
  {
   "cell_type": "markdown",
   "id": "ba923d0b",
   "metadata": {},
   "source": [
    "\n",
    "# Class tanpa init\n",
    "\n",
    "# Aspek\t            Fungsi Biasa\t            Class tanpa __init__()\n",
    "Struktur\t        Langsung didefinisikan\t    Dikelompokkan dalam class\n",
    "Organisasi kode\t    Tidak terstruktur\t        Lebih rapi (grouping function)\n",
    "Object-oriented?\tTidak\t                    Ya (walau belum optimal)\n",
    "\n",
    "\n",
    "# Lalu, kenapa orang tetap pakai class kalau bisa pakai function saja?\n",
    "Karena:\n",
    "- Class bisa simpan state/data lewat atribut (self.nama, self.status, dst).\n",
    "- Cocok untuk merepresentasikan objek dunia nyata: mobil, user, transaksi, dsb.\n",
    "- Memudahkan pengelompokan function yang saling terkait.\n",
    "- Class bisa diturunkan (inheritance), lebih fleksibel dalam arsitektur besar.\n",
    "\n",
    "# Analogi: Class = Cetakan / Blueprint\n",
    "Bayangkan kamu mau bikin mainan mobil dari cetakan.\n",
    "\n",
    "- Cetakan mobil = class\n",
    "- Mobil yang dicetak = object\n",
    "- Warna dan ukuran mobil = atribut\n",
    "- Aksi seperti \"jalan\" atau \"berhenti\" = method\n",
    "\n",
    "1. __init__: Mesin pembuat object\n",
    "__init__ itu seperti mesin otomatis yang jalan saat kamu mencetak object dari class.\n",
    "Mesin ini digunakan untuk mengisi data awal ke object yang baru dibuat.\n",
    "\n",
    "2. self: Referensi ke object yang sedang dibuat\n",
    "Kata self artinya:\n",
    "“Hei Python, aku mau simpan data ini ke dalam object yang sedang dibuat.”\n",
    "Tanpa self, Python gak tahu kamu sedang ngomong ke object yang mana.\n",
    "\n",
    "3. Atribut: Data milik object\n",
    "Misalnya kamu buat 2 mobil:\n",
    "\n",
    "mobil1 = Mobil(\"Merah\", \"Besar\")\n",
    "mobil2 = Mobil(\"Biru\", \"Kecil\")\n",
    "\n",
    "mobil1.warna → \"Merah\"\n",
    "mobil2.warna → \"Biru\"\n",
    "\n",
    "Itulah atribut: data milik object tertentu."
   ]
  },
  {
   "cell_type": "code",
   "execution_count": 1,
   "id": "80fca0e3",
   "metadata": {},
   "outputs": [
    {
     "name": "stdout",
     "output_type": "stream",
     "text": [
      "Mobil warna Merah ukuran Besar sedang berjalan\n",
      "Mobil warna Biru ukuran Kecil sedang berjalan\n"
     ]
    }
   ],
   "source": [
    "# Contoh \n",
    "\n",
    "class Mobil (): # parent class tidak perlu paramater\n",
    "    def __init__(self, warna, ukuran):\n",
    "        self.warna = warna      # atribut\n",
    "        self.ukuran = ukuran    # atribut\n",
    "\n",
    "    def jalan(self):\n",
    "        print(f\"Mobil warna {self.warna} ukuran {self.ukuran} sedang berjalan\")\n",
    "\n",
    "mobil1 = Mobil(\"Merah\", \"Besar\")\n",
    "mobil1.jalan()\n",
    "\n",
    "mobil2 = Mobil(\"Biru\", \"Kecil\")\n",
    "mobil2.jalan()\n"
   ]
  },
  {
   "cell_type": "code",
   "execution_count": 1,
   "id": "f1363b00",
   "metadata": {},
   "outputs": [
    {
     "name": "stdout",
     "output_type": "stream",
     "text": [
      "Ini kucing saya namanya cayang dan berjenis kucing kampung\n"
     ]
    }
   ],
   "source": [
    "# latian\n",
    "\n",
    "# Buatlah class Kucing dengan:\n",
    "\n",
    "# Atribut: nama, warna\n",
    "# Method: meong() yang mencetak:\n",
    "# \"Meong! Saya {nama}, kucing berwarna {warna}\"\n",
    "\n",
    "class kucing :\n",
    "    def __init__(self, nama, jenis):\n",
    "        self.nama = nama\n",
    "        self.jenis = jenis\n",
    "\n",
    "    def pusss (self) :\n",
    "        print(f'Ini kucing saya namanya {self.nama} dan berjenis kucing {self.jenis}')\n",
    "\n",
    "kucing1 = kucing(\"cayang\", \"kampung\")\n",
    "kucing1.pusss()\n"
   ]
  },
  {
   "cell_type": "code",
   "execution_count": null,
   "id": "9483c77e",
   "metadata": {},
   "outputs": [
    {
     "name": "stdout",
     "output_type": "stream",
     "text": [
      "Ini kucing saya namanya mopi dan berjenis persia\n"
     ]
    }
   ],
   "source": [
    "# jika kodenya sederhana akan lebih efektif menggunakan function biasa\n",
    "# tapi jika kodenya kompleks maka lebih efektif menggunakan class\n",
    "\n",
    "# contoh\n",
    "\n",
    "def cetak_kucing(nama, jenis):\n",
    "    print(f\"Ini kucing saya namanya {nama} dan berjenis {jenis}\")\n",
    "\n",
    "cetak_kucing(\"mopi\", \"persia\")\n",
    "\n",
    "#  ✔ Simpel\n",
    "# ❌ Tapi tidak bisa menyimpan data kucing jangka panjang\n",
    "# ❌ Tidak bisa melakukan aksi lanjutan berdasarkan objek kucing"
   ]
  },
  {
   "cell_type": "code",
   "execution_count": null,
   "id": "5964a515",
   "metadata": {},
   "outputs": [
    {
     "name": "stdout",
     "output_type": "stream",
     "text": [
      "Ini kucing saya namanya Cayang dan berjenis Kampung\n",
      "Ini kucing saya namanya Madu dan berjenis Oren\n",
      "Ini kucing saya namanya mopi dan berjenis persia\n"
     ]
    }
   ],
   "source": [
    "class Kucing:\n",
    "    def __init__(self, nama, jenis):\n",
    "        self.nama = nama\n",
    "        self.jenis = jenis\n",
    "\n",
    "    def pusss(self):\n",
    "        print(f\"Ini kucing saya namanya {self.nama} dan berjenis {self.jenis}\")\n",
    "\n",
    "kucing1 = Kucing(\"Madu\", \"Oren\")\n",
    "Kucing2 = Kucing(\"Cayang\", \"Kampung\")\n",
    "kucing3 = kucing(\"mopi\", \"persia\")\n",
    "Kucing2.pusss()\n",
    "kucing1.pusss()\n",
    "kucing3.pusss()\n",
    "# ✔ Bisa menyimpan data kucing sebagai objek\n",
    "# ✔ Bisa menambahkan method lain: makan(), tidur(), ubah_nama(), dll\n",
    "# ✔ Cocok untuk program yang makin kompleks\n",
    "\n",
    "# Analogi Sederhana\n",
    "# Bayangkan kamu punya satu function untuk satu kucing.\n",
    "# Tapi bagaimana jika kamu punya:\n",
    "#     - 100 ekor kucing\n",
    "#     - Ingin tahu nama, jenis, umur, suara\n",
    "#     - Ingin menyuruh mereka makan, tidur, jalan\n",
    "\n",
    "# Kalau semua itu kamu kelola pakai function biasa:\n",
    "#     - Akan ribet\n",
    "#     - Banyak parameter\n",
    "#     - Sulit mengikuti data mana milik siapa\n",
    "\n",
    "# Dengan class, kamu cukup bikin blueprint 1 kali, lalu buat object sebanyak yang kamu mau:"
   ]
  },
  {
   "cell_type": "code",
   "execution_count": 22,
   "id": "a75ad1af",
   "metadata": {},
   "outputs": [
    {
     "name": "stdout",
     "output_type": "stream",
     "text": [
      "Saldo Andi: Rp1000000\n",
      "Andi menabung Rp200000\n",
      "Andi tarik Rp500000\n",
      "Saldo Andi: Rp700000\n",
      "Saldo Budi: Rp500000\n",
      "Saldo tidak cukup untuk tarik Rp600000\n"
     ]
    }
   ],
   "source": [
    "class Nasabah:\n",
    "    def __init__(self, nama, saldo_awal=0):\n",
    "        self.nama = nama\n",
    "        self.saldo = saldo_awal\n",
    "\n",
    "    def lihat_saldo(self):\n",
    "        print(f\"Saldo {self.nama}: Rp{self.saldo}\")\n",
    "\n",
    "    def nabung(self, jumlah):\n",
    "        self.saldo += jumlah\n",
    "        print(f\"{self.nama} menabung Rp{jumlah}\")\n",
    "\n",
    "    def tarik(self, jumlah):\n",
    "        if jumlah > self.saldo:\n",
    "            print(f\"Saldo tidak cukup untuk tarik Rp{jumlah}\")\n",
    "        else:\n",
    "            self.saldo -= jumlah\n",
    "            print(f\"{self.nama} tarik Rp{jumlah}\")\n",
    "\n",
    "# Simulasi:\n",
    "nasabah1 = Nasabah(\"Andi\", 1000000)\n",
    "nasabah2 = Nasabah(\"Budi\", 500000)\n",
    "\n",
    "nasabah1.lihat_saldo()\n",
    "nasabah1.nabung(200000)\n",
    "nasabah1.tarik(500000)\n",
    "nasabah1.lihat_saldo()\n",
    "\n",
    "nasabah2.lihat_saldo()\n",
    "nasabah2.tarik(600000)  # saldo tidak cukup\n"
   ]
  },
  {
   "cell_type": "markdown",
   "id": "50c81a7d",
   "metadata": {},
   "source": [
    "# Inheritance (Pewarisan)\n",
    "Kalau kamu punya class yang sifat dan metodenya hampir sama dengan class lain, kamu bisa buat class baru “turunan” dari class yang lama. Jadi class baru ini mewarisi semua yang ada di class lama, dan bisa tambah atau ubah sesuai kebutuhan."
   ]
  },
  {
   "cell_type": "code",
   "execution_count": null,
   "id": "69e176ba",
   "metadata": {},
   "outputs": [
    {
     "name": "stdout",
     "output_type": "stream",
     "text": [
      "Meong\n",
      "Guk guk\n"
     ]
    }
   ],
   "source": [
    "class Hewan:\n",
    "    def suara(self):\n",
    "        print(\"Hewan bersuara\")\n",
    "\n",
    "class Kucing(Hewan):   # Kucing \"mewarisi\" Hewan\n",
    "    def suara(self):\n",
    "        print(\"Meong\")\n",
    "\n",
    "class Anjing(Hewan):\n",
    "    def suara(self):\n",
    "        print(\"Guk guk\")\n",
    "\n",
    "k = Kucing()\n",
    "a = Anjing()\n",
    "\n",
    "k.suara()  # Meong\n",
    "a.suara()  # Guk guk\n",
    "\n",
    "# Kucing dan Anjing mewarisi dari Hewan.\n",
    "# Mereka punya fungsi suara() yang menggantikan (override) fungsi dari Hewan."
   ]
  },
  {
   "cell_type": "markdown",
   "id": "694efaeb",
   "metadata": {},
   "source": [
    "# Encapsulation (Pengkapsulan)\n",
    "Menyembunyikan data supaya tidak bisa diubah langsung dari luar class. Biasanya dengan memberi atribut private supaya cuma bisa diakses lewat method tertentu.\n",
    "\n",
    "Contoh : menyembunyikan aset mobil atau mesin secara internal"
   ]
  },
  {
   "cell_type": "code",
   "execution_count": null,
   "id": "eb599a3f",
   "metadata": {},
   "outputs": [
    {
     "name": "stdout",
     "output_type": "stream",
     "text": [
      "Saldo saya: Rp1000\n",
      "Saldo saya: Rp1500\n"
     ]
    }
   ],
   "source": [
    "class Rekening:\n",
    "    def __init__(self, saldo):\n",
    "        self.__saldo = saldo  # __saldo itu private\n",
    "\n",
    "    def lihat_saldo(self):\n",
    "        print(f\"Saldo saya: Rp{self.__saldo}\")\n",
    "\n",
    "    def tambah_saldo(self, jumlah):\n",
    "        if jumlah > 0:\n",
    "            self.__saldo += jumlah\n",
    "\n",
    "rekening = Rekening(1000)\n",
    "rekening.lihat_saldo()    # Saldo saya: Rp1000\n",
    "rekening.tambah_saldo(500)\n",
    "rekening.lihat_saldo()    # Saldo saya: Rp1500\n",
    "\n",
    "# rekening.__saldo = 100000  # Ini error, gak bisa langsung ubah saldo\n",
    "# Atribut __saldo dibuat private dengan dua garis bawah (__).\n",
    "# Jadi saldo cuma bisa diubah lewat method tambah_saldo()."
   ]
  },
  {
   "cell_type": "markdown",
   "id": "c7cf21e1",
   "metadata": {},
   "source": [
    "# Polymorphism (Bentuk Banyak)\n",
    "Sebuah fungsi atau method bisa berjalan berbeda tergantung objek yang memanggilnya, walaupun namanya sama."
   ]
  },
  {
   "cell_type": "code",
   "execution_count": null,
   "id": "8d8375ab",
   "metadata": {},
   "outputs": [
    {
     "name": "stdout",
     "output_type": "stream",
     "text": [
      "Ayam tidak bisa terbang jauh\n",
      "Elang terbang tinggi\n"
     ]
    }
   ],
   "source": [
    "class Burung:\n",
    "    def terbang(self):\n",
    "        print(\"Burung terbang\")\n",
    "\n",
    "class Ayam(Burung):\n",
    "    def terbang(self):\n",
    "        print(\"Ayam tidak bisa terbang jauh\")\n",
    "\n",
    "class Elang(Burung):\n",
    "    def terbang(self):\n",
    "        print(\"Elang terbang tinggi\")\n",
    "\n",
    "def buat_terbang(hewan):\n",
    "    hewan.terbang()\n",
    "\n",
    "ayam = Ayam()\n",
    "elang = Elang()\n",
    "\n",
    "buat_terbang(ayam)   # Ayam tidak bisa terbang jauh\n",
    "buat_terbang(elang)  # Elang terbang tinggi\n",
    "\n",
    "# Fungsi buat_terbang() sama tapi hasilnya berbeda tergantung objek yang dipakai."
   ]
  },
  {
   "cell_type": "markdown",
   "id": "2e4f0586",
   "metadata": {},
   "source": [
    "# Fokus on Inheritance\n",
    "Inheritance = Pewarisan sifat dari class induk (parent) ke class anak (child).\n",
    "\n",
    "Bayangkan:\n",
    "- Kamu bikin class Hewan. Semua hewan bisa bernapas, bergerak, dan bersuara.\n",
    "- Kalau kamu bikin class Kucing atau Anjing, mereka itu jenis hewan. Jadi harusnya nggak perlu nulis ulang kode untuk bernapas, bergerak, dan bersuara, karena mereka udah turunannya class Hewan."
   ]
  },
  {
   "cell_type": "code",
   "execution_count": null,
   "id": "f249056f",
   "metadata": {},
   "outputs": [],
   "source": [
    "class Hewan:\n",
    "    def suara(self):\n",
    "        print(\"Hewan mengeluarkan suara\")\n",
    "\n",
    "class Kucing(Hewan):  # Kucing mewarisi dari Hewan\n",
    "    def meong(self):\n",
    "        print(\"Meong~\")\n",
    "\n",
    "k = Kucing()\n",
    "k.suara()   # Kita tidak menulis fungsi suara di Kucing, tapi bisa dipakai\n",
    "k.meong()   # Fungsi khusus Kucing\n",
    "\n",
    "# Penjelasan:\n",
    "    # class Kucing(Hewan) → Artinya Kucing turunan dari Hewan.\n",
    "    # Kucing secara otomatis punya semua fungsi di Hewan (dalam hal ini: suara()).\n",
    "    # Tapi dia juga bisa punya fungsi sendiri seperti meong().\n",
    "\n",
    "# 💡 Ini kenapa kita tidak perlu __init__:\n",
    "    # Karena dalam contoh ini, kita tidak butuh menyimpan data apapun (seperti nama atau warna). Kita cuma pakai fungsi (def) saja."
   ]
  },
  {
   "cell_type": "markdown",
   "id": "173513ca",
   "metadata": {},
   "source": [
    "# Kapan butuh __init__?\n",
    "Kalau kamu ingin setiap objek punya data tersendiri (seperti nama hewan, jenis, umur), barulah kamu butuh __init__."
   ]
  },
  {
   "cell_type": "code",
   "execution_count": 28,
   "id": "68804aa4",
   "metadata": {},
   "outputs": [
    {
     "name": "stdout",
     "output_type": "stream",
     "text": [
      "Mopi bersuara\n",
      "Mopi berkata: Meong~\n"
     ]
    }
   ],
   "source": [
    "class Hewan:\n",
    "    def __init__(self, nama):\n",
    "        self.nama = nama\n",
    "\n",
    "    def suara(self):\n",
    "        print(f\"{self.nama} bersuara\")\n",
    "\n",
    "class Kucing(Hewan):\n",
    "    def meong(self):\n",
    "        print(f\"{self.nama} berkata: Meong~\")\n",
    "\n",
    "k = Kucing(\"Mopi\")\n",
    "k.suara()   # Mopi bersuara\n",
    "k.meong()   # Mopi berkata: Meong~\n"
   ]
  },
  {
   "cell_type": "code",
   "execution_count": 4,
   "id": "eb9b2aae",
   "metadata": {},
   "outputs": [
    {
     "name": "stdout",
     "output_type": "stream",
     "text": [
      "This Ferrari could be run up to 300 mph and max distance is 500 mil\n",
      "This Lambo could be run up to 400 mph and max distance is 600 mil\n"
     ]
    }
   ],
   "source": [
    "class Vehicles:\n",
    "    def __init__(self, name, max_speed, mil):\n",
    "        self.name = name\n",
    "        self.max = max_speed\n",
    "        self.mil = mil\n",
    "\n",
    "    def run(self):\n",
    "        print(f\"This {self.name} could be run up to {self.max} mph and max distance is {self.mil} mil\")\n",
    "\n",
    "ferrari = Vehicles(\"Ferrari\", 300, 500)\n",
    "ferrari.run()\n",
    "\n",
    "lamborgini = Vehicles(\"Lambo\", 400, 600)\n",
    "lamborgini.run()\n"
   ]
  },
  {
   "cell_type": "code",
   "execution_count": 11,
   "id": "67f14c34",
   "metadata": {},
   "outputs": [],
   "source": [
    "class Vehicle:\n",
    "    color = \"white\"\n",
    "\n",
    "\n",
    "    def __init__(self, max_speed, mileage):\n",
    "        self.max_speed = max_speed\n",
    "        self.mileage = mileage\n",
    "        self.seating_capacity = None\n",
    "\n",
    "\n",
    "    def assign_seating_capacity(self, seating_capacity):\n",
    "        self.seating_capacity = seating_capacity\n",
    "\n",
    "\n",
    "# V1 = Vehicle(150, 25)\n",
    "car = Vehicle(200,20)\n",
    "\n"
   ]
  },
  {
   "cell_type": "code",
   "execution_count": 12,
   "id": "02c908b9",
   "metadata": {},
   "outputs": [
    {
     "name": "stdout",
     "output_type": "stream",
     "text": [
      "80\n"
     ]
    }
   ],
   "source": [
    "class Graph():\n",
    "    def __init__(self, id):\n",
    "        self.id = id\n",
    "        self.id = 80\n",
    "\n",
    "\n",
    "val = Graph(200)\n",
    "print(val.id)"
   ]
  },
  {
   "cell_type": "code",
   "execution_count": 16,
   "id": "fd77307c",
   "metadata": {},
   "outputs": [
    {
     "ename": "AttributeError",
     "evalue": "'TextAnalzer' object has no attribute 'TextAnalyzer'",
     "output_type": "error",
     "traceback": [
      "\u001b[31m---------------------------------------------------------------------------\u001b[39m",
      "\u001b[31mAttributeError\u001b[39m                            Traceback (most recent call last)",
      "\u001b[36mCell\u001b[39m\u001b[36m \u001b[39m\u001b[32mIn[16]\u001b[39m\u001b[32m, line 10\u001b[39m\n\u001b[32m      6\u001b[39m         \u001b[38;5;28mself\u001b[39m.text = text.lower()\n\u001b[32m      7\u001b[39m         \u001b[38;5;66;03m# make text lowercase\u001b[39;00m\n\u001b[32m      8\u001b[39m \n\u001b[32m      9\u001b[39m \u001b[38;5;66;03m# newtext = TextAnalyzer (\"RIDHO\")\u001b[39;00m\n\u001b[32m---> \u001b[39m\u001b[32m10\u001b[39m \u001b[43mnewtext\u001b[49m\u001b[43m.\u001b[49m\u001b[43mTextAnalyzer\u001b[49m(\u001b[33m\"\u001b[39m\u001b[33mRIDHO\u001b[39m\u001b[33m\"\u001b[39m)\n",
      "\u001b[31mAttributeError\u001b[39m: 'TextAnalzer' object has no attribute 'TextAnalyzer'"
     ]
    }
   ],
   "source": [
    "# Press Shift+Enter to run the code.\n",
    "class TextAnalyzer(object):\n",
    "    \n",
    "    def __init__ (self, text):\n",
    "        # remove punctuation\n",
    "        self.text = text.lower()\n",
    "        # make text lowercase\n",
    "\n",
    "# newtext = TextAnalyzer (\"RIDHO\")\n",
    "newtext.TextAnalyzer(\"RIDHO\")\n"
   ]
  },
  {
   "cell_type": "code",
   "execution_count": 18,
   "id": "cda7f3f4",
   "metadata": {},
   "outputs": [
    {
     "name": "stdout",
     "output_type": "stream",
     "text": [
      "5\n",
      "4\n",
      "3\n"
     ]
    }
   ],
   "source": [
    "x = 5 \n",
    "while x != 2: \n",
    "    print(x) \n",
    "    x = x - 1"
   ]
  },
  {
   "cell_type": "code",
   "execution_count": 19,
   "id": "54f2e1af",
   "metadata": {},
   "outputs": [
    {
     "name": "stdout",
     "output_type": "stream",
     "text": [
      "0 AA\n",
      "1 BB\n",
      "2 CC\n"
     ]
    }
   ],
   "source": [
    "for i, x in enumerate(['A', 'B', 'C']):\n",
    "    print(i, 2 * x)"
   ]
  },
  {
   "cell_type": "code",
   "execution_count": 20,
   "id": "02aabc7a",
   "metadata": {},
   "outputs": [
    {
     "name": "stdout",
     "output_type": "stream",
     "text": [
      "300\n"
     ]
    }
   ],
   "source": [
    "total_budget = 1000 \n",
    "def calculate_remaining(spent): \n",
    "    total_budget = 500 \n",
    "    return total_budget - spent \n",
    "print(calculate_remaining(200))"
   ]
  },
  {
   "cell_type": "code",
   "execution_count": 1,
   "id": "261be37b",
   "metadata": {},
   "outputs": [
    {
     "name": "stdout",
     "output_type": "stream",
     "text": [
      "Peso is a great dog!\n",
      "Peso is sitting.\n"
     ]
    }
   ],
   "source": [
    "class Dog(): \n",
    "    \"\"\"Represent a dog.\"\"\" \n",
    " \n",
    "    def __init__(self, name): \n",
    "        \"\"\"Initialize dog object.\"\"\" \n",
    "        self.name = name \n",
    " \n",
    "    def sit(self): \n",
    "        \"\"\"Simulate sitting.\"\"\" \n",
    "        print(self.name + \" is sitting.\") \n",
    " \n",
    "my_dog = Dog('Peso') \n",
    " \n",
    "print(my_dog.name + \" is a great dog!\") \n",
    "my_dog.sit() "
   ]
  },
  {
   "cell_type": "markdown",
   "id": "a544b71d",
   "metadata": {},
   "source": [
    "1. Class Player = blueprint \"karakter\".\n",
    "2. Object Player = karakter nyata yang kamu buat saat mulai main (misalnya Ridho si Warrior atau Andi si Mage).\n",
    "3. Atribut = data tiap karakter (HP, level, job).\n",
    "4. Method = aksi yang bisa dilakukan (attack, heal, level up)."
   ]
  },
  {
   "cell_type": "code",
   "execution_count": null,
   "id": "c924c9e2",
   "metadata": {},
   "outputs": [
    {
     "name": "stdout",
     "output_type": "stream",
     "text": [
      "player rasridho berhasil dibuat\n",
      "HP awal rasridho sebesar 1000 points\n",
      "1500\n",
      "3000\n"
     ]
    }
   ],
   "source": [
    "# access modifier\n",
    "class player :\n",
    "    # atribut : informasi\n",
    "    # bertipe publik, bisa diakses oleh outer class, karena atribut name bisa diakses\n",
    "    name = 'rasridho'\n",
    "    health_point = 1000\n",
    "    __private_HP = 1500 # jika ingin atribut tidak dapat diakses di luar class maka bisa ditambahkan __hp\n",
    "    \n",
    "    # methods atau perintah\n",
    "    def get_hp(self) :\n",
    "        return self.__private_HP\n",
    "\n",
    "run = player()\n",
    "\n",
    "print(f'player {run.name} berhasil dibuat')\n",
    "print(f'HP awal {run.name} sebesar {run.health_point} points')\n",
    "player.health_point = 3000 # atribut HP bisa diakses di luar class karena bersifat publik\n",
    "run.health_point # karena bisa diakses sehingga mudah untuk diubah-ubah\n",
    "# run.__private_HP # output error player' object has no attribute '__private_HP'\n",
    "\n",
    "print(run.get_hp()) # bisa dipanggil karena method masih di dalam class\n",
    "print(run.health_point)\n",
    "\n",
    "# __private_HP tidak bisa diubah seperti health_point"
   ]
  },
  {
   "cell_type": "code",
   "execution_count": 38,
   "id": "dc386ff6",
   "metadata": {},
   "outputs": [
    {
     "name": "stdout",
     "output_type": "stream",
     "text": [
      "player rasridho memiliki HP 1000\n",
      "player anisya memiliki HP 800\n"
     ]
    }
   ],
   "source": [
    "class player :\n",
    "    def __init__(self, name, health):\n",
    "        # atribut atau informasi pada object\n",
    "        self.name = name\n",
    "        self.health = health\n",
    "        print(f'player {self.name} memiliki HP {self.health}')\n",
    "        # ambil data name dan health yang sudah disimpan di dalam objek ini.\n",
    "\n",
    "    def attack (self, target, damage) :\n",
    "        self.target = target\n",
    "        self.damage = damage\n",
    "        print(f'{self.name}')\n",
    "\n",
    "p1 = player('rasridho', 1000)\n",
    "p2 = player(\"anisya\", 800)\n",
    "\n"
   ]
  },
  {
   "cell_type": "code",
   "execution_count": null,
   "id": "843fb8d5",
   "metadata": {},
   "outputs": [
    {
     "name": "stdout",
     "output_type": "stream",
     "text": [
      "player rasridho memiliki HP 1000\n",
      "player 1000 memiliki HP rasridho\n"
     ]
    }
   ],
   "source": [
    "# cara mengetahui tipe data yg harus diisi pada class init\n",
    "\n",
    "class Player:\n",
    "    def __init__(self, name: str, health: int): # menambahkan hint setelah variabel\n",
    "        self.name = name\n",
    "        self.health = health\n",
    "        print(f'player {self.name} memiliki HP {self.health}')\n",
    "\n",
    "p1 = player('rasridho', 1000)\n",
    "p2 = player(1000, 'rasridho') \n"
   ]
  },
  {
   "cell_type": "code",
   "execution_count": 21,
   "id": "004bc1dc",
   "metadata": {},
   "outputs": [
    {
     "name": "stdout",
     "output_type": "stream",
     "text": [
      "Saldo awal ridho adalah 1000\n",
      "6000\n",
      "6000\n"
     ]
    },
    {
     "data": {
      "text/plain": [
       "'Saldo anda bertambah 2200, Total saldo adalah 8200'"
      ]
     },
     "execution_count": 21,
     "metadata": {},
     "output_type": "execute_result"
    }
   ],
   "source": [
    "# ENCAPSULATION __atribut\n",
    "# bukan sekadar “class yang punya atribut dan method”. Semua class memang biasanya punya atribut (data) dan method (perilaku). \n",
    "# Tapi encapsulation itu tentang menyembunyikan detail internal sebuah class supaya tidak bisa sembarangan diakses/dimanipulasi dari luar.\n",
    "\n",
    "class rekeningbank:\n",
    "    def __init__(self, nama, saldo_awal):\n",
    "        self.nama = nama\n",
    "        self.__saldo = saldo_awal # tanda __ digunakan untuk mengunci paramater\n",
    "    \n",
    "\n",
    "# parameter saldo_awal tidak bisa diakses diluar class secara langsung\n",
    "\n",
    "# saldoku = rekeningbank(\"ridho\", 1000) # hasilnya none\n",
    "\n",
    "# untuk mengaksesnya perlu menggunakan getter dan setter, bisa diartikan\n",
    "# \t• Getter → fungsi untuk mengambil/membaca nilai atribut yang biasanya disembunyikan (private/protected).\n",
    "# \t• Setter → fungsi untuk mengubah/mengisi nilai atribut, sambil bisa kasih validasi/logika tambahan.\n",
    "# Nama fungsi tidak harus get_ dan set_, itu hanya konvensi supaya gampang dibaca orang. Kamu bisa kasih nama apapun sesuai konteks.\n",
    "\n",
    "    def lihat_saldo(self) : # getter\n",
    "        return self.__saldo\n",
    "    \n",
    "    def setor_tunai(self, nominal: int) :\n",
    "        self.__saldo += nominal\n",
    "        return self.__saldo\n",
    "    \n",
    "    # kode setor_tunai memiliki beberapa kelemahan yaitu\n",
    "    # Bisa setor angka minus, misalnya setor_tunai(-500).\n",
    "    # → saldo malah berkurang (padahal harusnya setor = nambah).\n",
    "    # Tidak ada proteksi, rawan bug / penyalahgunaan\n",
    "\n",
    "    # perbaikan\n",
    "\n",
    "    def cash_deposit(self, amount: int):\n",
    "        if amount > 0:\n",
    "            self.__saldo += amount\n",
    "            return f'Saldo anda bertambah {amount}, Total saldo adalah {self.__saldo}'\n",
    "        else :\n",
    "            return \"Jumlah yang harus disetor harus lebih dari 0\"\n",
    "    \n",
    "    # kelebihan :\n",
    "    # Sesuai aturan bisnis → setor uang harus positif.\n",
    "    # Kalau ada input salah (misalnya bug dari user input atau sistem), langsung ditolak dengan error yang jelas.\n",
    "    # Lebih aman untuk jangka panjang, terutama kalau project dipakai banyak orang\n",
    "\n",
    "# bikin object\n",
    "saldoku = rekeningbank('ridho', 1000)\n",
    "# print(f'Saldo awal {self.nama} adalah {self.saldo_awal}') # akan error karena \n",
    "# self hanya boleh dipakai di dalam class (di dalam method).\n",
    "# Waktu kamu sudah keluar dari class (di luar definisi class), object-mu adalah saldoku.\n",
    "# Jadi self sudah tidak dikenal lagi → Python protes dengan error name 'self' is not defined.\n",
    "\n",
    "# perbaikan object\n",
    "\n",
    "saldoku1 = rekeningbank('ridho', 1000)\n",
    "print(f'Saldo awal {saldoku1.nama} adalah {saldoku1.lihat_saldo()}')\n",
    "\n",
    "# akses lewat objek\n",
    "saldoku.lihat_saldo() # output 1000\n",
    "print(saldoku.setor_tunai(5000)) # output 5000\n",
    "print(saldoku.lihat_saldo())\n",
    "saldoku.cash_deposit(2200) # output 8200\n"
   ]
  },
  {
   "cell_type": "code",
   "execution_count": null,
   "id": "ead5b0b4",
   "metadata": {},
   "outputs": [],
   "source": []
  }
 ],
 "metadata": {
  "kernelspec": {
   "display_name": ".venv (3.12.1)",
   "language": "python",
   "name": "python3"
  },
  "language_info": {
   "codemirror_mode": {
    "name": "ipython",
    "version": 3
   },
   "file_extension": ".py",
   "mimetype": "text/x-python",
   "name": "python",
   "nbconvert_exporter": "python",
   "pygments_lexer": "ipython3",
   "version": "3.12.0"
  }
 },
 "nbformat": 4,
 "nbformat_minor": 5
}
