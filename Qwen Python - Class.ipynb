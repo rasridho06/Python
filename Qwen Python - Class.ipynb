{
 "cells": [
  {
   "cell_type": "code",
   "execution_count": 1,
   "id": "791c0af4",
   "metadata": {},
   "outputs": [
    {
     "name": "stdout",
     "output_type": "stream",
     "text": [
      "{5000: 'Sedang', 750: 'Kecil', 25710: 'Besar', 3221: 'Sedang'}\n"
     ]
    }
   ],
   "source": [
    "def check_file_size (*listdata) :\n",
    "    result = {}\n",
    "    for size in listdata :\n",
    "        if size < 1000 :\n",
    "            result[size] = \"Kecil\"\n",
    "        elif size < 10000 :\n",
    "            result[size] = \"Sedang\"\n",
    "        else :\n",
    "            result[size] = \"Besar\"\n",
    "    return result\n",
    "\n",
    "print(check_file_size(5000, 750, 25710, 3221))"
   ]
  },
  {
   "cell_type": "code",
   "execution_count": null,
   "id": "688f5fc8",
   "metadata": {},
   "outputs": [],
   "source": []
  }
 ],
 "metadata": {
  "kernelspec": {
   "display_name": ".venv",
   "language": "python",
   "name": "python3"
  },
  "language_info": {
   "codemirror_mode": {
    "name": "ipython",
    "version": 3
   },
   "file_extension": ".py",
   "mimetype": "text/x-python",
   "name": "python",
   "nbconvert_exporter": "python",
   "pygments_lexer": "ipython3",
   "version": "3.12.0"
  }
 },
 "nbformat": 4,
 "nbformat_minor": 5
}
