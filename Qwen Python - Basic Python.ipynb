{
 "cells": [
  {
   "cell_type": "code",
   "execution_count": null,
   "id": "cdf9e68a",
   "metadata": {},
   "outputs": [
    {
     "name": "stdout",
     "output_type": "stream",
     "text": [
      "username github saya adalah rasridho06 dan email yang terdaftar adalah ridho@gmail.com\n"
     ]
    }
   ],
   "source": [
    "# f string memasukkan variable ke dalam string\n",
    "\n",
    "username = \"rasridho06\"\n",
    "email = \"ridho@gmail.com\"\n",
    "\n",
    "print(f'username github saya adalah {username} dan email yang terdaftar adalah {email}')\n",
    "\n"
   ]
  },
  {
   "cell_type": "code",
   "execution_count": null,
   "id": "7c289df5",
   "metadata": {},
   "outputs": [],
   "source": [
    "# variabel yang dianggap kosong\n",
    "\n",
    "# string = \"\"\n",
    "# integer = 0\n",
    "# float = 0.0\n",
    "# bool = 0 (false)\n",
    "# List [] \n",
    "# tuple () \n",
    "# dictionary {}\n",
    "# set kosong (), mengapa bukan {} karena akan dianggap dict kosong"
   ]
  },
  {
   "cell_type": "code",
   "execution_count": null,
   "id": "62334c80",
   "metadata": {},
   "outputs": [
    {
     "name": "stdout",
     "output_type": "stream",
     "text": [
      "True\n",
      "False\n"
     ]
    }
   ],
   "source": [
    "# perbedaan Not dan !=\n",
    "\n",
    "# != (Tidak Sama Dengan)\n",
    "# Digunakan untuk membandingkan dua nilai apakah berbeda.\n",
    "# Hasilnya True jika nilai berbeda, False jika sama.\n",
    "# Biasanya dipakai untuk cek apakah data tidak sesuai dengan nilai tertentu.\n",
    "\n",
    "x = 2\n",
    "y = 4\n",
    "\n",
    "print(x != y) # output True karena tujuannya membandingkan apakah kedua variable nilainya berbeda, jika berbeda maka True, jika sama False\n",
    "print(x == y) # nilai x dan y tidak sama maka dari itu outputnya False karena membandingkan dengan sama dengan"
   ]
  },
  {
   "cell_type": "code",
   "execution_count": null,
   "id": "c4a0152b",
   "metadata": {},
   "outputs": [
    {
     "name": "stdout",
     "output_type": "stream",
     "text": [
      "Saya sudah dewasa karena umur saya sudah lebih dari 30 tahun\n"
     ]
    }
   ],
   "source": [
    "# Struktur Kontrol\n",
    "\n",
    "# if, else, elif (percabangan)\n",
    "# for, while (perulangan)\n",
    "# break, continue, pass (pengendali alur)\n",
    "# Semua itu menentukan bagaimana program berjalan: apakah harus mengambil keputusan, mengulang sesuatu, atau berhenti. Ini adalah dasar dari logika berpikir dalam pemrograman.\n",
    "\n",
    "# 🔑 Tanpa struktur kontrol, program hanya akan menjalankan baris kode secara linear (dari atas ke bawah). Ini berarti:\n",
    "\n",
    "# Kamu tidak bisa membuat keputusan berdasarkan kondisi tertentu.\n",
    "# Kamu tidak bisa mengulang proses tanpa menulis kode secara manual berkali-kali.\n",
    "\n",
    "# contoh\n",
    "umur = 31\n",
    "\n",
    "if umur > 30:\n",
    "    print(f'Saya sudah dewasa karena umur saya sudah lebih dari {30} tahun')\n",
    "elif umur > 20:\n",
    "    print('saya baru lulus kuliah')\n",
    "else :\n",
    "    print('saya masih remaja')\n",
    "\n",
    "# if adalah kondisi pertama yang dicek.\n",
    "# elif (else if) adalah kondisi alternatif.\n",
    "# else akan dijalankan jika semua kondisi sebelumnya salah.\n"
   ]
  },
  {
   "cell_type": "code",
   "execution_count": null,
   "id": "c5a41a1e",
   "metadata": {},
   "outputs": [
    {
     "name": "stdout",
     "output_type": "stream",
     "text": [
      "saya suka buah apel\n",
      "saya suka buah jeruk\n",
      "saya suka buah pisang\n"
     ]
    }
   ],
   "source": [
    "# perulangan if\n",
    "\n",
    "buah = ['apel', 'jeruk', 'pisang']\n",
    "\n",
    "for item in buah:\n",
    "    print(f\"saya suka buah {item}\")\n",
    "\n",
    "# Definisi : Digunakan untuk mengulang kode sebanyak jumlah elemen dalam sebuah koleksi (seperti list, tuple, dictionary, range, dll.).\n",
    "# # Ciri Khas : Jumlah iterasi sudah ditentukan sejak awal.\n",
    "# Karena kita tahu persis ada 3 element dalam dataset, kita bisa menggunakan for untuk memproses setiap elemen dalam list.\n",
    "# Kegunaan Utama : Ketika kamu tahu persis berapa kali kode harus diulang atau ketika kamu ingin memproses setiap elemen dalam sebuah koleksi.\n",
    "# Loop ini akan berjalan sebanyak jumlah elemen dalam daftar_produk (yaitu 3 kali).\n",
    "# Tidak perlu menentukan kondisi secara eksplisit karena iterasi didasarkan pada koleksi.\n",
    "\n",
    "# buah adalah list: ['apel', 'jeruk', 'pisang']\n",
    "# item adalah nama variabel sementara yang kamu tentukan sendiri (bisa juga kamu tulis for x in buah, atau for buah_satuan in buah)\n",
    "\n",
    "# Python akan:\n",
    "# Mengambil elemen pertama dari buah, simpan di item\n",
    "# Jalankan kode di dalam loop\n",
    "# Ulangi untuk elemen berikutnya sampai habis"
   ]
  },
  {
   "cell_type": "code",
   "execution_count": null,
   "id": "8803064b",
   "metadata": {},
   "outputs": [
    {
     "name": "stdout",
     "output_type": "stream",
     "text": [
      "2\n",
      "3\n",
      "4\n",
      "5\n",
      "6\n",
      "7\n",
      "8\n",
      "9\n"
     ]
    }
   ],
   "source": [
    "# perulangan while loop\n",
    "\n",
    "# while akan terus mengulang selama kondisinya benar (True). Kalau sudah jadi False, dia berhenti.\n",
    "# Nilai / Kondisi\t                                    Diperlakukan sebagai\n",
    "# True, angka ≠ 0, list non-kosong, string non-kosong\tTrue\n",
    "# False, 0, '', [], None\t                            False\n",
    "\n",
    "i = 2\n",
    "\n",
    "while i < 10 :\n",
    "    print(i)\n",
    "    i += 1\n",
    "\n",
    "# i = 2: kita mulai dari angka 2\n",
    "# while i < 10: artinya selama i kurang dari 10, jalankan terus\n",
    "# i += 1: artinya i ditambah 1 setiap kali loop selesai\n",
    "# Tanpa i += 1, nilai i akan tetap 1 terus, dan loop akan berjalan selamanya (infinite loop).\n",
    "# output akan berhenti di 9 karena operator logikanya kurang dari bukan kurang dari sama dengan\n",
    "\n",
    "# Notasi\tSama dengan\t    Arti\n",
    "# i += 1\ti = i + 1\t    Tambahkan 1 ke i\n",
    "# i -= 1\ti = i - 1\t    Kurangi 1 dari i\n",
    "# i *= 2\ti = i * 2\t    Kalikan i dengan 2\n",
    "# i /= 2\ti = i / 2\t    Bagi i dengan 2 (hasilnya float)\n",
    "# i //= 2\ti = i // 2\t    Bagi i dengan 2 (hasilnya dibulatkan ke bawah)\n",
    "\n",
    "# Kasus False Sejak Awal\n",
    "i = 10\n",
    "while i < 5:\n",
    "    print(\"Ini tidak akan muncul\")\n"
   ]
  },
  {
   "cell_type": "code",
   "execution_count": null,
   "id": "0cf9ae8c",
   "metadata": {},
   "outputs": [
    {
     "name": "stdout",
     "output_type": "stream",
     "text": [
      "coba terus\n",
      "coba terus\n",
      "coba terus\n",
      "coba terus\n",
      "coba terus\n",
      "coba lagi\n",
      "coba lagi\n",
      "coba lagi\n",
      "coba lagi\n",
      "coba lagi\n",
      "coba lagi\n",
      "coba lagi\n",
      "coba lagi\n",
      "coba lagi\n",
      "coba lagi\n",
      "reset password\n",
      "coba lagi\n",
      "coba lagi\n",
      "coba lagi\n",
      "coba lagi\n",
      "coba lagi\n",
      "coba lagi\n",
      "coba lagi\n",
      "coba lagi\n",
      "coba lagi\n",
      "reset password\n"
     ]
    }
   ],
   "source": [
    "# test 1\n",
    "percobaan_login = 1\n",
    "\n",
    "while percobaan_login <= 5 :\n",
    "         print(\"coba terus\")\n",
    "         percobaan_login += 1\n",
    "\n",
    "#test 2\n",
    "attempt = 1\n",
    "max_attempt = 10\n",
    "\n",
    "while attempt <= max_attempt : # ulangi attempt sampai kurang dari sama dengan 10\n",
    "    print(\"coba lagi\")\n",
    "    if attempt == max_attempt :\n",
    "        print(\"reset password\")\n",
    "    attempt += 1\n",
    "\n",
    "#test 3\n",
    "attempt = 1\n",
    "max_attempt = 10\n",
    "\n",
    "while attempt <= max_attempt:\n",
    "    if attempt == max_attempt:\n",
    "        print(\"reset password\")\n",
    "    else:\n",
    "        print(\"coba lagi\")\n",
    "    attempt += 1\n",
    "\n",
    "# perbedaan test 2 dan 3 adalah jika test 2 if digunakan setelah iterasi while selesai\n",
    "# test 3, if digunakan setelah iterasi while dengan maksud jika attempt = max_attempt maka output reset passwor, jika masih kurang dari < 10 maka coba lagi\n",
    "# test 2 juga while akan berulang selama 10x, baru baris ke 11 reset password\n",
    "# test 3 while hanya berulang 9x, baru yg 10 reset password\n",
    "# mengapa menggunakan operator perbandingan <= bukan < ? karena jika < while akan berhenti di 9, jika <= while akan berhenti di 10 namun jika sudah 10 akan berubah outputnya menjadi reset\n",
    "\n",
    "# Kasus False Sejak Awal\n",
    "\n",
    "i = 10\n",
    "while i < 5:\n",
    "    print(\"Ini tidak akan muncul\")\n",
    "\n",
    "# i = 10, dan 10 < 5 adalah False.\n",
    "# Karena kondisi langsung False, maka kode di dalam while tidak dijalankan sama sekali.\n",
    "\n"
   ]
  },
  {
   "cell_type": "code",
   "execution_count": null,
   "id": "8388ae14",
   "metadata": {},
   "outputs": [],
   "source": [
    "i = 10\n",
    "while i < 5:\n",
    "    print(\"Ini tidak akan muncul\")\n",
    "\n",
    "# while akan terus menjalankan blok kode selama kondisi yang dicek adalah True (benar/logika).\n",
    "# Begitu kondisi berubah menjadi False, maka perulangan akan berhenti.\n",
    "# i = 10, dan 10 < 5 adalah False.\n",
    "# Karena kondisi langsung False, maka kode di dalam while tidak dijalankan sama sekali."
   ]
  },
  {
   "cell_type": "code",
   "execution_count": null,
   "id": "5529e6c6",
   "metadata": {},
   "outputs": [
    {
     "name": "stdout",
     "output_type": "stream",
     "text": [
      "halo\n",
      "halo\n",
      "halo\n",
      "halo\n"
     ]
    }
   ],
   "source": [
    "# i = 1\n",
    "# while i < 5:\n",
    "#     print(\"Halo!\")\n",
    "    # i tidak pernah berubah, maka kondisi selalu True\n",
    "    # 1 kurang dari 5 adalah True, untuk menghasilkan false harus ditambah hingga i = 5\n",
    "    # jika menggunakan i -= 1 maka hasilnya akan tetap true karena akan berulang sampai minus tak hingga\n",
    "\n",
    "# perbaikannya adalah\n",
    "\n",
    "i = 1\n",
    "while i < 5 :\n",
    "    print('halo')\n",
    "    i += 1\n",
    "\n",
    "    # nilai i ditambahkan 1 ditambahkan 1 berulang hingga nilainya 5 karena jika i = 5 adalah False"
   ]
  },
  {
   "cell_type": "code",
   "execution_count": null,
   "id": "d432e16b",
   "metadata": {},
   "outputs": [
    {
     "name": "stdout",
     "output_type": "stream",
     "text": [
      "ketemuu\n",
      "oke lanjutkan permainan\n",
      "oke lanjutkan permainan\n",
      "keluar dari game\n"
     ]
    }
   ],
   "source": [
    "# break\n",
    "\n",
    "# Fungsi : break digunakan untuk keluar dari loop secara paksa , meskipun loop seharusnya masih berjalan.\n",
    "# Kapan digunakan?\n",
    "    # Ketika kamu sudah menemukan apa yang kamu cari di dalam loop, dan tidak perlu melanjutkan pencarian lagi.\n",
    "    # Misalnya, jika kamu mencari sebuah data tertentu di daftar, dan begitu ketemu, kamu langsung ingin keluar dari loop \n",
    "    # Menghentikan Pencarian Setelah Menemukan Jawaban :\n",
    "        # Contohnya, saat mencari file tertentu di direktori besar. Begitu file ditemukan, tidak perlu melanjutkan pencarian.\n",
    "    # Mencegah Loop Tak Terbatas :\n",
    "        # Dalam kasus tertentu, seperti membaca input pengguna, kamu bisa menggunakan break untuk keluar dari loop ketika kondisi terpenuhi.\n",
    "\n",
    "nama = ['ridho', 'apip', 'zaqi', 'uztad', 'niko']\n",
    "\n",
    "for jeneng in nama :\n",
    "    if jeneng == 'zaqi' :\n",
    "        print(\"ketemuu\")\n",
    "        break # hentikan loop ketika sudah menemukan nama yg diinginkan\n",
    "\n",
    "while True :\n",
    "    jawaban = input(\"apakah akan melanjutkan permainan? ya/tidak\")\n",
    "    if jawaban == 'ya' :\n",
    "        print(\"oke lanjutkan permainan\")\n",
    "    else :\n",
    "        print(\"keluar dari game\")\n",
    "        break\n",
    "\n",
    "# catatan\n",
    "\n",
    "# else:\n",
    "#     print(\"keluar dari game\")\n",
    "# break  # Ini salah!\n",
    "\n",
    "# karena :\n",
    "    # break berada di luar blok else karena tidak di-indentasi.(tidak ditab ke dalam)\n",
    "    # Python akan menganggap bahwa break adalah bagian dari kode setelah blok else, bukan bagian dari blok else.\n",
    "\n",
    "# jika break di luar block maka :\n",
    "    # break akan selalu dieksekusi setelah satu iterasi loop, tanpa peduli apakah pengguna memilih \"ya\" atau \"tidak\".\n",
    "    # Loop hanya berjalan sekali, dan program langsung keluar tanpa memberikan kesempatan kepada pengguna untuk melanjutkan permainan.\n",
    "\n",
    "# break harus berada dalam block karena :\n",
    "    # Ketika pengguna memilih \"ya\", program masuk ke blok if dan mencetak \"Oke, lanjutkan permainan!\". Loop tetap berjalan.\n",
    "    # Ketika pengguna memilih \"tidak\", program masuk ke blok else. Di sini:\n",
    "    # Pesan \"Keluar dari game.\" dicetak.\n",
    "    # Kemudian, break dijalankan untuk keluar dari loop.\n",
    "\n",
    "# Kapan Tidak Tepat Menggunakan break\n",
    "    # jika dalam menggunakan data besar dan membutuhkan seluruh data yang ada \n",
    "    # Penggunaan break yang berlebihan bisa membuat kode sulit dibaca dan dipahami, \n",
    "        # terutama jika digunakan di banyak tempat dalam loop yang panjang.\n"
   ]
  },
  {
   "cell_type": "code",
   "execution_count": null,
   "id": "aaf56157",
   "metadata": {},
   "outputs": [
    {
     "name": "stdout",
     "output_type": "stream",
     "text": [
      "ini adalah angka genap yaitu 2\n",
      "ini adalah angka genap yaitu 4\n",
      "ini adalah angka genap yaitu 6\n",
      "ini adalah angka genap yaitu 2\n",
      "ini adalah angka genap yaitu 4\n",
      "ini adalah angka genap yaitu 6\n"
     ]
    }
   ],
   "source": [
    "# Continue\n",
    "\n",
    "# Fungsi : continue digunakan untuk melewati sisa kode dalam satu iterasi (putaran) loop,\n",
    "            # lalu langsung melanjutkan ke iterasi berikutnya.\n",
    "# Dengan kata lain, jika Python menemukan perintah continue, ia akan mengabaikan semua kode setelah continue di iterasi tersebut,\n",
    "            # dan melanjutkan ke iterasi selanjutnya.\n",
    "# misal dalam satu list data terdapat angka 1,2,3,4,5 dan kita hanya perlu mengambil data dengan nilai genap saja, maka data ganjil dilewati\n",
    "\n",
    "angka = [1,2,3,4,5,6]\n",
    "\n",
    "for number in angka :\n",
    "    if number % 2 != 0 : # jika list pada angka tidak habis dibagi 2 atau ganjil\n",
    "        continue # lewati angka ganjil\n",
    "    print(f'ini adalah angka genap yaitu {number}') # hanya print angka genap saja\n",
    "\n",
    "# jika tidak ada variabel, gunakan range\n",
    "\n",
    "for number in range(1,7) : # range(start, finish) Angka awal termasuk, tetapi angka akhir tidak termasuk\n",
    "    if number % 2 != 0 :\n",
    "        continue\n",
    "    print(f'ini adalah angka genap yaitu {number}') # print harus ditempatkan di luar blok if agar hanya dijalankan ketika kondisi if tidak terpenuhi\n",
    "\n",
    "# Jangan gunakan continue jika Anda ingin menjalankan semua langkah dalam iterasi atau jika penggunaannya membuat logika program menjadi rumit."
   ]
  },
  {
   "cell_type": "code",
   "execution_count": 9,
   "id": "f77888c9",
   "metadata": {},
   "outputs": [
    {
     "name": "stdout",
     "output_type": "stream",
     "text": [
      "True\n",
      "False\n",
      "True\n",
      "True\n",
      "True\n",
      "True\n",
      "True\n",
      "True\n"
     ]
    }
   ],
   "source": [
    "# Jenis operator\n",
    "\n",
    "# Operator Identitas : membandingkan identitas objek (lokasi di memori).\n",
    "# is = Memeriksa apakah dua objek adalah objek yang sama di memori.\n",
    "# is not =Kebalikan dari is. Memeriksa apakah dua objek bukan objek yang sama di memori.\n",
    "\n",
    "a = [1, 2, 3]\n",
    "b = a\n",
    "c = [1, 2, 3]\n",
    "\n",
    "print(a is b)  # Output: True (a dan b adalah objek yang sama)\n",
    "print(a is c)  # Output: False (a dan c adalah objek berbeda meskipun nilainya sama)\n",
    "\n",
    "\n",
    "a = [1, 2, 3]\n",
    "b = [1, 2, 3]\n",
    "\n",
    "print(a is not b)  # Output: True (a dan b adalah objek berbeda)\n",
    "\n",
    "# Operator Kesetaraan Nilai == dan !=\n",
    "# Operator Relasional > < => <=\n",
    "# Operator Keanggotaan\n",
    "    # Operator ini digunakan untuk memeriksa apakah suatu nilai ada di dalam objek (seperti list, tuple, string, dll.).\n",
    "    # in \n",
    "\n",
    "numbers = [1, 2, 3, 4, 5]\n",
    "print( 3 in numbers)  # Output: True\n",
    "\n",
    "    # not in\n",
    "numbers = [1, 2, 3, 4, 5]\n",
    "print(6 not in numbers)  # Output: True\n",
    "\n",
    "# Kombinasi Operator\n",
    "# and\n",
    "    # Memeriksa apakah kedua kondisi bernilai True.\n",
    "x = 10\n",
    "y = 20\n",
    "print(x > 5 and y < 30)  # Output: True\n",
    "\n",
    "# or\n",
    "    # Memeriksa apakah salah satu bernilai True.\n",
    "x = 10\n",
    "y = 20\n",
    "print(x > 15 or y < 30)  # Output: True\n",
    "\n",
    "# not\n",
    "x = 10\n",
    "print(not x > 15)  # Output: True (karena x > 15 adalah False)\n"
   ]
  },
  {
   "cell_type": "code",
   "execution_count": 1,
   "id": "45c0bbb5",
   "metadata": {},
   "outputs": [
    {
     "name": "stdout",
     "output_type": "stream",
     "text": [
      "[1, 2, 3]\n"
     ]
    }
   ],
   "source": [
    "my_tuple = (1, 2, 3)\n",
    "\n",
    "# Pastikan tidak ada variabel bernama 'list'\n",
    "my_list = list(my_tuple)\n",
    "\n",
    "print(my_list)  # Output: [1, 2, 3]\n"
   ]
  },
  {
   "cell_type": "code",
   "execution_count": null,
   "id": "dffd8782",
   "metadata": {},
   "outputs": [],
   "source": [
    "# pass\n",
    "\n",
    "# Fungsi:\n",
    "    # Menjadi placeholder dalam blok kode yang belum diisi, agar interpreter tidak error.\n",
    "\n",
    "# Kapan dipakai?\n",
    "    # Saat membuat fungsi atau loop, tapi belum mau isi kodenya.\n",
    "    # # Untuk kode \"sementara\" dalam pengembangan (tahapan draft).\n",
    "\n",
    "def proses_data():\n",
    "    pass  # Fungsi belum dibuat\n",
    "\n",
    "for i in range(5):\n",
    "    pass  # Akan diisi nanti\n",
    "\n",
    "# Tanpa pass, Python akan error karena for, def, dan if butuh indentasi/konten.\n"
   ]
  },
  {
   "cell_type": "markdown",
   "id": "e92633ff",
   "metadata": {},
   "source": [
    "# Input\n",
    "Digunakan untuk mengambil input dari pengguna lewat keyboard. Tapi hasil dari input() itu selalu berupa string, tidak peduli apa yang diketik pengguna."
   ]
  },
  {
   "cell_type": "code",
   "execution_count": 4,
   "id": "5bbfca65",
   "metadata": {},
   "outputs": [
    {
     "name": "stdout",
     "output_type": "stream",
     "text": [
      "<class 'str'>\n",
      "4\n"
     ]
    }
   ],
   "source": [
    "x = input(\"Masukkan angka: \")\n",
    "print(type(x))  # <class 'str'>\n",
    "print(x)\n",
    "# Jika kamu ketik 123, hasilnya tetap '123' (string), bukan integer."
   ]
  },
  {
   "cell_type": "code",
   "execution_count": 3,
   "id": "3d7eff72",
   "metadata": {},
   "outputs": [
    {
     "name": "stdout",
     "output_type": "stream",
     "text": [
      "4\n"
     ]
    }
   ],
   "source": [
    "# Mengubah input dari string ke integer int(input()\n",
    "\n",
    "x = int(input(\"Masukkan angka: \"))\n",
    "print(x)  # <class 'str'>"
   ]
  },
  {
   "cell_type": "code",
   "execution_count": 5,
   "id": "ce902805",
   "metadata": {},
   "outputs": [
    {
     "name": "stdout",
     "output_type": "stream",
     "text": [
      "Underweight\n"
     ]
    }
   ],
   "source": [
    "if float(input(\"How many your bmi\")) <18.5 :\n",
    "    print(\"Underweight\")\n",
    "elif float(input(\"How many your bmi\")) > 25 :\n",
    "    print(\"Overweight\")\n",
    "else :\n",
    "    print(\"Normal weight\")"
   ]
  },
  {
   "cell_type": "code",
   "execution_count": null,
   "id": "8c80d97f",
   "metadata": {},
   "outputs": [],
   "source": [
    "colors = ['red','yellow','black','purple','pink']\n",
    "for color in colors:\n",
    "    colors[0:] = 'white'\n",
    "  \n",
    "print(colors)"
   ]
  },
  {
   "cell_type": "code",
   "execution_count": null,
   "id": "11fb063c",
   "metadata": {},
   "outputs": [],
   "source": []
  }
 ],
 "metadata": {
  "kernelspec": {
   "display_name": ".venv (3.12.1)",
   "language": "python",
   "name": "python3"
  },
  "language_info": {
   "codemirror_mode": {
    "name": "ipython",
    "version": 3
   },
   "file_extension": ".py",
   "mimetype": "text/x-python",
   "name": "python",
   "nbconvert_exporter": "python",
   "pygments_lexer": "ipython3",
   "version": "3.12.0"
  }
 },
 "nbformat": 4,
 "nbformat_minor": 5
}
