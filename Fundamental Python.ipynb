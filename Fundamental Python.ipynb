{
 "cells": [
  {
   "cell_type": "code",
   "execution_count": 1,
   "metadata": {},
   "outputs": [
    {
     "name": "stdout",
     "output_type": "stream",
     "text": [
      "Daftar belanja setelah menambahkan roti: ['apple', 'banana', 'milk', 'bread']\n",
      "Daftar belanja setelah menghapus pisang: ['apple', 'milk', 'bread']\n",
      "Item pertama dalam daftar belanja: apple\n",
      "Daftar belanja setelah mengganti item kedua: ['apple', 'orange', 'bread']\n"
     ]
    }
   ],
   "source": [
    "# Membuat daftar belanja awal\n",
    "shopping_list = [\"apple\", \"banana\", \"milk\"]\n",
    "\n",
    "# Menambahkan item baru ke daftar belanja\n",
    "shopping_list.append(\"bread\")\n",
    "print(\"Daftar belanja setelah menambahkan roti:\", shopping_list)\n",
    "\n",
    "# Menghapus item dari daftar belanja\n",
    "shopping_list.remove(\"banana\")\n",
    "print(\"Daftar belanja setelah menghapus pisang:\", shopping_list)\n",
    "\n",
    "# Mengakses item dalam daftar belanja\n",
    "first_item = shopping_list[0]\n",
    "print(\"Item pertama dalam daftar belanja:\", first_item)\n",
    "\n",
    "# Mengganti item dalam daftar belanja\n",
    "shopping_list[1] = \"orange\"\n",
    "print(\"Daftar belanja setelah mengganti item kedua:\", shopping_list)\n"
   ]
  },
  {
   "cell_type": "code",
   "execution_count": 1,
   "metadata": {},
   "outputs": [
    {
     "name": "stdout",
     "output_type": "stream",
     "text": [
      "Koordinat: (40.7128, -74.006)\n",
      "Latitude: 40.7128\n",
      "Longitude: -74.006\n",
      "Koordinat baru setelah menambahkan elemen: (40.7128, -74.006, 50.0)\n"
     ]
    }
   ],
   "source": [
    "# Membuat tuple koordinat\n",
    "coordinates = (40.7128, -74.0060)\n",
    "\n",
    "# Mengakses elemen dalam tuple\n",
    "latitude = coordinates[0]\n",
    "longitude = coordinates[1]\n",
    "print(\"Koordinat:\", coordinates)\n",
    "print(\"Latitude:\", latitude)\n",
    "print(\"Longitude:\", longitude)\n",
    "\n",
    "# Menggunakan tuple dalam operasi\n",
    "new_coordinates = coordinates + (50.0,)\n",
    "print(\"Koordinat baru setelah menambahkan elemen:\", new_coordinates)\n"
   ]
  },
  {
   "cell_type": "code",
   "execution_count": 2,
   "metadata": {},
   "outputs": [
    {
     "name": "stdout",
     "output_type": "stream",
     "text": [
      "Total berat buah: 9.5\n"
     ]
    }
   ],
   "source": [
    "# Daftar berat buah dalam kilogram\n",
    "berat_buah = [1.5, 2.0, 0.5, 3.0, 2.5]\n",
    "\n",
    "# Menggunakan for loop untuk menghitung total berat\n",
    "total_berat = 0\n",
    "for berat in berat_buah:\n",
    "    total_berat += berat\n",
    "\n",
    "print(\"Total berat buah:\", total_berat)\n"
   ]
  },
  {
   "cell_type": "code",
   "execution_count": null,
   "metadata": {},
   "outputs": [],
   "source": []
  }
 ],
 "metadata": {
  "kernelspec": {
   "display_name": "Python 3",
   "language": "python",
   "name": "python3"
  },
  "language_info": {
   "codemirror_mode": {
    "name": "ipython",
    "version": 3
   },
   "file_extension": ".py",
   "mimetype": "text/x-python",
   "name": "python",
   "nbconvert_exporter": "python",
   "pygments_lexer": "ipython3",
   "version": "3.12.1"
  }
 },
 "nbformat": 4,
 "nbformat_minor": 2
}
