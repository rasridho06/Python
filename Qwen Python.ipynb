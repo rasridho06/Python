{
 "cells": [
  {
   "cell_type": "code",
   "execution_count": 6,
   "id": "cdf9e68a",
   "metadata": {},
   "outputs": [
    {
     "name": "stdout",
     "output_type": "stream",
     "text": [
      "username github saya adalah rasridho06 dan email yang terdaftar adalah ridho@gmail.com\n"
     ]
    }
   ],
   "source": [
    "# f string memasukkan variable ke dalam string\n",
    "\n",
    "username = \"rasridho06\"\n",
    "email = \"ridho@gmail.com\"\n",
    "\n",
    "print(f'username github saya adalah {username} dan email yang terdaftar adalah {email}')\n",
    "\n"
   ]
  },
  {
   "cell_type": "code",
   "execution_count": 7,
   "id": "7c289df5",
   "metadata": {},
   "outputs": [],
   "source": [
    "# variabel yang dianggap kosong\n",
    "\n",
    "# string = \"\"\n",
    "# integer = 0\n",
    "# float = 0.0\n",
    "# bool = 0 (false)\n",
    "# List [] \n",
    "# tuple () \n",
    "# dictionary {}\n",
    "# set kosong (), mengapa bukan {} karena akan dianggap dict kosong"
   ]
  },
  {
   "cell_type": "code",
   "execution_count": 8,
   "id": "62334c80",
   "metadata": {},
   "outputs": [
    {
     "name": "stdout",
     "output_type": "stream",
     "text": [
      "True\n",
      "False\n"
     ]
    }
   ],
   "source": [
    "# perbedaan Not dan !=\n",
    "\n",
    "# != (Tidak Sama Dengan)\n",
    "# Digunakan untuk membandingkan dua nilai apakah berbeda.\n",
    "# Hasilnya True jika nilai berbeda, False jika sama.\n",
    "# Biasanya dipakai untuk cek apakah data tidak sesuai dengan nilai tertentu.\n",
    "\n",
    "x = 2\n",
    "y = 4\n",
    "\n",
    "print(x != y) # output True karena tujuannya membandingkan apakah kedua variable nilainya berbeda, jika berbeda maka True, jika sama False\n",
    "print(x == y) # nilai x dan y tidak sama maka dari itu outputnya False karena membandingkan dengan sama dengan"
   ]
  },
  {
   "cell_type": "code",
   "execution_count": 15,
   "id": "c4a0152b",
   "metadata": {},
   "outputs": [
    {
     "name": "stdout",
     "output_type": "stream",
     "text": [
      "Saya sudah dewasa karena umur saya sudah lebih dari 30 tahun\n"
     ]
    }
   ],
   "source": [
    "# Struktur Kontrol\n",
    "\n",
    "# if, else, elif (percabangan)\n",
    "# for, while (perulangan)\n",
    "# break, continue, pass (pengendali alur)\n",
    "# Semua itu menentukan bagaimana program berjalan: apakah harus mengambil keputusan, mengulang sesuatu, atau berhenti. Ini adalah dasar dari logika berpikir dalam pemrograman.\n",
    "\n",
    "# 🔑 Tanpa struktur kontrol, program hanya akan menjalankan baris kode secara linear (dari atas ke bawah). Ini berarti:\n",
    "\n",
    "# Kamu tidak bisa membuat keputusan berdasarkan kondisi tertentu.\n",
    "# Kamu tidak bisa mengulang proses tanpa menulis kode secara manual berkali-kali.\n",
    "\n",
    "# contoh\n",
    "umur = 31\n",
    "\n",
    "if umur > 30:\n",
    "    print(f'Saya sudah dewasa karena umur saya sudah lebih dari {30} tahun')\n",
    "elif umur > 20:\n",
    "    print('saya baru lulus kuliah')\n",
    "else :\n",
    "    print('saya masih remaja')\n",
    "\n",
    "# if adalah kondisi pertama yang dicek.\n",
    "# elif (else if) adalah kondisi alternatif.\n",
    "# else akan dijalankan jika semua kondisi sebelumnya salah.\n"
   ]
  },
  {
   "cell_type": "code",
   "execution_count": null,
   "id": "c5a41a1e",
   "metadata": {},
   "outputs": [
    {
     "name": "stdout",
     "output_type": "stream",
     "text": [
      "saya suka buah apel\n",
      "saya suka buah jeruk\n",
      "saya suka buah pisang\n"
     ]
    }
   ],
   "source": [
    "# perulangan if\n",
    "\n",
    "buah = ['apel', 'jeruk', 'pisang']\n",
    "\n",
    "for item in buah:\n",
    "    print(f\"saya suka buah {item}\")\n",
    "\n",
    "# Definisi : Digunakan untuk mengulang kode sebanyak jumlah elemen dalam sebuah koleksi (seperti list, tuple, dictionary, range, dll.).\n",
    "# # Ciri Khas : Jumlah iterasi sudah ditentukan sejak awal.\n",
    "# Karena kita tahu persis ada 3 element dalam dataset, kita bisa menggunakan for untuk memproses setiap elemen dalam list.\n",
    "# Kegunaan Utama : Ketika kamu tahu persis berapa kali kode harus diulang atau ketika kamu ingin memproses setiap elemen dalam sebuah koleksi.\n",
    "# Loop ini akan berjalan sebanyak jumlah elemen dalam daftar_produk (yaitu 3 kali).\n",
    "# Tidak perlu menentukan kondisi secara eksplisit karena iterasi didasarkan pada koleksi.\n",
    "\n",
    "# buah adalah list: ['apel', 'jeruk', 'pisang']\n",
    "# item adalah nama variabel sementara yang kamu tentukan sendiri (bisa juga kamu tulis for x in buah, atau for buah_satuan in buah)\n",
    "\n",
    "# Python akan:\n",
    "# Mengambil elemen pertama dari buah, simpan di item\n",
    "# Jalankan kode di dalam loop\n",
    "# Ulangi untuk elemen berikutnya sampai habis"
   ]
  },
  {
   "cell_type": "code",
   "execution_count": 49,
   "id": "8803064b",
   "metadata": {},
   "outputs": [
    {
     "name": "stdout",
     "output_type": "stream",
     "text": [
      "2\n",
      "3\n",
      "4\n",
      "5\n",
      "6\n",
      "7\n",
      "8\n",
      "9\n"
     ]
    }
   ],
   "source": [
    "# perulangan while loop\n",
    "\n",
    "# while akan terus mengulang selama kondisinya benar (True). Kalau sudah jadi False, dia berhenti.\n",
    "# Nilai / Kondisi\t                                    Diperlakukan sebagai\n",
    "# True, angka ≠ 0, list non-kosong, string non-kosong\tTrue\n",
    "# False, 0, '', [], None\t                            False\n",
    "\n",
    "i = 2\n",
    "\n",
    "while i < 10 :\n",
    "    print(i)\n",
    "    i += 1\n",
    "\n",
    "# i = 2: kita mulai dari angka 2\n",
    "# while i < 10: artinya selama i kurang dari 10, jalankan terus\n",
    "# i += 1: artinya i ditambah 1 setiap kali loop selesai\n",
    "# Tanpa i += 1, nilai i akan tetap 1 terus, dan loop akan berjalan selamanya (infinite loop).\n",
    "# output akan berhenti di 9 karena operator logikanya kurang dari bukan kurang dari sama dengan\n",
    "\n",
    "# Notasi\tSama dengan\t    Arti\n",
    "# i += 1\ti = i + 1\t    Tambahkan 1 ke i\n",
    "# i -= 1\ti = i - 1\t    Kurangi 1 dari i\n",
    "# i *= 2\ti = i * 2\t    Kalikan i dengan 2\n",
    "# i /= 2\ti = i / 2\t    Bagi i dengan 2 (hasilnya float)\n",
    "# i //= 2\ti = i // 2\t    Bagi i dengan 2 (hasilnya dibulatkan ke bawah)\n",
    "\n",
    "# Kasus False Sejak Awal\n",
    "i = 10\n",
    "while i < 5:\n",
    "    print(\"Ini tidak akan muncul\")\n"
   ]
  },
  {
   "cell_type": "code",
   "execution_count": null,
   "id": "0cf9ae8c",
   "metadata": {},
   "outputs": [
    {
     "name": "stdout",
     "output_type": "stream",
     "text": [
      "coba terus\n",
      "coba terus\n",
      "coba terus\n",
      "coba terus\n",
      "coba terus\n",
      "coba lagi\n",
      "coba lagi\n",
      "coba lagi\n",
      "coba lagi\n",
      "coba lagi\n",
      "coba lagi\n",
      "coba lagi\n",
      "coba lagi\n",
      "coba lagi\n",
      "coba lagi\n",
      "reset password\n",
      "coba lagi\n",
      "coba lagi\n",
      "coba lagi\n",
      "coba lagi\n",
      "coba lagi\n",
      "coba lagi\n",
      "coba lagi\n",
      "coba lagi\n",
      "coba lagi\n",
      "reset password\n"
     ]
    }
   ],
   "source": [
    "# test 1\n",
    "percobaan_login = 1\n",
    "\n",
    "while percobaan_login <= 5 :\n",
    "         print(\"coba terus\")\n",
    "         percobaan_login += 1\n",
    "\n",
    "#test 2\n",
    "attempt = 1\n",
    "max_attempt = 10\n",
    "\n",
    "while attempt <= max_attempt : # ulangi attempt sampai kurang dari sama dengan 10\n",
    "    print(\"coba lagi\")\n",
    "    if attempt == max_attempt :\n",
    "        print(\"reset password\")\n",
    "    attempt += 1\n",
    "\n",
    "#test 3\n",
    "attempt = 1\n",
    "max_attempt = 10\n",
    "\n",
    "while attempt <= max_attempt:\n",
    "    if attempt == max_attempt:\n",
    "        print(\"reset password\")\n",
    "    else:\n",
    "        print(\"coba lagi\")\n",
    "    attempt += 1\n",
    "\n",
    "# perbedaan test 2 dan 3 adalah jika test 2 if digunakan setelah iterasi while selesai\n",
    "# test 3, if digunakan setelah iterasi while dengan maksud jika attempt = max_attempt maka output reset passwor, jika masih kurang dari < 10 maka coba lagi\n",
    "# test 2 juga while akan berulang selama 10x, baru baris ke 11 reset password\n",
    "# test 3 while hanya berulang 9x, baru yg 10 reset password\n",
    "# mengapa menggunakan operator perbandingan <= bukan < ? karena jika < while akan berhenti di 9, jika <= while akan berhenti di 10 namun jika sudah 10 akan berubah outputnya menjadi reset\n",
    "\n",
    "# Kasus False Sejak Awal\n",
    "\n",
    "i = 10\n",
    "while i < 5:\n",
    "    print(\"Ini tidak akan muncul\")\n",
    "\n",
    "# i = 10, dan 10 < 5 adalah False.\n",
    "# Karena kondisi langsung False, maka kode di dalam while tidak dijalankan sama sekali.\n",
    "\n"
   ]
  },
  {
   "cell_type": "code",
   "execution_count": 50,
   "id": "8388ae14",
   "metadata": {},
   "outputs": [],
   "source": [
    "i = 10\n",
    "while i < 5:\n",
    "    print(\"Ini tidak akan muncul\")\n"
   ]
  },
  {
   "cell_type": "code",
   "execution_count": null,
   "id": "d18cc166",
   "metadata": {},
   "outputs": [],
   "source": []
  }
 ],
 "metadata": {
  "kernelspec": {
   "display_name": ".venv",
   "language": "python",
   "name": "python3"
  },
  "language_info": {
   "codemirror_mode": {
    "name": "ipython",
    "version": 3
   },
   "file_extension": ".py",
   "mimetype": "text/x-python",
   "name": "python",
   "nbconvert_exporter": "python",
   "pygments_lexer": "ipython3",
   "version": "3.12.0"
  }
 },
 "nbformat": 4,
 "nbformat_minor": 5
}
