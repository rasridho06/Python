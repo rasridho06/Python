{
 "cells": [
  {
   "cell_type": "code",
   "execution_count": 6,
   "id": "cdf9e68a",
   "metadata": {},
   "outputs": [
    {
     "name": "stdout",
     "output_type": "stream",
     "text": [
      "username github saya adalah rasridho06 dan email yang terdaftar adalah ridho@gmail.com\n"
     ]
    }
   ],
   "source": [
    "# f string memasukkan variable ke dalam string\n",
    "\n",
    "username = \"rasridho06\"\n",
    "email = \"ridho@gmail.com\"\n",
    "\n",
    "print(f'username github saya adalah {username} dan email yang terdaftar adalah {email}')\n",
    "\n"
   ]
  },
  {
   "cell_type": "code",
   "execution_count": 7,
   "id": "7c289df5",
   "metadata": {},
   "outputs": [],
   "source": [
    "# variabel yang dianggap kosong\n",
    "\n",
    "# string = \"\"\n",
    "# integer = 0\n",
    "# float = 0.0\n",
    "# bool = 0 (false)\n",
    "# List [] \n",
    "# tuple () \n",
    "# dictionary {}\n",
    "# set kosong (), mengapa bukan {} karena akan dianggap dict kosong"
   ]
  },
  {
   "cell_type": "code",
   "execution_count": 8,
   "id": "62334c80",
   "metadata": {},
   "outputs": [
    {
     "name": "stdout",
     "output_type": "stream",
     "text": [
      "True\n",
      "False\n"
     ]
    }
   ],
   "source": [
    "# perbedaan Not dan !=\n",
    "\n",
    "# != (Tidak Sama Dengan)\n",
    "# Digunakan untuk membandingkan dua nilai apakah berbeda.\n",
    "# Hasilnya True jika nilai berbeda, False jika sama.\n",
    "# Biasanya dipakai untuk cek apakah data tidak sesuai dengan nilai tertentu.\n",
    "\n",
    "x = 2\n",
    "y = 4\n",
    "\n",
    "print(x != y) # output True karena tujuannya membandingkan apakah kedua variable nilainya berbeda, jika berbeda maka True, jika sama False\n",
    "print(x == y) # nilai x dan y tidak sama maka dari itu outputnya False karena membandingkan dengan sama dengan"
   ]
  },
  {
   "cell_type": "code",
   "execution_count": 15,
   "id": "c4a0152b",
   "metadata": {},
   "outputs": [
    {
     "name": "stdout",
     "output_type": "stream",
     "text": [
      "Saya sudah dewasa karena umur saya sudah lebih dari 30 tahun\n"
     ]
    }
   ],
   "source": [
    "# Struktur Kontrol\n",
    "\n",
    "# if, else, elif (percabangan)\n",
    "# for, while (perulangan)\n",
    "# break, continue, pass (pengendali alur)\n",
    "# Semua itu menentukan bagaimana program berjalan: apakah harus mengambil keputusan, mengulang sesuatu, atau berhenti. Ini adalah dasar dari logika berpikir dalam pemrograman.\n",
    "\n",
    "# 🔑 Tanpa struktur kontrol, program hanya akan menjalankan baris kode secara linear (dari atas ke bawah). Ini berarti:\n",
    "\n",
    "# Kamu tidak bisa membuat keputusan berdasarkan kondisi tertentu.\n",
    "# Kamu tidak bisa mengulang proses tanpa menulis kode secara manual berkali-kali.\n",
    "\n",
    "# contoh\n",
    "umur = 31\n",
    "\n",
    "if umur > 30:\n",
    "    print(f'Saya sudah dewasa karena umur saya sudah lebih dari {30} tahun')\n",
    "elif umur > 20:\n",
    "    print('saya baru lulus kuliah')\n",
    "else :\n",
    "    print('saya masih remaja')\n",
    "\n",
    "# if adalah kondisi pertama yang dicek.\n",
    "# elif (else if) adalah kondisi alternatif.\n",
    "# else akan dijalankan jika semua kondisi sebelumnya salah.\n"
   ]
  },
  {
   "cell_type": "code",
   "execution_count": null,
   "id": "c5a41a1e",
   "metadata": {},
   "outputs": [
    {
     "name": "stdout",
     "output_type": "stream",
     "text": [
      "saya suka buah apel\n",
      "saya suka buah jeruk\n",
      "saya suka buah pisang\n"
     ]
    }
   ],
   "source": [
    "# perulangan (if dan while)\n",
    "\n",
    "buah = ['apel', 'jeruk', 'pisang']\n",
    "\n",
    "for item in buah:\n",
    "    print(f\"saya suka buah {item}\")\n",
    "\n",
    "# Definisi : Digunakan untuk mengulang kode sebanyak jumlah elemen dalam sebuah koleksi (seperti list, tuple, dictionary, range, dll.).\n",
    "# # Ciri Khas : Jumlah iterasi sudah ditentukan sejak awal.\n",
    "# Karena kita tahu persis ada 3 element dalam dataset, kita bisa menggunakan for untuk memproses setiap elemen dalam list.\n",
    "# Kegunaan Utama : Ketika kamu tahu persis berapa kali kode harus diulang atau ketika kamu ingin memproses setiap elemen dalam sebuah koleksi.\n",
    "# Loop ini akan berjalan sebanyak jumlah elemen dalam daftar_produk (yaitu 3 kali).\n",
    "# Tidak perlu menentukan kondisi secara eksplisit karena iterasi didasarkan pada koleksi.\n",
    "\n",
    "# buah adalah list: ['apel', 'jeruk', 'pisang']\n",
    "# item adalah nama variabel sementara yang kamu tentukan sendiri (bisa juga kamu tulis for x in buah, atau for buah_satuan in buah)\n",
    "\n",
    "# Python akan:\n",
    "# Mengambil elemen pertama dari buah, simpan di item\n",
    "# Jalankan kode di dalam loop\n",
    "# Ulangi untuk elemen berikutnya sampai habis"
   ]
  },
  {
   "cell_type": "markdown",
   "id": "c6415633",
   "metadata": {},
   "source": []
  }
 ],
 "metadata": {
  "kernelspec": {
   "display_name": ".venv",
   "language": "python",
   "name": "python3"
  },
  "language_info": {
   "codemirror_mode": {
    "name": "ipython",
    "version": 3
   },
   "file_extension": ".py",
   "mimetype": "text/x-python",
   "name": "python",
   "nbconvert_exporter": "python",
   "pygments_lexer": "ipython3",
   "version": "3.12.0"
  }
 },
 "nbformat": 4,
 "nbformat_minor": 5
}
