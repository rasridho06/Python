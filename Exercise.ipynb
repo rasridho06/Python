{
  "cells": [
    {
      "cell_type": "markdown",
      "metadata": {
        "id": "DBgrIPizEXr-"
      },
      "source": [
        "# Hands On - Live Coding Class : Python\n",
        "## *Data Engineer Batch 11*\n",
        "#### Made by **Mario Caesar** (https://linktr.ee/caesarmario_)"
      ]
    },
    {
      "cell_type": "code",
      "execution_count": null,
      "metadata": {
        "id": "xm0qwq0s4vg1"
      },
      "outputs": [],
      "source": [
        "if a == 0:\n",
        "  print(\"something\")\n",
        "else:"
      ]
    },
    {
      "cell_type": "markdown",
      "metadata": {
        "id": "7wI84dcfEaDa"
      },
      "source": [
        "# Live Coding Exercise"
      ]
    },
    {
      "cell_type": "markdown",
      "metadata": {
        "id": "IOGN589lFc4D"
      },
      "source": [
        "## 1. Log Transaksi: Total Belanja per User\n",
        "**Topik**: Data Types & Structures (string, list, dict), looping\n",
        "\n",
        "### Cerita\n",
        "Kamu diberi log transaksi dalam bentuk list of strings dengan format: `user,produk,harga`. Hitung **total belanja per user** dan tentukan **top spender**.\n",
        "\n",
        "### Contoh Input\n",
        "```py\n",
        "logs = [\n",
        "    \"ana,book,120.5\",\n",
        "    \"budi,pen,10\",\n",
        "    \"ana,bag,250\",\n",
        "    \"cici,book,120.5\",\n",
        "    \"budi,notebook,35.5\",\n",
        "]\n",
        "```\n",
        "\n",
        "### Contoh Output\n",
        "```py\n",
        "# dict total\n",
        "{'ana': 370.5, 'budi': 45.5, 'cici': 120.5}\n",
        "\n",
        "# top spender\n",
        "('ana', 370.5)\n",
        "```\n",
        "\n",
        "### Hint\n",
        "- `str.split(',')` untuk parsing\n",
        "- `float()` untuk harga\n",
        "- `dict.get(k, 0)` untuk akumulasi\n"
      ]
    },
    {
      "cell_type": "code",
      "execution_count": 1,
      "metadata": {
        "colab": {
          "base_uri": "https://localhost:8080/"
        },
        "id": "x50Sc9KILdcb",
        "outputId": "42f9065f-0efe-45ee-a804-2ea1a3acf413"
      },
      "outputs": [
        {
          "ename": "SyntaxError",
          "evalue": "invalid syntax (4073604641.py, line 17)",
          "output_type": "error",
          "traceback": [
            "  \u001b[36mCell\u001b[39m\u001b[36m \u001b[39m\u001b[32mIn[1]\u001b[39m\u001b[32m, line 17\u001b[39m\n\u001b[31m    \u001b[39m\u001b[31mtotal_per_user[user] =\u001b[39m\n                          ^\n\u001b[31mSyntaxError\u001b[39m\u001b[31m:\u001b[39m invalid syntax\n"
          ]
        }
      ],
      "source": [
        "logs = [\n",
        "    \"ana,book,120.5\",\n",
        "    \"budi,pen,10\",\n",
        "    \"ana,bag,250\",\n",
        "    \"cici,book,120.5\",\n",
        "    \"budi,notebook,35.5\",\n",
        "]\n",
        "\n",
        "## Jawaban disini ##\n",
        "\n",
        "total_per_user = {}\n",
        "for i in logs :\n",
        "  # print(i.split(','))\n",
        "  user, product, price = i.split(',')\n",
        "  print(user, product, price)\n",
        "  float(price)\n",
        "  total_per_user[user] ="
      ]
    },
    {
      "cell_type": "markdown",
      "metadata": {
        "id": "6yDKvOeaL2PK"
      },
      "source": [
        "## 2. Pandas: Ringkas Penjualan per Kategori & Filter Tanggal\n",
        "Topik: DataFrame & Looping (pandas groupby, filter, sort)\n",
        "\n",
        "### Cerita\n",
        "Kamu punya data order e-commerce. Buat ringkasan **revenue per kategori** untuk bulan **2025-06** saja, urutkan dari revenue terbesar.\n",
        "\n",
        "### Contoh Input\n",
        "```py\n",
        "import pandas as pd\n",
        "\n",
        "df = pd.DataFrame({\n",
        "    \"order_id\": [1,2,3,4,5,6],\n",
        "    \"order_date\": pd.to_datetime([\n",
        "        \"2025-06-01\",\"2025-06-10\",\"2025-05-30\",\n",
        "        \"2025-06-21\",\"2025-06-25\",\"2025-07-01\"\n",
        "    ]),\n",
        "    \"category\": [\"book\",\"stationery\",\"book\",\"bag\",\"book\",\"bag\"],\n",
        "    \"qty\": [1,2,3,1,2,1],\n",
        "    \"price\": [120.5,10.0,120.5,250.0,120.5,250.0]\n",
        "})\n",
        "```\n",
        "\n",
        "### Contoh Output\n",
        "```\n",
        "   category  revenue\n",
        "0      book    481.5\n",
        "1       bag    250.0\n",
        "2 stationery     20.0\n",
        "```\n",
        "\n",
        "### Hint\n",
        "- Filter bulan: `df[df['order_date'].dt.month == 6]` dan `dt.year == 2025`\n",
        "- Revenue = `qty * price`\n",
        "- `groupby('category')['revenue'].sum().reset_index()`\n",
        "- `sort_values('revenue', ascending=False)`\n"
      ]
    },
    {
      "cell_type": "code",
      "execution_count": null,
      "metadata": {
        "colab": {
          "base_uri": "https://localhost:8080/"
        },
        "id": "GBg5bdjFMpUR",
        "outputId": "5066e986-483a-42ba-9f45-c0649bbaeff8"
      },
      "outputs": [
        {
          "name": "stdout",
          "output_type": "stream",
          "text": [
            "   order_id order_date    category  qty  price  120.5  20.0  361.5  250.0  \\\n",
            "0         1 2025-06-01        book    1  120.5  120.5  20.0  361.5  250.0   \n",
            "1         2 2025-06-10  stationery    2   10.0  120.5  20.0  361.5  250.0   \n",
            "2         3 2025-05-30        book    3  120.5  120.5  20.0  361.5  250.0   \n",
            "3         4 2025-06-21         bag    1  250.0  120.5  20.0  361.5  250.0   \n",
            "4         5 2025-06-25        book    2  120.5  120.5  20.0  361.5  250.0   \n",
            "5         6 2025-07-01         bag    1  250.0  120.5  20.0  361.5  250.0   \n",
            "\n",
            "   241.0  \n",
            "0  241.0  \n",
            "1  241.0  \n",
            "2  241.0  \n",
            "3  241.0  \n",
            "4  241.0  \n",
            "5  241.0  \n"
          ]
        }
      ],
      "source": [
        "import pandas as pd\n",
        "\n",
        "df = pd.DataFrame({\n",
        "    \"order_id\": [1,2,3,4,5,6],\n",
        "    \"order_date\": pd.to_datetime([\n",
        "        \"2025-06-01\",\"2025-06-10\",\"2025-05-30\",\n",
        "        \"2025-06-21\",\"2025-06-25\",\"2025-07-01\"\n",
        "    ]),\n",
        "    \"category\": [\"book\",\"stationery\",\"book\",\"bag\",\"book\",\"bag\"],\n",
        "    \"qty\": [1,2,3,1,2,1],\n",
        "    \"price\": [120.5,10.0,120.5,250.0,120.5,250.0]\n",
        "})\n",
        "\n",
        "## Jawaban disini ##\n",
        "juni = df[df['order_date'].dt.month == 6]\n",
        "juni.head()\n",
        "revenue = df['qty']*df['price']\n",
        "# print(revenue)\n",
        "df[revenue] = revenue\n",
        "print(df)"
      ]
    },
    {
      "cell_type": "markdown",
      "metadata": {
        "id": "Yh7vK_OUMttW"
      },
      "source": [
        "## 3. Diskon Dinamis per Kategori (Function + Lambda)\n",
        "Topik: Function, Lambda, map/filter, list/dict\n",
        "\n",
        "### Cerita\n",
        "Buat fungsi `apply_discounts(items, rules)` yang menerima:\n",
        "- `items`: list of dict seperti `{\"sku\": \"A1\", \"category\": \"book\", \"price\": 100}`\n",
        "- `rules`: dict mapping kategori → **lambda** yang mengembalikan **persentase diskon (0–1)** atau nilai diskon.\n",
        "\n",
        "Hitung **harga setelah diskon** per item, dan **total penghematan**.\n",
        "\n",
        "### Contoh Input\n",
        "```py\n",
        "items = [\n",
        "    {\"sku\": \"B001\", \"category\": \"book\", \"price\": 120.0},\n",
        "    {\"sku\": \"S010\", \"category\": \"stationery\", \"price\": 20.0},\n",
        "    {\"sku\": \"B002\", \"category\": \"book\", \"price\": 150.0},\n",
        "    {\"sku\": \"BAG1\", \"category\": \"bag\", \"price\": 250.0},\n",
        "]\n",
        "\n",
        "# diskon: book 10%, stationery 20% jika price < 25, bag diskon flat 30\n",
        "rules = {\n",
        "    \"book\":       lambda item: 0.10 * item[\"price\"],\n",
        "    \"stationery\": lambda item: 0.20 * item[\"price\"] if item[\"price\"] < 25 else 0.0,\n",
        "    \"bag\":        lambda item: 30.0\n",
        "}\n",
        "```\n",
        "\n",
        "### Contoh Output\n",
        "```\n",
        "[\n",
        " {'sku': 'B001', 'category': 'book', 'price': 120.0, 'discount': 12.0, 'final_price': 108.0},\n",
        " {'sku': 'S010', 'category': 'stationery', 'price': 20.0,  'discount': 4.0,  'final_price': 16.0},\n",
        " {'sku': 'B002', 'category': 'book', 'price': 150.0, 'discount': 15.0, 'final_price': 135.0},\n",
        " {'sku': 'BAG1', 'category': 'bag', 'price': 250.0, 'discount': 30.0, 'final_price': 220.0}\n",
        "]\n",
        "total_saving = 61.0\n",
        "```\n",
        "\n",
        "### Hint\n",
        "- Gunakan `rules.get(item['category'], default_lambda)`\n",
        "- `map` atau list comprehension\n",
        "- Hindari mutate input, buat dict baru per item (`{**item, 'discount': ..., 'final_price': ...}`)\n"
      ]
    },
    {
      "cell_type": "code",
      "execution_count": null,
      "metadata": {
        "id": "gIQ5MaF1Opm_"
      },
      "outputs": [],
      "source": [
        "items = [\n",
        "    {\"sku\": \"B001\", \"category\": \"book\", \"price\": 120.0},\n",
        "    {\"sku\": \"S010\", \"category\": \"stationery\", \"price\": 20.0},\n",
        "    {\"sku\": \"B002\", \"category\": \"book\", \"price\": 150.0},\n",
        "    {\"sku\": \"BAG1\", \"category\": \"bag\", \"price\": 250.0},\n",
        "]\n",
        "\n",
        "rules = {\n",
        "    \"book\":       lambda item: 0.10 * item[\"price\"],\n",
        "    \"stationery\": lambda item: 0.20 * item[\"price\"] if item[\"price\"] < 25 else 0.0,\n",
        "    \"bag\":        lambda item: 30.0\n",
        "}\n",
        "\n",
        "def apply_discounts(items, rules):\n",
        "    ## Jawaban disini ##\n",
        "\n",
        "\n",
        "\n",
        "out, total_saving = apply_discounts(items, rules)\n",
        "print(out)\n",
        "print(\"total_saving =\", total_saving)"
      ]
    },
    {
      "cell_type": "markdown",
      "metadata": {
        "id": "5_dHZlmWO6_R"
      },
      "source": [
        "## 4. Normalisasi Email & Hitung Pengguna Unik per Domain\n",
        "Topik: String parsing, set, dict\n",
        "\n",
        "### Cerita\n",
        "Tim growth ingin menghitung jumlah pengguna unik berdasarkan **domain email**. Untuk Gmail, aturan uniknya khusus:\n",
        "- **Gmail mengabaikan titik (.)** pada bagian lokal (sebelum @)\n",
        "- **Bagian setelah tanda plus (+)** diabaikan (mis. ana+promo@gmail.com → ana@gmail.com).\n",
        "- Untuk domain lain (yahoo, company, dll) **pakai apa adanya**.\n",
        "\n",
        "Buat fungsi yang:\n",
        "- Menormalisasi alamat email\n",
        "- Menghitung **jumlah pengguna unik per domain**\n",
        "\n",
        "### Contoh Input\n",
        "```py\n",
        "emails = [\n",
        "    \"ana.smith+promo@gmail.com\",\n",
        "    \"anasmith@gmail.com\",\n",
        "    \"budi@yahoo.com\",\n",
        "    \"b.u.d.i@yahoo.com\",\n",
        "    \"ops+test@company.com\",\n",
        "    \"ops@company.com\",\n",
        "]\n",
        "```\n",
        "\n",
        "### Contoh Output\n",
        "```\n",
        "{\n",
        "  'gmail.com': 1,       # 'ana.smith+promo' & 'anasmith' -> 'anasmith@gmail.com'\n",
        "  'yahoo.com': 2,       # yahoo tidak pakai aturan gmail\n",
        "  'company.com': 1      # 'ops+test' dan 'ops' dianggap sama? -> beda domain non-gmail => sama2 dihitung unik apa adanya\n",
        "}\n",
        "```\n",
        "*) Catatan: Untuk non-gmail, abaikan aturan plus/dot → alamat dianggap apa adanya, sehingga ops+test@company.com dan ops@company.com adalah dua akun berbeda.\n",
        "\n",
        "### Hint\n",
        "- `email.split('@')`\n",
        "- Untuk gmail: buang substring setelah `'+'` dan hapus `'.'` pada local-part\n",
        "- Gunakan `set` untuk simpan alamat ter-normalisasi\n",
        "- Hitung per domain dengan `dict`\n"
      ]
    },
    {
      "cell_type": "code",
      "execution_count": null,
      "metadata": {
        "id": "6nqKXKanO_9n"
      },
      "outputs": [],
      "source": [
        "def normalize_emails(emails):\n",
        "    ## Jawaban disini ##\n",
        "\n",
        "# Test\n",
        "emails = [\n",
        "    \"ana.smith+promo@gmail.com\",\n",
        "    \"anasmith@gmail.com\",\n",
        "    \"budi@yahoo.com\",\n",
        "    \"b.u.d.i@yahoo.com\",\n",
        "    \"ops+test@company.com\",\n",
        "    \"ops@company.com\",\n",
        "]\n",
        "\n",
        "print(normalize_emails(emails))"
      ]
    },
    {
      "cell_type": "markdown",
      "metadata": {
        "id": "YxxpVfRCFXng"
      },
      "source": [
        "## 5. Join Data Pelanggan & Order: Revenue per Country (Q1 2025)\n",
        "Topik: DataFrame merge, filter waktu, groupby, missing values\n",
        "\n",
        "### Cerita\n",
        "Ada dua tabel:\n",
        "- **customers**: `customer_id, country`\n",
        "- **orders**: `order_id, customer_id, order_date, amount`\n",
        "Hitung total revenue per country untuk Q1 2025 (`Jan–Mar 2025`).\n",
        "Tampilkan semua negara meskipun tidak ada order (revenue = 0).\n",
        "\n",
        "### Contoh Input\n",
        "```py\n",
        "import pandas as pd\n",
        "\n",
        "customers = pd.DataFrame({\n",
        "    \"customer_id\": [1,2,3,4],\n",
        "    \"country\": [\"ID\", \"SG\", \"ID\", \"MY\"]\n",
        "})\n",
        "\n",
        "orders = pd.DataFrame({\n",
        "    \"order_id\":   [10,11,12,13,14,15],\n",
        "    \"customer_id\":[1,2,1,3,2,2],\n",
        "    \"order_date\": pd.to_datetime([\n",
        "        \"2025-01-05\",\"2025-02-10\",\"2024-12-30\",\n",
        "        \"2025-03-21\",\"2025-04-01\",\"2025-01-20\"\n",
        "    ]),\n",
        "    \"amount\":     [100,200,50,300,400,150]\n",
        "})\n",
        "```\n",
        "\n",
        "### Contoh Output\n",
        "```\n",
        "  country  revenue\n",
        "0      ID      400   # cust 1 (100) + cust 3 (300)\n",
        "1      MY        0\n",
        "2      SG      350   # cust 2 (200 + 150)\n",
        "```\n",
        "\n",
        "### Hint\n",
        "- `pd.merge(customers, orders, on='customer_id', how='left')`\n",
        "- Filter `order_date` di Q1 2025 (month in [1,2,3] & year = 2025)\n",
        "- `fillna(0)` pada `amount`\n",
        "- `groupby('country')['amount'].sum()`\n",
        "- `sort_values('country')` (opsional)\n"
      ]
    },
    {
      "cell_type": "code",
      "execution_count": null,
      "metadata": {
        "id": "FWlU8MGhFcGG"
      },
      "outputs": [],
      "source": [
        "import pandas as pd\n",
        "\n",
        "customers = pd.DataFrame({\n",
        "    \"customer_id\": [1,2,3,4],\n",
        "    \"country\": [\"ID\", \"SG\", \"ID\", \"MY\"]\n",
        "})\n",
        "\n",
        "orders = pd.DataFrame({\n",
        "    \"order_id\":   [10,11,12,13,14,15],\n",
        "    \"customer_id\":[1,2,1,3,2,2],\n",
        "    \"order_date\": pd.to_datetime([\n",
        "        \"2025-01-05\",\"2025-02-10\",\"2024-12-30\",\n",
        "        \"2025-03-21\",\"2025-04-01\",\"2025-01-20\"\n",
        "    ]),\n",
        "    \"amount\":     [100,200,50,300,400,150]\n",
        "})\n",
        "\n",
        "## Jawaban disini ##"
      ]
    },
    {
      "cell_type": "markdown",
      "metadata": {
        "id": "0MKfKbgcGUBW"
      },
      "source": [
        "## 6. OOP Basic: Kelas BankAccount\n",
        "Topik: OOP dasar (class, atribut, method), validasi sederhana, list/looping\n",
        "\n",
        "### Cerita\n",
        "Buat class `BankAccount` yang mendukung:\n",
        "- `deposit(amount)` menambah saldo\n",
        "- `withdraw(amount)` mengurangi saldo (tidak boleh minus)\n",
        "- `history(n=5)` menampilkan **n transaksi terakhir** (deposit/withdraw)\n",
        "- `balance` properti untuk melihat saldo saat ini\n",
        "Kemudian, dari daftar transaksi (list of dict), proses semua dan tampilkan **saldo akhir** serta **2 transaksi terakhir**.\n",
        "\n",
        "### Contoh Input\n",
        "```py\n",
        "txs = [\n",
        "    {\"type\": \"deposit\", \"amount\": 500},\n",
        "    {\"type\": \"withdraw\", \"amount\": 120},\n",
        "    {\"type\": \"deposit\", \"amount\": 200},\n",
        "    {\"type\": \"withdraw\", \"amount\": 700},   # gagal (saldo tidak cukup)\n",
        "    {\"type\": \"withdraw\", \"amount\": 100},\n",
        "]\n",
        "```\n",
        "\n",
        "### Contoh Output\n",
        "```py\n",
        "Saldo akhir: 480\n",
        "Last 2 tx: [{'type': 'withdraw', 'amount': 100}, {'type': 'deposit', 'amount': 200}]\n",
        "```\n",
        "*(Catatan urutan last 2 bisa dibalik tergantung implementasi; yang penting 2 transaksi terakhir yang berhasil.)*\n",
        "\n",
        "\n",
        "### Hint\n",
        "- Simpan `self._balance` dan `self._tx_log` (list)\n",
        "- Validasi nominal `amount > 0`\n",
        "- Jika withdraw melebihi saldo → tolak & jangan log sebagai sukses\n",
        "- Bisa pakai `deque` (opsional), tapi list biasa cukup\n"
      ]
    },
    {
      "cell_type": "code",
      "execution_count": null,
      "metadata": {
        "id": "L24MUqkgGXR1"
      },
      "outputs": [],
      "source": [
        "# Data Transaksi\n",
        "txs = [\n",
        "    {\"type\": \"deposit\", \"amount\": 500},\n",
        "    {\"type\": \"withdraw\", \"amount\": 120},\n",
        "    {\"type\": \"deposit\", \"amount\": 200},\n",
        "    {\"type\": \"withdraw\", \"amount\": 700},   # gagal\n",
        "    {\"type\": \"withdraw\", \"amount\": 100},\n",
        "]\n",
        "\n",
        "class BankAccount:\n",
        "    ## Jawaban disini ##"
      ]
    },
    {
      "cell_type": "markdown",
      "metadata": {
        "id": "Qsam-K6cHoIq"
      },
      "source": [
        "## 7. Streaming Log dengan Generator (hemat memori)\n",
        "Topik: Generator (yield), parsing string, perhitungan agregat\n",
        "\n",
        "### Cerita\n",
        "Kamu menerima file log yang sangat besar. Hitung berapa banyak baris `INFO`, `WARN`, dan `ERROR` **tanpa memuat seluruh data ke memori**. Gunakan **generator** agar baris diproses satu per satu.\n",
        "\n",
        "### Contoh Input\n",
        "```py\n",
        "logs = [\n",
        "    \"2025-08-10 10:00:01 INFO User login\",\n",
        "    \"2025-08-10 10:00:02 ERROR DB timeout\",\n",
        "    \"2025-08-10 10:00:03 INFO Page view\",\n",
        "    \"2025-08-10 10:00:04 WARN Slow query\",\n",
        "    \"2025-08-10 10:00:05 ERROR Out of memory\",\n",
        "]\n",
        "```\n",
        "\n",
        "### Contoh Output\n",
        "```py\n",
        "{'INFO': 2, 'WARN': 1, 'ERROR': 2}\n",
        "```\n",
        "\n",
        "### Hint\n",
        "- Buat generator `read_lines(data)` yang `yield` satu baris per iterasi\n",
        "- Ambil **level** dari kolom ke-3 (`split()[2]`)\n",
        "- Pakai dict biasa untuk menghitung\n"
      ]
    },
    {
      "cell_type": "code",
      "execution_count": null,
      "metadata": {
        "id": "zUqofhfAIOHD"
      },
      "outputs": [],
      "source": [
        "def read_lines(seq):\n",
        "     ## Jawaban disini ##\n",
        "\n",
        "def count_levels(log_iter):\n",
        "     ## Jawaban disini ##\n",
        "\n",
        "logs = [\n",
        "    \"2025-08-10 10:00:01 INFO User login\",\n",
        "    \"2025-08-10 10:00:02 ERROR DB timeout\",\n",
        "    \"2025-08-10 10:00:03 INFO Page view\",\n",
        "    \"2025-08-10 10:00:04 WARN Slow query\",\n",
        "    \"2025-08-10 10:00:05 ERROR Out of memory\",\n",
        "]\n",
        "\n",
        "print(count_levels(read_lines(logs)))"
      ]
    },
    {
      "cell_type": "markdown",
      "metadata": {
        "id": "6pbdMCHeKshU"
      },
      "source": [
        "## 8. Pivot Penjualan per Region x Product (Q2 2025)\n",
        "Topik: Pandas pivot/unstack, filter tanggal, grand total\n",
        "\n",
        "### Cerita\n",
        "Dari data penjualan, tampilkan **tabel pivot** `qty` per **region x product** untuk **Q2 2025** (April–Juni). Tampilkan 0 jika tidak ada penjualan, serta **tambahkan Grand Total** baris & kolom.\n",
        "\n",
        "### Contoh Input\n",
        "```py\n",
        "import pandas as pd\n",
        "df = pd.DataFrame({\n",
        "    \"date\": pd.to_datetime([\n",
        "        \"2025-04-01\",\"2025-04-02\",\"2025-05-15\",\"2025-06-10\",\n",
        "        \"2025-03-30\",\"2025-07-01\"\n",
        "    ]),\n",
        "    \"region\": [\"ID\",\"SG\",\"ID\",\"MY\",\"ID\",\"SG\"],\n",
        "    \"product\":[\"A\",\"A\",\"B\",\"A\",\"A\",\"B\"],\n",
        "    \"qty\":[10,5,7,3,2,9]\n",
        "})\n",
        "```\n",
        "\n",
        "### Contoh Output\n",
        "```\n",
        "product     A   B  Grand Total\n",
        "region\n",
        "ID         12   7           19\n",
        "MY          3   0            3\n",
        "SG          5   0            5\n",
        "Grand Total 20  7           27\n",
        "```\n",
        "\n",
        "### Hint\n",
        "- Filter Q2: month in `[4,5,6]` & year `2025`\n",
        "- Gunakan `pivot_table` atau `groupby(...).sum().unstack()`\n",
        "- `fillna(0).astype(int)` untuk nol\n",
        "- Tambah total baris & kolom dengan `sum(axis=1)` & `sum(axis=0)`\n"
      ]
    },
    {
      "cell_type": "code",
      "execution_count": null,
      "metadata": {
        "id": "vxDN0qG-K0xC"
      },
      "outputs": [],
      "source": [
        "import pandas as pd\n",
        "\n",
        "df = pd.DataFrame({\n",
        "    \"date\": pd.to_datetime([\n",
        "        \"2025-04-01\",\"2025-04-02\",\"2025-05-15\",\"2025-06-10\",\n",
        "        \"2025-03-30\",\"2025-07-01\"\n",
        "    ]),\n",
        "    \"region\": [\"ID\",\"SG\",\"ID\",\"MY\",\"ID\",\"SG\"],\n",
        "    \"product\":[\"A\",\"A\",\"B\",\"A\",\"A\",\"B\"],\n",
        "    \"qty\":[10,5,7,3,2,9]\n",
        "})\n",
        "\n",
        " ## Jawaban disini ##"
      ]
    },
    {
      "cell_type": "markdown",
      "metadata": {
        "id": "T6s9LFMiLout"
      },
      "source": [
        "## 9. Mini ETL: Extract–Transform–Load\n",
        "Topik: Modular function, parsing CSV sederhana, filter/sort\n",
        "\n",
        "### Cerita\n",
        "Kamu menerima data CSV sebagai string. Buat pipeline mini:\n",
        "- extract: ubah CSV string → list of dict\n",
        "- transform: filter price >= 100, tambah kolom amount = qty * price\n",
        "- load: kembalikan list dict terurut dari amount terbesar ke kecil (ambil top-N)\n",
        "\n",
        "### Contoh Input\n",
        "```py\n",
        "csv_text = \"\"\"sku,qty,price\n",
        "A1,2,120.5\n",
        "B2,5,20\n",
        "C3,1,300\n",
        "D4,3,150\n",
        "\"\"\"\n",
        "top_n = 3\n",
        "```\n",
        "\n",
        "### Contoh Output\n",
        "```\n",
        "[\n",
        " {'sku': 'C3', 'qty': 1, 'price': 300.0, 'amount': 300.0},\n",
        " {'sku': 'D4', 'qty': 3, 'price': 150.0, 'amount': 450.0},\n",
        " {'sku': 'A1', 'qty': 2, 'price': 120.5, 'amount': 241.0}\n",
        "]\n",
        "```\n",
        "\n",
        "### Hint\n",
        "- `str.strip().splitlines()` untuk pecah baris\n",
        "- Baris header → tentukan urutan kolom\n",
        "- Casting tipe: `int()` dan `float()`\n",
        "- `sorted(list, key=..., reverse=True)` untuk top-N\n"
      ]
    },
    {
      "cell_type": "code",
      "execution_count": null,
      "metadata": {
        "id": "nde8ZdvWLqzP"
      },
      "outputs": [],
      "source": [
        "def extract(csv_text):\n",
        "     ## Jawaban disini ##\n",
        "\n",
        "def transform(rows):\n",
        "     ## Jawaban disini ##\n",
        "\n",
        "def load(rows, top_n=3):\n",
        "     ## Jawaban disini ##\n",
        "\n",
        "# ---- run pipeline ----\n",
        "csv_text = \"\"\"sku,qty,price\n",
        "A1,2,120.5\n",
        "B2,5,20\n",
        "C3,1,300\n",
        "D4,3,150\n",
        "\"\"\"\n",
        "rows = extract(csv_text)\n",
        "rows_t = transform(rows)\n",
        "result = load(rows_t, top_n=3)\n",
        "print(result)"
      ]
    },
    {
      "cell_type": "markdown",
      "metadata": {
        "id": "27OEkFKmMfy-"
      },
      "source": [
        "## 10. Mini-Simulation OOP: Inventory Sederhana\n",
        "Topik: OOP basic (class, attribute, method), validasi, operasi state\n",
        "\n",
        "### Cerita\n",
        "Buat sistem inventori sederhana:\n",
        "- `add_item(name, qty)` → menambah stok\n",
        "- `remove_item(name, qty)` → mengurangi stok (tidak boleh minus)\n",
        "- `stock(name)` → cek stok item\n",
        "- `low_stock(threshold)` → daftar item dengan stok ≤ threshold\n",
        "Lalu proses **serangkaian operasi** dan tampilkan **stok akhir** serta **low stock**.\n",
        "\n",
        "### Contoh Input\n",
        "```py\n",
        "ops = [\n",
        "    (\"add\", \"cable\", 10),\n",
        "    (\"add\", \"adapter\", 5),\n",
        "    (\"remove\", \"cable\", 3),\n",
        "    (\"remove\", \"adapter\", 7),  # gagal\n",
        "    (\"add\", \"adapter\", 4),\n",
        "]\n",
        "threshold = 5\n",
        "```\n",
        "\n",
        "### Contoh Output\n",
        "```\n",
        "Final stock: {'cable': 7, 'adapter': 9}\n",
        "Low stock (<=5): []\n",
        "```\n",
        "*(Jika data berbeda, daftar low stock bisa muncul.)*\n",
        "\n",
        "### Hint\n",
        "- Simpan stok pada dict `self._items`\n",
        "- Validasi qty > 0\n",
        "- `remove`: cek cukup stok; kalau tidak cukup → abaikan (return False)\n",
        "- `low_stock`: loop dict dan ambil yang `qty <= threshold`\n"
      ]
    },
    {
      "cell_type": "code",
      "execution_count": null,
      "metadata": {
        "id": "2B9BbjrHMiVx"
      },
      "outputs": [],
      "source": [
        "class Inventory:\n",
        "     ## Jawaban disini ##\n",
        "\n",
        "# ---- run simulation ----\n",
        "ops = [\n",
        "    (\"add\", \"cable\", 10),\n",
        "    (\"add\", \"adapter\", 5),\n",
        "    (\"remove\", \"cable\", 3),\n",
        "    (\"remove\", \"adapter\", 7),  # gagal\n",
        "    (\"add\", \"adapter\", 4),\n",
        "]\n",
        "inv = Inventory()\n",
        "for action, name, qty in ops:\n",
        "    if action == \"add\":\n",
        "        inv.add_item(name, qty)\n",
        "    elif action == \"remove\":\n",
        "        inv.remove_item(name, qty)\n",
        "\n",
        "final_stock = dict(inv._items)\n",
        "threshold = 5\n",
        "print(\"Final stock:\", final_stock)\n",
        "print(\"Low stock (<=5):\", inv.low_stock(threshold))"
      ]
    },
    {
      "cell_type": "code",
      "execution_count": 5,
      "metadata": {},
      "outputs": [
        {
          "name": "stdout",
          "output_type": "stream",
          "text": [
            "10\n",
            "50\n"
          ]
        }
      ],
      "source": [
        "def access_elements(my_list):\n",
        "    # Access and print the first element\n",
        "    print(my_list[0])\n",
        "    \n",
        "    # Access and print the last element\n",
        "    print(my_list[-1])\n",
        "\n",
        "# Example list\n",
        "example_list = [10, 20, 30, 40, 50]\n",
        "access_elements(example_list)\n",
        "\n",
        "# Expected Output:\n",
        "# 10\n",
        "# 50"
      ]
    },
    {
      "cell_type": "code",
      "execution_count": 11,
      "metadata": {},
      "outputs": [
        {
          "name": "stdout",
          "output_type": "stream",
          "text": [
            "passport is in the ['clothes', 'toothbrush', 'passport', 'camera']\n"
          ]
        }
      ],
      "source": [
        "# Travel Packing List and Selection\n",
        "packing_list = ['clothes', 'toothbrush', 'passport', 'camera']\n",
        "item_to_check = 'passport'\n",
        "\n",
        "# TODO: Write a line of code to check if the item_to_check is in the packing_list\n",
        "def check_item (item_to_check) :\n",
        "    if item_to_check in packing_list :\n",
        "        packing_list.index(item_to_check)\n",
        "        print(f'{item_to_check} is in the {packing_list}')\n",
        "    else :\n",
        "        item_to_check[-1]\n",
        "# TODO: Find the index of item_to_check in the list if it is packed, otherwise set it to -1\n",
        "\n",
        "# Print out the results\n",
        "check_item(item_to_check)\n",
        "# print(\"Is the item packed?\", is_item_packed)\n",
        "# print(\"Item index:\", item_index)"
      ]
    },
    {
      "cell_type": "code",
      "execution_count": 18,
      "metadata": {},
      "outputs": [
        {
          "name": "stdout",
          "output_type": "stream",
          "text": [
            "Ridho plays banjo\n",
            "ridho plays banjo\n",
            "Nexus does not plat banjo\n"
          ]
        }
      ],
      "source": [
        "def are_you_playing_banjo(name):\n",
        "    if name[0] == \"R\" or name[0] == \"r\" :\n",
        "        return f'{name} plays banjo' \n",
        "    else :\n",
        "        return f'{name} does not plat banjo'\n",
        "\n",
        "print(are_you_playing_banjo('Ridho'))\n",
        "print(are_you_playing_banjo('ridho'))\n",
        "print(are_you_playing_banjo('Nexus'))"
      ]
    },
    {
      "cell_type": "code",
      "execution_count": 17,
      "metadata": {},
      "outputs": [
        {
          "data": {
            "text/plain": [
              "'R'"
            ]
          },
          "execution_count": 17,
          "metadata": {},
          "output_type": "execute_result"
        }
      ],
      "source": [
        "name = \"Ridho\"\n",
        "name[0]"
      ]
    },
    {
      "cell_type": "code",
      "execution_count": 24,
      "metadata": {},
      "outputs": [
        {
          "name": "stdout",
          "output_type": "stream",
          "text": [
            "martin does not play banjo\n",
            "Rikke plays banjo\n",
            "bravo does not play banjo\n",
            "rolf plays banjo\n"
          ]
        }
      ],
      "source": [
        "def are_you_playing_banjo(name):\n",
        "    if name[0] == \"R\" or name[0] == \"r\" :\n",
        "        return f'{name} plays banjo' \n",
        "    else :\n",
        "        return f'{name} does not play banjo'\n",
        "\n",
        "print(are_you_playing_banjo('martin'))\n",
        "print(are_you_playing_banjo('Rikke'))\n",
        "print(are_you_playing_banjo('bravo'))\n",
        "print(are_you_playing_banjo('rolf'))"
      ]
    },
    {
      "cell_type": "code",
      "execution_count": 39,
      "metadata": {},
      "outputs": [
        {
          "name": "stdout",
          "output_type": "stream",
          "text": [
            "[['baju', 'celana', 'topi']]\n",
            "baju\n",
            "topi\n",
            "GOODBYE MESSAGE\n"
          ]
        }
      ],
      "source": [
        "# Initialize an empty list named 'suitcase'\n",
        "suitcase = []\n",
        "# TODO: Add items to your suitcase\n",
        "new_item = ['baju', 'celana', 'topi']\n",
        "suitcase.append(new_item)\n",
        "print(suitcase)\n",
        "\n",
        "# Declare a string variable for your goodbye message\n",
        "gm = 'goodbye message'\n",
        "# TODO: Assign a farewell message to the variable\n",
        "farewell = gm\n",
        "\n",
        "# Access the first and last item in your suitcase\n",
        "# TODO: Print the first item in the suitcase\n",
        "first_item = suitcase[0][0]\n",
        "print(first_item)\n",
        "# TODO: Print the last item in the suitcase\n",
        "print(suitcase[0][-1])\n",
        "\n",
        "# Send off with a farewell in uppercase\n",
        "huruf_besar = farewell.upper()\n",
        "# TODO: Print the farewell message in uppercase\n",
        "print(huruf_besar)"
      ]
    },
    {
      "cell_type": "code",
      "execution_count": 35,
      "metadata": {},
      "outputs": [
        {
          "data": {
            "text/plain": [
              "'ridho'"
            ]
          },
          "execution_count": 35,
          "metadata": {},
          "output_type": "execute_result"
        }
      ],
      "source": [
        "nama = ['ridho','rasyid','muhammad']\n",
        "nama[0]"
      ]
    },
    {
      "cell_type": "code",
      "execution_count": null,
      "metadata": {},
      "outputs": [],
      "source": [
        "[True,  True,  True,  False,\n",
        "  True,  True,  True,  True ,\n",
        "  True,  False, True,  False,\n",
        "  True,  False, False, True ,\n",
        "  True,  True,  True,  True ,\n",
        "  False, False, True,  True]"
      ]
    },
    {
      "cell_type": "code",
      "execution_count": 43,
      "metadata": {},
      "outputs": [
        {
          "name": "stdout",
          "output_type": "stream",
          "text": [
            "S\n",
            "t\n",
            "Port\n",
            "Sork\n",
            "Sort\n"
          ]
        }
      ],
      "source": [
        "# Given mission name\n",
        "mission_name = \"Sort\"\n",
        "\n",
        "# TODO: Print the first and the last character of the mission name\n",
        "print(mission_name[0])\n",
        "print(mission_name[-1])\n",
        "\n",
        "# TODO: The mission needs a minor update. We aim to change its first letter to 'P' and the last letter to `k`, obtaining the word \"Pork\".\n",
        "first = mission_name.replace(\"S\", \"P\")\n",
        "print(first)\n",
        "last = mission_name.replace(\"t\", \"k\")\n",
        "print(last)\n",
        "\n",
        "# Remember, strings in Python are immutable, so you cannot alter them directly.\n",
        "\n",
        "# TODO: Print the updated mission name\n",
        "print(mission_name)"
      ]
    },
    {
      "cell_type": "code",
      "execution_count": 2,
      "metadata": {},
      "outputs": [
        {
          "data": {
            "text/plain": [
              "3"
            ]
          },
          "execution_count": 2,
          "metadata": {},
          "output_type": "execute_result"
        }
      ],
      "source": [
        "numbers = [-5,-3,1,6,8,11]\n",
        "target = 6\n",
        "\n",
        "def get_index (target: int) :\n",
        "    if target in numbers :\n",
        "        return numbers.index(target)\n",
        "\n",
        "get_index(target=6)"
      ]
    },
    {
      "cell_type": "code",
      "execution_count": null,
      "metadata": {},
      "outputs": [
        {
          "name": "stdout",
          "output_type": "stream",
          "text": [
            "Adding apple to the salad.\n",
            "Adding banana to the salad.\n",
            "Adding orange to the salad.\n",
            "Adding kiwi to the salad.\n",
            "Adding melon to the salad.\n"
          ]
        }
      ],
      "source": [
        "# while loop\n",
        "# while artinya → \"ulangi selama kondisi masih benar (True)\".\n",
        "# Kalau kondisi berubah jadi False, loop berhenti.\n",
        "\n",
        "\n",
        "# List of fruits to include in a fruit salad\n",
        "fruits = ['apple', 'banana', 'orange', 'kiwi', 'melon']\n",
        "fruit = 0 # index awal adalah 0\n",
        "\n",
        "# Using a for loop to iterate over the list of fruits\n",
        "while fruit <len(fruits): # loop terus berjalan selama index lebih kecil dari panjang list\n",
        "    # Kalau len(fruits)=5, maka loop jalan saat index = 0,1,2,3,4.\n",
        "    # selama index (fruit) masih lebih kecil dari jumlah item dalam list, lakukan loop”\n",
        "    print(f\"Adding {fruits[fruit]} to the salad.\")\n",
        "    fruit += 1 # tambahkan index pada setiap iterasi\n",
        "    "
      ]
    },
    {
      "cell_type": "code",
      "execution_count": 4,
      "metadata": {},
      "outputs": [
        {
          "name": "stdout",
          "output_type": "stream",
          "text": [
            "Adding apple to the salad.\n",
            "Adding banana to the salad.\n",
            "Adding orange to the salad.\n",
            "Adding kiwi to the salad.\n",
            "Adding melon to the salad.\n"
          ]
        }
      ],
      "source": [
        "fruits = ['apple', 'banana', 'orange', 'kiwi', 'melon']\n",
        "\n",
        "\n",
        "for fruit in fruits :\n",
        "        print(f\"Adding {fruit} to the salad.\")"
      ]
    },
    {
      "cell_type": "code",
      "execution_count": 15,
      "metadata": {},
      "outputs": [
        {
          "name": "stdout",
          "output_type": "stream",
          "text": [
            "apple\n",
            "banana\n",
            "cherry\n",
            "date\n"
          ]
        }
      ],
      "source": [
        "my_list = [\"apple\", \"banana\", \"cherry\", \"date\"]\n",
        "i = 0  # Initialize the index\n",
        "\n",
        "while i < len(my_list):  # Loop while the index is within the list's bounds\n",
        "    print(my_list[i])  # Access and print the element at the current index\n",
        "    i += 1  # Increment the index for the next iteration"
      ]
    },
    {
      "cell_type": "code",
      "execution_count": 5,
      "metadata": {},
      "outputs": [
        {
          "name": "stdout",
          "output_type": "stream",
          "text": [
            "5\n"
          ]
        }
      ],
      "source": [
        "# List of fruits for the fruit salad\n",
        "fruits = [\"apple\", \"banana\", \"cherry\", \"kiwi\", \"mango\"]\n",
        "# Count the number of fruits in the salad\n",
        "fruit_count = 0\n",
        "# Loop over each fruit in the fruits list\n",
        "for fruit in fruits:\n",
        "    # The wrong operator is used here, it should increase the count\n",
        "    fruit_count += 1\n",
        "print(fruit_count)  # This should print the total number of fruits in the salad"
      ]
    },
    {
      "cell_type": "code",
      "execution_count": 22,
      "metadata": {},
      "outputs": [
        {
          "data": {
            "text/plain": [
              "[2, 4, 6]"
            ]
          },
          "execution_count": 22,
          "metadata": {},
          "output_type": "execute_result"
        }
      ],
      "source": [
        "def maps(a):\n",
        "    return list(map(lambda x: x*2, a))\n",
        "\n",
        "a = [1,2,3]\n",
        "maps(a)"
      ]
    },
    {
      "cell_type": "code",
      "execution_count": 25,
      "metadata": {},
      "outputs": [
        {
          "name": "stdout",
          "output_type": "stream",
          "text": [
            "Even\n"
          ]
        }
      ],
      "source": [
        "def checkOddEven(x):\n",
        "    # code here\n",
        "    if x % 2 == 0 :\n",
        "        return f'Even'\n",
        "    else :\n",
        "        return f'Odd'\n",
        "\n",
        "print(checkOddEven(4))"
      ]
    },
    {
      "cell_type": "code",
      "execution_count": 26,
      "metadata": {},
      "outputs": [
        {
          "name": "stdout",
          "output_type": "stream",
          "text": [
            "Duplicate numbers: [1, 2, 5]\n"
          ]
        }
      ],
      "source": [
        "def find_duplicates_with_seen_list(numbers):\n",
        "    seen = []\n",
        "    duplicates = []\n",
        "    for num in numbers:\n",
        "        if num in seen:\n",
        "            if num not in duplicates:  # Avoid adding the same duplicate multiple times\n",
        "                duplicates.append(num)\n",
        "        else:\n",
        "            seen.append(num)\n",
        "    return duplicates\n",
        "\n",
        "my_list = [1, 2, 3, 1, 2, 4, 5, 6, 5]\n",
        "duplicate_numbers = find_duplicates_with_seen_list(my_list)\n",
        "print(f\"Duplicate numbers: {duplicate_numbers}\")"
      ]
    },
    {
      "cell_type": "code",
      "execution_count": 6,
      "metadata": {},
      "outputs": [
        {
          "name": "stdout",
          "output_type": "stream",
          "text": [
            "apple banana cherry kiwi mango \n"
          ]
        }
      ],
      "source": [
        "# List of fruits\n",
        "fruits = [\"apple\", \"banana\", \"cherry\", \"kiwi\", \"mango\"]\n",
        "\n",
        "i = 0                  # mulai dari index 0\n",
        "result = \"\"            # string kosong untuk menampung hasil\n",
        "\n",
        "# loop selama index belum melebihi jumlah buah\n",
        "while i < len(fruits):\n",
        "    if i == fruits[-1]:    \n",
        "        # kalau index terakhir, tambahkan buah saja tanpa spasi\n",
        "        result += fruits[i]\n",
        "    else:\n",
        "        # kalau bukan terakhir, tambahkan buah + spasi\n",
        "        result += fruits[i] + \" \"\n",
        "    i += 1  # geser index ke buah berikutnya\n",
        "\n",
        "print(result)\n"
      ]
    },
    {
      "cell_type": "code",
      "execution_count": 7,
      "metadata": {},
      "outputs": [
        {
          "name": "stdout",
          "output_type": "stream",
          "text": [
            "apple banana cherry kiwi mango\n"
          ]
        }
      ],
      "source": [
        "# List of fruits\n",
        "fruits = [\"apple\", \"banana\", \"cherry\", \"kiwi\", \"mango\"]\n",
        "\n",
        "i = 0                  # mulai dari index 0\n",
        "result = \"\"            # string kosong untuk menampung hasil\n",
        "\n",
        "# loop selama index belum melebihi jumlah buah\n",
        "while i < len(fruits):\n",
        "    if i == len(fruits) - 1:    \n",
        "        # kalau index terakhir, tambahkan buah saja tanpa spasi\n",
        "        result += fruits[i]\n",
        "    else:\n",
        "        # kalau bukan terakhir, tambahkan buah + spasi\n",
        "        result += fruits[i] + \" \"\n",
        "    i += 1  # geser index ke buah berikutnya\n",
        "\n",
        "print(result)\n"
      ]
    },
    {
      "cell_type": "code",
      "execution_count": 8,
      "metadata": {},
      "outputs": [
        {
          "name": "stdout",
          "output_type": "stream",
          "text": [
            "apple banana cherry date \n"
          ]
        }
      ],
      "source": [
        "# This code will create a simplified fruit salad with the provided fruits\n",
        "fruits = ['apple', 'banana', 'cherry', 'date']\n",
        "fruits_in_salad = \"\"\n",
        "\n",
        "index = 0\n",
        "# TODO: Create a while loop that assembles a string of fruit names separated by spaces, without adding a space after the last fruit\n",
        "# Hint: Consider using a conditional to determine when to add a space\n",
        "while index < len(fruits):\n",
        "    if i == len(fruits) -1 :\n",
        "        fruits_in_salad += fruits[index]\n",
        "    else :\n",
        "        fruits_in_salad += fruits[index] + \" \"\n",
        "    index += 1\n",
        "print(fruits_in_salad)  # Output the fruits in the salad"
      ]
    },
    {
      "cell_type": "code",
      "execution_count": 1,
      "metadata": {},
      "outputs": [
        {
          "name": "stdout",
          "output_type": "stream",
          "text": [
            "apple banana cherry date\n"
          ]
        }
      ],
      "source": [
        "# This code will create a simplified fruit salad with the provided fruits\n",
        "fruits = ['apple', 'banana', 'cherry', 'date']\n",
        "fruits_in_salad = \"\"\n",
        "\n",
        "index = 0\n",
        "# TODO: Create a while loop that assembles a string of fruit names separated by spaces, without adding a space after the last fruit\n",
        "# Hint: Consider using a conditional to determine when to add a space\n",
        "while index < len(fruits):\n",
        "    if index == len(fruits) -1 :\n",
        "        fruits_in_salad += fruits[index]\n",
        "    else :\n",
        "        fruits_in_salad += fruits[index] + \" \"\n",
        "    index += 1\n",
        "print(fruits_in_salad)  # Output the fruits in the salad"
      ]
    },
    {
      "cell_type": "markdown",
      "metadata": {},
      "source": [
        "Dalam latihan ini, kamu diminta menghitung jumlah karakter yang bukan huruf vokal (a, e, i, o, u) dan juga bukan spasi (' ') pada sebuah string.\n",
        "\n",
        "Jadi, setiap kali kamu menemukan huruf vokal atau spasi, karakter itu tidak dihitung.\n",
        "Hanya huruf selain vokal dan spasi yang dihitung sebagai karakter non-vokal.\n",
        "\n",
        "Apakah kamu ingin mencoba menghitungnya pada kata 'fruit salad'?"
      ]
    },
    {
      "cell_type": "code",
      "execution_count": 21,
      "metadata": {},
      "outputs": [
        {
          "name": "stdout",
          "output_type": "stream",
          "text": [
            "FRT Sld\n"
          ]
        }
      ],
      "source": [
        "# Define a string named 'word' to represent the phrase we'll work with\n",
        "word = 'FRUIT Salad'\n",
        "\n",
        "# TODO: Initialize a counter to hold the number of non-vowel characters\n",
        "vowels = 'aiueoAIUEO'\n",
        "\n",
        "# TODO: Use a 'for' loop to iterate over each character in the string\n",
        "result = \"\"\n",
        "for v in word :\n",
        "    if v not in vowels :\n",
        "        result += v\n",
        "print(result)\n",
        "        \n",
        "\n",
        "# TODO: Inside the loop, write a condition to check if it's not a vowel or a space\n",
        "# Don't forget that letters can be lowercase and uppercase\n",
        "\n",
        "# TODO: If the condition is true, increase the counter for non-vowel characters\n",
        "\n",
        "# TODO: Finally, print out the count of non-vowel characters\n",
        "\n"
      ]
    },
    {
      "cell_type": "code",
      "execution_count": null,
      "metadata": {},
      "outputs": [],
      "source": []
    }
  ],
  "metadata": {
    "colab": {
      "provenance": []
    },
    "kernelspec": {
      "display_name": ".venv",
      "language": "python",
      "name": "python3"
    },
    "language_info": {
      "codemirror_mode": {
        "name": "ipython",
        "version": 3
      },
      "file_extension": ".py",
      "mimetype": "text/x-python",
      "name": "python",
      "nbconvert_exporter": "python",
      "pygments_lexer": "ipython3",
      "version": "3.12.0"
    }
  },
  "nbformat": 4,
  "nbformat_minor": 0
}
