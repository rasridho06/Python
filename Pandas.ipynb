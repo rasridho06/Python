{
 "cells": [
  {
   "cell_type": "markdown",
   "id": "7287563d",
   "metadata": {},
   "source": [
    "Pandas adalah library Python untuk memanipulasi dan menganalisis data berbentuk tabel (seperti Excel). Format datanya disebut DataFrame, mirip seperti tabel Excel: baris dan kolom."
   ]
  },
  {
   "cell_type": "code",
   "execution_count": 6,
   "id": "794e76b2",
   "metadata": {},
   "outputs": [],
   "source": [
    "import random"
   ]
  },
  {
   "cell_type": "code",
   "execution_count": 8,
   "id": "b523633d",
   "metadata": {},
   "outputs": [],
   "source": [
    "import pandas as pd"
   ]
  },
  {
   "cell_type": "code",
   "execution_count": null,
   "id": "64a2786e",
   "metadata": {},
   "outputs": [
    {
     "name": "stdout",
     "output_type": "stream",
     "text": [
      "       Nama  Umur        Kota\n",
      "0       Ali    23     Jakarta\n",
      "1      Budi    25     Bandung\n",
      "2     Citra    22    Surabaya\n",
      "3     Ridho    30      Malang\n",
      "4    Rasyid    31      Padang\n",
      "5  Muhammad    32  Banyuwangi\n"
     ]
    }
   ],
   "source": [
    "data = {\n",
    "    'Nama': ['Ali', 'Budi', 'Citra', 'Ridho','Rasyid','Muhammad'], \n",
    "    'Umur': [23, 25, 22, 30, 31, 32],\n",
    "    'Kota': ['Jakarta', 'Bandung', 'Surabaya',\"Malang\", 'Padang','Banyuwangi']\n",
    "}\n",
    "\n",
    "\n",
    "# Ini adalah dictionary (kamus) Python.\n",
    "# Key-nya ('Nama', 'Umur', 'Kota') akan jadi nama kolom\n",
    "# Value-nya (daftar/list) akan jadi isi data di kolom itu\n",
    "\n",
    "df = pd.DataFrame(data)\n",
    "print(df)\n",
    "\n",
    "# df = DataFrame = tabel\n",
    "# Angka di paling kiri (0, 1, 2) = index baris\n",
    "\n"
   ]
  },
  {
   "cell_type": "code",
   "execution_count": null,
   "id": "791265f4",
   "metadata": {},
   "outputs": [
    {
     "data": {
      "text/html": [
       "<div>\n",
       "<style scoped>\n",
       "    .dataframe tbody tr th:only-of-type {\n",
       "        vertical-align: middle;\n",
       "    }\n",
       "\n",
       "    .dataframe tbody tr th {\n",
       "        vertical-align: top;\n",
       "    }\n",
       "\n",
       "    .dataframe thead th {\n",
       "        text-align: right;\n",
       "    }\n",
       "</style>\n",
       "<table border=\"1\" class=\"dataframe\">\n",
       "  <thead>\n",
       "    <tr style=\"text-align: right;\">\n",
       "      <th></th>\n",
       "      <th>Nama</th>\n",
       "      <th>Umur</th>\n",
       "      <th>Kota</th>\n",
       "    </tr>\n",
       "  </thead>\n",
       "  <tbody>\n",
       "    <tr>\n",
       "      <th>0</th>\n",
       "      <td>Ali</td>\n",
       "      <td>23</td>\n",
       "      <td>Jakarta</td>\n",
       "    </tr>\n",
       "    <tr>\n",
       "      <th>1</th>\n",
       "      <td>Budi</td>\n",
       "      <td>25</td>\n",
       "      <td>Bandung</td>\n",
       "    </tr>\n",
       "    <tr>\n",
       "      <th>2</th>\n",
       "      <td>Citra</td>\n",
       "      <td>22</td>\n",
       "      <td>Surabaya</td>\n",
       "    </tr>\n",
       "  </tbody>\n",
       "</table>\n",
       "</div>"
      ],
      "text/plain": [
       "    Nama  Umur      Kota\n",
       "0    Ali    23   Jakarta\n",
       "1   Budi    25   Bandung\n",
       "2  Citra    22  Surabaya"
      ]
     },
     "execution_count": 11,
     "metadata": {},
     "output_type": "execute_result"
    }
   ],
   "source": [
    "df.head()        # Lihat 5 baris pertama"
   ]
  },
  {
   "cell_type": "code",
   "execution_count": 12,
   "id": "d343d070",
   "metadata": {},
   "outputs": [
    {
     "data": {
      "text/html": [
       "<div>\n",
       "<style scoped>\n",
       "    .dataframe tbody tr th:only-of-type {\n",
       "        vertical-align: middle;\n",
       "    }\n",
       "\n",
       "    .dataframe tbody tr th {\n",
       "        vertical-align: top;\n",
       "    }\n",
       "\n",
       "    .dataframe thead th {\n",
       "        text-align: right;\n",
       "    }\n",
       "</style>\n",
       "<table border=\"1\" class=\"dataframe\">\n",
       "  <thead>\n",
       "    <tr style=\"text-align: right;\">\n",
       "      <th></th>\n",
       "      <th>Nama</th>\n",
       "      <th>Umur</th>\n",
       "      <th>Kota</th>\n",
       "    </tr>\n",
       "  </thead>\n",
       "  <tbody>\n",
       "    <tr>\n",
       "      <th>1</th>\n",
       "      <td>Budi</td>\n",
       "      <td>25</td>\n",
       "      <td>Bandung</td>\n",
       "    </tr>\n",
       "    <tr>\n",
       "      <th>2</th>\n",
       "      <td>Citra</td>\n",
       "      <td>22</td>\n",
       "      <td>Surabaya</td>\n",
       "    </tr>\n",
       "  </tbody>\n",
       "</table>\n",
       "</div>"
      ],
      "text/plain": [
       "    Nama  Umur      Kota\n",
       "1   Budi    25   Bandung\n",
       "2  Citra    22  Surabaya"
      ]
     },
     "execution_count": 12,
     "metadata": {},
     "output_type": "execute_result"
    }
   ],
   "source": [
    "df.tail(2)       # Lihat 2 baris terakhir"
   ]
  },
  {
   "cell_type": "code",
   "execution_count": 16,
   "id": "fec94bce",
   "metadata": {},
   "outputs": [
    {
     "name": "stdout",
     "output_type": "stream",
     "text": [
      "<class 'pandas.core.frame.DataFrame'>\n",
      "RangeIndex: 6 entries, 0 to 5\n",
      "Data columns (total 3 columns):\n",
      " #   Column  Non-Null Count  Dtype \n",
      "---  ------  --------------  ----- \n",
      " 0   Nama    6 non-null      object\n",
      " 1   Umur    6 non-null      int64 \n",
      " 2   Kota    6 non-null      object\n",
      "dtypes: int64(1), object(2)\n",
      "memory usage: 276.0+ bytes\n"
     ]
    }
   ],
   "source": [
    "df.info()        # Ringkasan kolom dan tipe data"
   ]
  },
  {
   "cell_type": "code",
   "execution_count": 17,
   "id": "99c0acd7",
   "metadata": {},
   "outputs": [
    {
     "data": {
      "text/html": [
       "<div>\n",
       "<style scoped>\n",
       "    .dataframe tbody tr th:only-of-type {\n",
       "        vertical-align: middle;\n",
       "    }\n",
       "\n",
       "    .dataframe tbody tr th {\n",
       "        vertical-align: top;\n",
       "    }\n",
       "\n",
       "    .dataframe thead th {\n",
       "        text-align: right;\n",
       "    }\n",
       "</style>\n",
       "<table border=\"1\" class=\"dataframe\">\n",
       "  <thead>\n",
       "    <tr style=\"text-align: right;\">\n",
       "      <th></th>\n",
       "      <th>Umur</th>\n",
       "    </tr>\n",
       "  </thead>\n",
       "  <tbody>\n",
       "    <tr>\n",
       "      <th>count</th>\n",
       "      <td>6.000000</td>\n",
       "    </tr>\n",
       "    <tr>\n",
       "      <th>mean</th>\n",
       "      <td>27.166667</td>\n",
       "    </tr>\n",
       "    <tr>\n",
       "      <th>std</th>\n",
       "      <td>4.355074</td>\n",
       "    </tr>\n",
       "    <tr>\n",
       "      <th>min</th>\n",
       "      <td>22.000000</td>\n",
       "    </tr>\n",
       "    <tr>\n",
       "      <th>25%</th>\n",
       "      <td>23.500000</td>\n",
       "    </tr>\n",
       "    <tr>\n",
       "      <th>50%</th>\n",
       "      <td>27.500000</td>\n",
       "    </tr>\n",
       "    <tr>\n",
       "      <th>75%</th>\n",
       "      <td>30.750000</td>\n",
       "    </tr>\n",
       "    <tr>\n",
       "      <th>max</th>\n",
       "      <td>32.000000</td>\n",
       "    </tr>\n",
       "  </tbody>\n",
       "</table>\n",
       "</div>"
      ],
      "text/plain": [
       "            Umur\n",
       "count   6.000000\n",
       "mean   27.166667\n",
       "std     4.355074\n",
       "min    22.000000\n",
       "25%    23.500000\n",
       "50%    27.500000\n",
       "75%    30.750000\n",
       "max    32.000000"
      ]
     },
     "execution_count": 17,
     "metadata": {},
     "output_type": "execute_result"
    }
   ],
   "source": [
    "df.describe()    # Statistik ringkas untuk angka"
   ]
  },
  {
   "cell_type": "code",
   "execution_count": null,
   "id": "bb608fa9",
   "metadata": {},
   "outputs": [
    {
     "data": {
      "text/plain": [
       "0         Ali\n",
       "1        Budi\n",
       "2       Citra\n",
       "3       Ridho\n",
       "4      Rasyid\n",
       "5    Muhammad\n",
       "Name: Nama, dtype: object"
      ]
     },
     "execution_count": 19,
     "metadata": {},
     "output_type": "execute_result"
    }
   ],
   "source": [
    "# Akses satu kolom, outputnya Name: Nama, dtype: object\n",
    "# Hasilnya berupa Series, yaitu satu kolom beserta indeksnya\n",
    "df['Nama']\n"
   ]
  },
  {
   "cell_type": "code",
   "execution_count": null,
   "id": "81a360fd",
   "metadata": {},
   "outputs": [
    {
     "data": {
      "text/html": [
       "<div>\n",
       "<style scoped>\n",
       "    .dataframe tbody tr th:only-of-type {\n",
       "        vertical-align: middle;\n",
       "    }\n",
       "\n",
       "    .dataframe tbody tr th {\n",
       "        vertical-align: top;\n",
       "    }\n",
       "\n",
       "    .dataframe thead th {\n",
       "        text-align: right;\n",
       "    }\n",
       "</style>\n",
       "<table border=\"1\" class=\"dataframe\">\n",
       "  <thead>\n",
       "    <tr style=\"text-align: right;\">\n",
       "      <th></th>\n",
       "      <th>Nama</th>\n",
       "      <th>Umur</th>\n",
       "    </tr>\n",
       "  </thead>\n",
       "  <tbody>\n",
       "    <tr>\n",
       "      <th>0</th>\n",
       "      <td>Ali</td>\n",
       "      <td>23</td>\n",
       "    </tr>\n",
       "    <tr>\n",
       "      <th>1</th>\n",
       "      <td>Budi</td>\n",
       "      <td>25</td>\n",
       "    </tr>\n",
       "    <tr>\n",
       "      <th>2</th>\n",
       "      <td>Citra</td>\n",
       "      <td>22</td>\n",
       "    </tr>\n",
       "    <tr>\n",
       "      <th>3</th>\n",
       "      <td>Ridho</td>\n",
       "      <td>30</td>\n",
       "    </tr>\n",
       "    <tr>\n",
       "      <th>4</th>\n",
       "      <td>Rasyid</td>\n",
       "      <td>31</td>\n",
       "    </tr>\n",
       "    <tr>\n",
       "      <th>5</th>\n",
       "      <td>Muhammad</td>\n",
       "      <td>32</td>\n",
       "    </tr>\n",
       "  </tbody>\n",
       "</table>\n",
       "</div>"
      ],
      "text/plain": [
       "       Nama  Umur\n",
       "0       Ali    23\n",
       "1      Budi    25\n",
       "2     Citra    22\n",
       "3     Ridho    30\n",
       "4    Rasyid    31\n",
       "5  Muhammad    32"
      ]
     },
     "execution_count": 21,
     "metadata": {},
     "output_type": "execute_result"
    }
   ],
   "source": [
    "# Akses beberapa kolom\n",
    "# Harus pakai dua tanda kurung siku karena kita ambil lebih dari satu kolom → bentuknya list di dalam list: [['col1', 'col2']]\n",
    "\n",
    "df[['Nama', 'Umur']]"
   ]
  },
  {
   "cell_type": "code",
   "execution_count": 31,
   "id": "b5fbeb54",
   "metadata": {},
   "outputs": [
    {
     "data": {
      "text/plain": [
       "Nama        Ali\n",
       "Umur         23\n",
       "Kota    Jakarta\n",
       "Name: 0, dtype: object"
      ]
     },
     "execution_count": 31,
     "metadata": {},
     "output_type": "execute_result"
    }
   ],
   "source": [
    "# Mengakses Baris dengan .iloc[] (berdasarkan posisi)\n",
    "# df.iloc[0] → Ambil baris pertama\n",
    "# iloc = \"index location\" (berbasis angka)\n",
    "# Hasilnya berupa Series, 1 baris data beserta nama kolom\n",
    "\n",
    "df.iloc[0]    \n"
   ]
  },
  {
   "cell_type": "code",
   "execution_count": null,
   "id": "91aee9c4",
   "metadata": {},
   "outputs": [
    {
     "data": {
      "text/plain": [
       "'Jakarta'"
      ]
     },
     "execution_count": 33,
     "metadata": {},
     "output_type": "execute_result"
    }
   ],
   "source": [
    "# # Akses nilai spesifik\n",
    "df.iloc[2, 2]  # Baris ke-2, Kolom ke-2\n",
    "# output surabaya karena surabaya berada pada baris ke 2 dan kolom ke"
   ]
  },
  {
   "cell_type": "code",
   "execution_count": null,
   "id": "729a59ea",
   "metadata": {},
   "outputs": [
    {
     "data": {
      "text/html": [
       "<div>\n",
       "<style scoped>\n",
       "    .dataframe tbody tr th:only-of-type {\n",
       "        vertical-align: middle;\n",
       "    }\n",
       "\n",
       "    .dataframe tbody tr th {\n",
       "        vertical-align: top;\n",
       "    }\n",
       "\n",
       "    .dataframe thead th {\n",
       "        text-align: right;\n",
       "    }\n",
       "</style>\n",
       "<table border=\"1\" class=\"dataframe\">\n",
       "  <thead>\n",
       "    <tr style=\"text-align: right;\">\n",
       "      <th></th>\n",
       "      <th>Nama</th>\n",
       "      <th>Umur</th>\n",
       "      <th>Kota</th>\n",
       "    </tr>\n",
       "  </thead>\n",
       "  <tbody>\n",
       "    <tr>\n",
       "      <th>0</th>\n",
       "      <td>Ali</td>\n",
       "      <td>23</td>\n",
       "      <td>Jakarta</td>\n",
       "    </tr>\n",
       "  </tbody>\n",
       "</table>\n",
       "</div>"
      ],
      "text/plain": [
       "  Nama  Umur     Kota\n",
       "0  Ali    23  Jakarta"
      ]
     },
     "execution_count": 43,
     "metadata": {},
     "output_type": "execute_result"
    }
   ],
   "source": [
    "# # Filter (baris dengan umur > 23)\n",
    "df[df['Umur'] > 23]\n",
    "df[df['Kota'] == 'Jakarta'] # baris dengan filter kota jakarta"
   ]
  },
  {
   "cell_type": "code",
   "execution_count": null,
   "id": "5b69d7b0",
   "metadata": {},
   "outputs": [
    {
     "name": "stdout",
     "output_type": "stream",
     "text": [
      "0    23\n",
      "1    25\n",
      "2    22\n",
      "dtype: int64\n"
     ]
    }
   ],
   "source": [
    "#  Membuat Series – struktur data 1 dimensi\n",
    "\n",
    "# Kenapa pakai Series?\n",
    "    # Series dipakai kalau kamu cuma punya 1 kolom data (misalnya: umur, harga, berat badan).\n",
    "    # Mirip kolom di Excel, tapi 1 dimensi aja.\n",
    "\n",
    "data_umur = pd.Series([23, 25, 22])\n",
    "print(data_umur)\n",
    "\n",
    "# pd.Series(...) → membuat struktur data seperti list tapi ada index (nomor baris)\n",
    "# [23, 25, 22] → daftar data umur"
   ]
  },
  {
   "cell_type": "code",
   "execution_count": null,
   "id": "08c02ae7",
   "metadata": {},
   "outputs": [
    {
     "name": "stdout",
     "output_type": "stream",
     "text": [
      "   Nama  Umur     Kota\n",
      "0   Ali    23  Jakarta\n",
      "1  Budi    25  Bandung\n"
     ]
    }
   ],
   "source": [
    "# Mengambil beberapa baris sekaligus:\n",
    "\n",
    "print(df.iloc[0:2])\n",
    "\n",
    "# Penjelasan:\n",
    "# [0:2] → slicing: mulai dari index ke-0 sampai sebelum index ke-2\n",
    "# Hasilnya adalah DataFrame dengan 2 baris pertama"
   ]
  },
  {
   "cell_type": "code",
   "execution_count": null,
   "id": "395d0ffe",
   "metadata": {},
   "outputs": [
    {
     "name": "stdout",
     "output_type": "stream",
     "text": [
      "Nama       Budi\n",
      "Umur         25\n",
      "Kota    Bandung\n",
      "Name: 1, dtype: object\n"
     ]
    }
   ],
   "source": [
    "# Akses Baris berdasarkan Label dengan .loc[]\n",
    "\n",
    "print(df.loc[1])\n",
    "\n",
    "# Penjelasan:\n",
    "# .loc[] = location by label (nama index)\n",
    "# Karena index-nya default (0, 1, 2), maka df.loc[1] hasilnya sama dengan df.iloc[1]\n",
    "# ambil baris pertama"
   ]
  },
  {
   "cell_type": "markdown",
   "id": "f0fdf7ad",
   "metadata": {},
   "source": [
    "MODUL 3: Transformasi & Pembersihan Data (Data Cleaning)\n",
    " Tujuan:\n",
    "1. Menambahkan, mengubah, dan menghapus kolom\n",
    "2. Menangani data kosong (NaN)\n",
    "3. Mengubah tipe data kolom"
   ]
  },
  {
   "cell_type": "code",
   "execution_count": 73,
   "id": "5563d57a",
   "metadata": {},
   "outputs": [
    {
     "name": "stdout",
     "output_type": "stream",
     "text": [
      "    Nama  Umur     Kota\n",
      "0    Ali  23.0  Jakarta\n",
      "1   Budi  25.0  Bandung\n",
      "2  Citra   NaN     None\n"
     ]
    }
   ],
   "source": [
    "\n",
    "data_2 = {\n",
    "    'Nama': ['Ali', 'Budi', 'Citra'],\n",
    "    'Umur': [23, 25, None],\n",
    "    'Kota': ['Jakarta', 'Bandung', None]\n",
    "}\n",
    "\n",
    "df2 = pd.DataFrame(data_2)\n",
    "print(df2)\n"
   ]
  },
  {
   "cell_type": "code",
   "execution_count": 74,
   "id": "049efe25",
   "metadata": {},
   "outputs": [
    {
     "name": "stdout",
     "output_type": "stream",
     "text": [
      "    Nama  Umur     Kota     Gaji  Pekerjaan\n",
      "0    Ali  23.0  Jakarta  5000000  Developer\n",
      "1   Budi  25.0  Bandung  6000000     Analis\n",
      "2  Citra   NaN     None  4500000      Dosen\n"
     ]
    }
   ],
   "source": [
    "# 1. Menambah Kolom Baru\n",
    "df2['Gaji'] = [5_000_000, 6_000_000, 4_500_000]\n",
    "df2['Pekerjaan'] = ['Developer','Analis','Dosen']\n",
    "\n",
    "print(df2)\n"
   ]
  },
  {
   "cell_type": "code",
   "execution_count": 75,
   "id": "9ff05dd8",
   "metadata": {},
   "outputs": [
    {
     "name": "stdout",
     "output_type": "stream",
     "text": [
      "    Nama  Umur     Kota     Gaji  Pekerjaan\n",
      "0    Ali  24.0  Jakarta  5000000  Developer\n",
      "1   Budi  26.0  Bandung  6000000     Analis\n",
      "2  Citra   NaN     None  4500000      Dosen\n"
     ]
    }
   ],
   "source": [
    "# Mengubah Nilai Kolom (Transformasi)\n",
    "# Contoh: Tambahkan 1 tahun ke umur semua orang\n",
    "\n",
    "df2['Umur'] = df2['Umur'] + 1\n",
    "print(df2)\n",
    "#  Penjelasan:\n",
    "    #  Operasi ini diterapkan ke seluruh kolom 'Umur'\n",
    "    # Nilai NaN tetap jadi NaN (karena operasi matematika pada NaN → hasilnya tetap NaN)\n"
   ]
  },
  {
   "cell_type": "code",
   "execution_count": 63,
   "id": "36c4b826",
   "metadata": {},
   "outputs": [
    {
     "name": "stdout",
     "output_type": "stream",
     "text": [
      "    Nama  Umur     Kota  Pekerjaan     Gaji\n",
      "0    Ali  24.0  Jakarta  Developer  5000000\n",
      "1   Budi  26.0  Bandung     Analis  6000000\n",
      "2  Citra   NaN     None      Dosen  4500000\n",
      "    Nama  Umur     Kota     Gaji\n",
      "0    Ali  24.0  Jakarta  5000000\n",
      "1   Budi  26.0  Bandung  6000000\n",
      "2  Citra   NaN     None  4500000\n"
     ]
    }
   ],
   "source": [
    "# Menghapus Kolom\n",
    "\n",
    "df2['Gaji'] = [5_000_000, 6_000_000, 4_500_000]\n",
    "print(df2)\n",
    "\n",
    "df2.drop(columns ='Pekerjaan', inplace=True)\n",
    "print(df2)\n",
    "\n",
    "# Penjelasan:\n",
    "# drop() = menghapus kolom atau baris\n",
    "# columns='Pekerjaan' → hapus kolom \"Pekerjaan\"\n",
    "# inplace=True → langsung mengubah df tanpa harus assign ke variabel baru"
   ]
  },
  {
   "cell_type": "code",
   "execution_count": 65,
   "id": "1dcc852e",
   "metadata": {},
   "outputs": [
    {
     "name": "stdout",
     "output_type": "stream",
     "text": [
      "Nama    0\n",
      "Umur    1\n",
      "Kota    1\n",
      "Gaji    0\n",
      "dtype: int64\n",
      "Nama    0\n",
      "Umur    0\n",
      "Kota    0\n",
      "dtype: int64\n"
     ]
    }
   ],
   "source": [
    "# cek nilai kosong\n",
    "\n",
    "print(df2.isnull().sum())\n",
    "print(df.isnull().sum())"
   ]
  },
  {
   "cell_type": "code",
   "execution_count": null,
   "id": "1ad93bd4",
   "metadata": {},
   "outputs": [
    {
     "name": "stdout",
     "output_type": "stream",
     "text": [
      "    Nama  Umur             Kota     Gaji  Pekerjaan\n",
      "0    Ali  24.0          Jakarta  5000000  Developer\n",
      "1   Budi  26.0          Bandung  6000000     Analis\n",
      "2  Citra   0.0  Tidak diketahui  4500000      Dosen\n",
      "    Nama  Umur             Kota     Gaji  Pekerjaan\n",
      "0    Ali  24.0          Jakarta  5000000  Developer\n",
      "1   Budi  26.0          Bandung  6000000     Analis\n",
      "2  Citra  28.0  Tidak diketahui  4500000      Dosen\n",
      "    Nama  Umur      Kota     Gaji  Pekerjaan\n",
      "0    Ali  24.0   Jakarta  5000000  Developer\n",
      "1   Budi  26.0   Bandung  6000000     Analis\n",
      "2  Citra  28.0  Semarang  4500000      Dosen\n"
     ]
    },
    {
     "name": "stderr",
     "output_type": "stream",
     "text": [
      "C:\\Users\\rasyi\\AppData\\Local\\Temp\\ipykernel_14448\\1144406360.py:2: FutureWarning: A value is trying to be set on a copy of a DataFrame or Series through chained assignment using an inplace method.\n",
      "The behavior will change in pandas 3.0. This inplace method will never work because the intermediate object on which we are setting values always behaves as a copy.\n",
      "\n",
      "For example, when doing 'df[col].method(value, inplace=True)', try using 'df.method({col: value}, inplace=True)' or df[col] = df[col].method(value) instead, to perform the operation inplace on the original object.\n",
      "\n",
      "\n",
      "  df2['Umur'].fillna(0, inplace=True)\n",
      "C:\\Users\\rasyi\\AppData\\Local\\Temp\\ipykernel_14448\\1144406360.py:3: FutureWarning: A value is trying to be set on a copy of a DataFrame or Series through chained assignment using an inplace method.\n",
      "The behavior will change in pandas 3.0. This inplace method will never work because the intermediate object on which we are setting values always behaves as a copy.\n",
      "\n",
      "For example, when doing 'df[col].method(value, inplace=True)', try using 'df.method({col: value}, inplace=True)' or df[col] = df[col].method(value) instead, to perform the operation inplace on the original object.\n",
      "\n",
      "\n",
      "  df2['Kota'].fillna('Tidak diketahui', inplace=True)\n"
     ]
    }
   ],
   "source": [
    "# Mengisi nilai kosong (fillna)\n",
    "df2['Umur'].fillna(0, inplace=True)\n",
    "df2['Kota'].fillna('Tidak diketahui', inplace=True)\n",
    "print(df2)\n",
    "\n",
    "df_replace = df2.replace ({'Umur': {0: 28}})\n",
    "print(df_replace)\n",
    "\n",
    "df_replace.replace ({'Kota': {'Tidak diketahui': 'Semarang'}}, inplace=True)\n",
    "print(df_replace)\n",
    "\n",
    "# inplace=True → langsung mengubah df tanpa harus assign ke variabel baru"
   ]
  },
  {
   "cell_type": "code",
   "execution_count": 91,
   "id": "20bf1126",
   "metadata": {},
   "outputs": [
    {
     "name": "stdout",
     "output_type": "stream",
     "text": [
      "    Nama  Umur     Kota\n",
      "0    Ali  23.0  Jakarta\n",
      "1   Budi  25.0  Bandung\n",
      "2  Citra   NaN     None\n",
      "   Nama  Umur     Kota\n",
      "0   Ali  23.0  Jakarta\n",
      "1  Budi  25.0  Bandung\n"
     ]
    }
   ],
   "source": [
    "# Menghapus baris yang memiliki nilai kosong\n",
    "\n",
    "data = {\n",
    "    'Nama': ['Ali', 'Budi', 'Citra'],\n",
    "    'Umur': [23, 25, None],\n",
    "    'Kota': ['Jakarta', 'Bandung', None]\n",
    "}\n",
    "df3 = pd.DataFrame(data)\n",
    "print(df3)\n",
    "\n",
    "df3.dropna(inplace=True)\n",
    "print(df3)\n",
    "\n",
    "# Penjelasan:\n",
    "# dropna() → hapus baris yang ada NaN-nya\n",
    "# Cocok untuk data yang tidak bisa diberi nilai default"
   ]
  },
  {
   "cell_type": "code",
   "execution_count": null,
   "id": "1e975fe6",
   "metadata": {},
   "outputs": [
    {
     "name": "stdout",
     "output_type": "stream",
     "text": [
      "   Nama  Umur     Kota\n",
      "0   Ali    24  Jakarta\n",
      "1  Budi    26  Bandung\n"
     ]
    }
   ],
   "source": [
    "# Mengubah Tipe Data Kolom\n",
    "\n",
    "df3['Umur'] = df['Umur'].astype(int) # data sebelumnya float diubah ke integer\n",
    "print(df3)"
   ]
  },
  {
   "cell_type": "markdown",
   "id": "86f5913f",
   "metadata": {},
   "source": [
    "MODUL 4: Grouping, Aggregasi, dan Join Data\n",
    "\n",
    "🎯 Tujuan:\n",
    "- Mengelompokkan data (groupby)\n",
    "- Menghitung agregasi seperti sum(), mean(), count()\n",
    "- Menggabungkan dua DataFrame (merge / join)"
   ]
  },
  {
   "cell_type": "code",
   "execution_count": 102,
   "id": "f946afcd",
   "metadata": {},
   "outputs": [
    {
     "name": "stdout",
     "output_type": "stream",
     "text": [
      "    Nama    Cabang     Gaji\n",
      "0    Ali   Jakarta  5000000\n",
      "1   Budi   Bandung  6000000\n",
      "2  Citra   Jakarta  5500000\n",
      "3   Dina   Bandung  6500000\n",
      "4    Eka  Surabaya  4500000\n"
     ]
    }
   ],
   "source": [
    "data_karyawan = {\n",
    "    'Nama': ['Ali', 'Budi', 'Citra', 'Dina', 'Eka'],\n",
    "    'Cabang': ['Jakarta', 'Bandung', 'Jakarta', 'Bandung', 'Surabaya'],\n",
    "    'Gaji': [5_000_000, 6_000_000, 5_500_000, 6_500_000, 4_500_000]\n",
    "}\n",
    "\n",
    "df4 = pd.DataFrame(data_karyawan)\n",
    "print(df4)\n"
   ]
  },
  {
   "cell_type": "code",
   "execution_count": 118,
   "id": "9462e2de",
   "metadata": {},
   "outputs": [
    {
     "name": "stdout",
     "output_type": "stream",
     "text": [
      "Cabang\n",
      "Bandung     6250000.0\n",
      "Jakarta     5250000.0\n",
      "Surabaya    4500000.0\n",
      "Name: Gaji, dtype: float64\n",
      "Cabang\n",
      "Bandung     6500000\n",
      "Jakarta     5500000\n",
      "Surabaya    4500000\n",
      "Name: Gaji, dtype: int64\n"
     ]
    }
   ],
   "source": [
    "#  1. Grouping (groupby)\n",
    "\n",
    "rata2_gaji = df4.groupby('Cabang')['Gaji'].mean()\n",
    "print(rata2_gaji)\n",
    "\n",
    "max_gaji = df4.groupby('Cabang')['Gaji'].max()\n",
    "print(max_gaji)\n",
    "\n",
    "# Penjelasan:\n",
    "# .groupby('Cabang') → kelompokkan data berdasarkan kolom 'Cabang'\n",
    "# ['Gaji'] → fokus hanya pada kolom \"Gaji\"\n",
    "# .mean() → hitung rata-rata untuk tiap grup\n"
   ]
  },
  {
   "cell_type": "code",
   "execution_count": 119,
   "id": "b1e1b78d",
   "metadata": {},
   "outputs": [
    {
     "name": "stdout",
     "output_type": "stream",
     "text": [
      "Cabang\n",
      "Bandung     2\n",
      "Jakarta     2\n",
      "Surabaya    1\n",
      "Name: Nama, dtype: int64\n",
      "Cabang\n",
      "Bandung     12500000.0\n",
      "Jakarta     10500000.0\n",
      "Surabaya     4500000.0\n",
      "Name: Gaji, dtype: float64\n"
     ]
    }
   ],
   "source": [
    "# count and sum\n",
    "\n",
    "# Jumlah karyawan per cabang\n",
    "\n",
    "print(df4.groupby('Cabang')['Nama'].count())\n",
    "\n",
    "# Total gaji per cabang\n",
    "print(df4.groupby('Cabang')['Gaji'].sum().astype(float)) # ubah hasil integer ke float\n",
    "\n"
   ]
  },
  {
   "cell_type": "code",
   "execution_count": 120,
   "id": "da9dd429",
   "metadata": {},
   "outputs": [
    {
     "name": "stdout",
     "output_type": "stream",
     "text": [
      "              min      max       mean     median\n",
      "Cabang                                          \n",
      "Bandung   6000000  6500000  6250000.0  6250000.0\n",
      "Jakarta   5000000  5500000  5250000.0  5250000.0\n",
      "Surabaya  4500000  4500000  4500000.0  4500000.0\n"
     ]
    }
   ],
   "source": [
    "# Agregasi multiple\n",
    "\n",
    "print(df4.groupby('Cabang')['Gaji'].agg(['min', 'max', 'mean','median']))\n"
   ]
  },
  {
   "cell_type": "code",
   "execution_count": 121,
   "id": "ffea870f",
   "metadata": {},
   "outputs": [
    {
     "name": "stdout",
     "output_type": "stream",
     "text": [
      "     Cabang       Gaji\n",
      "0   Bandung  6250000.0\n",
      "1   Jakarta  5250000.0\n",
      "2  Surabaya  4500000.0\n"
     ]
    }
   ],
   "source": [
    "gaji_per_cabang = df4.groupby('Cabang')['Gaji'].mean().reset_index()\n",
    "print(gaji_per_cabang)\n"
   ]
  },
  {
   "cell_type": "code",
   "execution_count": 122,
   "id": "a376b2e3",
   "metadata": {},
   "outputs": [
    {
     "name": "stdout",
     "output_type": "stream",
     "text": [
      "    Nama    Cabang     Gaji   Bonus\n",
      "0    Ali   Jakarta  5000000  500000\n",
      "1   Budi   Bandung  6000000  600000\n",
      "2  Citra   Jakarta  5500000  550000\n",
      "3   Dina   Bandung  6500000  650000\n",
      "4    Eka  Surabaya  4500000  400000\n"
     ]
    }
   ],
   "source": [
    "# Merge / Join antar DataFrame\n",
    "\n",
    "bonus = pd.DataFrame({\n",
    "    'Nama': ['Ali', 'Budi', 'Citra', 'Dina', 'Eka'],\n",
    "    'Bonus': [500_000, 600_000, 550_000, 650_000, 400_000]\n",
    "})\n",
    "\n",
    "df_merged = pd.merge(df4, bonus, on='Nama')\n",
    "print(df_merged)\n"
   ]
  },
  {
   "cell_type": "code",
   "execution_count": null,
   "id": "52a17e9f",
   "metadata": {},
   "outputs": [
    {
     "name": "stdout",
     "output_type": "stream",
     "text": [
      "   ID   Nama       State  Skor  Tim\n",
      "0   1    Ali  California  80.0    A\n",
      "1   2   Budi      Madura   NaN  NaN\n",
      "2   3  Citra        Jawa  90.0    B\n",
      "    Nama  Skor  Tim  ID       State\n",
      "0    Ali  80.0    A   1  California\n",
      "1   Budi   NaN  NaN   2      Madura\n",
      "2  Citra  90.0    B   3        Jawa\n"
     ]
    }
   ],
   "source": [
    "# join left right\n",
    "\n",
    "# left\n",
    "df_left = pd.DataFrame({\n",
    "    'ID': [1, 2, 3],\n",
    "    'Nama': ['Ali', 'Budi', 'Citra'],\n",
    "    'State' :['California', 'Madura', 'Jawa']\n",
    "})\n",
    "\n",
    "df_right = pd.DataFrame({\n",
    "    'Nama': ['Ali', 'Citra', 'Dina'],\n",
    "    'Skor': [80, 90, 70],\n",
    "    'Tim' : ['A','B','C']\n",
    "})\n",
    "\n",
    "hasil = pd.merge(df_left, df_right, on='Nama', how='left')\n",
    "print(hasil)\n",
    "\n",
    "# how='left' → ambil semua dari df_left, cocokkan data dari kanan\n",
    "# Budi tidak ada di df_right, maka Skor = NaN\n",
    "\n",
    "hasil2 = pd.merge(df_right, df_left, on='Nama', how='right')\n",
    "print(hasil2)\n",
    "\n",
    "# Budi tidak ada di df_right, maka Skor = NaN"
   ]
  },
  {
   "cell_type": "code",
   "execution_count": null,
   "id": "a1724312",
   "metadata": {},
   "outputs": [],
   "source": [
    "# Perbedaan Series dengan Data Frame\n",
    "# | Fitur        | Series                | DataFrame                  |\n",
    "# | ------------ | --------------------- | -------------------------- |\n",
    "# | Dimensi      | 1D (1 kolom)          | 2D (banyak kolom & baris)  |\n",
    "# | Representasi | Seperti 1 kolom tabel | Seperti tabel utuh (Excel) |\n",
    "# | Index        | Ya                    | Ya (untuk baris dan kolom) |\n",
    "# | Akses kolom  | Tidak berlaku         | Bisa pakai `df['kolom']`   |\n",
    "# | Komposisi    | Hanya values          | Gabungan beberapa Series   |\n",
    "\n",
    "# Analogi:\n",
    "# Bayangkan Excel:\n",
    "    # Series = 1 kolom Excel (misalnya kolom \"Umur\")\n",
    "    # DataFrame = 1 sheet Excel (banyak kolom: \"Nama\", \"Umur\", \"Alamat\", dll)"
   ]
  },
  {
   "cell_type": "code",
   "execution_count": 7,
   "id": "657f941e",
   "metadata": {},
   "outputs": [
    {
     "ename": "UnicodeDecodeError",
     "evalue": "'charmap' codec can't decode byte 0x9d in position 16: character maps to <undefined>",
     "output_type": "error",
     "traceback": [
      "\u001b[31m---------------------------------------------------------------------------\u001b[39m",
      "\u001b[31mUnicodeDecodeError\u001b[39m                        Traceback (most recent call last)",
      "\u001b[36mCell\u001b[39m\u001b[36m \u001b[39m\u001b[32mIn[7]\u001b[39m\u001b[32m, line 2\u001b[39m\n\u001b[32m      1\u001b[39m \u001b[38;5;28;01mwith\u001b[39;00m \u001b[38;5;28mopen\u001b[39m(\u001b[33m\"\u001b[39m\u001b[33mD:/Dataset/Global Super Store Dataset/Global_Superstore2_order priority.xlsx\u001b[39m\u001b[33m\"\u001b[39m,\u001b[33m\"\u001b[39m\u001b[33mr\u001b[39m\u001b[33m\"\u001b[39m) \u001b[38;5;28;01mas\u001b[39;00m file :\n\u001b[32m----> \u001b[39m\u001b[32m2\u001b[39m     file_stuff = \u001b[43mfile\u001b[49m\u001b[43m.\u001b[49m\u001b[43mread\u001b[49m\u001b[43m(\u001b[49m\u001b[43m)\u001b[49m\n\u001b[32m      4\u001b[39m \u001b[38;5;28mprint\u001b[39m(file_stuff)\n",
      "\u001b[36mFile \u001b[39m\u001b[32m~\\AppData\\Local\\Programs\\Python\\Python312\\Lib\\encodings\\cp1252.py:23\u001b[39m, in \u001b[36mIncrementalDecoder.decode\u001b[39m\u001b[34m(self, input, final)\u001b[39m\n\u001b[32m     22\u001b[39m \u001b[38;5;28;01mdef\u001b[39;00m\u001b[38;5;250m \u001b[39m\u001b[34mdecode\u001b[39m(\u001b[38;5;28mself\u001b[39m, \u001b[38;5;28minput\u001b[39m, final=\u001b[38;5;28;01mFalse\u001b[39;00m):\n\u001b[32m---> \u001b[39m\u001b[32m23\u001b[39m     \u001b[38;5;28;01mreturn\u001b[39;00m \u001b[43mcodecs\u001b[49m\u001b[43m.\u001b[49m\u001b[43mcharmap_decode\u001b[49m\u001b[43m(\u001b[49m\u001b[38;5;28;43minput\u001b[39;49m\u001b[43m,\u001b[49m\u001b[38;5;28;43mself\u001b[39;49m\u001b[43m.\u001b[49m\u001b[43merrors\u001b[49m\u001b[43m,\u001b[49m\u001b[43mdecoding_table\u001b[49m\u001b[43m)\u001b[49m[\u001b[32m0\u001b[39m]\n",
      "\u001b[31mUnicodeDecodeError\u001b[39m: 'charmap' codec can't decode byte 0x9d in position 16: character maps to <undefined>"
     ]
    }
   ],
   "source": [
    "with open(\"D:/Dataset/Global Super Store Dataset/Global_Superstore2_order priority.xlsx\",\"r\") as file :\n",
    "    file_stuff = file.read()\n",
    "\n",
    "print(file_stuff)"
   ]
  },
  {
   "cell_type": "code",
   "execution_count": 8,
   "id": "e220a1d3",
   "metadata": {},
   "outputs": [
    {
     "ename": "ModuleNotFoundError",
     "evalue": "No module named 'pyodide'",
     "output_type": "error",
     "traceback": [
      "\u001b[31m---------------------------------------------------------------------------\u001b[39m",
      "\u001b[31mModuleNotFoundError\u001b[39m                       Traceback (most recent call last)",
      "\u001b[36mCell\u001b[39m\u001b[36m \u001b[39m\u001b[32mIn[8]\u001b[39m\u001b[32m, line 1\u001b[39m\n\u001b[32m----> \u001b[39m\u001b[32m1\u001b[39m \u001b[38;5;28;01mfrom\u001b[39;00m\u001b[38;5;250m \u001b[39m\u001b[34;01mpyodide\u001b[39;00m\u001b[34;01m.\u001b[39;00m\u001b[34;01mhttp\u001b[39;00m\u001b[38;5;250m \u001b[39m\u001b[38;5;28;01mimport\u001b[39;00m pyfetch\n\u001b[32m      3\u001b[39m \u001b[38;5;28;01mimport\u001b[39;00m\u001b[38;5;250m \u001b[39m\u001b[34;01mpandas\u001b[39;00m\u001b[38;5;250m \u001b[39m\u001b[38;5;28;01mas\u001b[39;00m\u001b[38;5;250m \u001b[39m\u001b[34;01mpd\u001b[39;00m\n\u001b[32m      5\u001b[39m filename = \u001b[33m\"\u001b[39m\u001b[33mhttps://cf-courses-data.s3.us.cloud-object-storage.appdomain.cloud/IBMDeveloperSkillsNetwork-PY0101EN-SkillsNetwork/labs/Module\u001b[39m\u001b[33m%\u001b[39m\u001b[33m204/data/example1.txt\u001b[39m\u001b[33m\"\u001b[39m\n",
      "\u001b[31mModuleNotFoundError\u001b[39m: No module named 'pyodide'"
     ]
    }
   ],
   "source": [
    "from pyodide.http import pyfetch\n",
    "\n",
    "import pandas as pd\n",
    "\n",
    "filename = \"https://cf-courses-data.s3.us.cloud-object-storage.appdomain.cloud/IBMDeveloperSkillsNetwork-PY0101EN-SkillsNetwork/labs/Module%204/data/example1.txt\"\n",
    "\n",
    "async def download(url, filename):\n",
    "\n",
    "    response = await pyfetch(url)\n",
    "\n",
    "    if response.status == 200:\n",
    "\n",
    "        with open(filename, \"wb\") as f:\n",
    "\n",
    "            f.write(await response.bytes())\n",
    "\n",
    "await download(filename, \"example1.txt\")\n",
    "\n",
    "print(\"done\")"
   ]
  },
  {
   "cell_type": "code",
   "execution_count": 3,
   "id": "d8facb65",
   "metadata": {},
   "outputs": [],
   "source": [
    "import pandas as pd"
   ]
  },
  {
   "cell_type": "code",
   "execution_count": 49,
   "id": "40c7d346",
   "metadata": {},
   "outputs": [
    {
     "name": "stdout",
     "output_type": "stream",
     "text": [
      "   Row ID         Order ID  Order Date   Ship Date     Ship Mode Customer ID  \\\n",
      "0   32298   CA-2012-124891  31-07-2012  31-07-2012      Same Day    RH-19495   \n",
      "1   26341    IN-2013-77878  05-02-2013  07-02-2013  Second Class    JR-16210   \n",
      "2   25330    IN-2013-71249  17-10-2013  18-10-2013   First Class    CR-12730   \n",
      "3   13524  ES-2013-1579342  28-01-2013  30-01-2013   First Class    KM-16375   \n",
      "4   47221     SG-2013-4320  05-11-2013  06-11-2013      Same Day     RH-9495   \n",
      "\n",
      "      Customer Name      Segment           City            State  ...  \\\n",
      "0       Rick Hansen     Consumer  New York City         New York  ...   \n",
      "1     Justin Ritter    Corporate     Wollongong  New South Wales  ...   \n",
      "2      Craig Reiter     Consumer       Brisbane       Queensland  ...   \n",
      "3  Katherine Murray  Home Office         Berlin           Berlin  ...   \n",
      "4       Rick Hansen     Consumer          Dakar            Dakar  ...   \n",
      "\n",
      "         Product ID    Category Sub-Category  \\\n",
      "0   TEC-AC-10003033  Technology  Accessories   \n",
      "1   FUR-CH-10003950   Furniture       Chairs   \n",
      "2   TEC-PH-10004664  Technology       Phones   \n",
      "3   TEC-PH-10004583  Technology       Phones   \n",
      "4  TEC-SHA-10000501  Technology      Copiers   \n",
      "\n",
      "                                        Product Name     Sales Quantity  \\\n",
      "0  Plantronics CS510 - Over-the-Head monaural Wir...  2309.650        7   \n",
      "1          Novimex Executive Leather Armchair, Black  3709.395        9   \n",
      "2                  Nokia Smart Phone, with Caller ID  5175.171        9   \n",
      "3                     Motorola Smart Phone, Cordless  2892.510        5   \n",
      "4                     Sharp Wireless Fax, High-Speed  2832.960        8   \n",
      "\n",
      "  Discount    Profit  Shipping Cost  Order Priority  \n",
      "0      0.0  762.1845         933.57        Critical  \n",
      "1      0.1 -288.7650         923.63        Critical  \n",
      "2      0.1  919.9710         915.49          Medium  \n",
      "3      0.1  -96.5400         910.16          Medium  \n",
      "4      0.0  311.5200         903.04        Critical  \n",
      "\n",
      "[5 rows x 24 columns]\n",
      "<bound method NDFrame.head of 0               New York\n",
      "1        New South Wales\n",
      "2             Queensland\n",
      "3                 Berlin\n",
      "4                  Dakar\n",
      "              ...       \n",
      "51285          Hiroshima\n",
      "51286              Texas\n",
      "51287         California\n",
      "51288          São Paulo\n",
      "51289            Managua\n",
      "Name: State, Length: 51290, dtype: object>\n",
      "   Row ID      Order ID  Order Date\n",
      "4   47221  SG-2013-4320  05-11-2013\n",
      "      Customer Name      Segment           City            State\n",
      "0       Rick Hansen     Consumer  New York City         New York\n",
      "1     Justin Ritter    Corporate     Wollongong  New South Wales\n",
      "2      Craig Reiter     Consumer       Brisbane       Queensland\n",
      "3  Katherine Murray  Home Office         Berlin           Berlin\n",
      "4       Rick Hansen     Consumer          Dakar            Dakar\n",
      "5       Jim Mitchum    Corporate         Sydney  New South Wales\n"
     ]
    }
   ],
   "source": [
    "df = pd.read_csv(r\"D:\\Dataset\\Global Super Store Dataset\\Global_Superstore2_detail.csv\", encoding='latin1')\n",
    "# print(df)\n",
    "print(df.head()) # menampilkan 5 data teratas untuk setiap kolom\n",
    "print(df['State'].head) # lima data teratas pada kolom city\n",
    "\n",
    "# # iloc - index location, kita pilih baris dan kolom berdasarkan posisi (index angka)\n",
    "\n",
    "x = df.iloc[0,2] # baris index ke 0 dan kolom index ke 0\n",
    "# print(x)            # ambil baris dengan posisi index 0 sampai 1 (karena 2 tidak termasuk)\n",
    "\n",
    "z = df.iloc[4:5, 0:3] # index baris ke 4\n",
    "# 4:5 mulai dari baris posisi 4 sampai sebelum baris posisi 5.\n",
    "# Karena 5 tidak termasuk, hasilnya cuma 1 baris (baris ke-4 saja).\n",
    "# 0:3 mulai dari kolom posisi 0 sampai sebelum kolom posisi 3.\n",
    "print(z) # outputnya Row ID, Order ID, Order Data pada baris ke 4\n",
    "\n",
    "# loc - pilih berdasarkan label pada index baris atau kolom, berbeda dari iloc, di loc batas akhirnya termasuk\n",
    "\n",
    "y = df.loc[0:5, 'Customer Name':'State'] # pilih index ke 0 sampai 5, 5 ini termasuk bukan tidak termasuk seperti iloc\n",
    "# lalu pilih kolom customer name sampai state\n",
    "print(y)\n",
    "\n"
   ]
  },
  {
   "cell_type": "code",
   "execution_count": null,
   "id": "bbff0266",
   "metadata": {},
   "outputs": [
    {
     "name": "stdout",
     "output_type": "stream",
     "text": [
      "['New York City' 'Wollongong' 'Brisbane' ... 'Abilene' 'Felahiye'\n",
      " 'Victoria Falls']\n",
      "0         New York City\n",
      "1            Wollongong\n",
      "2              Brisbane\n",
      "3                Berlin\n",
      "4                 Dakar\n",
      "             ...       \n",
      "3631       Ormond Beach\n",
      "3632    San Luis Obispo\n",
      "3633            Abilene\n",
      "3634           Felahiye\n",
      "3635     Victoria Falls\n",
      "Length: 3636, dtype: object\n",
      "     Row ID        Order ID  Order Date   Ship Date       Ship Mode  \\\n",
      "0     32298  CA-2012-124891  31-07-2012  31-07-2012        Same Day   \n",
      "36    36423  CA-2011-160766  14-09-2011  14-09-2011        Same Day   \n",
      "50    40046  US-2012-163825  16-06-2012  19-06-2012     First Class   \n",
      "61    39501  CA-2012-114811  08-11-2012  08-11-2012        Same Day   \n",
      "121   37923  CA-2011-145541  14-12-2011  21-12-2011  Standard Class   \n",
      "\n",
      "    Customer ID     Customer Name    Segment           City     State  ...  \\\n",
      "0      RH-19495       Rick Hansen   Consumer  New York City  New York  ...   \n",
      "36     DM-13015     Darrin Martin   Consumer  New York City  New York  ...   \n",
      "50     LC-16885    Lena Creighton   Consumer  New York City  New York  ...   \n",
      "61     KD-16495     Keith Dawkins  Corporate  New York City  New York  ...   \n",
      "121    TB-21400  Tom Boeckenhauer   Consumer  New York City  New York  ...   \n",
      "\n",
      "          Product ID         Category Sub-Category  \\\n",
      "0    TEC-AC-10003033       Technology  Accessories   \n",
      "36   TEC-MA-10003979       Technology     Machines   \n",
      "50   OFF-BI-10003527  Office Supplies      Binders   \n",
      "61   TEC-MA-10000045       Technology     Machines   \n",
      "121  TEC-MA-10001127       Technology     Machines   \n",
      "\n",
      "                                          Product Name     Sales Quantity  \\\n",
      "0    Plantronics CS510 - Over-the-Head monaural Wir...  2309.650        7   \n",
      "36                   Ativa V4110MDD Micro-Cut Shredder  2799.960        4   \n",
      "50   Fellowes PB500 Electric Punch Plastic Comb Bin...  3050.376        3   \n",
      "61                   Zebra ZM400 Thermal Label Printer  4643.800        4   \n",
      "121  HP Designjet T520 Inkjet Large Format Printer ...  6999.960        4   \n",
      "\n",
      "    Discount     Profit  Shipping Cost  Order Priority  \n",
      "0        0.0   762.1845         933.57        Critical  \n",
      "36       0.0  1371.9804         675.15            High  \n",
      "50       0.2  1143.8910         632.05            High  \n",
      "61       0.0  2229.0240         607.34          Medium  \n",
      "121      0.0  2239.9872         499.55          Medium  \n",
      "\n",
      "[5 rows x 24 columns]\n",
      "None\n"
     ]
    }
   ],
   "source": [
    "print(df['City'].unique()) # ambil data unique pada kolom City, outputnya horizontal\n",
    "print(pd.Series(df['City'].unique())) # outputnya vertikal, ditambahkan fungsi series\n",
    "\n",
    "# membuat dataframe baru\n",
    "\n",
    "df1 = df[df['City']=='New York City'] # df baru yg berisikan hanya New York City pada kolom City\n",
    "print(df1.head())\n",
    "print(df1.to_csv('new_order.csv')) # menyimpan dengan format csv di disk\n"
   ]
  }
 ],
 "metadata": {
  "kernelspec": {
   "display_name": ".venv (3.12.1)",
   "language": "python",
   "name": "python3"
  },
  "language_info": {
   "codemirror_mode": {
    "name": "ipython",
    "version": 3
   },
   "file_extension": ".py",
   "mimetype": "text/x-python",
   "name": "python",
   "nbconvert_exporter": "python",
   "pygments_lexer": "ipython3",
   "version": "3.12.1"
  }
 },
 "nbformat": 4,
 "nbformat_minor": 5
}
