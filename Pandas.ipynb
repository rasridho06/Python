{
 "cells": [
  {
   "cell_type": "markdown",
   "id": "7287563d",
   "metadata": {},
   "source": [
    "Pandas adalah library Python untuk memanipulasi dan menganalisis data berbentuk tabel (seperti Excel). Format datanya disebut DataFrame, mirip seperti tabel Excel: baris dan kolom."
   ]
  },
  {
   "cell_type": "code",
   "execution_count": 6,
   "id": "794e76b2",
   "metadata": {},
   "outputs": [],
   "source": [
    "import random"
   ]
  },
  {
   "cell_type": "code",
   "execution_count": 8,
   "id": "b523633d",
   "metadata": {},
   "outputs": [],
   "source": [
    "import pandas as pd"
   ]
  },
  {
   "cell_type": "code",
   "execution_count": null,
   "id": "64a2786e",
   "metadata": {},
   "outputs": [
    {
     "name": "stdout",
     "output_type": "stream",
     "text": [
      "       Nama  Umur        Kota\n",
      "0       Ali    23     Jakarta\n",
      "1      Budi    25     Bandung\n",
      "2     Citra    22    Surabaya\n",
      "3     Ridho    30      Malang\n",
      "4    Rasyid    31      Padang\n",
      "5  Muhammad    32  Banyuwangi\n"
     ]
    }
   ],
   "source": [
    "data = {\n",
    "    'Nama': ['Ali', 'Budi', 'Citra', 'Ridho','Rasyid','Muhammad'], \n",
    "    'Umur': [23, 25, 22, 30, 31, 32],\n",
    "    'Kota': ['Jakarta', 'Bandung', 'Surabaya',\"Malang\", 'Padang','Banyuwangi']\n",
    "}\n",
    "\n",
    "\n",
    "# Ini adalah dictionary (kamus) Python.\n",
    "# Key-nya ('Nama', 'Umur', 'Kota') akan jadi nama kolom\n",
    "# Value-nya (daftar/list) akan jadi isi data di kolom itu\n",
    "\n",
    "df = pd.DataFrame(data)\n",
    "print(df)\n",
    "\n",
    "# df = DataFrame = tabel\n",
    "# Angka di paling kiri (0, 1, 2) = index baris\n",
    "\n"
   ]
  },
  {
   "cell_type": "code",
   "execution_count": null,
   "id": "791265f4",
   "metadata": {},
   "outputs": [
    {
     "data": {
      "text/html": [
       "<div>\n",
       "<style scoped>\n",
       "    .dataframe tbody tr th:only-of-type {\n",
       "        vertical-align: middle;\n",
       "    }\n",
       "\n",
       "    .dataframe tbody tr th {\n",
       "        vertical-align: top;\n",
       "    }\n",
       "\n",
       "    .dataframe thead th {\n",
       "        text-align: right;\n",
       "    }\n",
       "</style>\n",
       "<table border=\"1\" class=\"dataframe\">\n",
       "  <thead>\n",
       "    <tr style=\"text-align: right;\">\n",
       "      <th></th>\n",
       "      <th>Nama</th>\n",
       "      <th>Umur</th>\n",
       "      <th>Kota</th>\n",
       "    </tr>\n",
       "  </thead>\n",
       "  <tbody>\n",
       "    <tr>\n",
       "      <th>0</th>\n",
       "      <td>Ali</td>\n",
       "      <td>23</td>\n",
       "      <td>Jakarta</td>\n",
       "    </tr>\n",
       "    <tr>\n",
       "      <th>1</th>\n",
       "      <td>Budi</td>\n",
       "      <td>25</td>\n",
       "      <td>Bandung</td>\n",
       "    </tr>\n",
       "    <tr>\n",
       "      <th>2</th>\n",
       "      <td>Citra</td>\n",
       "      <td>22</td>\n",
       "      <td>Surabaya</td>\n",
       "    </tr>\n",
       "  </tbody>\n",
       "</table>\n",
       "</div>"
      ],
      "text/plain": [
       "    Nama  Umur      Kota\n",
       "0    Ali    23   Jakarta\n",
       "1   Budi    25   Bandung\n",
       "2  Citra    22  Surabaya"
      ]
     },
     "execution_count": 11,
     "metadata": {},
     "output_type": "execute_result"
    }
   ],
   "source": [
    "df.head()        # Lihat 5 baris pertama"
   ]
  },
  {
   "cell_type": "code",
   "execution_count": 12,
   "id": "d343d070",
   "metadata": {},
   "outputs": [
    {
     "data": {
      "text/html": [
       "<div>\n",
       "<style scoped>\n",
       "    .dataframe tbody tr th:only-of-type {\n",
       "        vertical-align: middle;\n",
       "    }\n",
       "\n",
       "    .dataframe tbody tr th {\n",
       "        vertical-align: top;\n",
       "    }\n",
       "\n",
       "    .dataframe thead th {\n",
       "        text-align: right;\n",
       "    }\n",
       "</style>\n",
       "<table border=\"1\" class=\"dataframe\">\n",
       "  <thead>\n",
       "    <tr style=\"text-align: right;\">\n",
       "      <th></th>\n",
       "      <th>Nama</th>\n",
       "      <th>Umur</th>\n",
       "      <th>Kota</th>\n",
       "    </tr>\n",
       "  </thead>\n",
       "  <tbody>\n",
       "    <tr>\n",
       "      <th>1</th>\n",
       "      <td>Budi</td>\n",
       "      <td>25</td>\n",
       "      <td>Bandung</td>\n",
       "    </tr>\n",
       "    <tr>\n",
       "      <th>2</th>\n",
       "      <td>Citra</td>\n",
       "      <td>22</td>\n",
       "      <td>Surabaya</td>\n",
       "    </tr>\n",
       "  </tbody>\n",
       "</table>\n",
       "</div>"
      ],
      "text/plain": [
       "    Nama  Umur      Kota\n",
       "1   Budi    25   Bandung\n",
       "2  Citra    22  Surabaya"
      ]
     },
     "execution_count": 12,
     "metadata": {},
     "output_type": "execute_result"
    }
   ],
   "source": [
    "df.tail(2)       # Lihat 2 baris terakhir"
   ]
  },
  {
   "cell_type": "code",
   "execution_count": 16,
   "id": "fec94bce",
   "metadata": {},
   "outputs": [
    {
     "name": "stdout",
     "output_type": "stream",
     "text": [
      "<class 'pandas.core.frame.DataFrame'>\n",
      "RangeIndex: 6 entries, 0 to 5\n",
      "Data columns (total 3 columns):\n",
      " #   Column  Non-Null Count  Dtype \n",
      "---  ------  --------------  ----- \n",
      " 0   Nama    6 non-null      object\n",
      " 1   Umur    6 non-null      int64 \n",
      " 2   Kota    6 non-null      object\n",
      "dtypes: int64(1), object(2)\n",
      "memory usage: 276.0+ bytes\n"
     ]
    }
   ],
   "source": [
    "df.info()        # Ringkasan kolom dan tipe data"
   ]
  },
  {
   "cell_type": "code",
   "execution_count": 17,
   "id": "99c0acd7",
   "metadata": {},
   "outputs": [
    {
     "data": {
      "text/html": [
       "<div>\n",
       "<style scoped>\n",
       "    .dataframe tbody tr th:only-of-type {\n",
       "        vertical-align: middle;\n",
       "    }\n",
       "\n",
       "    .dataframe tbody tr th {\n",
       "        vertical-align: top;\n",
       "    }\n",
       "\n",
       "    .dataframe thead th {\n",
       "        text-align: right;\n",
       "    }\n",
       "</style>\n",
       "<table border=\"1\" class=\"dataframe\">\n",
       "  <thead>\n",
       "    <tr style=\"text-align: right;\">\n",
       "      <th></th>\n",
       "      <th>Umur</th>\n",
       "    </tr>\n",
       "  </thead>\n",
       "  <tbody>\n",
       "    <tr>\n",
       "      <th>count</th>\n",
       "      <td>6.000000</td>\n",
       "    </tr>\n",
       "    <tr>\n",
       "      <th>mean</th>\n",
       "      <td>27.166667</td>\n",
       "    </tr>\n",
       "    <tr>\n",
       "      <th>std</th>\n",
       "      <td>4.355074</td>\n",
       "    </tr>\n",
       "    <tr>\n",
       "      <th>min</th>\n",
       "      <td>22.000000</td>\n",
       "    </tr>\n",
       "    <tr>\n",
       "      <th>25%</th>\n",
       "      <td>23.500000</td>\n",
       "    </tr>\n",
       "    <tr>\n",
       "      <th>50%</th>\n",
       "      <td>27.500000</td>\n",
       "    </tr>\n",
       "    <tr>\n",
       "      <th>75%</th>\n",
       "      <td>30.750000</td>\n",
       "    </tr>\n",
       "    <tr>\n",
       "      <th>max</th>\n",
       "      <td>32.000000</td>\n",
       "    </tr>\n",
       "  </tbody>\n",
       "</table>\n",
       "</div>"
      ],
      "text/plain": [
       "            Umur\n",
       "count   6.000000\n",
       "mean   27.166667\n",
       "std     4.355074\n",
       "min    22.000000\n",
       "25%    23.500000\n",
       "50%    27.500000\n",
       "75%    30.750000\n",
       "max    32.000000"
      ]
     },
     "execution_count": 17,
     "metadata": {},
     "output_type": "execute_result"
    }
   ],
   "source": [
    "df.describe()    # Statistik ringkas untuk angka"
   ]
  },
  {
   "cell_type": "code",
   "execution_count": null,
   "id": "bb608fa9",
   "metadata": {},
   "outputs": [
    {
     "data": {
      "text/plain": [
       "0         Ali\n",
       "1        Budi\n",
       "2       Citra\n",
       "3       Ridho\n",
       "4      Rasyid\n",
       "5    Muhammad\n",
       "Name: Nama, dtype: object"
      ]
     },
     "execution_count": 19,
     "metadata": {},
     "output_type": "execute_result"
    }
   ],
   "source": [
    "# Akses satu kolom, outputnya Name: Nama, dtype: object\n",
    "# Hasilnya berupa Series, yaitu satu kolom beserta indeksnya\n",
    "df['Nama']\n"
   ]
  },
  {
   "cell_type": "code",
   "execution_count": null,
   "id": "81a360fd",
   "metadata": {},
   "outputs": [
    {
     "data": {
      "text/html": [
       "<div>\n",
       "<style scoped>\n",
       "    .dataframe tbody tr th:only-of-type {\n",
       "        vertical-align: middle;\n",
       "    }\n",
       "\n",
       "    .dataframe tbody tr th {\n",
       "        vertical-align: top;\n",
       "    }\n",
       "\n",
       "    .dataframe thead th {\n",
       "        text-align: right;\n",
       "    }\n",
       "</style>\n",
       "<table border=\"1\" class=\"dataframe\">\n",
       "  <thead>\n",
       "    <tr style=\"text-align: right;\">\n",
       "      <th></th>\n",
       "      <th>Nama</th>\n",
       "      <th>Umur</th>\n",
       "    </tr>\n",
       "  </thead>\n",
       "  <tbody>\n",
       "    <tr>\n",
       "      <th>0</th>\n",
       "      <td>Ali</td>\n",
       "      <td>23</td>\n",
       "    </tr>\n",
       "    <tr>\n",
       "      <th>1</th>\n",
       "      <td>Budi</td>\n",
       "      <td>25</td>\n",
       "    </tr>\n",
       "    <tr>\n",
       "      <th>2</th>\n",
       "      <td>Citra</td>\n",
       "      <td>22</td>\n",
       "    </tr>\n",
       "    <tr>\n",
       "      <th>3</th>\n",
       "      <td>Ridho</td>\n",
       "      <td>30</td>\n",
       "    </tr>\n",
       "    <tr>\n",
       "      <th>4</th>\n",
       "      <td>Rasyid</td>\n",
       "      <td>31</td>\n",
       "    </tr>\n",
       "    <tr>\n",
       "      <th>5</th>\n",
       "      <td>Muhammad</td>\n",
       "      <td>32</td>\n",
       "    </tr>\n",
       "  </tbody>\n",
       "</table>\n",
       "</div>"
      ],
      "text/plain": [
       "       Nama  Umur\n",
       "0       Ali    23\n",
       "1      Budi    25\n",
       "2     Citra    22\n",
       "3     Ridho    30\n",
       "4    Rasyid    31\n",
       "5  Muhammad    32"
      ]
     },
     "execution_count": 21,
     "metadata": {},
     "output_type": "execute_result"
    }
   ],
   "source": [
    "# Akses beberapa kolom\n",
    "# Harus pakai dua tanda kurung siku karena kita ambil lebih dari satu kolom → bentuknya list di dalam list: [['col1', 'col2']]\n",
    "\n",
    "df[['Nama', 'Umur']]"
   ]
  },
  {
   "cell_type": "code",
   "execution_count": 31,
   "id": "b5fbeb54",
   "metadata": {},
   "outputs": [
    {
     "data": {
      "text/plain": [
       "Nama        Ali\n",
       "Umur         23\n",
       "Kota    Jakarta\n",
       "Name: 0, dtype: object"
      ]
     },
     "execution_count": 31,
     "metadata": {},
     "output_type": "execute_result"
    }
   ],
   "source": [
    "# Mengakses Baris dengan .iloc[] (berdasarkan posisi)\n",
    "# df.iloc[0] → Ambil baris pertama\n",
    "# iloc = \"index location\" (berbasis angka)\n",
    "# Hasilnya berupa Series, 1 baris data beserta nama kolom\n",
    "\n",
    "df.iloc[0]    \n"
   ]
  },
  {
   "cell_type": "code",
   "execution_count": null,
   "id": "91aee9c4",
   "metadata": {},
   "outputs": [
    {
     "data": {
      "text/plain": [
       "'Jakarta'"
      ]
     },
     "execution_count": 33,
     "metadata": {},
     "output_type": "execute_result"
    }
   ],
   "source": [
    "# # Akses nilai spesifik\n",
    "df.iloc[2, 2]  # Baris ke-2, Kolom ke-2\n",
    "# output surabaya karena surabaya berada pada baris ke 2 dan kolom ke"
   ]
  },
  {
   "cell_type": "code",
   "execution_count": null,
   "id": "729a59ea",
   "metadata": {},
   "outputs": [
    {
     "data": {
      "text/html": [
       "<div>\n",
       "<style scoped>\n",
       "    .dataframe tbody tr th:only-of-type {\n",
       "        vertical-align: middle;\n",
       "    }\n",
       "\n",
       "    .dataframe tbody tr th {\n",
       "        vertical-align: top;\n",
       "    }\n",
       "\n",
       "    .dataframe thead th {\n",
       "        text-align: right;\n",
       "    }\n",
       "</style>\n",
       "<table border=\"1\" class=\"dataframe\">\n",
       "  <thead>\n",
       "    <tr style=\"text-align: right;\">\n",
       "      <th></th>\n",
       "      <th>Nama</th>\n",
       "      <th>Umur</th>\n",
       "      <th>Kota</th>\n",
       "    </tr>\n",
       "  </thead>\n",
       "  <tbody>\n",
       "    <tr>\n",
       "      <th>0</th>\n",
       "      <td>Ali</td>\n",
       "      <td>23</td>\n",
       "      <td>Jakarta</td>\n",
       "    </tr>\n",
       "  </tbody>\n",
       "</table>\n",
       "</div>"
      ],
      "text/plain": [
       "  Nama  Umur     Kota\n",
       "0  Ali    23  Jakarta"
      ]
     },
     "execution_count": 43,
     "metadata": {},
     "output_type": "execute_result"
    }
   ],
   "source": [
    "# # Filter (baris dengan umur > 23)\n",
    "df[df['Umur'] > 23]\n",
    "df[df['Kota'] == 'Jakarta'] # baris dengan filter kota jakarta"
   ]
  },
  {
   "cell_type": "code",
   "execution_count": null,
   "id": "5b69d7b0",
   "metadata": {},
   "outputs": [
    {
     "name": "stdout",
     "output_type": "stream",
     "text": [
      "0    23\n",
      "1    25\n",
      "2    22\n",
      "dtype: int64\n"
     ]
    }
   ],
   "source": [
    "#  Membuat Series – struktur data 1 dimensi\n",
    "\n",
    "# Kenapa pakai Series?\n",
    "    # Series dipakai kalau kamu cuma punya 1 kolom data (misalnya: umur, harga, berat badan).\n",
    "    # Mirip kolom di Excel, tapi 1 dimensi aja.\n",
    "\n",
    "data_umur = pd.Series([23, 25, 22])\n",
    "print(data_umur)\n",
    "\n",
    "# pd.Series(...) → membuat struktur data seperti list tapi ada index (nomor baris)\n",
    "# [23, 25, 22] → daftar data umur"
   ]
  },
  {
   "cell_type": "code",
   "execution_count": null,
   "id": "08c02ae7",
   "metadata": {},
   "outputs": [
    {
     "name": "stdout",
     "output_type": "stream",
     "text": [
      "   Nama  Umur     Kota\n",
      "0   Ali    23  Jakarta\n",
      "1  Budi    25  Bandung\n"
     ]
    }
   ],
   "source": [
    "# Mengambil beberapa baris sekaligus:\n",
    "\n",
    "print(df.iloc[0:2])\n",
    "\n",
    "# Penjelasan:\n",
    "# [0:2] → slicing: mulai dari index ke-0 sampai sebelum index ke-2\n",
    "# Hasilnya adalah DataFrame dengan 2 baris pertama"
   ]
  },
  {
   "cell_type": "code",
   "execution_count": null,
   "id": "395d0ffe",
   "metadata": {},
   "outputs": [
    {
     "name": "stdout",
     "output_type": "stream",
     "text": [
      "Nama       Budi\n",
      "Umur         25\n",
      "Kota    Bandung\n",
      "Name: 1, dtype: object\n"
     ]
    }
   ],
   "source": [
    "# Akses Baris berdasarkan Label dengan .loc[]\n",
    "\n",
    "print(df.loc[1])\n",
    "\n",
    "# Penjelasan:\n",
    "# .loc[] = location by label (nama index)\n",
    "# Karena index-nya default (0, 1, 2), maka df.loc[1] hasilnya sama dengan df.iloc[1]\n",
    "# ambil baris pertama"
   ]
  },
  {
   "cell_type": "markdown",
   "id": "f0fdf7ad",
   "metadata": {},
   "source": [
    "MODUL 3: Transformasi & Pembersihan Data (Data Cleaning)\n",
    " Tujuan:\n",
    "1. Menambahkan, mengubah, dan menghapus kolom\n",
    "2. Menangani data kosong (NaN)\n",
    "3. Mengubah tipe data kolom"
   ]
  },
  {
   "cell_type": "code",
   "execution_count": 73,
   "id": "5563d57a",
   "metadata": {},
   "outputs": [
    {
     "name": "stdout",
     "output_type": "stream",
     "text": [
      "    Nama  Umur     Kota\n",
      "0    Ali  23.0  Jakarta\n",
      "1   Budi  25.0  Bandung\n",
      "2  Citra   NaN     None\n"
     ]
    }
   ],
   "source": [
    "\n",
    "data_2 = {\n",
    "    'Nama': ['Ali', 'Budi', 'Citra'],\n",
    "    'Umur': [23, 25, None],\n",
    "    'Kota': ['Jakarta', 'Bandung', None]\n",
    "}\n",
    "\n",
    "df2 = pd.DataFrame(data_2)\n",
    "print(df2)\n"
   ]
  },
  {
   "cell_type": "code",
   "execution_count": 74,
   "id": "049efe25",
   "metadata": {},
   "outputs": [
    {
     "name": "stdout",
     "output_type": "stream",
     "text": [
      "    Nama  Umur     Kota     Gaji  Pekerjaan\n",
      "0    Ali  23.0  Jakarta  5000000  Developer\n",
      "1   Budi  25.0  Bandung  6000000     Analis\n",
      "2  Citra   NaN     None  4500000      Dosen\n"
     ]
    }
   ],
   "source": [
    "# 1. Menambah Kolom Baru\n",
    "df2['Gaji'] = [5_000_000, 6_000_000, 4_500_000]\n",
    "df2['Pekerjaan'] = ['Developer','Analis','Dosen']\n",
    "\n",
    "print(df2)\n"
   ]
  },
  {
   "cell_type": "code",
   "execution_count": 75,
   "id": "9ff05dd8",
   "metadata": {},
   "outputs": [
    {
     "name": "stdout",
     "output_type": "stream",
     "text": [
      "    Nama  Umur     Kota     Gaji  Pekerjaan\n",
      "0    Ali  24.0  Jakarta  5000000  Developer\n",
      "1   Budi  26.0  Bandung  6000000     Analis\n",
      "2  Citra   NaN     None  4500000      Dosen\n"
     ]
    }
   ],
   "source": [
    "# Mengubah Nilai Kolom (Transformasi)\n",
    "# Contoh: Tambahkan 1 tahun ke umur semua orang\n",
    "\n",
    "df2['Umur'] = df2['Umur'] + 1\n",
    "print(df2)\n",
    "#  Penjelasan:\n",
    "    #  Operasi ini diterapkan ke seluruh kolom 'Umur'\n",
    "    # Nilai NaN tetap jadi NaN (karena operasi matematika pada NaN → hasilnya tetap NaN)\n"
   ]
  },
  {
   "cell_type": "code",
   "execution_count": 63,
   "id": "36c4b826",
   "metadata": {},
   "outputs": [
    {
     "name": "stdout",
     "output_type": "stream",
     "text": [
      "    Nama  Umur     Kota  Pekerjaan     Gaji\n",
      "0    Ali  24.0  Jakarta  Developer  5000000\n",
      "1   Budi  26.0  Bandung     Analis  6000000\n",
      "2  Citra   NaN     None      Dosen  4500000\n",
      "    Nama  Umur     Kota     Gaji\n",
      "0    Ali  24.0  Jakarta  5000000\n",
      "1   Budi  26.0  Bandung  6000000\n",
      "2  Citra   NaN     None  4500000\n"
     ]
    }
   ],
   "source": [
    "# Menghapus Kolom\n",
    "\n",
    "df2['Gaji'] = [5_000_000, 6_000_000, 4_500_000]\n",
    "print(df2)\n",
    "\n",
    "df2.drop(columns ='Pekerjaan', inplace=True)\n",
    "print(df2)\n",
    "\n",
    "# Penjelasan:\n",
    "# drop() = menghapus kolom atau baris\n",
    "# columns='Pekerjaan' → hapus kolom \"Pekerjaan\"\n",
    "# inplace=True → langsung mengubah df tanpa harus assign ke variabel baru"
   ]
  },
  {
   "cell_type": "code",
   "execution_count": 65,
   "id": "1dcc852e",
   "metadata": {},
   "outputs": [
    {
     "name": "stdout",
     "output_type": "stream",
     "text": [
      "Nama    0\n",
      "Umur    1\n",
      "Kota    1\n",
      "Gaji    0\n",
      "dtype: int64\n",
      "Nama    0\n",
      "Umur    0\n",
      "Kota    0\n",
      "dtype: int64\n"
     ]
    }
   ],
   "source": [
    "# cek nilai kosong\n",
    "\n",
    "print(df2.isnull().sum())\n",
    "print(df.isnull().sum())"
   ]
  },
  {
   "cell_type": "code",
   "execution_count": null,
   "id": "1ad93bd4",
   "metadata": {},
   "outputs": [
    {
     "name": "stdout",
     "output_type": "stream",
     "text": [
      "    Nama  Umur             Kota     Gaji  Pekerjaan\n",
      "0    Ali  24.0          Jakarta  5000000  Developer\n",
      "1   Budi  26.0          Bandung  6000000     Analis\n",
      "2  Citra   0.0  Tidak diketahui  4500000      Dosen\n",
      "    Nama  Umur             Kota     Gaji  Pekerjaan\n",
      "0    Ali  24.0          Jakarta  5000000  Developer\n",
      "1   Budi  26.0          Bandung  6000000     Analis\n",
      "2  Citra  28.0  Tidak diketahui  4500000      Dosen\n",
      "    Nama  Umur      Kota     Gaji  Pekerjaan\n",
      "0    Ali  24.0   Jakarta  5000000  Developer\n",
      "1   Budi  26.0   Bandung  6000000     Analis\n",
      "2  Citra  28.0  Semarang  4500000      Dosen\n"
     ]
    },
    {
     "name": "stderr",
     "output_type": "stream",
     "text": [
      "C:\\Users\\rasyi\\AppData\\Local\\Temp\\ipykernel_14448\\1144406360.py:2: FutureWarning: A value is trying to be set on a copy of a DataFrame or Series through chained assignment using an inplace method.\n",
      "The behavior will change in pandas 3.0. This inplace method will never work because the intermediate object on which we are setting values always behaves as a copy.\n",
      "\n",
      "For example, when doing 'df[col].method(value, inplace=True)', try using 'df.method({col: value}, inplace=True)' or df[col] = df[col].method(value) instead, to perform the operation inplace on the original object.\n",
      "\n",
      "\n",
      "  df2['Umur'].fillna(0, inplace=True)\n",
      "C:\\Users\\rasyi\\AppData\\Local\\Temp\\ipykernel_14448\\1144406360.py:3: FutureWarning: A value is trying to be set on a copy of a DataFrame or Series through chained assignment using an inplace method.\n",
      "The behavior will change in pandas 3.0. This inplace method will never work because the intermediate object on which we are setting values always behaves as a copy.\n",
      "\n",
      "For example, when doing 'df[col].method(value, inplace=True)', try using 'df.method({col: value}, inplace=True)' or df[col] = df[col].method(value) instead, to perform the operation inplace on the original object.\n",
      "\n",
      "\n",
      "  df2['Kota'].fillna('Tidak diketahui', inplace=True)\n"
     ]
    }
   ],
   "source": [
    "# Mengisi nilai kosong (fillna)\n",
    "df2['Umur'].fillna(0, inplace=True)\n",
    "df2['Kota'].fillna('Tidak diketahui', inplace=True)\n",
    "print(df2)\n",
    "\n",
    "df_replace = df2.replace ({'Umur': {0: 28}})\n",
    "print(df_replace)\n",
    "\n",
    "df_replace.replace ({'Kota': {'Tidak diketahui': 'Semarang'}}, inplace=True)\n",
    "print(df_replace)\n",
    "\n",
    "# inplace=True → langsung mengubah df tanpa harus assign ke variabel baru"
   ]
  },
  {
   "cell_type": "code",
   "execution_count": 91,
   "id": "20bf1126",
   "metadata": {},
   "outputs": [
    {
     "name": "stdout",
     "output_type": "stream",
     "text": [
      "    Nama  Umur     Kota\n",
      "0    Ali  23.0  Jakarta\n",
      "1   Budi  25.0  Bandung\n",
      "2  Citra   NaN     None\n",
      "   Nama  Umur     Kota\n",
      "0   Ali  23.0  Jakarta\n",
      "1  Budi  25.0  Bandung\n"
     ]
    }
   ],
   "source": [
    "# Menghapus baris yang memiliki nilai kosong\n",
    "\n",
    "data = {\n",
    "    'Nama': ['Ali', 'Budi', 'Citra'],\n",
    "    'Umur': [23, 25, None],\n",
    "    'Kota': ['Jakarta', 'Bandung', None]\n",
    "}\n",
    "df3 = pd.DataFrame(data)\n",
    "print(df3)\n",
    "\n",
    "df3.dropna(inplace=True)\n",
    "print(df3)\n",
    "\n",
    "# Penjelasan:\n",
    "# dropna() → hapus baris yang ada NaN-nya\n",
    "# Cocok untuk data yang tidak bisa diberi nilai default"
   ]
  },
  {
   "cell_type": "code",
   "execution_count": null,
   "id": "1e975fe6",
   "metadata": {},
   "outputs": [
    {
     "name": "stdout",
     "output_type": "stream",
     "text": [
      "   Nama  Umur     Kota\n",
      "0   Ali    24  Jakarta\n",
      "1  Budi    26  Bandung\n"
     ]
    }
   ],
   "source": [
    "# Mengubah Tipe Data Kolom\n",
    "\n",
    "df3['Umur'] = df['Umur'].astype(int) # data sebelumnya float diubah ke integer\n",
    "print(df3)"
   ]
  },
  {
   "cell_type": "markdown",
   "id": "86f5913f",
   "metadata": {},
   "source": [
    "MODUL 4: Grouping, Aggregasi, dan Join Data\n",
    "\n",
    "🎯 Tujuan:\n",
    "- Mengelompokkan data (groupby)\n",
    "- Menghitung agregasi seperti sum(), mean(), count()\n",
    "- Menggabungkan dua DataFrame (merge / join)"
   ]
  },
  {
   "cell_type": "code",
   "execution_count": 102,
   "id": "f946afcd",
   "metadata": {},
   "outputs": [
    {
     "name": "stdout",
     "output_type": "stream",
     "text": [
      "    Nama    Cabang     Gaji\n",
      "0    Ali   Jakarta  5000000\n",
      "1   Budi   Bandung  6000000\n",
      "2  Citra   Jakarta  5500000\n",
      "3   Dina   Bandung  6500000\n",
      "4    Eka  Surabaya  4500000\n"
     ]
    }
   ],
   "source": [
    "data_karyawan = {\n",
    "    'Nama': ['Ali', 'Budi', 'Citra', 'Dina', 'Eka'],\n",
    "    'Cabang': ['Jakarta', 'Bandung', 'Jakarta', 'Bandung', 'Surabaya'],\n",
    "    'Gaji': [5_000_000, 6_000_000, 5_500_000, 6_500_000, 4_500_000]\n",
    "}\n",
    "\n",
    "df4 = pd.DataFrame(data_karyawan)\n",
    "print(df4)\n"
   ]
  },
  {
   "cell_type": "code",
   "execution_count": 118,
   "id": "9462e2de",
   "metadata": {},
   "outputs": [
    {
     "name": "stdout",
     "output_type": "stream",
     "text": [
      "Cabang\n",
      "Bandung     6250000.0\n",
      "Jakarta     5250000.0\n",
      "Surabaya    4500000.0\n",
      "Name: Gaji, dtype: float64\n",
      "Cabang\n",
      "Bandung     6500000\n",
      "Jakarta     5500000\n",
      "Surabaya    4500000\n",
      "Name: Gaji, dtype: int64\n"
     ]
    }
   ],
   "source": [
    "#  1. Grouping (groupby)\n",
    "\n",
    "rata2_gaji = df4.groupby('Cabang')['Gaji'].mean()\n",
    "print(rata2_gaji)\n",
    "\n",
    "max_gaji = df4.groupby('Cabang')['Gaji'].max()\n",
    "print(max_gaji)\n",
    "\n",
    "# Penjelasan:\n",
    "# .groupby('Cabang') → kelompokkan data berdasarkan kolom 'Cabang'\n",
    "# ['Gaji'] → fokus hanya pada kolom \"Gaji\"\n",
    "# .mean() → hitung rata-rata untuk tiap grup\n"
   ]
  },
  {
   "cell_type": "code",
   "execution_count": 119,
   "id": "b1e1b78d",
   "metadata": {},
   "outputs": [
    {
     "name": "stdout",
     "output_type": "stream",
     "text": [
      "Cabang\n",
      "Bandung     2\n",
      "Jakarta     2\n",
      "Surabaya    1\n",
      "Name: Nama, dtype: int64\n",
      "Cabang\n",
      "Bandung     12500000.0\n",
      "Jakarta     10500000.0\n",
      "Surabaya     4500000.0\n",
      "Name: Gaji, dtype: float64\n"
     ]
    }
   ],
   "source": [
    "# count and sum\n",
    "\n",
    "# Jumlah karyawan per cabang\n",
    "\n",
    "print(df4.groupby('Cabang')['Nama'].count())\n",
    "\n",
    "# Total gaji per cabang\n",
    "print(df4.groupby('Cabang')['Gaji'].sum().astype(float)) # ubah hasil integer ke float\n",
    "\n"
   ]
  },
  {
   "cell_type": "code",
   "execution_count": 120,
   "id": "da9dd429",
   "metadata": {},
   "outputs": [
    {
     "name": "stdout",
     "output_type": "stream",
     "text": [
      "              min      max       mean     median\n",
      "Cabang                                          \n",
      "Bandung   6000000  6500000  6250000.0  6250000.0\n",
      "Jakarta   5000000  5500000  5250000.0  5250000.0\n",
      "Surabaya  4500000  4500000  4500000.0  4500000.0\n"
     ]
    }
   ],
   "source": [
    "# Agregasi multiple\n",
    "\n",
    "print(df4.groupby('Cabang')['Gaji'].agg(['min', 'max', 'mean','median']))\n"
   ]
  },
  {
   "cell_type": "code",
   "execution_count": 121,
   "id": "ffea870f",
   "metadata": {},
   "outputs": [
    {
     "name": "stdout",
     "output_type": "stream",
     "text": [
      "     Cabang       Gaji\n",
      "0   Bandung  6250000.0\n",
      "1   Jakarta  5250000.0\n",
      "2  Surabaya  4500000.0\n"
     ]
    }
   ],
   "source": [
    "gaji_per_cabang = df4.groupby('Cabang')['Gaji'].mean().reset_index()\n",
    "print(gaji_per_cabang)\n"
   ]
  },
  {
   "cell_type": "code",
   "execution_count": 122,
   "id": "a376b2e3",
   "metadata": {},
   "outputs": [
    {
     "name": "stdout",
     "output_type": "stream",
     "text": [
      "    Nama    Cabang     Gaji   Bonus\n",
      "0    Ali   Jakarta  5000000  500000\n",
      "1   Budi   Bandung  6000000  600000\n",
      "2  Citra   Jakarta  5500000  550000\n",
      "3   Dina   Bandung  6500000  650000\n",
      "4    Eka  Surabaya  4500000  400000\n"
     ]
    }
   ],
   "source": [
    "# Merge / Join antar DataFrame\n",
    "\n",
    "bonus = pd.DataFrame({\n",
    "    'Nama': ['Ali', 'Budi', 'Citra', 'Dina', 'Eka'],\n",
    "    'Bonus': [500_000, 600_000, 550_000, 650_000, 400_000]\n",
    "})\n",
    "\n",
    "df_merged = pd.merge(df4, bonus, on='Nama')\n",
    "print(df_merged)\n"
   ]
  },
  {
   "cell_type": "code",
   "execution_count": null,
   "id": "52a17e9f",
   "metadata": {},
   "outputs": [
    {
     "name": "stdout",
     "output_type": "stream",
     "text": [
      "   ID   Nama       State  Skor  Tim\n",
      "0   1    Ali  California  80.0    A\n",
      "1   2   Budi      Madura   NaN  NaN\n",
      "2   3  Citra        Jawa  90.0    B\n",
      "    Nama  Skor  Tim  ID       State\n",
      "0    Ali  80.0    A   1  California\n",
      "1   Budi   NaN  NaN   2      Madura\n",
      "2  Citra  90.0    B   3        Jawa\n"
     ]
    }
   ],
   "source": [
    "# join left right\n",
    "\n",
    "# left\n",
    "df_left = pd.DataFrame({\n",
    "    'ID': [1, 2, 3],\n",
    "    'Nama': ['Ali', 'Budi', 'Citra'],\n",
    "    'State' :['California', 'Madura', 'Jawa']\n",
    "})\n",
    "\n",
    "df_right = pd.DataFrame({\n",
    "    'Nama': ['Ali', 'Citra', 'Dina'],\n",
    "    'Skor': [80, 90, 70],\n",
    "    'Tim' : ['A','B','C']\n",
    "})\n",
    "\n",
    "hasil = pd.merge(df_left, df_right, on='Nama', how='left')\n",
    "print(hasil)\n",
    "\n",
    "# how='left' → ambil semua dari df_left, cocokkan data dari kanan\n",
    "# Budi tidak ada di df_right, maka Skor = NaN\n",
    "\n",
    "hasil2 = pd.merge(df_right, df_left, on='Nama', how='right')\n",
    "print(hasil2)\n",
    "\n",
    "# Budi tidak ada di df_right, maka Skor = NaN"
   ]
  },
  {
   "cell_type": "code",
   "execution_count": null,
   "id": "a1724312",
   "metadata": {},
   "outputs": [],
   "source": []
  }
 ],
 "metadata": {
  "kernelspec": {
   "display_name": ".venv",
   "language": "python",
   "name": "python3"
  },
  "language_info": {
   "codemirror_mode": {
    "name": "ipython",
    "version": 3
   },
   "file_extension": ".py",
   "mimetype": "text/x-python",
   "name": "python",
   "nbconvert_exporter": "python",
   "pygments_lexer": "ipython3",
   "version": "3.12.1"
  }
 },
 "nbformat": 4,
 "nbformat_minor": 5
}
