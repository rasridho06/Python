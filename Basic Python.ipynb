{
 "cells": [
  {
   "cell_type": "markdown",
   "metadata": {},
   "source": [
    "Basic Python"
   ]
  },
  {
   "cell_type": "code",
   "execution_count": 2,
   "metadata": {},
   "outputs": [
    {
     "name": "stdout",
     "output_type": "stream",
     "text": [
      "nomor ini adalah 9\n",
      "nomor itu adalah 12\n"
     ]
    }
   ],
   "source": [
    "print(\"nomor ini adalah\", 3*3)\n",
    "# ridho\n",
    "# muhammad rasyid ridho using control+/\n"
   ]
  },
  {
   "cell_type": "code",
   "execution_count": 14,
   "metadata": {},
   "outputs": [
    {
     "name": "stdout",
     "output_type": "stream",
     "text": [
      "ridho 18 tahun 183.7cm\n"
     ]
    }
   ],
   "source": [
    "nama = 'ridho' #string atau berkutip baik titik 1 atau dua\n",
    "usia = 18 #integer karena bilangan asli/bukan desimal\n",
    "tinggi_badan = 183.7 #float karena desimal\n",
    "\n",
    "# print(nama + usia + tinggi_badan) #error karena memiliki variabel dengan tipe data berbeda\n",
    "# oleh karena perlu convert ke integer atau menyesuaikan dgn type data yg diinginkan\n",
    "# str() untuk ubah ke string\n",
    "# int() untuk ubah ke integer\n",
    "# float() untuk ubah ke float/decimal\n",
    "\n",
    "print(nama + \" \" + str(usia) +\" tahun\"+ \" \" + str(tinggi_badan) + \"cm\")\n"
   ]
  },
  {
   "cell_type": "code",
   "execution_count": 7,
   "metadata": {},
   "outputs": [
    {
     "name": "stdout",
     "output_type": "stream",
     "text": [
      "False\n"
     ]
    }
   ],
   "source": [
    "sedang_kuliah = True\n",
    "sedang_kuliah = False #variabel kedua akan mereplace yang pertama karena codingan dibaca dari atas ke bawah\n",
    "print(sedang_kuliah)"
   ]
  },
  {
   "cell_type": "code",
   "execution_count": 1,
   "metadata": {},
   "outputs": [
    {
     "name": "stdout",
     "output_type": "stream",
     "text": [
      "ridho\n"
     ]
    }
   ],
   "source": [
    "# Input User\n",
    "# function input digunakan untuk menerima input langsung dari keyboard\n",
    "# menerima satu buah parameter string,\n",
    "# yang mana parameter tersebut akan ditampilkan di layar sebelum user memasukkan sebuah data\n",
    "\n",
    "input_nama = input(\"siapa nama kamu?\")\n",
    "print(input_nama)\n"
   ]
  },
  {
   "cell_type": "code",
   "execution_count": 11,
   "metadata": {},
   "outputs": [
    {
     "name": "stdout",
     "output_type": "stream",
     "text": [
      "hasilnya adalah: 7\n"
     ]
    }
   ],
   "source": [
    "a = input(\"angka ganjil\") #output string\n",
    "b = input(\"angka genap\") #output string\n",
    "c_str = a+b\n",
    "\n",
    "# print(c_str)  jika print seperti ini maka outpunya akan 12 bukan 3 \n",
    "# karena type data string tidak bisa menggunakan operasi matematika \n",
    "\n",
    "c_int = int(a)+int(b)\n",
    "# a = 2\n",
    "# b = 3\n",
    "# print('hasilnya adalah' + c_int) #jika seperti ini akan error karena function print\n",
    "# akan menghasilkan output string+integer\n",
    "# solusinya adalah menambahkan str pada c_int untuk mengubah c_int dair integer ke string\n",
    "\n",
    "print('hasilnya adalah: ' + str(c_int))"
   ]
  },
  {
   "cell_type": "code",
   "execution_count": 20,
   "metadata": {},
   "outputs": [
    {
     "name": "stdout",
     "output_type": "stream",
     "text": [
      "hasilnya adalah: 0.75\n"
     ]
    }
   ],
   "source": [
    "# Pembulatan\n",
    "\n",
    "a = input(\"angka ganjil\") #output string\n",
    "b = input(\"angka genap\") #output string\n",
    "c_str = a+b\n",
    "c_int = int(a) / int(b) # jika hanya menggunakan satu / maka akan muncul output .0 atau desimal\n",
    "# jika menggunakan 2 tanda // maka akan membulatkan ke bawah misal dari 0,75 ke 0\n",
    "\n",
    "\n",
    "print('hasilnya adalah: ' + str(c_int))"
   ]
  },
  {
   "cell_type": "code",
   "execution_count": 25,
   "metadata": {},
   "outputs": [
    {
     "name": "stdout",
     "output_type": "stream",
     "text": [
      "127628156.25000003\n"
     ]
    }
   ],
   "source": [
    "# Compound Interest\n",
    "\n",
    "saldo_awal = input('berapa saldo awalmu :')\n",
    "interest = 0.05\n",
    "lama_investasi = 5\n",
    "compound_interest = int(saldo_awal)*(1 + interest) ** lama_investasi\n",
    "# saldo awal harus diubah ke integer dahulu karena type awalnya String\n",
    "\n",
    "print(compound_interest)"
   ]
  },
  {
   "cell_type": "code",
   "execution_count": 37,
   "metadata": {},
   "outputs": [
    {
     "name": "stdout",
     "output_type": "stream",
     "text": [
      "1\n",
      "13\n",
      "21\n",
      "False\n",
      "RIDHO\n"
     ]
    }
   ],
   "source": [
    "# Character Function\n",
    "\n",
    "nama = \"ridho\"\n",
    "\n",
    "print (nama.find('i')) \n",
    "# outputnya yaitu urutan huruf i dalam variabel\n",
    "# mengapa nomor urutnya 1? karena nomor urut dalam python dimulai dari 0\n",
    "\n",
    "nama_lengkap = \"muhammad rasyid ridho\"\n",
    "\n",
    "print (nama_lengkap.find('i'))\n",
    "# outputnya 13 karena nomor urut i diambil dari kemunculan pertama\n",
    "# i pada ridho tidak diambil karena bukan kemunculan pertama\n",
    "\n",
    "print(len(nama_lengkap)) # len untuk menghitung jumlah karakter pada string\n",
    "\n",
    "print('R' in nama) # in digunakan untuk mencari keberadaannya benar atau salah\n",
    "# R akan memiliki output False karena pada variabel nama menggunakan huruf R kecil\n",
    "\n",
    "print(nama.upper()) # upper untuk"
   ]
  },
  {
   "cell_type": "code",
   "execution_count": null,
   "metadata": {},
   "outputs": [],
   "source": []
  }
 ],
 "metadata": {
  "kernelspec": {
   "display_name": "Python 3",
   "language": "python",
   "name": "python3"
  },
  "language_info": {
   "codemirror_mode": {
    "name": "ipython",
    "version": 3
   },
   "file_extension": ".py",
   "mimetype": "text/x-python",
   "name": "python",
   "nbconvert_exporter": "python",
   "pygments_lexer": "ipython3",
   "version": "3.12.1"
  }
 },
 "nbformat": 4,
 "nbformat_minor": 2
}
