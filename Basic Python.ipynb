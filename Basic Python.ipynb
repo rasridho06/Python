{
 "cells": [
  {
   "cell_type": "markdown",
   "metadata": {},
   "source": [
    "Basic Python"
   ]
  },
  {
   "cell_type": "code",
   "execution_count": 2,
   "metadata": {},
   "outputs": [
    {
     "name": "stdout",
     "output_type": "stream",
     "text": [
      "nomor ini adalah 9\n",
      "nomor itu adalah 12\n"
     ]
    }
   ],
   "source": [
    "print(\"nomor ini adalah\", 3*3)\n",
    "# ridho\n",
    "# muhammad rasyid ridho using control+/\n"
   ]
  },
  {
   "cell_type": "code",
   "execution_count": 14,
   "metadata": {},
   "outputs": [
    {
     "name": "stdout",
     "output_type": "stream",
     "text": [
      "ridho 18 tahun 183.7cm\n"
     ]
    }
   ],
   "source": [
    "nama = 'ridho' #string atau berkutip baik titik 1 atau dua\n",
    "usia = 18 #integer karena bilangan asli/bukan desimal\n",
    "tinggi_badan = 183.7 #float karena desimal\n",
    "\n",
    "# print(nama + usia + tinggi_badan) #error karena memiliki variabel dengan tipe data berbeda\n",
    "# oleh karena perlu convert ke integer atau menyesuaikan dgn type data yg diinginkan\n",
    "# str() untuk ubah ke string\n",
    "# int() untuk ubah ke integer\n",
    "# float() untuk ubah ke float/decimal\n",
    "\n",
    "print(nama + \" \" + str(usia) +\" tahun\"+ \" \" + str(tinggi_badan) + \"cm\")\n"
   ]
  },
  {
   "cell_type": "code",
   "execution_count": 1,
   "metadata": {},
   "outputs": [
    {
     "name": "stdout",
     "output_type": "stream",
     "text": [
      "Ya, benar Nama Anda adalah\n",
      "Muhammad Rasyid Ridho\n"
     ]
    }
   ],
   "source": [
    "def siapa_namaku (nama):\n",
    "  print(\"Ya, benar Nama Anda adalah\")\n",
    "  print(\"Muhammad Rasyid Ridho\")\n",
    "\n",
    "nama = input(\"Nama Anda\")\n",
    "\n",
    "siapa_namaku (nama)"
   ]
  },
  {
   "cell_type": "code",
   "execution_count": 7,
   "metadata": {},
   "outputs": [
    {
     "name": "stdout",
     "output_type": "stream",
     "text": [
      "False\n"
     ]
    }
   ],
   "source": [
    "sedang_kuliah = True\n",
    "sedang_kuliah = False #variabel kedua akan mereplace yang pertama karena codingan dibaca dari atas ke bawah\n",
    "print(sedang_kuliah)"
   ]
  },
  {
   "cell_type": "code",
   "execution_count": 14,
   "metadata": {},
   "outputs": [
    {
     "name": "stdout",
     "output_type": "stream",
     "text": [
      "Even\n",
      "None\n"
     ]
    }
   ],
   "source": [
    "def check_even_without_return(number):\n",
    "    if int(number) % 2 == 0:\n",
    "        print(\"Even\")  # Mencetak hasil tetapi tidak mengembalikannya\n",
    "    else:\n",
    "        print(\"Odd\")  # Mencetak hasil tetapi tidak mengembalikannya\n",
    "\n",
    "# Memanggil fungsi\n",
    "# check_even_without_return(4)  # Output: \"Even\"\n",
    "# check_even_without_return(5)  # Output: \"Odd\"\n",
    "\n",
    "result1 = check_even_without_return(12)\n",
    "print(result1)"
   ]
  },
  {
   "cell_type": "code",
   "execution_count": 28,
   "metadata": {},
   "outputs": [
    {
     "name": "stdout",
     "output_type": "stream",
     "text": [
      "21\n",
      "muhammad\n",
      "rasyid\n",
      "ohdir diysar dammahum\n"
     ]
    }
   ],
   "source": [
    "name = 'muhammad rasyid ridho'\n",
    "\n",
    "firstName = name[0:8]\n",
    "midName = name[9:15]\n",
    "fullName = name[0:] # dari index ke o hingga terakhir\n",
    "reversed = name[::-1] # reversed name dari kata pertama hingga terakhir\n",
    "print(len(name))\n",
    "\n",
    "print(firstName)\n",
    "print(midName)\n",
    "print(reversed)\n"
   ]
  },
  {
   "cell_type": "code",
   "execution_count": 1,
   "metadata": {},
   "outputs": [
    {
     "name": "stdout",
     "output_type": "stream",
     "text": [
      "ridho\n"
     ]
    }
   ],
   "source": [
    "# Input User\n",
    "# function input digunakan untuk menerima input langsung dari keyboard\n",
    "# menerima satu buah parameter string,\n",
    "# yang mana parameter tersebut akan ditampilkan di layar sebelum user memasukkan sebuah data\n",
    "\n",
    "input_nama = input(\"siapa nama kamu?\")\n",
    "print(input_nama)\n"
   ]
  },
  {
   "cell_type": "code",
   "execution_count": 11,
   "metadata": {},
   "outputs": [
    {
     "name": "stdout",
     "output_type": "stream",
     "text": [
      "hasilnya adalah: 7\n"
     ]
    }
   ],
   "source": [
    "a = input(\"angka ganjil\") #output string\n",
    "b = input(\"angka genap\") #output string\n",
    "c_str = a+b\n",
    "\n",
    "# print(c_str)  jika print seperti ini maka outpunya akan 12 bukan 3 \n",
    "# karena type data string tidak bisa menggunakan operasi matematika \n",
    "\n",
    "c_int = int(a)+int(b)\n",
    "# a = 2\n",
    "# b = 3\n",
    "# print('hasilnya adalah' + c_int) #jika seperti ini akan error karena function print\n",
    "# akan menghasilkan output string+integer\n",
    "# solusinya adalah menambahkan str pada c_int untuk mengubah c_int dair integer ke string\n",
    "\n",
    "print('hasilnya adalah: ' + str(c_int))"
   ]
  },
  {
   "cell_type": "code",
   "execution_count": 20,
   "metadata": {},
   "outputs": [
    {
     "name": "stdout",
     "output_type": "stream",
     "text": [
      "hasilnya adalah: 0.75\n"
     ]
    }
   ],
   "source": [
    "# Pembulatan\n",
    "\n",
    "a = input(\"angka ganjil\") #output string\n",
    "b = input(\"angka genap\") #output string\n",
    "c_str = a+b\n",
    "c_int = int(a) / int(b) # jika hanya menggunakan satu / maka akan muncul output .0 atau desimal\n",
    "# jika menggunakan 2 tanda // maka akan membulatkan ke bawah misal dari 0,75 ke 0\n",
    "\n",
    "\n",
    "print('hasilnya adalah: ' + str(c_int))"
   ]
  },
  {
   "cell_type": "code",
   "execution_count": 1,
   "metadata": {},
   "outputs": [
    {
     "name": "stdout",
     "output_type": "stream",
     "text": [
      "hasilnya adalah: 0.5\n"
     ]
    }
   ],
   "source": [
    "\n",
    "a = input(\"angka ganjil\") #output string\n",
    "b = input(\"angka genap\") #output string\n",
    "c_str = a+b\n",
    "c_int = int(a) / int(b) # jika hanya menggunakan satu / maka akan muncul output .0 atau desimal\n",
    "# jika menggunakan 2 tanda // maka akan membulatkan ke bawah misal dari 0,75 ke 0\n",
    "\n",
    "\n",
    "print('hasilnya adalah: ' + str(c_int))"
   ]
  },
  {
   "cell_type": "code",
   "execution_count": 25,
   "metadata": {},
   "outputs": [
    {
     "name": "stdout",
     "output_type": "stream",
     "text": [
      "127628156.25000003\n"
     ]
    }
   ],
   "source": [
    "# Compound Interest\n",
    "\n",
    "saldo_awal = input('berapa saldo awalmu :')\n",
    "interest = 0.05\n",
    "lama_investasi = 5\n",
    "compound_interest = int(saldo_awal)*(1 + interest) ** lama_investasi\n",
    "# saldo awal harus diubah ke integer dahulu karena type awalnya String\n",
    "\n",
    "print(compound_interest)"
   ]
  },
  {
   "cell_type": "code",
   "execution_count": 40,
   "metadata": {},
   "outputs": [
    {
     "name": "stdout",
     "output_type": "stream",
     "text": [
      "1\n",
      "13\n",
      "21\n",
      "False\n",
      "RIDHO\n",
      "Muhammad rasyid ridho\n",
      "3\n"
     ]
    }
   ],
   "source": [
    "# Character Function\n",
    "\n",
    "nama = \"ridho\"\n",
    "\n",
    "print (nama.find('i')) \n",
    "# outputnya yaitu urutan huruf i dalam variabel\n",
    "# mengapa nomor urutnya 1? karena nomor urut dalam python dimulai dari 0\n",
    "\n",
    "nama_lengkap = \"muhammad rasyid ridho\"\n",
    "\n",
    "print (nama_lengkap.find('i'))\n",
    "# outputnya 13 karena nomor urut i diambil dari kemunculan pertama\n",
    "# i pada ridho tidak diambil karena bukan kemunculan pertama\n",
    "\n",
    "print(len(nama_lengkap)) # len untuk menghitung jumlah karakter pada string\n",
    "\n",
    "print('R' in nama) # in digunakan untuk mencari keberadaannya benar atau salah\n",
    "# R akan memiliki output False karena pada variabel nama menggunakan huruf R kecil\n",
    "\n",
    "print(nama.upper()) # upper untuk convert variabel ke huruf capital\n",
    "print(nama_lengkap.capitalize()) # capitalize untuk convert huruf pertama menjadi huruf capital\n",
    "print(nama_lengkap.count('m')) # menghitung jumlah karakter tertentu dalam satu variabel"
   ]
  },
  {
   "cell_type": "code",
   "execution_count": 48,
   "metadata": {},
   "outputs": [
    {
     "name": "stdout",
     "output_type": "stream",
     "text": [
      "bocil\n"
     ]
    }
   ],
   "source": [
    "# Conditional\n",
    "\n",
    "usia = 14\n",
    "\n",
    "if usia > 15 and 25 : # range lebih dari 15 sampai maks 25\n",
    "    print(\"remaja\")\n",
    "elif usia >26 and 40 : # range lebih dari 26 sampai maks 40\n",
    "    print (\"dewasa\")\n",
    "elif usia > 40 :\n",
    "    print (\"sudah tua\")\n",
    "else :\n",
    "    print(\"bocil\")\n",
    "\n",
    "# jika usia kurang dari 40 maka dewasa\n",
    "# namun jika usia kurang dari 25 maka remaja\n",
    "# jika bukan keduanya maka sudah tua"
   ]
  },
  {
   "cell_type": "code",
   "execution_count": 59,
   "metadata": {},
   "outputs": [
    {
     "name": "stdout",
     "output_type": "stream",
     "text": [
      "muhammad\n",
      "3\n",
      "8\n",
      "<built-in method count of list object at 0x0000017C7CD9CA40>\n"
     ]
    }
   ],
   "source": [
    "# list\n",
    "\n",
    "nama_saya = ['muhammad', 'rasyid','ridho']\n",
    "print(nama_saya[0]) # output list dengan urutan ke 0\n",
    "print(len(nama_saya)) # output jumlah list\n",
    "print(len(nama_saya[0])) # output total character pada list urutan ke 0"
   ]
  },
  {
   "cell_type": "code",
   "execution_count": 2,
   "metadata": {},
   "outputs": [
    {
     "name": "stdout",
     "output_type": "stream",
     "text": [
      "muhammad\n",
      "rasyid\n",
      "ridho\n",
      "0\n",
      "2\n",
      "4\n",
      "6\n",
      "8\n",
      "10\n",
      "1\n",
      "2\n",
      "3\n",
      "4\n",
      "5\n",
      "6\n",
      "7\n",
      "8\n",
      "9\n",
      "10\n"
     ]
    }
   ],
   "source": [
    "# looping\n",
    "# for\n",
    "# Pengulangan for digunakan untuk mengulangi tindakan tertentu sejumlah kali\n",
    "# untuk memunculkan masing-masing string pada variabel array\n",
    "nama_saya = ['muhammad', 'rasyid','ridho']\n",
    "for nama in nama_saya : \n",
    "    print(nama)\n",
    "\n",
    "# while \n",
    "# Pengulangan while digunakan untuk mengulangi tindakan tertentu selama kondisi tertentu terpenuhi\n",
    "\n",
    "titik_awal_nol = 0\n",
    "titik_awal_satu = 1\n",
    "\n",
    "while titik_awal_nol <= 10 :\n",
    "    print(titik_awal_nol)\n",
    "    titik_awal_nol = titik_awal_nol + 2\n",
    "\n",
    "while titik_awal_satu <= 10 :\n",
    "    print(titik_awal_satu)\n",
    "    titik_awal_satu += 1 # ada 2 cara, += untuk mempersingkat penambahan pada variabel, tidak perlu menuliskan ulang variabel awalnya\n",
    "# cara baca\n",
    "# titik awal adalah 1\n",
    "# jika titik awal kurang dari sama dengan 10 maka print titik_awal\n",
    "# dan tambahkan + 1\n",
    "# titik awal akan berhenti jika angka sudah mencapai 10\n"
   ]
  },
  {
   "cell_type": "code",
   "execution_count": 10,
   "metadata": {},
   "outputs": [
    {
     "name": "stdout",
     "output_type": "stream",
     "text": [
      "Halo, John\n",
      "Total: 8\n"
     ]
    }
   ],
   "source": [
    "def sapa(nama):\n",
    "    print(\"Halo,\", nama)\n",
    "\n",
    "# Memanggil fungsi\n",
    "sapa(\"John\")\n",
    "\n",
    "def hitung_total(a, b):\n",
    "    total = a + b\n",
    "    return total\n",
    "\n",
    "# Memanggil fungsi dan menyimpan nilai pengembaliannya\n",
    "hasil = hitung_total(5, 3)\n",
    "print(\"Total:\", hasil)\n",
    "\n"
   ]
  },
  {
   "cell_type": "code",
   "execution_count": 18,
   "metadata": {},
   "outputs": [
    {
     "name": "stdout",
     "output_type": "stream",
     "text": [
      "Weird\n"
     ]
    }
   ],
   "source": [
    "n = int(input())\n",
    "\n",
    "if n % 2 != 0:\n",
    "    print(\"Weird\")\n",
    "elif n % 2 == 0 and 2 <= n <= 5: # n ditengah agar outputnya adalah inputan antara 2 dan 5\n",
    "    print(\"Not Weird\")\n"
   ]
  },
  {
   "cell_type": "code",
   "execution_count": 20,
   "metadata": {},
   "outputs": [
    {
     "name": "stdout",
     "output_type": "stream",
     "text": [
      "Not Weird\n"
     ]
    }
   ],
   "source": [
    "n = int(input())\n",
    "\n",
    "if n % 2 != 0:\n",
    "    print(\"Weird\")\n",
    "elif n % 2 == 0 and 2 <= n <= 5:\n",
    "    print(\"Not Weird\")\n",
    "elif n % 2 == 0 and 6 <= n <= 20:\n",
    "    print(\"Weird\")\n",
    "elif n % 2 == 0 and 21 <= n <= 100:\n",
    "    print(\"Not Weird\")"
   ]
  },
  {
   "cell_type": "code",
   "execution_count": 2,
   "metadata": {},
   "outputs": [
    {
     "name": "stdout",
     "output_type": "stream",
     "text": [
      "e\n",
      "Hello\n",
      "World\n"
     ]
    }
   ],
   "source": [
    "s = \"Hello World\"\n",
    "print(s[1])       # e\n",
    "print(s[0:5])     # Hello outputnya adalah indeks pertama 0 yaitu 'H' hingga indeks ke 4 yaitu 'o'\n",
    "print(s[-5:])     # World outputnya adalah 5 karakter terakhir\n"
   ]
  },
  {
   "cell_type": "code",
   "execution_count": 3,
   "metadata": {},
   "outputs": [
    {
     "name": "stdout",
     "output_type": "stream",
     "text": [
      "apple\n",
      "banana\n",
      "cherry\n"
     ]
    }
   ],
   "source": [
    "fruits = [\"apple\", \"banana\", \"cherry\"]\n",
    "for fruit in fruits:\n",
    "    print(fruit)\n"
   ]
  },
  {
   "cell_type": "code",
   "execution_count": 4,
   "metadata": {},
   "outputs": [
    {
     "name": "stdout",
     "output_type": "stream",
     "text": [
      "1\n",
      "2\n",
      "3\n",
      "4\n",
      "5\n"
     ]
    }
   ],
   "source": [
    "i = 1   # kondisi awal i adalah 1\n",
    "while i < 6: # ulangi kondisi i hingga nilainya kurang dari 6\n",
    "    print(i)    \n",
    "    i += 1  # kondisi awal ditambahkan 1 setiap 1x perulangan hingga kondisinya mencapai perulangan yang mendekati kurang dari 6\n"
   ]
  },
  {
   "cell_type": "code",
   "execution_count": 4,
   "metadata": {},
   "outputs": [
    {
     "data": {
      "image/png": "[encoded data removed]",
      "text/plain": [
       "<Figure size 640x480 with 1 Axes>"
      ]
     },
     "metadata": {},
     "output_type": "display_data"
    }
   ],
   "source": [
    "from sklearn.model_selection import train_test_split\n",
    "from sklearn.linear_model import LinearRegression\n",
    "import numpy as np\n",
    "import matplotlib.pyplot as plt\n",
    "\n",
    "# Generating some random data\n",
    "np.random.seed(0)\n",
    "X = np.random.rand(100, 1) * 100  # Features\n",
    "y = 3*X.squeeze() + np.random.randn(100) * 10  # Target variable with some noise\n",
    "\n",
    "# Splitting the data into training and testing sets\n",
    "X_train, X_test, y_train, y_test = train_test_split(X, y, test_size=0.2)\n",
    "\n",
    "# Creating a linear regression model\n",
    "model = LinearRegression()\n",
    "\n",
    "# Training the model\n",
    "model.fit(X_train, y_train)\n",
    "\n",
    "# Making predictions\n",
    "predictions = model.predict(X_test)\n",
    "\n",
    "# Plotting the results\n",
    "plt.scatter(X_test, y_test, color='black', label='Actual data')\n",
    "plt.plot(X_test, predictions, color='blue', linewidth=3, label='Linear regression line')\n",
    "plt.xlabel('X')\n",
    "plt.ylabel('y')\n",
    "plt.title('Simple Linear Regression')\n",
    "plt.legend()\n",
    "plt.show()\n"
   ]
  },
  {
   "cell_type": "code",
   "execution_count": 55,
   "metadata": {},
   "outputs": [
    {
     "name": "stdout",
     "output_type": "stream",
     "text": [
      "False\n"
     ]
    }
   ],
   "source": [
    "nama_saya = ['muhammd', 'rasyid','ridho']\n",
    "\n",
    "if 'muhammad' in nama_saya:\n",
    "    print(True)\n",
    "else :\n",
    "    print(False)"
   ]
  },
  {
   "cell_type": "code",
   "execution_count": 16,
   "metadata": {},
   "outputs": [
    {
     "name": "stdout",
     "output_type": "stream",
     "text": [
      "False\n"
     ]
    }
   ],
   "source": [
    "def is_vowel(char):\n",
    "    # Set huruf vokal dalam huruf kecil dan besar\n",
    "    vowels = {'a', 'e', 'i', 'o', 'u', 'A', 'E', 'I', 'O', 'U'}\n",
    "    \n",
    "    # Cek apakah input adalah satu karakter dan merupakan huruf\n",
    "    if isinstance(char, str) and len(char) == 1 and char.isalpha():\n",
    "        return char in vowels\n",
    "    else:\n",
    "        return False\n",
    "\n",
    "# Meminta input dari pengguna\n",
    "char_input = input(\"Masukkan satu karakter: \")\n",
    "\n",
    "# Memanggil fungsi is_vowel dan mencetak hasilnya\n",
    "if is_vowel(char_input):\n",
    "    print(True)\n",
    "else:\n",
    "    print(False)\n"
   ]
  },
  {
   "cell_type": "code",
   "execution_count": 10,
   "metadata": {},
   "outputs": [
    {
     "name": "stdout",
     "output_type": "stream",
     "text": [
      "2\n",
      "3\n",
      "4\n",
      "5\n",
      "6\n",
      "7\n",
      "8\n",
      "9\n",
      "Ini Batasnya\n",
      "9\n",
      "8\n",
      "7\n",
      "6\n",
      "5\n",
      "4\n",
      "3\n",
      "2\n",
      "Ini batasnya\n",
      "2\n",
      "5\n",
      "8\n",
      "Ini Batasnya\n"
     ]
    }
   ],
   "source": [
    "# mengulangi perintah sesuai yang ditentukan, kata kunci ada di range, harus ditentukan rangenya\n",
    "for x in range (2,10): # cara baca : ulangi x dari angka 2 hingga index ke 10\n",
    "    print(x) # x adalah angka yang akan diulangi\n",
    "\n",
    "print(\"Ini Batasnya\")\n",
    "\n",
    "for x in reversed(range (2,10)): # membalikkan urutan dari akhir hingga awal\n",
    "    print(x)\n",
    "\n",
    "print(\"Ini batasnya\")\n",
    "for x in range (2,10,3): # angka terakhir adalah penambahan setiap perulangan, misal dimulai dari angka 2 lalu ditambahkan 3 setiap perulangan berikutnya\n",
    "                         # hingga perulangan di index mendekati 10, mengapa tidak 9? karena jika ditambahkan 2 lagi dari angka 8 maka akan ke index 11\n",
    "                         # yang angkanya adalah 10, sedangkan index 10 adalah angka 9\n",
    "    print(x)\n",
    "print(\"Ini Batasnya\")\n",
    "\n"
   ]
  },
  {
   "cell_type": "code",
   "execution_count": 9,
   "metadata": {},
   "outputs": [
    {
     "name": "stdout",
     "output_type": "stream",
     "text": [
      "0\n",
      "8\n",
      "5\n",
      "-\n",
      "7\n",
      "5\n",
      "5\n",
      "-\n",
      "3\n",
      "3\n",
      "2\n",
      "-\n",
      "5\n",
      "7\n",
      "8\n"
     ]
    }
   ],
   "source": [
    "phone_number = '085-755-332-578'\n",
    "for x in phone_number : # bisa digunakan untuk mengambil semua karakter dalam string\n",
    "    print(x)"
   ]
  },
  {
   "cell_type": "code",
   "execution_count": 16,
   "metadata": {},
   "outputs": [
    {
     "name": "stdout",
     "output_type": "stream",
     "text": [
      "1\n",
      "2\n",
      "3\n",
      "4\n",
      "5\n",
      "6\n",
      "7\n",
      "8\n",
      "9\n",
      "10\n",
      "11\n",
      "12\n",
      "14\n",
      "15\n",
      "16\n",
      "17\n",
      "18\n",
      "19\n",
      "Ini Batasnya\n",
      "1\n",
      "2\n",
      "3\n",
      "4\n",
      "5\n",
      "6\n",
      "7\n",
      "8\n",
      "9\n",
      "10\n",
      "11\n",
      "12\n"
     ]
    }
   ],
   "source": [
    "for x in range(1, 20): # untuk perulangan dari angka 1 hingga index ke 20\n",
    "    if x == 13: # jika muncul angka 13\n",
    "        continue # maka gunakan continue untuk skip\n",
    "    else: # jika tidak, maka lanjutkan perulangan hingga index ke 20\n",
    "        print(x)\n",
    "print(\"Ini Batasnya\")\n",
    "\n",
    "for x in range(1, 20): # untuk perulangan dari angka 1 hingga index ke 20\n",
    "    if x == 13: # jika muncul angka 13\n",
    "        break # maka berhenti disitu\n",
    "    else: # jika tidak, maka lanjutkan perulangan hingga index ke 20\n",
    "        print(x)"
   ]
  },
  {
   "cell_type": "code",
   "execution_count": 49,
   "metadata": {},
   "outputs": [
    {
     "name": "stdout",
     "output_type": "stream",
     "text": [
      "T is a consonant\n"
     ]
    }
   ],
   "source": [
    "# Meminta input dari pengguna\n",
    "is_vowel = input(\"Tulis Huruf Vokal: \")\n",
    "\n",
    "# Mengecek apakah input valid\n",
    "if len(is_vowel) == 1 and is_vowel.isalpha():\n",
    "    # Mengecek apakah input adalah huruf vokal\n",
    "    if is_vowel in ('A', 'I', 'U', 'E', 'O', 'a', 'i', 'u', 'e', 'o'):\n",
    "        print(is_vowel, \"is a vowel\")\n",
    "    else:\n",
    "        print(is_vowel, \"is a consonant\")\n",
    "else:\n",
    "    print(\"Input tidak valid. Harap masukkan satu huruf.\")\n"
   ]
  },
  {
   "cell_type": "code",
   "execution_count": 2,
   "metadata": {},
   "outputs": [
    {
     "name": "stdout",
     "output_type": "stream",
     "text": [
      "please input your name\n",
      "please input your name\n",
      "please input your name\n",
      "Hewloo ridho\n"
     ]
    }
   ],
   "source": [
    "name = input(\"input your name\")\n",
    "\n",
    "while name == \"\" :\n",
    "    print(\"please input your name\")\n",
    "    name = input(\"input your name\")\n",
    "\n",
    "print(f\"Hewloo {name}\") #input variabel dalam print string"
   ]
  },
  {
   "cell_type": "code",
   "execution_count": 5,
   "metadata": {},
   "outputs": [
    {
     "name": "stdout",
     "output_type": "stream",
     "text": [
      "Hewloo d\n"
     ]
    }
   ],
   "source": [
    "# infinite loop\n",
    "# terjadi jika tidak ada kondisi yang membuatnya berhenti\n",
    "name = input(\"input your name\")\n",
    "\n",
    "while name == \"\" :\n",
    "    print(\"please input your name\")\n"
   ]
  },
  {
   "cell_type": "code",
   "execution_count": 15,
   "metadata": {},
   "outputs": [
    {
     "name": "stdout",
     "output_type": "stream",
     "text": [
      "You like Potato\n",
      "bye\n"
     ]
    }
   ],
   "source": [
    "# while not\n",
    "# digunakan untuk escape dr while loop\n",
    "\n",
    "food = input(\"Enter a food you like (q to quit): \")\n",
    "\n",
    "while not food == \"q\": \n",
    "    print(f\"You like {food}\")\n",
    "    food = input(\"Enter another food you like (q to quit): \")\n",
    "\n",
    "print(\"bye\")\n",
    "\n",
    "# ketika kita selesai menginput maka bar input tetep muncul, untuk mengakhirinya gunakan while not\n",
    "# pada contoh untuk mengakhiri while loop tulis q atau quit"
   ]
  },
  {
   "cell_type": "code",
   "execution_count": 17,
   "metadata": {},
   "outputs": [
    {
     "name": "stdout",
     "output_type": "stream",
     "text": [
      "-1 is not valid\n",
      "Your number is 5\n"
     ]
    }
   ],
   "source": [
    "num = int(input(\"Enter a # between 1 - 10: \"))\n",
    "\n",
    "while num < 1 or num > 10:\n",
    "    print(f\"{num} is not valid\")\n",
    "    num = int(input(\"Enter a # between 1 - 10: \"))\n",
    "\n",
    "print(f\"Your number is {num}\")"
   ]
  },
  {
   "cell_type": "code",
   "execution_count": null,
   "metadata": {},
   "outputs": [],
   "source": [
    "# List, Tupple, Set, Dictionary\n",
    "\n",
    "# List [] Berurutan, data bisa homogen atau heterogen, dapat diubah (dihapus atau ditambahkan)\n",
    "# Tupple () Berurutan dan tidak dpat diubah\n",
    "# Set {} Tidak berurut dan data mengandung nilai unique seperti ID, bisa digunakan untuk menghapus duplicate pada list, dapat diubah\n",
    "# Dictionary {} data berpasangan key : value seperti {nama : ridho, umur : 28}, tidak berurut, data yang berpasangan harus unik \n"
   ]
  },
  {
   "cell_type": "code",
   "execution_count": 38,
   "metadata": {},
   "outputs": [
    {
     "name": "stdout",
     "output_type": "stream",
     "text": [
      "       Unnamed: 0     id  Gender      Customer Type  Age   Type of Travel  \\\n",
      "0               0  19556  Female     Loyal Customer   52  Business travel   \n",
      "1               1  90035  Female     Loyal Customer   36  Business travel   \n",
      "4               4  36875  Female     Loyal Customer   49  Business travel   \n",
      "6               6  79433  Female     Loyal Customer   77  Business travel   \n",
      "7               7  97286  Female     Loyal Customer   43  Business travel   \n",
      "...           ...    ...     ...                ...  ...              ...   \n",
      "25965       25965  15949  Female     Loyal Customer   51  Personal Travel   \n",
      "25967       25967  90347  Female  disloyal Customer   39  Business travel   \n",
      "25970       25970  25309  Female  disloyal Customer   36  Business travel   \n",
      "25973       25973  37675  Female     Loyal Customer   17  Personal Travel   \n",
      "25975       25975  34799  Female     Loyal Customer   42  Personal Travel   \n",
      "\n",
      "          Class  Flight Distance  Inflight wifi service  \\\n",
      "0           Eco              160                      5   \n",
      "1      Business             2863                      1   \n",
      "4           Eco             1182                      2   \n",
      "6      Business             3987                      5   \n",
      "7      Business             2556                      2   \n",
      "...         ...              ...                    ...   \n",
      "25965       Eco              528                      4   \n",
      "25967  Business              404                      1   \n",
      "25970       Eco              432                      1   \n",
      "25973       Eco              828                      2   \n",
      "25975       Eco              264                      2   \n",
      "\n",
      "       Departure/Arrival time convenient  ...  Inflight entertainment  \\\n",
      "0                                      4  ...                       5   \n",
      "1                                      1  ...                       4   \n",
      "4                                      3  ...                       2   \n",
      "6                                      5  ...                       5   \n",
      "7                                      2  ...                       4   \n",
      "...                                  ...  ...                     ...   \n",
      "25965                                  4  ...                       5   \n",
      "25967                                  1  ...                       2   \n",
      "25970                                  5  ...                       4   \n",
      "25973                                  5  ...                       2   \n",
      "25975                                  5  ...                       1   \n",
      "\n",
      "       On-board service  Leg room service  Baggage handling  Checkin service  \\\n",
      "0                     5                 5                 5                2   \n",
      "1                     4                 4                 4                3   \n",
      "4                     2                 2                 2                4   \n",
      "6                     5                 5                 5                4   \n",
      "7                     4                 4                 4                5   \n",
      "...                 ...               ...               ...              ...   \n",
      "25965                 5                 4                 5                4   \n",
      "25967                 5                 3                 4                4   \n",
      "25970                 5                 2                 5                2   \n",
      "25973                 4                 3                 4                5   \n",
      "25975                 1                 2                 1                1   \n",
      "\n",
      "       Inflight service  Cleanliness  Departure Delay in Minutes  \\\n",
      "0                     5            5                          50   \n",
      "1                     4            5                           0   \n",
      "4                     2            4                           0   \n",
      "6                     5            3                           0   \n",
      "7                     4            3                          77   \n",
      "...                 ...          ...                         ...   \n",
      "25965                 5            4                           0   \n",
      "25967                 4            2                           0   \n",
      "25970                 3            4                           0   \n",
      "25973                 4            2                           0   \n",
      "25975                 1            1                           0   \n",
      "\n",
      "       Arrival Delay in Minutes             satisfaction  \n",
      "0                          44.0                satisfied  \n",
      "1                           0.0                satisfied  \n",
      "4                          20.0                satisfied  \n",
      "6                           0.0                satisfied  \n",
      "7                          65.0                satisfied  \n",
      "...                         ...                      ...  \n",
      "25965                       0.0  neutral or dissatisfied  \n",
      "25967                       0.0  neutral or dissatisfied  \n",
      "25970                       0.0  neutral or dissatisfied  \n",
      "25973                       0.0  neutral or dissatisfied  \n",
      "25975                       0.0  neutral or dissatisfied  \n",
      "\n",
      "[13172 rows x 25 columns]\n"
     ]
    }
   ],
   "source": [
    "# Import Pandas\n",
    "\n",
    "import pandas as pd\n",
    "\n",
    "salesData = pd.read_csv(r\"C:\\Users\\rasyi\\OneDrive\\Data Engineer\\Kaggle\\test.csv\") \n",
    "# tanda backslash (\\) digunakan sebagai karakter escape, yang dapat menyebabkan masalah jika tidak ditangani dengan benar. \n",
    "# tambahkan r sebelum string untuk menjadikannya string mentah, sehingga backslash tidak diperlakukan sebagai karakter escape.\n",
    "\n",
    "# print(salesData.head()) # head untuk mengambil data row, jika head() maka otomatis hanya mengambil 5 rows teratas\n",
    "# print(salesData.info()) # memberikan seluruh informasi dari table\n",
    "print(salesData[salesData[\"Gender\"]==\"Female\"]) # memfilter data Gender for Female Only\n"
   ]
  },
  {
   "cell_type": "code",
   "execution_count": 1,
   "metadata": {},
   "outputs": [
    {
     "name": "stdout",
     "output_type": "stream",
     "text": [
      "120\n"
     ]
    }
   ],
   "source": [
    "def factorial(n) :\n",
    "    factorial = 1 # bilangan pertama yang muncul adalah 1, jika tidak ditulis factorial = 1 maka index dimulai dari 1 yaitu 0. Atau perkalian dimulai dr 0\n",
    "    # jika 0 maka apapun hasilnya akan 0, karena bilangan apapun dikalikan 0 hasilnya akan 0\n",
    "    for i in range(n):\n",
    "        factorial *= i+1\n",
    "\n",
    "    return factorial\n",
    "\n",
    "print(factorial(5))"
   ]
  },
  {
   "cell_type": "code",
   "execution_count": 5,
   "metadata": {},
   "outputs": [
    {
     "name": "stdout",
     "output_type": "stream",
     "text": [
      "5040\n",
      "1\n"
     ]
    }
   ],
   "source": [
    "def faktorial(n):\n",
    "    if n == 0:\n",
    "        return 1\n",
    "    else:\n",
    "        return n * faktorial(n - 1)\n",
    "\n",
    "# Contoh penggunaan\n",
    "print(faktorial(7))  # Output: 120\n",
    "print(faktorial(0))  # Output: 1\n"
   ]
  },
  {
   "cell_type": "code",
   "execution_count": 51,
   "metadata": {},
   "outputs": [
    {
     "ename": "Exception",
     "evalue": "Angka harus bilangan bulat positif",
     "output_type": "error",
     "traceback": [
      "\u001b[1;31m---------------------------------------------------------------------------\u001b[0m",
      "\u001b[1;31mException\u001b[0m                                 Traceback (most recent call last)",
      "Cell \u001b[1;32mIn[51], line 17\u001b[0m\n\u001b[0;32m     14\u001b[0m     \u001b[38;5;28;01mreturn\u001b[39;00m factorial\n\u001b[0;32m     16\u001b[0m n \u001b[38;5;241m=\u001b[39m \u001b[38;5;28mint\u001b[39m(\u001b[38;5;28minput\u001b[39m())\n\u001b[1;32m---> 17\u001b[0m hasil \u001b[38;5;241m=\u001b[39m \u001b[43mcalculate_factorial\u001b[49m\u001b[43m(\u001b[49m\u001b[43mn\u001b[49m\u001b[43m)\u001b[49m\n\u001b[0;32m     19\u001b[0m \u001b[38;5;28mprint\u001b[39m(\u001b[38;5;124mf\u001b[39m\u001b[38;5;124m'\u001b[39m\u001b[38;5;124mFaktorial dari \u001b[39m\u001b[38;5;132;01m{\u001b[39;00mn\u001b[38;5;132;01m}\u001b[39;00m\u001b[38;5;124m adalah \u001b[39m\u001b[38;5;132;01m{\u001b[39;00mhasil\u001b[38;5;132;01m}\u001b[39;00m\u001b[38;5;124m'\u001b[39m)\n",
      "Cell \u001b[1;32mIn[51], line 3\u001b[0m, in \u001b[0;36mcalculate_factorial\u001b[1;34m(n)\u001b[0m\n\u001b[0;32m      1\u001b[0m \u001b[38;5;28;01mdef\u001b[39;00m \u001b[38;5;21mcalculate_factorial\u001b[39m(n) :\n\u001b[0;32m      2\u001b[0m     \u001b[38;5;28;01mif\u001b[39;00m n \u001b[38;5;241m<\u001b[39m \u001b[38;5;241m0\u001b[39m :\n\u001b[1;32m----> 3\u001b[0m         \u001b[38;5;28;01mraise\u001b[39;00m \u001b[38;5;167;01mException\u001b[39;00m (\u001b[38;5;124m\"\u001b[39m\u001b[38;5;124mAngka harus bilangan bulat positif\u001b[39m\u001b[38;5;124m\"\u001b[39m) \n\u001b[0;32m      4\u001b[0m     \u001b[38;5;66;03m# menggunakan raise untuk memberitahu ada kesalahan pada inputan, raise juga berguna untuk menghentikan eksekusi program\u001b[39;00m\n\u001b[0;32m      5\u001b[0m     \u001b[38;5;66;03m# jika menggunakan return hanya akan mengembalikan ke nilai fungsi, tp tidak memberikan keterangan kesalahan\u001b[39;00m\n\u001b[0;32m      7\u001b[0m     factorial \u001b[38;5;241m=\u001b[39m \u001b[38;5;241m1\u001b[39m \u001b[38;5;66;03m# angka/bilangan pertama dimulai dari 1\u001b[39;00m\n",
      "\u001b[1;31mException\u001b[0m: Angka harus bilangan bulat positif"
     ]
    }
   ],
   "source": [
    "def calculate_factorial(n) :\n",
    "    if n < 0 :\n",
    "        raise Exception (\"Angka harus bilangan bulat positif\") \n",
    "    # menggunakan raise untuk memberitahu ada kesalahan pada inputan, raise juga berguna untuk menghentikan eksekusi program\n",
    "    # jika menggunakan return hanya akan mengembalikan ke nilai fungsi, tp tidak memberikan keterangan kesalahan\n",
    "\n",
    "    factorial = 1 # angka/bilangan pertama dimulai dari 1\n",
    "\n",
    "    # rumus faktorial n! = n * (n-1) * (n-2)\n",
    "    # for loop untuk menghitung faktorial\n",
    "    for i in range(1, n + 1): \n",
    "        factorial *= i  # Kalikan nilai factorial dengan nilai i saat ini, merupakan alternatif dari factorial = factorial * i \n",
    "        # dimana i adalah perulangan yang dimulai dari angka 1, karena range awal 1, lalu perulangan berikuntnya angka inputan ditambahkan 1 setiap perulangan\n",
    "    return factorial\n",
    "\n",
    "n = int(input())\n",
    "hasil = calculate_factorial(n)\n",
    "\n",
    "print(f'Faktorial dari {n} adalah {hasil}')"
   ]
  },
  {
   "cell_type": "code",
   "execution_count": 4,
   "metadata": {},
   "outputs": [
    {
     "name": "stdout",
     "output_type": "stream",
     "text": [
      "2\n",
      "-1\n",
      "-1\n"
     ]
    }
   ],
   "source": [
    "def find_target_index(sorted_list: list, target: int) -> int:\n",
    "    # sorted list = variable tersebut harus berbentu list\n",
    "    # target = variable tersebut harus bertipe integer\n",
    "    # -> fungsi harus memiliki input integer\n",
    "    left, right = 0, len(sorted_list) - 1  # Inisialisasi batas bawah dan batas atas\n",
    "\n",
    "    while left <= right:\n",
    "        mid = (left + right) // 2  # Hitung posisi tengah\n",
    "        if sorted_list[mid] == target:\n",
    "            return mid  # Target ditemukan di posisi tengah\n",
    "        elif sorted_list[mid] < target:\n",
    "            left = mid + 1  # Perbarui batas bawah untuk mencari di bagian kanan\n",
    "        else:\n",
    "            right = mid - 1  # Perbarui batas atas untuk mencari di bagian kiri\n",
    "\n",
    "    return -1  # Target tidak ditemukan di rak\n",
    "\n",
    "# Contoh penggunaan\n",
    "print(find_target_index([1, 2, 3, 4, 5], 3))  # Output: 2\n",
    "print(find_target_index([1, 3, 5, 7, 9], 4))  # Output: -1\n",
    "print(find_target_index([], 3))               # Output: -1\n"
   ]
  },
  {
   "cell_type": "code",
   "execution_count": 64,
   "metadata": {},
   "outputs": [
    {
     "name": "stdout",
     "output_type": "stream",
     "text": [
      "2\n",
      "1\n",
      "-1\n"
     ]
    }
   ],
   "source": [
    "def find_target_index(sorted_list: list, target: int) -> int:\n",
    "    left = 0  # Inisialisasi batas bawah ke indeks pertama\n",
    "    right = len(sorted_list)-1  # Inisialisasi batas atas ke indeks terakhir\n",
    "\n",
    "    while left <= right:\n",
    "        mid = (left + right) // 2  # Hitung posisi tengah\n",
    "        if sorted_list[mid] == target:\n",
    "            return mid  # Target ditemukan di posisi tengah\n",
    "        elif sorted_list[mid] < target:\n",
    "            left = mid + 1  # Perbarui batas bawah untuk mencari di bagian kanan\n",
    "        else:\n",
    "            right = mid - 1  # Perbarui batas atas untuk mencari di bagian kiri\n",
    "\n",
    "    return -1  # Target tidak ditemukan di daftar\n",
    "\n",
    "# Contoh penggunaan\n",
    "print(find_target_index([1, 2, 3, 4, 5], 3))  # Output: 2\n",
    "print(find_target_index([1, 3, 5, 7, 9], 3))  # Output: -1\n",
    "print(find_target_index([], 3))               # Output: -1\n"
   ]
  },
  {
   "cell_type": "code",
   "execution_count": 86,
   "metadata": {},
   "outputs": [
    {
     "name": "stdout",
     "output_type": "stream",
     "text": [
      "The Target element 3 is found at index 2 of the List\n",
      "The target element 6 is not present in the list, so the function returns -1\n"
     ]
    }
   ],
   "source": [
    "# diminta untuk mencari index padanilai integer dalam suatu list\n",
    "# misal list [0,1,2,3,4,10], diminta mencari angka 4 pada list, angka 4 tersebut berada pada index ke berapa?\n",
    "# jika angka yang kita cari tidak ditemukan maka nilainya -1\n",
    "\n",
    "def find_target_index(sorted_list: list, target: int) -> int:\n",
    "    # Cari target dalam sorted_list\n",
    "    if target in sorted_list:\n",
    "        return (f\"The Target element {target} is found at index {sorted_list.index(target)} of the List\")\n",
    "    else:\n",
    "        return (f\"The target element {target} is not present in the list, so the function returns {-1}\")\n",
    "\n",
    "# Contoh penggunaan\n",
    "sorted_list = [1, 2, 3, 4, 5]\n",
    "target = 3\n",
    "result1 = find_target_index(sorted_list, target)\n",
    "target2 = 6\n",
    "result2 = find_target_index(sorted_list, target2)\n",
    "print(result1)\n",
    "print(result2)\n",
    "\n"
   ]
  },
  {
   "cell_type": "code",
   "execution_count": 81,
   "metadata": {},
   "outputs": [
    {
     "name": "stdout",
     "output_type": "stream",
     "text": [
      "-1\n"
     ]
    }
   ],
   "source": [
    "def find_target_index(sorted_list: list, target: int) -> int: \n",
    "    list = [1,2,3,4,5]\n",
    "    n = int(input())\n",
    "    if n in list :\n",
    "        print(list.index(n))\n",
    "    else :\n",
    "        print(-1)\n",
    "\n",
    "find_target_index([1,2,3,4,5],n)"
   ]
  },
  {
   "cell_type": "code",
   "execution_count": 73,
   "metadata": {},
   "outputs": [
    {
     "name": "stdout",
     "output_type": "stream",
     "text": [
      "5\n"
     ]
    }
   ],
   "source": [
    "list = [0,1,2,3,4,10]\n",
    "print(len(list)-1)\n"
   ]
  },
  {
   "cell_type": "code",
   "execution_count": 23,
   "metadata": {},
   "outputs": [
    {
     "name": "stdout",
     "output_type": "stream",
     "text": [
      "7\n",
      "7\n",
      "None\n"
     ]
    }
   ],
   "source": [
    "def tambah(a, b):\n",
    "    hasil = a + b\n",
    "    print(hasil)\n",
    "\n",
    "# Memanggil fungsi\n",
    "tambah(3, 4)  # Output: 7\n",
    "\n",
    "# Mencoba menggunakan hasil di luar fungsi\n",
    "# hasil dari fungsi tidak bisa disimpan pada variable di luar fungsi\n",
    "\n",
    "nilai = tambah(3,4)\n",
    "print(nilai) # none, karena tidak ada valuenya\n",
    "\n"
   ]
  },
  {
   "cell_type": "code",
   "execution_count": 15,
   "metadata": {},
   "outputs": [
    {
     "name": "stdout",
     "output_type": "stream",
     "text": [
      "7\n"
     ]
    }
   ],
   "source": [
    "def tambah(a, b):\n",
    "    hasil = a + b\n",
    "    return hasil\n",
    "\n",
    "# Memanggil fungsi dan menggunakan nilai yang dikembalikan\n",
    "nilai_hasil = tambah(3, 4)\n",
    "print(nilai_hasil)  # Output: 7\n",
    "\n",
    "# hasil dari fungsi bisa disimpan pada variable di luar fungsi"
   ]
  },
  {
   "cell_type": "code",
   "execution_count": 32,
   "metadata": {},
   "outputs": [
    {
     "name": "stdout",
     "output_type": "stream",
     "text": [
      "16\n"
     ]
    }
   ],
   "source": [
    "hasil = 5\n",
    "\n",
    "def tambah(a, b):\n",
    "    global hasil # mengubah variable di luar function\n",
    "    hasil = hasil + a + b\n",
    "tambah(5,6)\n",
    "print(hasil)"
   ]
  },
  {
   "cell_type": "code",
   "execution_count": 34,
   "metadata": {},
   "outputs": [
    {
     "name": "stdout",
     "output_type": "stream",
     "text": [
      "-25\n"
     ]
    }
   ],
   "source": [
    "hasil = 5\n",
    "\n",
    "def tambah(a, b):\n",
    "    global hasil # mengubah variable di luar function\n",
    "    hasil = hasil - a * b\n",
    "tambah(5,6)\n",
    "print(hasil)"
   ]
  },
  {
   "cell_type": "code",
   "execution_count": 43,
   "metadata": {},
   "outputs": [
    {
     "name": "stdout",
     "output_type": "stream",
     "text": [
      "genap\n"
     ]
    }
   ],
   "source": [
    "def cek_genap (nilai) :\n",
    "    if nilai % 2 == 0 :\n",
    "        return \"genap\"\n",
    "    else :\n",
    "        return \"ganjil\"\n",
    "\n",
    "\n",
    "hasil = cek_genap(10)\n",
    "print(hasil)"
   ]
  },
  {
   "cell_type": "code",
   "execution_count": null,
   "metadata": {},
   "outputs": [],
   "source": [
    "def dictionary(daftar_buku: list, nomor_buku: int):\n",
    "    list = [\"A\",\"B\",\"C\",\"D\",\"E\"]\n",
    "    left = 0\n",
    "    "
   ]
  },
  {
   "cell_type": "code",
   "execution_count": 61,
   "metadata": {},
   "outputs": [
    {
     "name": "stdout",
     "output_type": "stream",
     "text": [
      "A\n",
      "E\n"
     ]
    }
   ],
   "source": [
    "list = [\"A\",\"B\",\"C\",\"D\",\"E\"]\n",
    "left = list[0]\n",
    "right = list[4]\n",
    "print(left)\n",
    "print(right)"
   ]
  },
  {
   "cell_type": "code",
   "execution_count": 100,
   "metadata": {},
   "outputs": [
    {
     "name": "stdout",
     "output_type": "stream",
     "text": [
      "Ridho\n",
      "90\n",
      "Male\n",
      "batas\n",
      "grade is not 90\n"
     ]
    }
   ],
   "source": [
    "grade = [\"Ridho\", 90, \"Male\"]\n",
    "\n",
    "for x in grade :\n",
    "    print(x) # end digunakan untuk membuat data muncul secara horizontal, notasi \" \" digunakan agar data yang muncul dipisahkan dgn spasi\n",
    "\n",
    "print(\"batas\")\n",
    "\n",
    "if 91 in grade :\n",
    "    print(f\"grade is {90}\")\n",
    "else :\n",
    "    print(f\"grade is not {90}\")"
   ]
  },
  {
   "cell_type": "code",
   "execution_count": 1,
   "metadata": {},
   "outputs": [
    {
     "name": "stdout",
     "output_type": "stream",
     "text": [
      "{'Alice': [85, 92], 'Bob': [90], 'Charlie': [88]}\n"
     ]
    }
   ],
   "source": [
    "def grade_tracker(students: list) -> dict:\n",
    "    # Membuat dictionary kosong untuk menyimpan hasil\n",
    "    grades_dict = {}\n",
    "    \n",
    "    # Melihat setiap pasangan nama dan nilai dalam daftar\n",
    "    for name, grade in students:\n",
    "        # Jika nama siswa sudah ada di dictionary\n",
    "        if name in grades_dict:\n",
    "            # Tambahkan nilai baru ke daftar nilai mereka\n",
    "            grades_dict[name].append(grade)\n",
    "        else:\n",
    "            # Jika nama siswa belum ada, buat entri baru dengan nilai pertama mereka\n",
    "            grades_dict[name] = [grade]\n",
    "    \n",
    "    # Kembalikan dictionary dengan nama siswa dan daftar nilai mereka\n",
    "    return grades_dict\n",
    "\n",
    "# Contoh penggunaan\n",
    "students = [('Alice', 85), ('Bob', 90), ('Alice', 92), ('Charlie', 88)]\n",
    "result = grade_tracker(students)\n",
    "print(result)  # Output: {'Alice': [85, 92], 'Bob': [90], 'Charlie': [88]}\n"
   ]
  },
  {
   "cell_type": "code",
   "execution_count": 4,
   "metadata": {},
   "outputs": [
    {
     "name": "stdout",
     "output_type": "stream",
     "text": [
      "['muhammad', 'rasyid', 'ridho', 'rizky']\n",
      "['muhammad', 'ibrahim', 'rasyid', 'ridho', 'rizky']\n",
      "ibrahim\n"
     ]
    }
   ],
   "source": [
    "daftar = ['muhammad','rasyid','ridho']\n",
    "tambah = daftar.append('rizky')\n",
    "print(daftar)\n",
    "\n",
    "tambahLagi = daftar.insert(1, \"ibrahim\") # menambahkan kata pada index ke 1\n",
    "print(daftar)\n",
    "\n",
    "print(daftar[1]) # mengambil index ke 1"
   ]
  },
  {
   "cell_type": "code",
   "execution_count": 12,
   "metadata": {},
   "outputs": [
    {
     "name": "stdout",
     "output_type": "stream",
     "text": [
      "{'ridho': [10, 30], 'rasyid': [20]}\n"
     ]
    }
   ],
   "source": [
    "grades_dictionary = {}\n",
    "grades_dictionary['ridho'] = [10]\n",
    "grades_dictionary['rasyid'] = [20]\n",
    "# grades_dictionary['ridho'] = [30] # jika ingin menambahkan 30 perlu menggunakan append, jika tidak akan mereplace index sebelumnya\n",
    "grades_dictionary['ridho'].append(30)\n",
    "\n",
    "print(grades_dictionary)"
   ]
  },
  {
   "cell_type": "code",
   "execution_count": 13,
   "metadata": {},
   "outputs": [
    {
     "name": "stdout",
     "output_type": "stream",
     "text": [
      "{'Alice': [85, 92], 'Bob': [90], 'Charlie': [88]}\n"
     ]
    }
   ],
   "source": [
    "def track_grades(student_grades):\n",
    "    grades_dictionary = {}  # Buat dictionary kosong untuk menyimpan hasilnya\n",
    "    \n",
    "    for student_name, grade in student_grades:\n",
    "        if student_name in grades_dictionary:\n",
    "            grades_dictionary[student_name].append(grade)  # Menambahkan nilai ke list yang ada\n",
    "        else:\n",
    "            grades_dictionary[student_name] = [grade]  # Membuat list baru dengan satu nilai\n",
    "\n",
    "    return grades_dictionary\n",
    "\n",
    "# Contoh penggunaan\n",
    "students = [('Alice', 85), ('Bob', 90), ('Alice', 92), ('Charlie', 88)]\n",
    "result = track_grades(students)\n",
    "print(result)\n",
    "# Output: {'Alice': [85, 92], 'Bob': [90], 'Charlie': [88]}\n"
   ]
  },
  {
   "cell_type": "code",
   "execution_count": 19,
   "metadata": {},
   "outputs": [
    {
     "name": "stdout",
     "output_type": "stream",
     "text": [
      "Nama: Alice, Nilai: 85\n",
      "Nama: Bob, Nilai: 90\n",
      "Nama: Alice, Nilai: 92\n",
      "Nama: Charlie, Nilai: 88\n"
     ]
    }
   ],
   "source": [
    "students = [('Alice', 85), ('Bob', 90), ('Alice', 92), ('Charlie', 88)]\n",
    "\n",
    "for student_name, grade in students :\n",
    "    # print(students) # outputnya akan seperti variable students dan dilooping 4x karena pada array ada 4 kolom\n",
    "    # [('Alice', 85), ('Bob', 90), ('Alice', 92), ('Charlie', 88)]\n",
    "    # [('Alice', 85), ('Bob', 90), ('Alice', 92), ('Charlie', 88)]\n",
    "    # [('Alice', 85), ('Bob', 90), ('Alice', 92), ('Charlie', 88)]\n",
    "    # [('Alice', 85), ('Bob', 90), ('Alice', 92), ('Charlie', 88)]\n",
    "    print(f\"Nama: {student_name}, Nilai: {grade}\")"
   ]
  },
  {
   "cell_type": "code",
   "execution_count": 25,
   "metadata": {},
   "outputs": [
    {
     "name": "stdout",
     "output_type": "stream",
     "text": [
      "{'Alice': [85, 92], 'Bob': [90], 'Charlie': [88]}\n"
     ]
    }
   ],
   "source": [
    "def grade_tracker(student_grades): # diminta untuk membuat fungsi untuk mentracking grade pada students\n",
    "    # Buat dictionary kosong terlebih dahulu untuk menyimpan hasil akhir nantinya\n",
    "    grades_dictionary = {}\n",
    "    \n",
    "    # Looping atau ambil semua elemen pada variable student_grades\n",
    "    for student_name, grade in student_grades:\n",
    "        # Jika nama student sudah ada di dictionary maka kita hanya perlu menambahkan nilainya\n",
    "        if student_name in grades_dictionary:\n",
    "            grades_dictionary[student_name].append(grade)  # Tambahkan nilai ke daftar yang ada, namanya siapa, nilainya berapa\n",
    "        else:\n",
    "            grades_dictionary[student_name] = [grade]  # # jika tidak ada nama student dan nilai, maka tulis daftar baru\n",
    "    \n",
    "    return grades_dictionary\n",
    "\n",
    "# Daftar tuple\n",
    "students = [('Alice', 85), ('Bob', 90), ('Alice', 92), ('Charlie', 88)]\n",
    "\n",
    "# Memanggil fungsi\n",
    "result = grade_tracker(students)\n",
    "print(result)\n"
   ]
  },
  {
   "cell_type": "code",
   "execution_count": 31,
   "metadata": {},
   "outputs": [
    {
     "name": "stdout",
     "output_type": "stream",
     "text": [
      "3\n"
     ]
    }
   ],
   "source": [
    "def count_unique_emails(emails: list) -> int:\n",
    "    # Gunakan set untuk menyimpan email yang unik, conversi dari list ke set\n",
    "    # karena list bisa menyimpan nilai duplicate, sedangkan set hanya unique\n",
    "    unique_emails = set(emails)\n",
    "    \n",
    "    # hitung berapa banyak unique emailnya\n",
    "    return len(unique_emails)\n",
    "\n",
    "# Contoh penggunaan\n",
    "emails = ['Alice@example.com', 'bob@example.com', 'alice@example.com','alice@example.com']\n",
    "result = count_unique_emails(emails)\n",
    "print(result) \n",
    "\n"
   ]
  },
  {
   "cell_type": "code",
   "execution_count": 1,
   "metadata": {},
   "outputs": [
    {
     "name": "stdout",
     "output_type": "stream",
     "text": [
      "Total Pendapatan Penjualan per Kategori Produk:\n",
      "  Product_Category  Total_Revenue\n",
      "0         Clothing       21565.18\n",
      "1      Electronics       16682.42\n",
      "2  Food & Beverage       25328.05\n",
      "3    Home & Garden       19503.02\n",
      "4     Toys & Games       16824.12\n",
      "\n",
      "3 Produk Terlaris di Setiap Wilayah:\n",
      "   Store_Region Product_ID  Units_Sold\n",
      "0          East      P0009          59\n",
      "1          East      P0012          35\n",
      "2          East      P0023          32\n",
      "3         North      P0024          60\n",
      "4         North      P0012          52\n",
      "5         North      P0022          48\n",
      "6         South      P0045          46\n",
      "7         South      P0036          30\n",
      "8         South      P0034          27\n",
      "9          West      P0045          35\n",
      "10         West      P0020          34\n",
      "11         West      P0007          32\n",
      "\n",
      "Kinerja Penjualan berdasarkan Wilayah:\n",
      "  Store_Region  Total_Revenue\n",
      "0         East       21553.05\n",
      "1        North       31772.04\n",
      "2        South       22859.25\n",
      "3         West       23718.45\n",
      "\n",
      "Wilayah dengan Pendapatan Tertinggi: North dengan pendapatan 31772.04\n",
      "Wilayah dengan Pendapatan Terendah: East dengan pendapatan 21553.05\n"
     ]
    }
   ],
   "source": [
    "import pandas as pd\n",
    "\n",
    "# Langkah 1: Impor dataset ke DataFrame\n",
    "sales_dataset = pd.read_csv(r\"D:\\Data Engineer\\DE - PartnaLearn\\sales_dataset.csv\")\n",
    "\n",
    "# print(sales_dataset.head())\n",
    "\n",
    "# # sales_dataset[sales_dataset['Product_Category']=='Clothing']\n",
    "\n",
    "# filtered_dataset = sales_dataset.query('Product_Category == \"Clothing\" & Store_Region == \"West\"')\n",
    "# print(filtered_dataset)\n",
    "\n",
    "# print(sales_dataset.loc[0])\n",
    "# print(sales_dataset.loc[:,'Date'])\n",
    "\n",
    "sales_dataset['Total_Revenue'] = sales_dataset['Units_Sold'] * sales_dataset['Price']\n",
    "\n",
    "# Kelompokkan berdasarkan 'Product_Category' dan hitung jumlah total pendapatan\n",
    "total_revenue_per_category = sales_dataset.groupby('Product_Category')['Total_Revenue'].sum().reset_index()\n",
    "print(\"Total Pendapatan Penjualan per Kategori Produk:\")\n",
    "print(total_revenue_per_category)\n",
    "\n",
    "# Langkah 3: 3 Produk Terlaris di Setiap Wilayah\n",
    "# Kelompokkan berdasarkan 'Store_Region' dan 'Product_ID', lalu hitung jumlah 'Units_Sold'\n",
    "units_sold_per_product_region = sales_dataset.groupby(['Store_Region', 'Product_ID'])['Units_Sold'].sum().reset_index()\n",
    "\n",
    "# Identifikasi 3 produk teratas berdasarkan jumlah unit yang terjual di setiap wilayah\n",
    "top_3_products_per_region = units_sold_per_product_region.groupby('Store_Region').apply(lambda x: x.nlargest(3, 'Units_Sold')).reset_index(drop=True)\n",
    "print(\"\\n3 Produk Terlaris di Setiap Wilayah:\")\n",
    "print(top_3_products_per_region)\n",
    "\n",
    "# Langkah 4: Kinerja Penjualan berdasarkan Wilayah\n",
    "# Kelompokkan berdasarkan 'Store_Region' dan hitung jumlah total pendapatan\n",
    "total_revenue_per_region = sales_dataset.groupby('Store_Region')['Total_Revenue'].sum().reset_index()\n",
    "\n",
    "# Identifikasi wilayah dengan pendapatan penjualan tertinggi dan terendah\n",
    "highest_revenue_region = total_revenue_per_region.loc[total_revenue_per_region['Total_Revenue'].idxmax()]\n",
    "lowest_revenue_region = total_revenue_per_region.loc[total_revenue_per_region['Total_Revenue'].idxmin()]\n",
    "\n",
    "print(\"\\nKinerja Penjualan berdasarkan Wilayah:\")\n",
    "print(total_revenue_per_region)\n",
    "print(f\"\\nWilayah dengan Pendapatan Tertinggi: {highest_revenue_region['Store_Region']} dengan pendapatan {highest_revenue_region['Total_Revenue']}\")\n",
    "print(f\"Wilayah dengan Pendapatan Terendah: {lowest_revenue_region['Store_Region']} dengan pendapatan {lowest_revenue_region['Total_Revenue']}\")\n",
    "\n"
   ]
  },
  {
   "cell_type": "code",
   "execution_count": 83,
   "metadata": {},
   "outputs": [
    {
     "name": "stdout",
     "output_type": "stream",
     "text": [
      "    Nama  Umur      Kota\n",
      "0    Ayu    25   Jakarta\n",
      "1   Budi    30   Bandung\n",
      "2  Citra    22  Surabaya\n"
     ]
    }
   ],
   "source": [
    "data = {\n",
    "    'Nama': ['Ayu', 'Budi', 'Citra'],\n",
    "    'Umur': [25, 30, 22],\n",
    "    'Kota': ['Jakarta', 'Bandung', 'Surabaya']\n",
    "}\n",
    "\n",
    "df = pd.DataFrame(data)\n",
    "print(df)"
   ]
  },
  {
   "cell_type": "code",
   "execution_count": 84,
   "metadata": {},
   "outputs": [
    {
     "name": "stdout",
     "output_type": "stream",
     "text": [
      "Menggunakan loc untuk mengakses baris pertama:\n",
      "Nama        Ayu\n",
      "Umur         25\n",
      "Kota    Jakarta\n",
      "Name: 0, dtype: object\n",
      "\n",
      "Menggunakan loc untuk mengakses kolom 'Nama':\n",
      "0      Ayu\n",
      "1     Budi\n",
      "2    Citra\n",
      "Name: Nama, dtype: object\n",
      "\n",
      "Menggunakan loc untuk mengakses baris pertama dan kolom 'Nama':\n",
      "Ayu\n"
     ]
    }
   ],
   "source": [
    "# Akses baris pertama berdasarkan label indeks\n",
    "print(\"Menggunakan loc untuk mengakses baris pertama:\")\n",
    "print(df.loc[0])\n",
    "\n",
    "# Akses kolom 'Nama'\n",
    "print(\"\\nMenggunakan loc untuk mengakses kolom 'Nama':\")\n",
    "print(df.loc[:, 'Nama'])\n",
    "\n",
    "# Akses baris pertama dan kolom 'Nama'\n",
    "print(\"\\nMenggunakan loc untuk mengakses baris pertama dan kolom 'Nama':\")\n",
    "print(df.loc[0, 'Nama'])\n"
   ]
  },
  {
   "cell_type": "code",
   "execution_count": 3,
   "metadata": {},
   "outputs": [
    {
     "name": "stdout",
     "output_type": "stream",
     "text": [
      "Total Pendapatan Penjualan per Kategori Produk:\n",
      "  Product_Category  Total_Revenue\n",
      "0         Clothing       21565.18\n",
      "1      Electronics       16682.42\n",
      "2  Food & Beverage       25328.05\n",
      "3    Home & Garden       19503.02\n",
      "4     Toys & Games       16824.12\n"
     ]
    }
   ],
   "source": [
    "\n",
    "\n",
    "# Menghitung total pendapatan per kategori produk\n",
    "total_revenue_per_category = (\n",
    "    sales_dataset.assign(Total_Revenue=sales_dataset['Units_Sold'] * sales_dataset['Price'])\n",
    "                 .groupby('Product_Category')['Total_Revenue']\n",
    "                 .sum()\n",
    "                 .reset_index()\n",
    ")\n",
    "\n",
    "print(\"Total Pendapatan Penjualan per Kategori Produk:\")\n",
    "print(total_revenue_per_category)\n"
   ]
  },
  {
   "cell_type": "code",
   "execution_count": 2,
   "metadata": {},
   "outputs": [
    {
     "name": "stdout",
     "output_type": "stream",
     "text": [
      "Total Pendapatan Penjualan per Kategori Produk:\n",
      "  Product_Category  Total_Revenue\n",
      "0         Clothing       21565.18\n",
      "1      Electronics       16682.42\n",
      "2  Food & Beverage       25328.05\n",
      "3    Home & Garden       19503.02\n",
      "4     Toys & Games       16824.12\n"
     ]
    }
   ],
   "source": [
    "\n",
    "import pandas as pd\n",
    "sales_dataset = pd.read_csv(r\"D:\\Data Engineer\\DE - PartnaLearn\\sales_dataset.csv\")\n",
    "# Menghitung total pendapatan per kategori produk\n",
    "total_revenue_per_category = (\n",
    "    sales_dataset.assign(Total_Revenue=sales_dataset['Units_Sold'] * sales_dataset['Price'])\n",
    "                 .groupby('Product_Category')['Total_Revenue']\n",
    "                 .sum()\n",
    "                 .reset_index()\n",
    ")\n",
    "\n",
    "print(\"Total Pendapatan Penjualan per Kategori Produk:\")\n",
    "print(total_revenue_per_category)\n"
   ]
  },
  {
   "cell_type": "code",
   "execution_count": 3,
   "metadata": {},
   "outputs": [
    {
     "name": "stdout",
     "output_type": "stream",
     "text": [
      "\n",
      "3 Produk Terlaris di Setiap Wilayah:\n",
      "    Store_Region Product_ID  Units_Sold\n",
      "6           East      P0009          59\n",
      "7           East      P0012          35\n",
      "13          East      P0023          32\n",
      "46         North      P0024          60\n",
      "36         North      P0012          52\n",
      "44         North      P0022          48\n",
      "89         South      P0045          46\n",
      "86         South      P0036          30\n",
      "84         South      P0034          27\n",
      "121         West      P0045          35\n",
      "106         West      P0020          34\n",
      "97          West      P0007          32\n"
     ]
    }
   ],
   "source": [
    "# Mengidentifikasi 3 produk terlaris di setiap wilayah\n",
    "top_3_products_per_region = (\n",
    "    sales_dataset.groupby(['Store_Region', 'Product_ID'])['Units_Sold']\n",
    "                 .sum()\n",
    "                 .reset_index()\n",
    "                 .sort_values(by=['Store_Region', 'Units_Sold'], ascending=[True, False])\n",
    "                 .groupby('Store_Region')\n",
    "                 .head(3)\n",
    ")\n",
    "\n",
    "print(\"\\n3 Produk Terlaris di Setiap Wilayah:\")\n",
    "print(top_3_products_per_region)\n"
   ]
  },
  {
   "cell_type": "code",
   "execution_count": 4,
   "metadata": {},
   "outputs": [
    {
     "name": "stdout",
     "output_type": "stream",
     "text": [
      "\n",
      "Kinerja Penjualan berdasarkan Wilayah:\n",
      "  Store_Region  Total_Revenue\n",
      "0         East       21553.05\n",
      "1        North       31772.04\n",
      "2        South       22859.25\n",
      "3         West       23718.45\n",
      "\n",
      "Wilayah dengan Pendapatan Tertinggi: North dengan pendapatan 31772.04\n",
      "Wilayah dengan Pendapatan Terendah: East dengan pendapatan 21553.05\n"
     ]
    }
   ],
   "source": [
    "# Menghitung total pendapatan per wilayah\n",
    "total_revenue_per_region = (\n",
    "    sales_dataset.assign(Total_Revenue=sales_dataset['Units_Sold'] * sales_dataset['Price'])\n",
    "                 .groupby('Store_Region')['Total_Revenue']\n",
    "                 .sum()\n",
    "                 .reset_index()\n",
    ")\n",
    "\n",
    "# Identifikasi wilayah dengan pendapatan tertinggi dan terendah\n",
    "highest_revenue_region = total_revenue_per_region.loc[total_revenue_per_region['Total_Revenue'].idxmax()]\n",
    "lowest_revenue_region = total_revenue_per_region.loc[total_revenue_per_region['Total_Revenue'].idxmin()]\n",
    "\n",
    "print(\"\\nKinerja Penjualan berdasarkan Wilayah:\")\n",
    "print(total_revenue_per_region)\n",
    "print(f\"\\nWilayah dengan Pendapatan Tertinggi: {highest_revenue_region['Store_Region']} dengan pendapatan {highest_revenue_region['Total_Revenue']}\")\n",
    "print(f\"Wilayah dengan Pendapatan Terendah: {lowest_revenue_region['Store_Region']} dengan pendapatan {lowest_revenue_region['Total_Revenue']}\")\n"
   ]
  },
  {
   "cell_type": "code",
   "execution_count": null,
   "metadata": {},
   "outputs": [],
   "source": [
    "import requests\n",
    "import pandas as pd\n",
    "from datetime import datetime\n",
    "import pytz\n",
    "\n",
    "# Step 1: Connect to the API and retrieve data\n",
    "url = \"https://pokeapi.co/api/v2/type/3/\"\n",
    "response = requests.get(url)\n",
    "data = response.json()\n",
    "\n",
    "# Parse the JSON data into a DataFrame\n",
    "pokemons = data['pokemon']\n",
    "df = pd.json_normalize(pokemons)\n"
   ]
  },
  {
   "cell_type": "code",
   "execution_count": null,
   "metadata": {},
   "outputs": [],
   "source": [
    "# Replace hyphens with underscores in the pokemon.name column\n",
    "df['pokemon.name'] = df['pokemon.name'].str.replace('-', '_')\n",
    "\n",
    "# Function to get the first ability of a Pokémon\n",
    "def get_first_ability(pokemon_url):\n",
    "    response = requests.get(pokemon_url)\n",
    "    pokemon_data = response.json()\n",
    "    abilities = pokemon_data['abilities']\n",
    "    if abilities:\n",
    "        return abilities[0]['ability']['name']\n",
    "    return None\n",
    "\n",
    "# Add the 'ability' column to the DataFrame\n",
    "df['ability'] = df['pokemon.url'].apply(get_first_ability)\n"
   ]
  },
  {
   "cell_type": "code",
   "execution_count": null,
   "metadata": {},
   "outputs": [],
   "source": [
    "import requests\n",
    "import pandas as pd\n",
    "from datetime import datetime\n",
    "import pytz\n",
    "\n",
    "# Step 1: Connect to the API and retrieve data\n",
    "url = \"https://pokeapi.co/api/v2/type/3/\"\n",
    "response = requests.get(url)\n",
    "data = response.json()\n",
    "\n",
    "# Parse the JSON data into a DataFrame\n",
    "pokemons = data['pokemon']\n",
    "df = pd.json_normalize(pokemons)\n",
    "\n",
    "# Step 2: Replace hyphens with underscores in the pokemon.name column\n",
    "df['pokemon.name'] = df['pokemon.name'].str.replace('-', '_')\n",
    "\n",
    "# Function to get the first ability of a Pokémon\n",
    "def get_first_ability(pokemon_url):\n",
    "    response = requests.get(pokemon_url)\n",
    "    pokemon_data = response.json()\n",
    "    abilities = pokemon_data['abilities']\n",
    "    if abilities:\n",
    "        return abilities[0]['ability']['name']\n",
    "    return None\n",
    "\n",
    "# Add the 'ability' column to the DataFrame\n",
    "df['ability'] = df['pokemon.url'].apply(get_first_ability)\n",
    "\n",
    "# Step 3: Get the current timestamp adjusted to GMT+7 timezone\n",
    "gmt7 = pytz.timezone('Asia/Bangkok')\n",
    "current_time = datetime.now(gmt7)\n",
    "\n",
    "# Add the timestamp to the DataFrame\n",
    "df['test_date'] = current_time\n",
    "\n",
    "# Step 4: Export the DataFrame to a CSV file\n",
    "df.to_csv('pokemon_data.csv', index=False)\n"
   ]
  },
  {
   "cell_type": "code",
   "execution_count": null,
   "metadata": {},
   "outputs": [],
   "source": [
    "import requests\n",
    "import pandas as pd\n",
    "from datetime import datetime\n",
    "import pytz\n",
    "\n",
    "# Step 1: Connect to the API and retrieve data\n",
    "url = \"https://pokeapi.co/api/v2/type/3/\"\n",
    "response = requests.get(url)\n",
    "\n",
    "# Check if the API call was successful\n",
    "if response.status_code == 200:\n",
    "    print(\"API call successful.\")\n",
    "    data = response.json()\n",
    "else:\n",
    "    print(f\"Failed to retrieve data. Status code: {response.status_code}\")\n",
    "    data = {}\n",
    "\n",
    "# Parse the JSON data into a DataFrame\n",
    "if 'pokemon' in data:\n",
    "    pokemons = data['pokemon']\n",
    "    df = pd.json_normalize(pokemons)\n",
    "    print(\"DataFrame created successfully.\")\n",
    "else:\n",
    "    print(\"No 'pokemon' key in the data.\")\n",
    "    df = pd.DataFrame()\n",
    "\n",
    "# Check the initial DataFrame\n",
    "print(\"Initial DataFrame:\")\n",
    "print(df.head())\n",
    "\n",
    "# Step 2: Replace hyphens with underscores in the pokemon.name column\n",
    "if not df.empty:\n",
    "    df['pokemon.name'] = df['pokemon.name'].str.replace('-', '_')\n",
    "    print(\"Hyphens replaced in 'pokemon.name' column.\")\n",
    "\n",
    "# Function to get the first ability of a Pokémon\n",
    "def get_first_ability(pokemon_url):\n",
    "    response = requests.get(pokemon_url)\n",
    "    if response.status_code == 200:\n",
    "        pokemon_data = response.json()\n",
    "        abilities = pokemon_data.get('abilities', [])\n",
    "        if abilities:\n",
    "            return abilities[0]['ability']['name']\n",
    "    return None\n",
    "\n",
    "# Add the 'ability' column to the DataFrame\n",
    "if not df.empty:\n",
    "    df['ability'] = df['pokemon.url'].apply(get_first_ability)\n",
    "    print(\"Ability column added.\")\n",
    "\n",
    "# Check the DataFrame after adding the ability\n",
    "print(\"DataFrame with abilities:\")\n",
    "print(df.head())\n",
    "\n",
    "# Step 3: Get the current timestamp adjusted to GMT+7 timezone\n",
    "gmt7 = pytz.timezone('Asia/Bangkok')\n",
    "current_time = datetime.now(gmt7)\n",
    "\n",
    "# Add the timestamp to the DataFrame\n",
    "if not df.empty:\n",
    "    df['test_date'] = current_time\n",
    "    print(\"Timestamp added.\")\n",
    "\n",
    "# Step 4: Export the DataFrame to a CSV file\n",
    "if not df.empty:\n",
    "    df.to_csv('pokemon_data.csv', index=False)\n",
    "    print(\"DataFrame exported to 'pokemon_data.csv'.\")\n",
    "else:\n",
    "    print(\"DataFrame is empty. Nothing to export.\")\n"
   ]
  },
  {
   "cell_type": "code",
   "execution_count": 1,
   "metadata": {},
   "outputs": [
    {
     "data": {
      "text/plain": [
       "8"
      ]
     },
     "execution_count": 1,
     "metadata": {},
     "output_type": "execute_result"
    }
   ],
   "source": [
    "def add1(a, b=1):\n",
    "    return a + b\n",
    "\n",
    "add1(5)    # 5 + 1 = 6\n",
    "add1(5, 3) # 5 + 3 = 8\n"
   ]
  },
  {
   "cell_type": "code",
   "execution_count": 8,
   "metadata": {},
   "outputs": [
    {
     "name": "stdout",
     "output_type": "stream",
     "text": [
      "10\n",
      "10\n",
      "None\n"
     ]
    }
   ],
   "source": [
    "x = 5  # global\n",
    "\n",
    "def myfunc():\n",
    "    x = 10  # local\n",
    "    print(x)\n",
    "\n",
    "myfunc() # 10\n",
    "print(myfunc()) # 5\n"
   ]
  },
  {
   "cell_type": "code",
   "execution_count": 17,
   "metadata": {},
   "outputs": [
    {
     "name": "stdout",
     "output_type": "stream",
     "text": [
      "0.375\n"
     ]
    }
   ],
   "source": [
    "a = int(input())\n",
    "b = int(input())\n",
    "\n",
    "def divides () :\n",
    "    return a/b\n",
    "\n",
    "divides()\n",
    "print(divides())"
   ]
  },
  {
   "cell_type": "code",
   "execution_count": 21,
   "metadata": {},
   "outputs": [
    {
     "name": "stdout",
     "output_type": "stream",
     "text": [
      "4\n"
     ]
    }
   ],
   "source": [
    "little = \"Mary had a little lamb little lamb, little lamb Mary had a little lamb. Its fleece was white as snow And everywhere that Mary went Mary went, Mary went Everywhere that Mary went The lamb was sure to go\"\n",
    "\n",
    "# def word () :\n",
    "#     for i in little [i] :\n",
    "#         if i == 'little' :\n",
    "#             len(i)\n",
    "\n",
    "#     word()\n",
    "\n",
    "count = sum(1 for w in little.split() if w.lower().strip(\",.\") == 'little')\n",
    "print(count)  # 6\n"
   ]
  },
  {
   "cell_type": "code",
   "execution_count": 22,
   "metadata": {},
   "outputs": [
    {
     "data": {
      "text/plain": [
       "3"
      ]
     },
     "execution_count": 22,
     "metadata": {},
     "output_type": "execute_result"
    }
   ],
   "source": [
    "len(['A','B',1])"
   ]
  },
  {
   "cell_type": "code",
   "execution_count": 23,
   "metadata": {},
   "outputs": [
    {
     "data": {
      "text/plain": [
       "1"
      ]
     },
     "execution_count": 23,
     "metadata": {},
     "output_type": "execute_result"
    }
   ],
   "source": [
    "len([sum([1,1,1])])"
   ]
  },
  {
   "cell_type": "code",
   "execution_count": null,
   "metadata": {},
   "outputs": [
    {
     "ename": "NameError",
     "evalue": "name 'sort' is not defined",
     "output_type": "error",
     "traceback": [
      "\u001b[31m---------------------------------------------------------------------------\u001b[39m",
      "\u001b[31mNameError\u001b[39m                                 Traceback (most recent call last)",
      "\u001b[36mCell\u001b[39m\u001b[36m \u001b[39m\u001b[32mIn[26]\u001b[39m\u001b[32m, line 4\u001b[39m\n\u001b[32m      1\u001b[39m L=[\u001b[32m1\u001b[39m,\u001b[32m3\u001b[39m,\u001b[32m2\u001b[39m]\n\u001b[32m      3\u001b[39m \u001b[38;5;28msorted\u001b[39m(L)\n\u001b[32m----> \u001b[39m\u001b[32m4\u001b[39m \u001b[43msort\u001b[49m(L)\n",
      "\u001b[31mNameError\u001b[39m: name 'sort' is not defined"
     ]
    }
   ],
   "source": [
    "L=[1,3,2]\n",
    "\n",
    "sorted(L)"
   ]
  },
  {
   "cell_type": "code",
   "execution_count": 27,
   "metadata": {},
   "outputs": [
    {
     "name": "stdout",
     "output_type": "stream",
     "text": [
      "a1\n",
      "b1\n",
      "c1\n"
     ]
    }
   ],
   "source": [
    "def print_function(A):\n",
    "    for a in A:\n",
    "        print(a + '1')\n",
    "print_function(['a', 'b', 'c'])"
   ]
  },
  {
   "cell_type": "code",
   "execution_count": 58,
   "metadata": {},
   "outputs": [
    {
     "name": "stdout",
     "output_type": "stream",
     "text": [
      "[1, 2, 3]\n"
     ]
    }
   ],
   "source": [
    "L= [1,3,2]\n",
    "\n",
    "\n",
    "newL = sorted(L) \n",
    "# L.sort()\n",
    "print(newL)"
   ]
  },
  {
   "cell_type": "code",
   "execution_count": 33,
   "metadata": {},
   "outputs": [
    {
     "name": "stdout",
     "output_type": "stream",
     "text": [
      "There was an error\n"
     ]
    }
   ],
   "source": [
    "a = 1\n",
    "try:\n",
    "    b = int(input(\"Please enter a number to divide a: \"))\n",
    "    a = a / b\n",
    "    print(\"Success a =\", a)\n",
    "except:\n",
    "    print(\"There was an error\")"
   ]
  },
  {
   "cell_type": "code",
   "execution_count": 34,
   "metadata": {},
   "outputs": [
    {
     "name": "stdout",
     "output_type": "stream",
     "text": [
      "Error: Cannot divide by zero.\n",
      "None\n"
     ]
    }
   ],
   "source": [
    "def safe_divide(numerator,denominator):\n",
    "    try:\n",
    "        result = numerator / denominator\n",
    "        return result\n",
    "    except ZeroDivisionError:\n",
    "        print(\"Error: Cannot divide by zero.\")\n",
    "        return None\n",
    "# Test case\n",
    "numerator=int(input(\"Enter the numerator value:-\"))\n",
    "denominator=int(input(\"Enter the denominator value:-\"))\n",
    "print(safe_divide(numerator,denominator))"
   ]
  },
  {
   "cell_type": "code",
   "execution_count": 36,
   "metadata": {},
   "outputs": [
    {
     "name": "stdout",
     "output_type": "stream",
     "text": [
      "Input all number except zero\n"
     ]
    }
   ],
   "source": [
    "def safe_divide():\n",
    "    a = int(input(\"Masukkan angka pertama: \"))\n",
    "    b = int(input(\"Masukkan angka kedua: \"))\n",
    "    try:\n",
    "        result = a / b\n",
    "        print(\"Hasil:\", result)\n",
    "    except ZeroDivisionError:\n",
    "        print(\"Input all number except zero\")\n",
    "\n",
    "safe_divide()\n"
   ]
  },
  {
   "cell_type": "code",
   "execution_count": 48,
   "metadata": {},
   "outputs": [
    {
     "name": "stdout",
     "output_type": "stream",
     "text": [
      "Invalid input! Please enter a positive integer or a float value.\n"
     ]
    }
   ],
   "source": [
    "import math\n",
    "def number1 (a) :\n",
    "    try:\n",
    "        result = math.sqrt(a)\n",
    "        return result\n",
    "    except ValueError :\n",
    "        if a < 0 :\n",
    "            print(\"Invalid input! Please enter a positive integer or a float value.\")\n",
    "\n",
    "number1 (-3)\n",
    "\n",
    "    "
   ]
  },
  {
   "cell_type": "code",
   "execution_count": null,
   "metadata": {},
   "outputs": [],
   "source": []
  }
 ],
 "metadata": {
  "kernelspec": {
   "display_name": ".venv (3.12.1)",
   "language": "python",
   "name": "python3"
  },
  "language_info": {
   "codemirror_mode": {
    "name": "ipython",
    "version": 3
   },
   "file_extension": ".py",
   "mimetype": "text/x-python",
   "name": "python",
   "nbconvert_exporter": "python",
   "pygments_lexer": "ipython3",
   "version": "3.12.1"
  }
 },
 "nbformat": 4,
 "nbformat_minor": 2
}
