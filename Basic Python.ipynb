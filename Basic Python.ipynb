{
 "cells": [
  {
   "cell_type": "markdown",
   "metadata": {},
   "source": [
    "Basic Python"
   ]
  },
  {
   "cell_type": "code",
   "execution_count": 2,
   "metadata": {},
   "outputs": [
    {
     "name": "stdout",
     "output_type": "stream",
     "text": [
      "nomor ini adalah 9\n",
      "nomor itu adalah 12\n"
     ]
    }
   ],
   "source": [
    "print(\"nomor ini adalah\", 3*3)\n",
    "# ridho\n",
    "# muhammad rasyid ridho using control+/\n"
   ]
  },
  {
   "cell_type": "code",
   "execution_count": 14,
   "metadata": {},
   "outputs": [
    {
     "name": "stdout",
     "output_type": "stream",
     "text": [
      "ridho 18 tahun 183.7cm\n"
     ]
    }
   ],
   "source": [
    "nama = 'ridho' #string atau berkutip baik titik 1 atau dua\n",
    "usia = 18 #integer karena bilangan asli/bukan desimal\n",
    "tinggi_badan = 183.7 #float karena desimal\n",
    "\n",
    "# print(nama + usia + tinggi_badan) #error karena memiliki variabel dengan tipe data berbeda\n",
    "# oleh karena perlu convert ke integer atau menyesuaikan dgn type data yg diinginkan\n",
    "# str() untuk ubah ke string\n",
    "# int() untuk ubah ke integer\n",
    "# float() untuk ubah ke float/decimal\n",
    "\n",
    "print(nama + \" \" + str(usia) +\" tahun\"+ \" \" + str(tinggi_badan) + \"cm\")\n"
   ]
  },
  {
   "cell_type": "code",
   "execution_count": 7,
   "metadata": {},
   "outputs": [
    {
     "name": "stdout",
     "output_type": "stream",
     "text": [
      "False\n"
     ]
    }
   ],
   "source": [
    "sedang_kuliah = True\n",
    "sedang_kuliah = False #variabel kedua akan mereplace yang pertama karena codingan dibaca dari atas ke bawah\n",
    "print(sedang_kuliah)"
   ]
  },
  {
   "cell_type": "code",
   "execution_count": 1,
   "metadata": {},
   "outputs": [
    {
     "name": "stdout",
     "output_type": "stream",
     "text": [
      "ridho\n"
     ]
    }
   ],
   "source": [
    "# Input User\n",
    "# function input digunakan untuk menerima input langsung dari keyboard\n",
    "# menerima satu buah parameter string,\n",
    "# yang mana parameter tersebut akan ditampilkan di layar sebelum user memasukkan sebuah data\n",
    "\n",
    "input_nama = input(\"siapa nama kamu?\")\n",
    "print(input_nama)\n"
   ]
  },
  {
   "cell_type": "code",
   "execution_count": 11,
   "metadata": {},
   "outputs": [
    {
     "name": "stdout",
     "output_type": "stream",
     "text": [
      "hasilnya adalah: 7\n"
     ]
    }
   ],
   "source": [
    "a = input(\"angka ganjil\") #output string\n",
    "b = input(\"angka genap\") #output string\n",
    "c_str = a+b\n",
    "\n",
    "# print(c_str)  jika print seperti ini maka outpunya akan 12 bukan 3 \n",
    "# karena type data string tidak bisa menggunakan operasi matematika \n",
    "\n",
    "c_int = int(a)+int(b)\n",
    "# a = 2\n",
    "# b = 3\n",
    "# print('hasilnya adalah' + c_int) #jika seperti ini akan error karena function print\n",
    "# akan menghasilkan output string+integer\n",
    "# solusinya adalah menambahkan str pada c_int untuk mengubah c_int dair integer ke string\n",
    "\n",
    "print('hasilnya adalah: ' + str(c_int))"
   ]
  },
  {
   "cell_type": "code",
   "execution_count": 20,
   "metadata": {},
   "outputs": [
    {
     "name": "stdout",
     "output_type": "stream",
     "text": [
      "hasilnya adalah: 0.75\n"
     ]
    }
   ],
   "source": [
    "# Pembulatan\n",
    "\n",
    "a = input(\"angka ganjil\") #output string\n",
    "b = input(\"angka genap\") #output string\n",
    "c_str = a+b\n",
    "c_int = int(a) / int(b) # jika hanya menggunakan satu / maka akan muncul output .0 atau desimal\n",
    "# jika menggunakan 2 tanda // maka akan membulatkan ke bawah misal dari 0,75 ke 0\n",
    "\n",
    "\n",
    "print('hasilnya adalah: ' + str(c_int))"
   ]
  },
  {
   "cell_type": "code",
   "execution_count": 25,
   "metadata": {},
   "outputs": [
    {
     "name": "stdout",
     "output_type": "stream",
     "text": [
      "127628156.25000003\n"
     ]
    }
   ],
   "source": [
    "# Compound Interest\n",
    "\n",
    "saldo_awal = input('berapa saldo awalmu :')\n",
    "interest = 0.05\n",
    "lama_investasi = 5\n",
    "compound_interest = int(saldo_awal)*(1 + interest) ** lama_investasi\n",
    "# saldo awal harus diubah ke integer dahulu karena type awalnya String\n",
    "\n",
    "print(compound_interest)"
   ]
  },
  {
   "cell_type": "code",
   "execution_count": 40,
   "metadata": {},
   "outputs": [
    {
     "name": "stdout",
     "output_type": "stream",
     "text": [
      "1\n",
      "13\n",
      "21\n",
      "False\n",
      "RIDHO\n",
      "Muhammad rasyid ridho\n",
      "3\n"
     ]
    }
   ],
   "source": [
    "# Character Function\n",
    "\n",
    "nama = \"ridho\"\n",
    "\n",
    "print (nama.find('i')) \n",
    "# outputnya yaitu urutan huruf i dalam variabel\n",
    "# mengapa nomor urutnya 1? karena nomor urut dalam python dimulai dari 0\n",
    "\n",
    "nama_lengkap = \"muhammad rasyid ridho\"\n",
    "\n",
    "print (nama_lengkap.find('i'))\n",
    "# outputnya 13 karena nomor urut i diambil dari kemunculan pertama\n",
    "# i pada ridho tidak diambil karena bukan kemunculan pertama\n",
    "\n",
    "print(len(nama_lengkap)) # len untuk menghitung jumlah karakter pada string\n",
    "\n",
    "print('R' in nama) # in digunakan untuk mencari keberadaannya benar atau salah\n",
    "# R akan memiliki output False karena pada variabel nama menggunakan huruf R kecil\n",
    "\n",
    "print(nama.upper()) # upper untuk convert variabel ke huruf capital\n",
    "print(nama_lengkap.capitalize()) # capitalize untuk convert huruf pertama menjadi huruf capital\n",
    "print(nama_lengkap.count('m')) # menghitung jumlah karakter tertentu dalam satu variabel"
   ]
  },
  {
   "cell_type": "code",
   "execution_count": 48,
   "metadata": {},
   "outputs": [
    {
     "name": "stdout",
     "output_type": "stream",
     "text": [
      "bocil\n"
     ]
    }
   ],
   "source": [
    "# Conditional\n",
    "\n",
    "usia = 14\n",
    "\n",
    "if usia > 15 and 25 : # range lebih dari 15 sampai maks 25\n",
    "    print(\"remaja\")\n",
    "elif usia >26 and 40 : # range lebih dari 26 sampai maks 40\n",
    "    print (\"dewasa\")\n",
    "elif usia > 40 :\n",
    "    print (\"sudah tua\")\n",
    "else :\n",
    "    print(\"bocil\")\n",
    "\n",
    "# jika usia kurang dari 40 maka dewasa\n",
    "# namun jika usia kurang dari 25 maka remaja\n",
    "# jika bukan keduanya maka sudah tua"
   ]
  },
  {
   "cell_type": "code",
   "execution_count": 59,
   "metadata": {},
   "outputs": [
    {
     "name": "stdout",
     "output_type": "stream",
     "text": [
      "muhammad\n",
      "3\n",
      "8\n",
      "<built-in method count of list object at 0x0000017C7CD9CA40>\n"
     ]
    }
   ],
   "source": [
    "# list\n",
    "\n",
    "nama_saya = ['muhammad', 'rasyid','ridho']\n",
    "print(nama_saya[0]) # output list dengan urutan ke 0\n",
    "print(len(nama_saya)) # output jumlah list\n",
    "print(len(nama_saya[0])) # output total character pada list urutan ke 0"
   ]
  },
  {
   "cell_type": "code",
   "execution_count": 8,
   "metadata": {},
   "outputs": [
    {
     "name": "stdout",
     "output_type": "stream",
     "text": [
      "muhammad\n",
      "rasyid\n",
      "ridho\n",
      "0\n",
      "2\n",
      "4\n",
      "6\n",
      "8\n",
      "10\n",
      "1\n",
      "2\n",
      "3\n",
      "4\n",
      "5\n",
      "6\n",
      "7\n",
      "8\n",
      "9\n",
      "10\n"
     ]
    }
   ],
   "source": [
    "# looping\n",
    "# for\n",
    "# Pengulangan for digunakan untuk mengulangi tindakan tertentu sejumlah kali\n",
    "# untuk memunculkan masing-masing string pada variabel array\n",
    "nama_saya = ['muhammad', 'rasyid','ridho']\n",
    "for nama in nama_saya : \n",
    "    print(nama)\n",
    "\n",
    "# while \n",
    "# Pengulangan while digunakan untuk mengulangi tindakan tertentu selama kondisi tertentu terpenuhi\n",
    "\n",
    "titik_awal_nol = 0\n",
    "titik_awal_satu = 1\n",
    "\n",
    "while titik_awal_nol <= 10 :\n",
    "    print(titik_awal_nol)\n",
    "    titik_awal_nol = titik_awal_nol + 2\n",
    "\n",
    "while titik_awal_satu <= 10 :\n",
    "    print(titik_awal_satu)\n",
    "    titik_awal_satu += 1 # ada 2 cara, += untuk mempersingkat penambahan pada variabel, tidak perlu menuliskan ulang variabel awalnya\n",
    "# cara baca\n",
    "# titik awal adalah 1\n",
    "# jika titik awal kurang dari sama dengan 10 maka print titik_awal\n",
    "# dan tambahkan + 1\n",
    "# titik awal akan berhenti jika angka sudah mencapai 10\n"
   ]
  },
  {
   "cell_type": "code",
   "execution_count": 10,
   "metadata": {},
   "outputs": [
    {
     "name": "stdout",
     "output_type": "stream",
     "text": [
      "Halo, John\n",
      "Total: 8\n"
     ]
    }
   ],
   "source": [
    "def sapa(nama):\n",
    "    print(\"Halo,\", nama)\n",
    "\n",
    "# Memanggil fungsi\n",
    "sapa(\"John\")\n",
    "\n",
    "def hitung_total(a, b):\n",
    "    total = a + b\n",
    "    return total\n",
    "\n",
    "# Memanggil fungsi dan menyimpan nilai pengembaliannya\n",
    "hasil = hitung_total(5, 3)\n",
    "print(\"Total:\", hasil)\n",
    "\n"
   ]
  },
  {
   "cell_type": "code",
   "execution_count": null,
   "metadata": {},
   "outputs": [],
   "source": []
  }
 ],
 "metadata": {
  "kernelspec": {
   "display_name": "Python 3",
   "language": "python",
   "name": "python3"
  },
  "language_info": {
   "codemirror_mode": {
    "name": "ipython",
    "version": 3
   },
   "file_extension": ".py",
   "mimetype": "text/x-python",
   "name": "python",
   "nbconvert_exporter": "python",
   "pygments_lexer": "ipython3",
   "version": "3.12.1"
  }
 },
 "nbformat": 4,
 "nbformat_minor": 2
}
