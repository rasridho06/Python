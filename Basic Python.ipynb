{
 "cells": [
  {
   "cell_type": "markdown",
   "metadata": {},
   "source": [
    "Basic Python"
   ]
  },
  {
   "cell_type": "code",
   "execution_count": 2,
   "metadata": {},
   "outputs": [
    {
     "name": "stdout",
     "output_type": "stream",
     "text": [
      "nomor ini adalah 9\n",
      "nomor itu adalah 12\n"
     ]
    }
   ],
   "source": [
    "print(\"nomor ini adalah\", 3*3)\n",
    "# ridho\n",
    "# muhammad rasyid ridho using control+/\n"
   ]
  },
  {
   "cell_type": "code",
   "execution_count": 3,
   "metadata": {},
   "outputs": [
    {
     "ename": "TypeError",
     "evalue": "can only concatenate str (not \"int\") to str",
     "output_type": "error",
     "traceback": [
      "\u001b[1;31m---------------------------------------------------------------------------\u001b[0m",
      "\u001b[1;31mTypeError\u001b[0m                                 Traceback (most recent call last)",
      "Cell \u001b[1;32mIn[3], line 5\u001b[0m\n\u001b[0;32m      2\u001b[0m usia \u001b[38;5;241m=\u001b[39m \u001b[38;5;241m18\u001b[39m \u001b[38;5;66;03m#integer karena bilangan asli/bukan desimal\u001b[39;00m\n\u001b[0;32m      3\u001b[0m tinggi_badan \u001b[38;5;241m=\u001b[39m \u001b[38;5;241m183.7\u001b[39m \u001b[38;5;66;03m#float karena desimal\u001b[39;00m\n\u001b[1;32m----> 5\u001b[0m \u001b[38;5;28mprint\u001b[39m(\u001b[43mnama\u001b[49m\u001b[43m \u001b[49m\u001b[38;5;241;43m+\u001b[39;49m\u001b[43m \u001b[49m\u001b[43musia\u001b[49m \u001b[38;5;241m+\u001b[39m tinggi_badan)\n",
      "\u001b[1;31mTypeError\u001b[0m: can only concatenate str (not \"int\") to str"
     ]
    }
   ],
   "source": [
    "nama = 'ridho' #string atau berkutip baik titik 1 atau dua\n",
    "usia = 18 #integer karena bilangan asli/bukan desimal\n",
    "tinggi_badan = 183.7 #float karena desimal\n",
    "\n",
    "print(nama + usia + tinggi_badan) #error karena memiliki variabel dengan tipe data berbeda\n"
   ]
  },
  {
   "cell_type": "markdown",
   "metadata": {},
   "source": []
  },
  {
   "cell_type": "code",
   "execution_count": null,
   "metadata": {},
   "outputs": [],
   "source": []
  }
 ],
 "metadata": {
  "kernelspec": {
   "display_name": "Python 3",
   "language": "python",
   "name": "python3"
  },
  "language_info": {
   "codemirror_mode": {
    "name": "ipython",
    "version": 3
   },
   "file_extension": ".py",
   "mimetype": "text/x-python",
   "name": "python",
   "nbconvert_exporter": "python",
   "pygments_lexer": "ipython3",
   "version": "3.12.1"
  }
 },
 "nbformat": 4,
 "nbformat_minor": 2
}
