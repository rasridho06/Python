{
 "cells": [
  {
   "cell_type": "markdown",
   "id": "a753baf1",
   "metadata": {},
   "source": [
    "List, Tuple, Dictionary, dan Set\n",
    "\n",
    "Struktur data adalah cara untuk mengatur, menyimpan, dan mengelola data sehingga dapat digunakan secara efisien"
   ]
  },
  {
   "cell_type": "code",
   "execution_count": 39,
   "id": "02a215be",
   "metadata": {},
   "outputs": [
    {
     "name": "stdout",
     "output_type": "stream",
     "text": [
      "1\n",
      "its\n",
      "bukan integer\n",
      "bukan integer\n",
      "bukan integer\n",
      "bukan integer\n"
     ]
    }
   ],
   "source": [
    "# List []\n",
    "\n",
    "# List adalah kumpulan elemen yang terurut (ordered) dan dapat berubah (mutable). \n",
    "# Elemen-elemennya bisa berupa tipe data apa pun, bahkan campuran.\n",
    "# List dirancang untuk fleksibilitas. Karena list bersifat mutable dan ordered, \n",
    "# pengguna dapat dengan mudah menambah, menghapus, atau memodifikasi elemen.\n",
    "\n",
    "daftar = [1,2,\"ridho\",\"malang\",\"its\", 30.5,]\n",
    "\n",
    "print(daftar[0]) # 0 adalah index atau urutan pertama dan dari kiri\n",
    "print(daftar[-2]) # -2 adalah urutan dari kanan\n",
    "\n",
    "for i in daftar :\n",
    "    if type(i) is int :\n",
    "        continue \n",
    "    print(\"bukan integer\")\n",
    "\n",
    "# mengapa menggunakan is bukan == karena is adalah perbandingan objek dan == adalah perbandingan nilai"
   ]
  },
  {
   "cell_type": "code",
   "execution_count": 47,
   "id": "e2fe1d40",
   "metadata": {},
   "outputs": [
    {
     "name": "stdout",
     "output_type": "stream",
     "text": [
      "1\n"
     ]
    }
   ],
   "source": [
    "# Tuple ()\n",
    "\n",
    "# Tuple adalah kumpulan elemen yang terurut (ordered) tetapi tidak dapat diubah (immutable).\n",
    "# setelah tuple dibuat, elemen-elemennya tidak dapat diubah, ditambahkan, dikurangi, atau dihapus.\n",
    "# Immutable membuat tuple lebih aman untuk data yang tidak boleh diubah, misalnya koordinat atau konfigurasi sistem.\n",
    "# Lebih cepat daripada list karena immutable.\n",
    "# Menghemat memori karena strukturnya statis.\n",
    "\n",
    "# Membuat tuple\n",
    "my_tuple = (1, \"dua\", 3.0)\n",
    "\n",
    "# Mengakses elemen\n",
    "print(my_tuple[0])  # Output: 1\n",
    "\n",
    "# Mencoba mengubah elemen (akan error)\n",
    "# my_tuple[0] = 10  # TypeError: 'tuple' object does not support item assignment\n",
    "\n"
   ]
  },
  {
   "cell_type": "code",
   "execution_count": 1,
   "id": "e2b230d6",
   "metadata": {},
   "outputs": [
    {
     "name": "stdout",
     "output_type": "stream",
     "text": [
      "(1, 2, 3, 4, 5)\n",
      "(1, 2, 3, 4)\n"
     ]
    }
   ],
   "source": [
    "# modifikasi tuple\n",
    "\n",
    "# membuat tuple baru dan menggabungkan dengan yang lama\n",
    "\n",
    "# # Tuple awal\n",
    "tuple_awal = (1, 2, 3)\n",
    "\n",
    "# Menambahkan elemen baru dengan membuat tuple baru\n",
    "new_tuple = tuple_awal + (4, 5)\n",
    "\n",
    "print(new_tuple)  # Output: (1, 2, 3, 4, 5)\n",
    "\n",
    "# konversi ke list dan kembali ke tuple\n",
    "new_tuple = list(tuple_awal)  # Konversi ke list\n",
    "new_tuple.append(4)  # Menambahkan elemen baru\n",
    "new_tuple = tuple(new_tuple)  # Konversi kembali ke tuple\n",
    "print(new_tuple)  # Output: (1, 2, 3, 4)"
   ]
  },
  {
   "cell_type": "code",
   "execution_count": null,
   "id": "2fd2bf05",
   "metadata": {},
   "outputs": [
    {
     "name": "stdout",
     "output_type": "stream",
     "text": [
      "jalan brawijaya no 1\n",
      "komik\n",
      "{'nama': 'perpustakaan kota malang', 'alamat': 'jalan brawijaya no 1', 'telepon': '0341-123456', 'koleksi-buku': 1000, 'kategori-buku': ['novel', 'komik', 'biografi'], 'email': 'perpusmalang@gmail.com'}\n",
      "['novel', 'komik', 'biografi', 'sejarah']\n",
      "['novel', 'komik', 'biografi', 'sejarah', 'majalah']\n",
      "['novel', 'komik', 'biografi', 'sejarah', 'majalah', 'kitab suci', 'koran', 'buletin']\n"
     ]
    }
   ],
   "source": [
    "# Dictionary {}\n",
    "# Dictionary adalah kumpulan pasangan kunci-nilai (key-value pairs) yang tidak terurut (unordered).\n",
    "# Kunci harus unik dan tidak dapat diubah (immutable), sedangkan nilai bisa berupa tipe data apa pun.\n",
    "# Dictionary bersifat mutable (dapat diubah) dan unordered (sebelum Python 3.7). \n",
    "    # Mulai Python 3.7, dictionary secara default terurut berdasarkan urutan penambahan elemen.\n",
    "\n",
    "# struktur dictionary\n",
    "# {\n",
    "#     key1: value1,\n",
    "#     key2: value2,\n",
    "#     ...\n",
    "# }\n",
    "\n",
    "# contoh\n",
    "perpus_malang = {\n",
    "    \"nama\" : \"perpustakaan kota malang\",\n",
    "    \"alamat\" : \"jalan brawijaya no 1\",\n",
    "    \"telepon\" : \"0341-123456\",\n",
    "    \"koleksi-buku\" : 1000,\n",
    "    \"kategori-buku\" : [\"novel\", \"komik\", \"biografi\"]\n",
    "}\n",
    "\n",
    "# Mengakses nilai dengan kunci\n",
    "print(perpus_malang['alamat'])\n",
    "print(perpus_malang[\"kategori-buku\"][1]) # akses list dalam dictionary\n",
    "\n",
    "# menambah data\n",
    "perpus_malang['email'] = \"perpusmalang@gmail.com\"\n",
    "print(perpus_malang)\n",
    "\n",
    "# mengubah data atau menambah data pada dict yang valuenya list menggunakan append karena merupakan fungsi/metode\n",
    "perpus_malang[\"kategori-buku\"].append('sejarah') # jika menggunakan append hanya bisa satu\n",
    "print(perpus_malang[\"kategori-buku\"])\n",
    "\n",
    "#  Alternatif: Menggunakan Operator += dan kolomnya [] karena ingin menambahkan element pada list\n",
    "perpus_malang[\"kategori-buku\"] += [\"majalah\"]\n",
    "print(perpus_malang[\"kategori-buku\"])\n",
    "\n",
    "# alternatif lain\n",
    "perpus_malang[\"kategori-buku\"] += [\"kitab suci\",'koran', 'buletin'] \n",
    "print(perpus_malang[\"kategori-buku\"])\n",
    "\n",
    "# Jika value dari suatu key dalam dictionary adalah list, \n",
    "# Anda dapat menggunakan append() untuk menambahkan elemen ke list tersebut.\n",
    "# kategori buku merupakan key yang memiliki value list sehingga bisa menambahkan append\n",
    "\n",
    "# Karakteristik Dictionary:\n",
    "    # Key-Based Access : Data ditambahkan berdasarkan key, bukan dengan metode seperti append().\n",
    "    # Mutable : Dictionary bersifat mutable, sehingga Anda dapat menambah, mengubah, atau menghapus pasangan key-value.\n",
    "    # Value Bisa List : Jika value adalah list, Anda dapat menggunakan append() pada list tersebut.\n",
    "\n",
    "# Kapan Menggunakan append() vs +=?\n",
    "    # Gunakan append() jika Anda hanya ingin menambahkan satu elemen ke list.\n",
    "    # Gunakan += jika Anda ingin menambahkan beberapa elemen sekaligus atau menggabungkan dua list.\n",
    "\n"
   ]
  },
  {
   "cell_type": "code",
   "execution_count": null,
   "id": "1499ff81",
   "metadata": {},
   "outputs": [],
   "source": []
  }
 ],
 "metadata": {
  "kernelspec": {
   "display_name": ".venv",
   "language": "python",
   "name": "python3"
  },
  "language_info": {
   "codemirror_mode": {
    "name": "ipython",
    "version": 3
   },
   "file_extension": ".py",
   "mimetype": "text/x-python",
   "name": "python",
   "nbconvert_exporter": "python",
   "pygments_lexer": "ipython3",
   "version": "3.12.0"
  }
 },
 "nbformat": 4,
 "nbformat_minor": 5
}
