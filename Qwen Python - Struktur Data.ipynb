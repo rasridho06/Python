{
 "cells": [
  {
   "cell_type": "markdown",
   "id": "a753baf1",
   "metadata": {},
   "source": [
    "List, Tuple, Dictionary, dan Set\n",
    "\n",
    "Struktur data adalah cara untuk mengatur, menyimpan, dan mengelola data sehingga dapat digunakan secara efisien"
   ]
  },
  {
   "cell_type": "code",
   "execution_count": null,
   "id": "02a215be",
   "metadata": {},
   "outputs": [
    {
     "name": "stdout",
     "output_type": "stream",
     "text": [
      "1\n",
      "its\n",
      "bukan integer\n",
      "bukan integer\n",
      "bukan integer\n",
      "bukan integer\n"
     ]
    }
   ],
   "source": [
    "# List []\n",
    "\n",
    "# List adalah kumpulan elemen yang terurut (ordered) dan dapat berubah (mutable). \n",
    "# Elemen-elemennya bisa berupa tipe data apa pun, bahkan campuran.\n",
    "# List dirancang untuk fleksibilitas. Karena list bersifat mutable dan ordered, \n",
    "# pengguna dapat dengan mudah menambah, menghapus, atau memodifikasi elemen.\n",
    "\n",
    "list = [1,2,\"ridho\",\"malang\",\"its\", 30.5,]\n",
    "\n",
    "print(list[0]) # 0 adalah index atau urutan pertama dan dari kiri\n",
    "print(list[-2]) # -2 adalah urutan dari kanan\n",
    "\n",
    "for i in list :\n",
    "    if type(i) is int :\n",
    "        continue \n",
    "    print(\"bukan integer\")\n",
    "\n",
    "# mengapa menggunakan is bukan == karena is adalah perbandingan objek dan == adalah perbandingan nilai"
   ]
  },
  {
   "cell_type": "code",
   "execution_count": null,
   "id": "e2fe1d40",
   "metadata": {},
   "outputs": [],
   "source": []
  }
 ],
 "metadata": {
  "kernelspec": {
   "display_name": ".venv",
   "language": "python",
   "name": "python3"
  },
  "language_info": {
   "codemirror_mode": {
    "name": "ipython",
    "version": 3
   },
   "file_extension": ".py",
   "mimetype": "text/x-python",
   "name": "python",
   "nbconvert_exporter": "python",
   "pygments_lexer": "ipython3",
   "version": "3.12.0"
  }
 },
 "nbformat": 4,
 "nbformat_minor": 5
}
