{
 "cells": [
  {
   "cell_type": "markdown",
   "id": "a753baf1",
   "metadata": {},
   "source": [
    "List, Tuple, Dictionary, dan Set\n",
    "\n",
    "Struktur data adalah cara untuk mengatur, menyimpan, dan mengelola data sehingga dapat digunakan secara efisien"
   ]
  },
  {
   "cell_type": "code",
   "execution_count": null,
   "id": "02a215be",
   "metadata": {},
   "outputs": [
    {
     "name": "stdout",
     "output_type": "stream",
     "text": [
      "[1, 2, 'ridho', 'malang', 'its', 'rasyid']\n",
      "1\n",
      "its\n",
      "bukan integer\n",
      "bukan integer\n",
      "bukan integer\n",
      "bukan integer\n",
      "[1, 2, 'ridho', 'malang', 'its', 'rasyid', 'rasyid']\n",
      "['kosong', 1, 2, 'ridho', 'malang', 'its', 'rasyid', 'rasyid']\n",
      "['kosong', 1, 2, 'ridho', 'malang', 'its', 'rasyid', 'rasyid', '65125', '65120']\n",
      "['kosong', 1, 2, 'malang', 'its', 'rasyid', 'rasyid', '65125', '65120']\n",
      "['kosong', 2, 'malang', 'its', 'rasyid', 'rasyid', '65125', '65120']\n"
     ]
    }
   ],
   "source": [
    "# List []\n",
    "\n",
    "# List adalah kumpulan elemen yang terurut (ordered) dan dapat berubah (mutable). \n",
    "# Elemen-elemennya bisa berupa tipe data apa pun, bahkan campuran.\n",
    "# List dirancang untuk fleksibilitas. Karena list bersifat mutable dan ordered, \n",
    "# pengguna dapat dengan mudah menambah, menghapus, atau memodifikasi elemen.\n",
    "\n",
    "daftar = [1,2,\"ridho\",\"malang\",\"its\", 30.5,]\n",
    "daftar[-1] = 'rasyid' # replace list di index -1 yaitu 30.5 ke rasyid\n",
    "print(daftar)\n",
    "print(daftar[0]) # 0 adalah index atau urutan pertama dan dari kiri\n",
    "print(daftar[-2]) # -2 adalah urutan dari kanan\n",
    "\n",
    "for i in daftar :\n",
    "    if type(i) is int :\n",
    "        continue \n",
    "    print(\"bukan integer\")\n",
    "\n",
    "# mengapa menggunakan is bukan == karena is adalah perbandingan objek dan == adalah perbandingan nilai\n",
    "\n",
    "# append = menambahkan\n",
    "daftar.append(\"rasyid\") \n",
    "print(daftar)\n",
    "\n",
    "# insert\n",
    "daftar.insert(0,'kosong') # menambahkan element pada index ke 0\n",
    "print(daftar)\n",
    "\n",
    "# extend\n",
    "daftar.extend(['65125','65120']) # menambahkan list baru ke list lama dan menggabungkannya di akhir\n",
    "print(daftar)\n",
    "\n",
    "# remove\n",
    "daftar.remove(\"ridho\") # menghapus element pada list\n",
    "print(daftar)\n",
    "daftar.pop(1) # menghapus element dengan index\n",
    "print(daftar)"
   ]
  },
  {
   "cell_type": "code",
   "execution_count": null,
   "id": "2c9d0891",
   "metadata": {},
   "outputs": [
    {
     "name": "stdout",
     "output_type": "stream",
     "text": [
      "[['Strawberries', 'Nectarines', 'Apples', 'Grapes', 'Peaches', 'Cherries', 'Pears'], ['Spinach', 'Kale', 'Tomatoes', 'Celery', 'Potatoes']]\n",
      "Kale\n",
      "['Strawberries', 'Nectarines', 'Apples', 'Grapes', 'Peaches', 'Cherries', 'Pears']\n",
      "Nectarines\n",
      "Celery\n"
     ]
    }
   ],
   "source": [
    "#slicing - mengambil element tertentu\n",
    "\n",
    "fruits = [\"Strawberries\", \"Nectarines\", \"Apples\", \"Grapes\", \"Peaches\", \"Cherries\", \"Pears\"]\n",
    "vegetables = [\"Spinach\", \"Kale\", \"Tomatoes\", \"Celery\", \"Potatoes\"]\n",
    " \n",
    "dirty_dozen = [fruits, vegetables]\n",
    "print(dirty_dozen)\n",
    " \n",
    "print(dirty_dozen[1][1]) # menampilkan list ke dua dan index ke 1 dari vegetables, karena list pertama adalah fruits (index 0)\n",
    "\n",
    "print(fruits [:]) # ambil semua data\n",
    "print(fruits [1]) # ambil index ke 1\n",
    "\n",
    "print(dirty_dozen[1][3]) # index ke 1 pada list dirty_dozen, dan index ke 3 pada fruits"
   ]
  },
  {
   "cell_type": "code",
   "execution_count": 37,
   "id": "47938ae3",
   "metadata": {},
   "outputs": [
    {
     "name": "stdout",
     "output_type": "stream",
     "text": [
      "[[11, 12, 13], [1, 2, 3], [4, 5, 6], [7, 8, 9]]\n",
      "[[11, 12, 13], [1, 2, 3], [4, 5, 6], [7, 8, 9], 14, 15, 16]\n"
     ]
    }
   ],
   "source": [
    "matrix = [\n",
    "            [1,2,3],\n",
    "            [4,5,6],\n",
    "            [7,8,9]\n",
    "]\n",
    "\n",
    "matrix[1][1]\n",
    "baris_baru = [11,12,13]\n",
    "matrix.insert(0, baris_baru)\n",
    "print(matrix)\n",
    "\n",
    "new_line = [14,15,16]\n",
    "new_matrix = matrix + new_line\n",
    "print(new_matrix)"
   ]
  },
  {
   "cell_type": "code",
   "execution_count": 47,
   "id": "e2fe1d40",
   "metadata": {},
   "outputs": [
    {
     "name": "stdout",
     "output_type": "stream",
     "text": [
      "1\n"
     ]
    }
   ],
   "source": [
    "# Tuple ()\n",
    "\n",
    "# Tuple adalah kumpulan elemen yang terurut (ordered) tetapi tidak dapat diubah (immutable).\n",
    "# setelah tuple dibuat, elemen-elemennya tidak dapat diubah, ditambahkan, dikurangi, atau dihapus.\n",
    "# Immutable membuat tuple lebih aman untuk data yang tidak boleh diubah, misalnya koordinat atau konfigurasi sistem.\n",
    "# Lebih cepat daripada list karena immutable.\n",
    "# Menghemat memori karena strukturnya statis.\n",
    "\n",
    "# Membuat tuple\n",
    "my_tuple = (1, \"dua\", 3.0)\n",
    "\n",
    "# Mengakses elemen\n",
    "print(my_tuple[0])  # Output: 1\n",
    "\n",
    "# Mencoba mengubah elemen (akan error)\n",
    "# my_tuple[0] = 10  # TypeError: 'tuple' object does not support item assignment\n",
    "\n"
   ]
  },
  {
   "cell_type": "code",
   "execution_count": 1,
   "id": "e2b230d6",
   "metadata": {},
   "outputs": [
    {
     "name": "stdout",
     "output_type": "stream",
     "text": [
      "(1, 2, 3, 4, 5)\n",
      "(1, 2, 3, 4)\n"
     ]
    }
   ],
   "source": [
    "# modifikasi tuple\n",
    "\n",
    "# membuat tuple baru dan menggabungkan dengan yang lama\n",
    "\n",
    "# # Tuple awal\n",
    "tuple_awal = (1, 2, 3)\n",
    "\n",
    "# Menambahkan elemen baru dengan membuat tuple baru\n",
    "new_tuple = tuple_awal + (4, 5)\n",
    "\n",
    "print(new_tuple)  # Output: (1, 2, 3, 4, 5)\n",
    "\n",
    "# konversi ke list dan kembali ke tuple\n",
    "new_tuple = list(tuple_awal)  # Konversi ke list\n",
    "new_tuple.append(4)  # Menambahkan elemen baru\n",
    "new_tuple = tuple(new_tuple)  # Konversi kembali ke tuple\n",
    "print(new_tuple)  # Output: (1, 2, 3, 4)"
   ]
  },
  {
   "cell_type": "code",
   "execution_count": null,
   "id": "2fd2bf05",
   "metadata": {},
   "outputs": [
    {
     "name": "stdout",
     "output_type": "stream",
     "text": [
      "jalan brawijaya no 1\n",
      "komik\n",
      "{'nama': 'perpustakaan kota malang', 'alamat': 'jalan brawijaya no 1', 'telepon': '0341-123456', 'koleksi-buku': 1000, 'kategori-buku': ['novel', 'komik', 'biografi'], 'email': 'perpusmalang@gmail.com'}\n",
      "['novel', 'komik', 'biografi', 'sejarah']\n",
      "['novel', 'komik', 'biografi', 'sejarah', 'majalah']\n",
      "['novel', 'komik', 'biografi', 'sejarah', 'majalah', 'kitab suci', 'koran', 'buletin']\n"
     ]
    }
   ],
   "source": [
    "# Dictionary {}\n",
    "# Dictionary adalah kumpulan pasangan kunci-nilai (key-value pairs) yang tidak terurut (unordered).\n",
    "# Kunci harus unik dan tidak dapat diubah (immutable), sedangkan nilai bisa berupa tipe data apa pun.\n",
    "# biasa dipakai di Json\n",
    "# Dictionary bersifat mutable (dapat diubah) dan unordered (sebelum Python 3.7). \n",
    "    # Mulai Python 3.7, dictionary secara default terurut berdasarkan urutan penambahan elemen.\n",
    "\n",
    "# struktur dictionary\n",
    "# {\n",
    "#     key1: value1,\n",
    "#     key2: value2,\n",
    "#     ...\n",
    "# }\n",
    "\n",
    "# contoh\n",
    "perpus_malang = {\n",
    "    \"nama\" : \"perpustakaan kota malang\",\n",
    "    \"alamat\" : \"jalan brawijaya no 1\",\n",
    "    \"telepon\" : \"0341-123456\",\n",
    "    \"koleksi-buku\" : 1000,\n",
    "    \"kategori-buku\" : [\"novel\", \"komik\", \"biografi\"]\n",
    "}\n",
    "\n",
    "# Mengakses nilai dengan kunci\n",
    "print(perpus_malang['alamat'])\n",
    "print(perpus_malang[\"kategori-buku\"][1]) # akses list dalam dictionary\n",
    "\n",
    "# menambah data\n",
    "perpus_malang['email'] = \"perpusmalang@gmail.com\"\n",
    "print(perpus_malang)\n",
    "\n",
    "# mengubah data atau menambah data pada dict yang valuenya list menggunakan append karena merupakan fungsi/metode\n",
    "perpus_malang[\"kategori-buku\"].append('sejarah') # jika menggunakan append hanya bisa satu\n",
    "print(perpus_malang[\"kategori-buku\"])\n",
    "\n",
    "#  Alternatif: Menggunakan Operator += dan kolomnya [] karena ingin menambahkan element pada list\n",
    "perpus_malang[\"kategori-buku\"] += [\"majalah\"]\n",
    "print(perpus_malang[\"kategori-buku\"])\n",
    "\n",
    "# alternatif lain\n",
    "perpus_malang[\"kategori-buku\"] += [\"kitab suci\",'koran', 'buletin'] \n",
    "print(perpus_malang[\"kategori-buku\"])\n",
    "\n",
    "# Jika value dari suatu key dalam dictionary adalah list, \n",
    "# Anda dapat menggunakan append() untuk menambahkan elemen ke list tersebut.\n",
    "# kategori buku merupakan key yang memiliki value list sehingga bisa menambahkan append\n",
    "\n",
    "# Karakteristik Dictionary:\n",
    "    # Key-Based Access : Data ditambahkan berdasarkan key, bukan dengan metode seperti append().\n",
    "    # Mutable : Dictionary bersifat mutable, sehingga Anda dapat menambah, mengubah, atau menghapus pasangan key-value.\n",
    "    # Value Bisa List : Jika value adalah list, Anda dapat menggunakan append() pada list tersebut.\n",
    "\n",
    "# Kapan Menggunakan append() vs +=?\n",
    "    # Gunakan append() jika Anda hanya ingin menambahkan satu elemen ke list.\n",
    "    # Gunakan += jika Anda ingin menambahkan beberapa elemen sekaligus atau menggabungkan dua list.\n",
    "\n"
   ]
  },
  {
   "cell_type": "code",
   "execution_count": 36,
   "id": "1499ff81",
   "metadata": {},
   "outputs": [
    {
     "name": "stdout",
     "output_type": "stream",
     "text": [
      "('nama', 'Ridho')\n",
      "('umur', 30)\n",
      "('kota', 'Malang')\n",
      "True\n",
      "False\n"
     ]
    }
   ],
   "source": [
    "# penggunaan variable sementara pada dictionary\n",
    "\n",
    "my_dict = {\n",
    "    \"nama\": \"Ridho\",\n",
    "    \"umur\": 30,\n",
    "    \"kota\": \"Malang\"\n",
    "}\n",
    "\n",
    "for item in my_dict.items(): # hanya menggunakan satu variable sementara yaitu item\n",
    "    print(item)\n",
    "\n",
    "# outputnya menampilkan seluruh nilai key dan value sekaligus\n",
    "# ('nama', 'Ridho')\n",
    "# ('umur', 30)\n",
    "# ('kota', 'Malang')\n",
    "\n",
    "# cek key\n",
    "print(\"nama\" in my_dict) # true karena datanya ada\n",
    "print(\"alamat\" in my_dict) # false karena datanya ga ada\n"
   ]
  },
  {
   "cell_type": "code",
   "execution_count": 22,
   "id": "7840108a",
   "metadata": {},
   "outputs": [
    {
     "name": "stdout",
     "output_type": "stream",
     "text": [
      "Ridho\n",
      "30\n",
      "Malang\n",
      "{'umur': 30, 'kota': 'Malang'}\n"
     ]
    }
   ],
   "source": [
    "my_dict = {\n",
    "    \"nama\": \"Ridho\",\n",
    "    \"umur\": 30,\n",
    "    \"kota\": \"Malang\"\n",
    "}\n",
    "\n",
    "for nama_item, item in my_dict.items(): # menggunakan 2 variable sementara\n",
    "    print(item)\n",
    "\n",
    "# output hanya menampilkan value dari key, karena nama_item sama dengan key, dan item sama dengan value\n",
    "\n",
    "# Ridho\n",
    "# 30\n",
    "# Malang\n",
    "\n",
    "# menghapus data\n",
    "\n",
    "my_dict.pop(\"nama\")\n",
    "print(my_dict)"
   ]
  },
  {
   "cell_type": "code",
   "execution_count": null,
   "id": "2040878d",
   "metadata": {},
   "outputs": [
    {
     "name": "stdout",
     "output_type": "stream",
     "text": [
      "{1, 2, 3}\n"
     ]
    }
   ],
   "source": [
    "# set {}\n",
    "\n",
    "# set adalah struktur data di Python yang:\n",
    "    # Tidak menyimpan duplikat (unik)\n",
    "    # Tidak berurutan (tidak ada index seperti list/tuple)\n",
    "    # bisa ditambah dan dihapus\n",
    "    # # Disimpan menggunakan tanda kurung kurawal {}\n",
    "    # bisa menggunakan union, intercept\n",
    "\n",
    "my_set = {1, 2, 3, 3, 2}\n",
    "print(my_set)  # Output: {1, 2, 3}\n",
    "\n",
    "# duplikat langsung dihapus, hanya menampilkan nilai yg unik saja"
   ]
  },
  {
   "cell_type": "code",
   "execution_count": null,
   "id": "2f159d86",
   "metadata": {},
   "outputs": [
    {
     "name": "stdout",
     "output_type": "stream",
     "text": [
      "{65121, 65122, 65123, 65124, 65125}\n",
      "{65121, 65122, 65123, 65124, 65125, 65126}\n",
      "{65121, 65123, 65124, 65125, 65126}\n",
      "{65123, 65124, 65125, 65126}\n",
      "{65122, 65123, 65124, 65111, 65223, 65126, 65113}\n",
      "{3, 4}\n"
     ]
    }
   ],
   "source": [
    "set_postalcode = {65125, 65122, 65125, 65121, 65123, 65124, 65122}\n",
    "print(set_postalcode)\n",
    "\n",
    "# menambah data baru .add\n",
    "set_postalcode.add(65126)\n",
    "print(set_postalcode)\n",
    "\n",
    "# menghapus data tertentu discard, tidak akan error walau elemen tidak ada\n",
    "set_postalcode.discard(65122)\n",
    "print(set_postalcode)\n",
    "\n",
    "# menghapus data tertentu remove akan error jika elemen tidak ada\n",
    "set_postalcode.remove(65121)\n",
    "print(set_postalcode)\n",
    "\n",
    "\n",
    "# himpunan antara 2 set, ambil masing-masing set uniq setiap variable lalu digabungkan, \n",
    "postalcode_baru = {65125, 65122, 65111, 65113, 65223}\n",
    "print(set_postalcode.symmetric_difference(postalcode_baru)) # elemen unik di salah satu set saja\n",
    "\n",
    "# intersection, Kalau di teori himpunan, ini adalah A ∩ B\n",
    "A = {1, 2, 3, 4}\n",
    "B = {3, 4, 5, 6}\n",
    "\n",
    "print(A & B)  # atau A.intersection(B)\n"
   ]
  },
  {
   "cell_type": "code",
   "execution_count": 9,
   "id": "3eb757c8",
   "metadata": {},
   "outputs": [
    {
     "name": "stdout",
     "output_type": "stream",
     "text": [
      "2\n",
      "3\n"
     ]
    },
    {
     "ename": "ValueError",
     "evalue": "invalid literal for int() with base 10: '50.5'",
     "output_type": "error",
     "traceback": [
      "\u001b[31m---------------------------------------------------------------------------\u001b[39m",
      "\u001b[31mValueError\u001b[39m                                Traceback (most recent call last)",
      "\u001b[36mCell\u001b[39m\u001b[36m \u001b[39m\u001b[32mIn[9]\u001b[39m\u001b[32m, line 9\u001b[39m\n\u001b[32m      6\u001b[39m \u001b[38;5;28mprint\u001b[39m(xy1) \u001b[38;5;66;03m# hasilnya 3 karena sisa pembagian adalah 3\u001b[39;00m\n\u001b[32m      8\u001b[39m c= \u001b[33m'\u001b[39m\u001b[33m50.5\u001b[39m\u001b[33m'\u001b[39m\n\u001b[32m----> \u001b[39m\u001b[32m9\u001b[39m d= \u001b[38;5;28;43mint\u001b[39;49m\u001b[43m(\u001b[49m\u001b[43mc\u001b[49m\u001b[43m)\u001b[49m\n\u001b[32m     10\u001b[39m \u001b[38;5;28mprint\u001b[39m(d)\n",
      "\u001b[31mValueError\u001b[39m: invalid literal for int() with base 10: '50.5'"
     ]
    }
   ],
   "source": [
    "x=11\n",
    "y=4\n",
    "xy = x//y\n",
    "xy1 = x%y\n",
    "print(xy) # hasilnya 2 karena 11 hanya bisa dibagi 2x, sisa pembagiannya tidak dihitung\n",
    "print(xy1) # hasilnya 3 karena sisa pembagian adalah 3\n",
    "\n",
    "c= '50.5'\n",
    "d= int(c)\n",
    "print(d)"
   ]
  },
  {
   "cell_type": "code",
   "execution_count": 11,
   "id": "8b3210a5",
   "metadata": {},
   "outputs": [
    {
     "name": "stdout",
     "output_type": "stream",
     "text": [
      "50\n"
     ]
    }
   ],
   "source": [
    "c= '50.5'\n",
    "d= int(float(c))\n",
    "print(d)"
   ]
  },
  {
   "cell_type": "code",
   "execution_count": null,
   "id": "3b317f67",
   "metadata": {},
   "outputs": [],
   "source": [
    "# true and falsy pada python berkaitan dengan ada atau tidak adanya data\n",
    "# true datanya ada bisa berupa apapun asal tidak kosong\n",
    "# false datanya ga ada"
   ]
  },
  {
   "cell_type": "code",
   "execution_count": 39,
   "id": "e0929186",
   "metadata": {},
   "outputs": [
    {
     "name": "stdout",
     "output_type": "stream",
     "text": [
      "1.75\n",
      "3\n",
      "1\n"
     ]
    }
   ],
   "source": [
    "a = 7\n",
    "b = 4\n",
    "print(a/b)\n",
    "print(a^b)\n",
    "print((a*3)%(b+1))"
   ]
  },
  {
   "cell_type": "code",
   "execution_count": null,
   "id": "ec8e6acf",
   "metadata": {},
   "outputs": [],
   "source": []
  }
 ],
 "metadata": {
  "kernelspec": {
   "display_name": ".venv (3.12.1)",
   "language": "python",
   "name": "python3"
  },
  "language_info": {
   "codemirror_mode": {
    "name": "ipython",
    "version": 3
   },
   "file_extension": ".py",
   "mimetype": "text/x-python",
   "name": "python",
   "nbconvert_exporter": "python",
   "pygments_lexer": "ipython3",
   "version": "3.12.1"
  }
 },
 "nbformat": 4,
 "nbformat_minor": 5
}
