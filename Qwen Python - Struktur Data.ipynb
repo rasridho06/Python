{
 "cells": [
  {
   "cell_type": "markdown",
   "id": "a753baf1",
   "metadata": {},
   "source": [
    "List, Tuple, Dictionary, dan Set"
   ]
  },
  {
   "cell_type": "code",
   "execution_count": 2,
   "id": "4f7405c5",
   "metadata": {},
   "outputs": [
    {
     "name": "stdout",
     "output_type": "stream",
     "text": [
      "25\n"
     ]
    }
   ],
   "source": [
    "x=5\n",
    "print(x*5)"
   ]
  },
  {
   "cell_type": "code",
   "execution_count": 4,
   "id": "263f907d",
   "metadata": {},
   "outputs": [
    {
     "name": "stdout",
     "output_type": "stream",
     "text": [
      "5\n"
     ]
    }
   ],
   "source": [
    "y= x+1\n",
    "x= 2\n",
    "print (x+y)"
   ]
  }
 ],
 "metadata": {
  "kernelspec": {
   "display_name": ".venv",
   "language": "python",
   "name": "python3"
  },
  "language_info": {
   "codemirror_mode": {
    "name": "ipython",
    "version": 3
   },
   "file_extension": ".py",
   "mimetype": "text/x-python",
   "name": "python",
   "nbconvert_exporter": "python",
   "pygments_lexer": "ipython3",
   "version": "3.12.0"
  }
 },
 "nbformat": 4,
 "nbformat_minor": 5
}
