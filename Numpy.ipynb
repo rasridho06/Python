{
 "cells": [
  {
   "cell_type": "markdown",
   "id": "05e97eab",
   "metadata": {},
   "source": [
    "# NumPy (singkatan dari Numerical Python) adalah library Python untuk:\n",
    "\n",
    "✅ Perhitungan numerik (angka)\n",
    "✅ Pemrosesan data dalam bentuk array dan matriks\n",
    "✅ Operasi matematis cepat (tanpa for loop)\n",
    "\n",
    "# Array\n",
    "Array di NumPy = kumpulan elemen (angka, bisa juga string) yang:\n",
    "- Ukurannya tetap\n",
    "- Tipenya sama (semua int, semua float, dsb)\n",
    "- Disimpan dalam satu blok memori (jadi cepat dan efisien)\n",
    "\n",
    "\n",
    "# Perbandingan: List Python vs Array NumPy\n",
    "| Aspek              | List Python                | Array NumPy                             |\n",
    "| ------------------ | -------------------------- | --------------------------------------- |\n",
    "| Tipe data campuran | Bisa campuran (`[1, \"a\"]`) | Harus 1 tipe data (semua `int`, dsb)    |\n",
    "| Operasi matematis  | Tidak otomatis             | Bisa langsung (`array * 2`)             |\n",
    "| Kecepatan          | Lebih lambat               | Lebih cepat (pakai C di belakang layar) |\n",
    "| Ukuran memori      | Lebih besar                | Lebih kecil                             |\n",
    "\n",
    "\n"
   ]
  },
  {
   "cell_type": "code",
   "execution_count": null,
   "id": "681bf9a4",
   "metadata": {
    "vscode": {
     "languageId": "plaintext"
    }
   },
   "outputs": [],
   "source": [
    "# Contoh\n",
    "\n",
    "# List biasa\n",
    "a = [1, 2, 3]\n",
    "b = [4, 5, 6]\n",
    "print(a + b)       # Gabung list, hasilnya: [1, 2, 3, 4, 5, 6]\n",
    "\n",
    "# NumPy array\n",
    "import numpy as np\n",
    "a = np.array([1, 2, 3])\n",
    "b = np.array([4, 5, 6])\n",
    "print(a + b)       # Operasi elemen: [5 7 9]\n"
   ]
  }
 ],
 "metadata": {
  "language_info": {
   "name": "python"
  }
 },
 "nbformat": 4,
 "nbformat_minor": 5
}
