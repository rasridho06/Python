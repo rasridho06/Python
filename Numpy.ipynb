{
 "cells": [
  {
   "cell_type": "markdown",
   "id": "05e97eab",
   "metadata": {},
   "source": [
    "# NumPy (singkatan dari Numerical Python) adalah library Python untuk:\n",
    "\n",
    "✅ Perhitungan numerik (angka)\n",
    "✅ Pemrosesan data dalam bentuk array dan matriks\n",
    "✅ Operasi matematis cepat (tanpa for loop)\n",
    "\n",
    "# Array\n",
    "Array di NumPy = kumpulan elemen (angka, bisa juga string) yang:\n",
    "- Ukurannya tetap\n",
    "- Tipenya sama (semua int, semua float, dsb)\n",
    "- Disimpan dalam satu blok memori (jadi cepat dan efisien)\n",
    "\n",
    "\n",
    "# Perbandingan: List Python vs Array NumPy\n",
    "| Aspek              | List Python                | Array NumPy                             |\n",
    "| ------------------ | -------------------------- | --------------------------------------- |\n",
    "| Tipe data campuran | Bisa campuran (`[1, \"a\"]`) | Harus 1 tipe data (semua `int`, dsb)    |\n",
    "| Operasi matematis  | Tidak otomatis             | Bisa langsung (`array * 2`)             |\n",
    "| Kecepatan          | Lebih lambat               | Lebih cepat (pakai C di belakang layar) |\n",
    "| Ukuran memori      | Lebih besar                | Lebih kecil                             |\n",
    "\n",
    "\n",
    "# Kenapa Array Lebih Cepat daripada List?\n",
    "List di Python adalah struktur data umum yang bisa menyimpan apa saja (string, int, objek, bahkan list lagi) . Tapi karena sifatnya fleksibel, ia tidak efisien untuk operasi numerik besar.\n",
    "\n",
    "# Sedangkan array NumPy :\n",
    "Menyimpan satu tipe data saja (misal: int64, float32)\n",
    "Menyimpan data dalam lokasi memori yang berdekatan → akses lebih cepat\n",
    "Memungkinkan operasi vektorisasi (tidak perlu loop manual)"
   ]
  },
  {
   "cell_type": "code",
   "execution_count": 1,
   "id": "681bf9a4",
   "metadata": {},
   "outputs": [
    {
     "name": "stdout",
     "output_type": "stream",
     "text": [
      "[1, 2, 3, 4, 5, 6]\n",
      "[5 7 9]\n"
     ]
    }
   ],
   "source": [
    "# Contoh\n",
    "\n",
    "# List biasa\n",
    "a = [1, 2, 3]\n",
    "b = [4, 5, 6]\n",
    "print(a + b)       # Gabung list, hasilnya: [1, 2, 3, 4, 5, 6]\n",
    "\n",
    "# NumPy array\n",
    "import numpy as np\n",
    "a = np.array([1, 2, 3])\n",
    "b = np.array([4, 5, 6])\n",
    "print(a + b)       # Operasi elemen: [5 7 9]\n"
   ]
  },
  {
   "cell_type": "markdown",
   "id": "56c82493",
   "metadata": {},
   "source": [
    "# Apa Bedanya Array vs Tabel (Seperti di Pandas)?\n",
    "| Aspek     | NumPy Array                       | Pandas DataFrame (Tabel)               |\n",
    "| --------- | --------------------------------- | -------------------------------------- |\n",
    "| Bentuk    | 1D, 2D, nD (array/matriks/tensor) | 2D saja (seperti Excel)                |\n",
    "| Label     | Tidak ada (akses pakai indeks)    | Ada label (kolom, baris)               |\n",
    "| Fokus     | Operasi numerik cepat             | Analisis data tabular (label + angka)  |\n",
    "| Kecepatan | Lebih cepat (karena simpel)       | Sedikit lebih lambat (lebih fleksibel) |\n",
    "\n",
    "# Contoh Analogi:\n",
    "Array NumPy = Excel sheet mentah tanpa header, hanya angka.\n",
    "DataFrame Pandas = Excel sheet lengkap dengan header, bisa campur string, tanggal, dll.\n"
   ]
  },
  {
   "cell_type": "markdown",
   "id": "58318068",
   "metadata": {},
   "source": [
    "# Kenapa Data Engineer Perlu NumPy?\n",
    "Walaupun Data Engineer banyak memakai SQL dan Pandas, NumPy penting untuk:\n",
    "- Melakukan transformasi numerik sebelum loading data\n",
    "- Optimasi memori saat menangani data besar\n",
    "- Memahami konsep array yang digunakan juga di Pandas, TensorFlow, PyTorch, Spark\n",
    "\n",
    "# Istilah di Numpy\n",
    "| Istilah        | Penjelasan                                                         |\n",
    "| -------------- | ------------------------------------------------------------------ |\n",
    "| `ndarray`      | Nama resmi untuk \"array\" di NumPy                                  |\n",
    "| `dimensi`      | 1D (list), 2D (matriks), 3D (tensor), dst                          |\n",
    "| `shape`        | Ukuran array per dimensi, contoh `(3, 4)` artinya 3 baris, 4 kolom |\n",
    "| `dtype`        | Tipe data array (`int32`, `float64`, dsb)                          |\n",
    "| `broadcasting` | Cara NumPy menyesuaikan bentuk array saat operasi                  |\n",
    "| `axis`         | Sumbu array (axis 0 = baris, axis 1 = kolom di array 2D)           |\n",
    "\n"
   ]
  },
  {
   "cell_type": "code",
   "execution_count": 3,
   "id": "679bbb3e",
   "metadata": {},
   "outputs": [
    {
     "name": "stdout",
     "output_type": "stream",
     "text": [
      "[1 2 3 4 5]\n"
     ]
    }
   ],
   "source": [
    "# Membuat Array 1 Dimensi (1D)\n",
    "\n",
    "arei = np.array([1,2,3,4,5])\n",
    "print(arei)"
   ]
  },
  {
   "cell_type": "code",
   "execution_count": 13,
   "id": "35437e56",
   "metadata": {},
   "outputs": [
    {
     "name": "stdout",
     "output_type": "stream",
     "text": [
      "[[    1     2     3     4     5]\n",
      " [65120 65122 65121 65123 65124]]\n"
     ]
    }
   ],
   "source": [
    "# # Membuat Array 2 Dimensi (2D)\n",
    "\n",
    "arei = np.array([[1,2,3,4,5], [65120, 65122, 65121, 65123, 65124]])\n",
    "print(arei)"
   ]
  },
  {
   "cell_type": "code",
   "execution_count": null,
   "id": "081a911a",
   "metadata": {},
   "outputs": [
    {
     "name": "stdout",
     "output_type": "stream",
     "text": [
      "(2, 5)\n",
      "2\n",
      "<class 'numpy.ndarray'>\n",
      "int64\n"
     ]
    }
   ],
   "source": [
    "# Mengecek Info Array\n",
    "\n",
    "print(arei.shape) # output 2, 5 maksudnya 2 baris, 5 kolom\n",
    "print(arei.ndim) # output 2 dimensi\n",
    "print(type(arei)) # objectnya array\n",
    "print(arei.dtype) \n",
    "\n",
    "# Mengapa dtype hasilnya U21 karena :\n",
    "    # Menggabungkan angka (int) dan teks (str) dalam 1 array.\n",
    "    # NumPy tidak bisa campur-campur tipe data dalam 1 array seperti Pandas DataFrame.\n",
    "    # Karena ada teks (string), maka NumPy otomatis mengubah semua elemen jadi string agar seragam.\n",
    "\n",
    "#  Apa itu <U21?\n",
    "    # < = little-endian (urutan byte, abaikan untuk sekarang)\n",
    "    # U = Unicode string\n",
    "    # 21 = maksimum panjang karakter adalah 21 karakter (karena \"Muhammad\" punya 8 huruf, \"Rasyid\" 6, \"Shanks\" 6, \n",
    "                                    #    dst—jadi NumPy alokasikan memori berdasarkan yang terpanjang + cadangan).\n",
    "\n"
   ]
  },
  {
   "cell_type": "code",
   "execution_count": 9,
   "id": "6d926d7a",
   "metadata": {},
   "outputs": [
    {
     "name": "stdout",
     "output_type": "stream",
     "text": [
      "Nomor     int64\n",
      "Nama     object\n",
      "dtype: object\n"
     ]
    }
   ],
   "source": [
    "# Jika ingin menggabungkan tipe data yang berbeda gunakan pandas dataframe\n",
    "\n",
    "import pandas as pd\n",
    "\n",
    "df = pd.DataFrame({\n",
    "    \"Nomor\": [1, 2, 3, 4, 5],\n",
    "    \"Nama\": ['Muhammad','Rasyid','Ridho','Kaido','Shanks']\n",
    "})\n",
    "\n",
    "print(df.dtypes)\n"
   ]
  },
  {
   "cell_type": "code",
   "execution_count": null,
   "id": "f3daf548",
   "metadata": {},
   "outputs": [
    {
     "name": "stdout",
     "output_type": "stream",
     "text": [
      "['Rasyid' 'Ridho' 'Kaido']\n",
      "['Muhammad' 'Rasyid' 'Ridho']\n",
      "['Muhammad' 'Ridho' 'Shanks']\n"
     ]
    }
   ],
   "source": [
    "# Slicing (Memotong Bagian Array)\n",
    "\n",
    "# 1D\n",
    "arei2 = np.array(['Muhammad','Rasyid','Ridho','Kaido','Shanks'])\n",
    "print(arei2[1:4])     # dari indeks 1 ke 3, Rasyid, Ridho, Kaido\n",
    "print(arei2[:3])      # dari awal ke indeks 2 'Muhammad','Rasyid','Ridho'\n",
    "print(arei2[::2])     # ambil tiap 2 langkah, langkah pertama dari index 0 yaitu Muhammad, 2 langkah ke depan yaitu Ridho\n"
   ]
  },
  {
   "cell_type": "code",
   "execution_count": null,
   "id": "fddfbe81",
   "metadata": {},
   "outputs": [
    {
     "name": "stdout",
     "output_type": "stream",
     "text": [
      "[[2 3]\n",
      " [5 6]]\n"
     ]
    }
   ],
   "source": [
    "# Slicing 2D\n",
    "\n",
    "arr2d = np.array([[1, 2, 3],\n",
    "                  [4, 5, 6],\n",
    "                  [7, 8, 9]])\n",
    "\n",
    "print(arr2d[:2, 1:])\n",
    "# [:2, 1:] → ambil baris ke-0 dan 1, dan kolom mulai dari ke-1 ke kanan"
   ]
  },
  {
   "cell_type": "code",
   "execution_count": null,
   "id": "aebd7a93",
   "metadata": {},
   "outputs": [],
   "source": []
  }
 ],
 "metadata": {
  "kernelspec": {
   "display_name": ".venv",
   "language": "python",
   "name": "python3"
  },
  "language_info": {
   "codemirror_mode": {
    "name": "ipython",
    "version": 3
   },
   "file_extension": ".py",
   "mimetype": "text/x-python",
   "name": "python",
   "nbconvert_exporter": "python",
   "pygments_lexer": "ipython3",
   "version": "3.12.0"
  }
 },
 "nbformat": 4,
 "nbformat_minor": 5
}
