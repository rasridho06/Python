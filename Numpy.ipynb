{
 "cells": [
  {
   "cell_type": "markdown",
   "id": "05e97eab",
   "metadata": {},
   "source": [
    "# NumPy (singkatan dari Numerical Python) adalah library Python untuk:\n",
    "\n",
    "✅ Perhitungan numerik (angka)\n",
    "✅ Pemrosesan data dalam bentuk array dan matriks\n",
    "✅ Operasi matematis cepat (tanpa for loop)\n",
    "\n",
    "# Array\n",
    "Array di NumPy = kumpulan elemen (angka, bisa juga string) yang:\n",
    "- Ukurannya tetap\n",
    "- Tipenya sama (semua int, semua float, dsb)\n",
    "- Disimpan dalam satu blok memori (jadi cepat dan efisien)\n",
    "\n",
    "\n",
    "# Perbandingan: List Python vs Array NumPy\n",
    "| Aspek              | List Python                | Array NumPy                             |\n",
    "| ------------------ | -------------------------- | --------------------------------------- |\n",
    "| Tipe data campuran | Bisa campuran (`[1, \"a\"]`) | Harus 1 tipe data (semua `int`, dsb)    |\n",
    "| Operasi matematis  | Tidak otomatis             | Bisa langsung (`array * 2`)             |\n",
    "| Kecepatan          | Lebih lambat               | Lebih cepat (pakai C di belakang layar) |\n",
    "| Ukuran memori      | Lebih besar                | Lebih kecil                             |\n",
    "\n",
    "\n",
    "# Kenapa Array Lebih Cepat daripada List?\n",
    "List di Python adalah struktur data umum yang bisa menyimpan apa saja (string, int, objek, bahkan list lagi) . Tapi karena sifatnya fleksibel, ia tidak efisien untuk operasi numerik besar.\n",
    "\n",
    "# Sedangkan array NumPy :\n",
    "Menyimpan satu tipe data saja (misal: int64, float32)\n",
    "Menyimpan data dalam lokasi memori yang berdekatan → akses lebih cepat\n",
    "Memungkinkan operasi vektorisasi (tidak perlu loop manual)"
   ]
  },
  {
   "cell_type": "code",
   "execution_count": 1,
   "id": "681bf9a4",
   "metadata": {},
   "outputs": [
    {
     "name": "stdout",
     "output_type": "stream",
     "text": [
      "[1, 2, 3, 4, 5, 6]\n",
      "[5 7 9]\n"
     ]
    }
   ],
   "source": [
    "# Contoh\n",
    "\n",
    "# List biasa\n",
    "a = [1, 2, 3]\n",
    "b = [4, 5, 6]\n",
    "print(a + b)       # Gabung list, hasilnya: [1, 2, 3, 4, 5, 6]\n",
    "\n",
    "# NumPy array\n",
    "import numpy as np\n",
    "a = np.array([1, 2, 3])\n",
    "b = np.array([4, 5, 6])\n",
    "print(a + b)       # Operasi elemen: [5 7 9]\n"
   ]
  },
  {
   "cell_type": "markdown",
   "id": "56c82493",
   "metadata": {},
   "source": [
    "# Apa Bedanya Array vs Tabel (Seperti di Pandas)?\n",
    "| Aspek     | NumPy Array                       | Pandas DataFrame (Tabel)               |\n",
    "| --------- | --------------------------------- | -------------------------------------- |\n",
    "| Bentuk    | 1D, 2D, nD (array/matriks/tensor) | 2D saja (seperti Excel)                |\n",
    "| Label     | Tidak ada (akses pakai indeks)    | Ada label (kolom, baris)               |\n",
    "| Fokus     | Operasi numerik cepat             | Analisis data tabular (label + angka)  |\n",
    "| Kecepatan | Lebih cepat (karena simpel)       | Sedikit lebih lambat (lebih fleksibel) |\n",
    "\n",
    "# Contoh Analogi:\n",
    "Array NumPy = Excel sheet mentah tanpa header, hanya angka.\n",
    "DataFrame Pandas = Excel sheet lengkap dengan header, bisa campur string, tanggal, dll.\n"
   ]
  },
  {
   "cell_type": "markdown",
   "id": "58318068",
   "metadata": {},
   "source": [
    "# Kenapa Data Engineer Perlu NumPy?\n",
    "Walaupun Data Engineer banyak memakai SQL dan Pandas, NumPy penting untuk:\n",
    "- Melakukan transformasi numerik sebelum loading data\n",
    "- Optimasi memori saat menangani data besar\n",
    "- Memahami konsep array yang digunakan juga di Pandas, TensorFlow, PyTorch, Spark\n",
    "\n",
    "# Istilah di Numpy\n",
    "| Istilah        | Penjelasan                                                         |\n",
    "| -------------- | ------------------------------------------------------------------ |\n",
    "| `ndarray`      | Nama resmi untuk \"array\" di NumPy                                  |\n",
    "| `dimensi`      | 1D (list), 2D (matriks), 3D (tensor), dst                          |\n",
    "| `shape`        | Ukuran array per dimensi, contoh `(3, 4)` artinya 3 baris, 4 kolom |\n",
    "| `dtype`        | Tipe data array (`int32`, `float64`, dsb)                          |\n",
    "| `broadcasting` | Cara NumPy menyesuaikan bentuk array saat operasi                  |\n",
    "| `axis`         | Sumbu array (axis 0 = baris, axis 1 = kolom di array 2D)           |\n",
    "\n"
   ]
  },
  {
   "cell_type": "markdown",
   "id": "b13138c9",
   "metadata": {},
   "source": [
    "# Indexing\n",
    "\n",
    "arr2d = np.array([\n",
    "  [1, 2, 3],\n",
    "  [4, 5, 6],\n",
    "  [7, 8, 9]\n",
    "])\n",
    "\n",
    "# Bayangkan seperti tabel Excel:\n",
    "      Kolom\n",
    "       0  1  2\n",
    "     ---------\n",
    "B 0 | 1  2  3\n",
    "a 1 | 4  5  6\n",
    "r 2 | 7  8  9\n"
   ]
  },
  {
   "cell_type": "code",
   "execution_count": null,
   "id": "5e0e5a93",
   "metadata": {},
   "outputs": [
    {
     "name": "stdout",
     "output_type": "stream",
     "text": [
      "6\n"
     ]
    }
   ],
   "source": [
    "# Indexing 2D (mengambil elemen spesifik)\n",
    "\n",
    "print(arr2d[1, 2])\n",
    "\n",
    "# Penjelasan :\n",
    "# Ambil baris ke-1, kolom ke-2 → hasilnya: 6"
   ]
  },
  {
   "cell_type": "code",
   "execution_count": 3,
   "id": "679bbb3e",
   "metadata": {},
   "outputs": [
    {
     "name": "stdout",
     "output_type": "stream",
     "text": [
      "[1 2 3 4 5]\n"
     ]
    }
   ],
   "source": [
    "# Membuat Array 1 Dimensi (1D)\n",
    "\n",
    "arei = np.array([1,2,3,4,5])\n",
    "print(arei)"
   ]
  },
  {
   "cell_type": "code",
   "execution_count": 13,
   "id": "35437e56",
   "metadata": {},
   "outputs": [
    {
     "name": "stdout",
     "output_type": "stream",
     "text": [
      "[[    1     2     3     4     5]\n",
      " [65120 65122 65121 65123 65124]]\n"
     ]
    }
   ],
   "source": [
    "# # Membuat Array 2 Dimensi (2D)\n",
    "\n",
    "arei = np.array([[1,2,3,4,5], [65120, 65122, 65121, 65123, 65124]])\n",
    "print(arei)"
   ]
  },
  {
   "cell_type": "code",
   "execution_count": null,
   "id": "081a911a",
   "metadata": {},
   "outputs": [
    {
     "name": "stdout",
     "output_type": "stream",
     "text": [
      "(2, 5)\n",
      "2\n",
      "<class 'numpy.ndarray'>\n",
      "int64\n"
     ]
    }
   ],
   "source": [
    "# Mengecek Info Array\n",
    "\n",
    "print(arei.shape) # output 2, 5 maksudnya 2 baris, 5 kolom\n",
    "print(arei.ndim) # output 2 dimensi\n",
    "print(type(arei)) # objectnya array\n",
    "print(arei.dtype) \n",
    "\n",
    "# Mengapa dtype hasilnya U21 karena :\n",
    "    # Menggabungkan angka (int) dan teks (str) dalam 1 array.\n",
    "    # NumPy tidak bisa campur-campur tipe data dalam 1 array seperti Pandas DataFrame.\n",
    "    # Karena ada teks (string), maka NumPy otomatis mengubah semua elemen jadi string agar seragam.\n",
    "\n",
    "#  Apa itu <U21?\n",
    "    # < = little-endian (urutan byte, abaikan untuk sekarang)\n",
    "    # U = Unicode string\n",
    "    # 21 = maksimum panjang karakter adalah 21 karakter (karena \"Muhammad\" punya 8 huruf, \"Rasyid\" 6, \"Shanks\" 6, \n",
    "                                    #    dst—jadi NumPy alokasikan memori berdasarkan yang terpanjang + cadangan).\n",
    "\n"
   ]
  },
  {
   "cell_type": "code",
   "execution_count": 9,
   "id": "6d926d7a",
   "metadata": {},
   "outputs": [
    {
     "name": "stdout",
     "output_type": "stream",
     "text": [
      "Nomor     int64\n",
      "Nama     object\n",
      "dtype: object\n"
     ]
    }
   ],
   "source": [
    "# Jika ingin menggabungkan tipe data yang berbeda gunakan pandas dataframe\n",
    "\n",
    "import pandas as pd\n",
    "\n",
    "df = pd.DataFrame({\n",
    "    \"Nomor\": [1, 2, 3, 4, 5],\n",
    "    \"Nama\": ['Muhammad','Rasyid','Ridho','Kaido','Shanks']\n",
    "})\n",
    "\n",
    "print(df.dtypes)\n"
   ]
  },
  {
   "cell_type": "code",
   "execution_count": null,
   "id": "f3daf548",
   "metadata": {},
   "outputs": [
    {
     "name": "stdout",
     "output_type": "stream",
     "text": [
      "['Rasyid' 'Ridho' 'Kaido']\n",
      "['Muhammad' 'Rasyid' 'Ridho']\n",
      "['Muhammad' 'Ridho' 'Shanks']\n"
     ]
    }
   ],
   "source": [
    "# Slicing (Memotong Bagian Array)\n",
    "\n",
    "# 1D\n",
    "arei2 = np.array(['Muhammad','Rasyid','Ridho','Kaido','Shanks'])\n",
    "print(arei2[1:4])     # dari indeks 1 ke 3, Rasyid, Ridho, Kaido\n",
    "print(arei2[:3])      # dari awal ke indeks 2 'Muhammad','Rasyid','Ridho'\n",
    "print(arei2[::2])     # ambil tiap 2 langkah, langkah pertama dari index 0 yaitu Muhammad, 2 langkah ke depan yaitu Ridho\n"
   ]
  },
  {
   "cell_type": "code",
   "execution_count": null,
   "id": "fddfbe81",
   "metadata": {},
   "outputs": [
    {
     "name": "stdout",
     "output_type": "stream",
     "text": [
      "[[2 3]\n",
      " [5 6]]\n",
      "[[1 2 3]\n",
      " [4 5 6]]\n",
      "[[1 2 3]\n",
      " [4 5 6]\n",
      " [7 8 9]]\n",
      "[[5]]\n",
      "[[6]]\n"
     ]
    }
   ],
   "source": [
    "# Slicing 2D\n",
    "\n",
    "arr2d = np.array([[1, 2, 3], # baris ke 0\n",
    "                  [4, 5, 6], # baris ke 1\n",
    "                  [7, 8, 9]])# baris ke 2\n",
    "        # kolom ke 0  1  2\n",
    "\n",
    "print(arr2d[:2, 1:])\n",
    "\n",
    "# Artinya\n",
    "\n",
    "# :2 → ambil baris ke-0 dan ke-1 (stop di baris ke-2, tapi tidak diambil)\n",
    "# 1: → ambil kolom mulai dari ke-1 sampai akhir\n",
    "\n",
    "# Output\n",
    "# [[2 3]\n",
    "#  [5 6]]\n",
    "\n",
    "# Ambil 2 baris pertama dan semua kolom\n",
    "print(arr2d[:2,:])\n",
    "\n",
    "# : ambil semua baris atau kolom\n",
    "print(arr2d[:,:])\n",
    "\n",
    "# ambil nilai tertentu saja misal 5\n",
    "print(arr2d[1:2,1:2])\n",
    "\n",
    "# Penjelasan :\n",
    "    # Posisi angka 5 ada di:\n",
    "    # Baris ke-1\n",
    "    # Kolom ke-1\n",
    "\n",
    "# Maka:\n",
    "# 1:2 artinya ambil baris ke-1 saja (karena akhir tidak termasuk)\n",
    "# 1:2 artinya ambil kolom ke-1 saja\n",
    "# Jadi kita mengambil angka 5, dalam bentuk array 2 dimensi berukuran 1×1.\n",
    "\n",
    "# ambil nilai tertentu misal 6\n",
    "print(arr2d[1:2,2:])\n",
    "# 1:2 artinya ambil baris ke-1 saja (karena akhir tidak termasuk)\n",
    "# 2: dimulai dari kolom ke 2 dan jika tidak ada kolom setelahnya maka akan dianggap selesai"
   ]
  },
  {
   "cell_type": "markdown",
   "id": "6f95e110",
   "metadata": {},
   "source": [
    "# Konsep Slicing\n",
    "\n",
    "arr[baris_start:baris_stop, kolom_start:kolom_stop]\n",
    "\n",
    "- baris_start → mulai dari baris ke berapa (mulai dari 0)\n",
    "- baris_stop → berhenti SEBELUM baris ke berapa\n",
    "- kolom_start, kolom_stop → sama seperti di atas\n",
    "\n",
    "# Contoh Array 2D\n",
    "\n",
    "arr2d = np.array([\n",
    "  [1, 2, 3],   # baris ke-0\n",
    "  [4, 5, 6],   # baris ke-1\n",
    "  [7, 8, 9]    # baris ke-2\n",
    "])\n",
    "\n",
    "# Kalau dibayangkan bentuknya seperti tabel:\n",
    "[ [1, 2, 3],   ← baris 0\n",
    "  [4, 5, 6],   ← baris 1\n",
    "  [7, 8, 9] ]  ← baris 2\n",
    "    ↑  ↑  ↑\n",
    "   kol 0 1  2\n"
   ]
  },
  {
   "cell_type": "markdown",
   "id": "d2b44cdb",
   "metadata": {},
   "source": [
    "# Modul 3 Operation and Broadcasting"
   ]
  },
  {
   "cell_type": "code",
   "execution_count": null,
   "id": "406d5e2c",
   "metadata": {},
   "outputs": [
    {
     "name": "stdout",
     "output_type": "stream",
     "text": [
      "[11 22 33]\n",
      "[ 9 18 27]\n",
      "[10 40 90]\n",
      "[10. 10. 10.]\n"
     ]
    }
   ],
   "source": [
    "\n",
    "a = np.array([10, 20, 30])\n",
    "b = np.array([1, 2, 3])\n",
    "\n",
    "print(a + b)  # [11 22 33]\n",
    "\n",
    "# Penjumlahan dilakukan elemen demi elemen:\n",
    "    # 10 + 1 = 11\n",
    "    # 20 + 2 = 22\n",
    "    # 30 + 3 = 33\n",
    "\n",
    "# Operasi lain\n",
    "print(a - b)  # [ 9 18 27]\n",
    "print(a * b)  # [10 40 90]\n",
    "print(a / b)  # [10. 10. 10.]\n"
   ]
  },
  {
   "cell_type": "code",
   "execution_count": null,
   "id": "982f0fec",
   "metadata": {},
   "outputs": [
    {
     "name": "stdout",
     "output_type": "stream",
     "text": [
      "[15 25 35]\n",
      "[2 4 6]\n"
     ]
    }
   ],
   "source": [
    "# Operasi dengan Skalar (1 angka ke semua elemen)\n",
    "\n",
    "print(a + 5)  # [15 25 35] # 10+5, 20+5, 30+5\n",
    "print(b * 2)  # [2 4 6]    # 1*2, 2*2, 3*2\n"
   ]
  },
  {
   "cell_type": "code",
   "execution_count": null,
   "id": "a5b48610",
   "metadata": {},
   "outputs": [
    {
     "name": "stdout",
     "output_type": "stream",
     "text": [
      "[[11 22]\n",
      " [33 44]]\n",
      "[[ -9 -18]\n",
      " [-27 -36]]\n",
      "[[ 10  40]\n",
      " [ 90 160]]\n"
     ]
    }
   ],
   "source": [
    "# Operasi Matrix 2D - Penjumlahan elemen per posisi\n",
    "\n",
    "x = np.array([[1, 2], [3, 4]])\n",
    "y = np.array([[10, 20], [30, 40]])\n",
    "print(x + y)\n",
    "print(x - y)\n",
    "print(x * y)"
   ]
  },
  {
   "cell_type": "code",
   "execution_count": null,
   "id": "09a429bc",
   "metadata": {},
   "outputs": [
    {
     "name": "stdout",
     "output_type": "stream",
     "text": [
      "60\n",
      "20.0\n",
      "10\n",
      "30\n",
      "20.0\n"
     ]
    }
   ],
   "source": [
    "# Agregasi\n",
    "\n",
    "print(np.sum(a))     # Total semua elemen: 60\n",
    "print(np.mean(a))    # Rata-rata: 20.0\n",
    "print(np.min(a))     # Minimum: 10\n",
    "print(np.max(a))     # Maksimum: 30\n",
    "print(np.median(a)) "
   ]
  },
  {
   "cell_type": "code",
   "execution_count": null,
   "id": "5b8929fa",
   "metadata": {},
   "outputs": [
    {
     "name": "stdout",
     "output_type": "stream",
     "text": [
      "[[1 2 3]\n",
      " [4 5 6]]\n",
      "21\n",
      "[ 6 15]\n",
      "[5 7 9]\n"
     ]
    }
   ],
   "source": [
    "#  Agregasi Matrix\n",
    "\n",
    "z = np.array([[1, 2, 3],\n",
    "              [4, 5, 6]])\n",
    "print(z)\n",
    "\n",
    "# Jumlah semua nilai pada array\n",
    "print(np.sum(z))  # 21\n",
    "\n",
    "# jumlah nilai pada tiap baris\n",
    "print(np.sum(z, axis=1))  # [6 15]\n",
    "# 6 baris ke 0\n",
    "# 15 baris ke 1\n",
    "\n",
    "# Jumlah per kolom:\n",
    "print(np.sum(z, axis=0))  # [5 7 9]\n",
    "# Kolom 0 → 1+4 = 5\n",
    "# Kolom 1 → 2+5 = 7\n",
    "# Kolom 2 → 3+6 = 9"
   ]
  },
  {
   "cell_type": "code",
   "execution_count": null,
   "id": "7e53729c",
   "metadata": {},
   "outputs": [
    {
     "name": "stdout",
     "output_type": "stream",
     "text": [
      "[False  True  True]\n"
     ]
    }
   ],
   "source": [
    "#  Boolean Operation (Perbandingan)\n",
    "\n",
    "print(a > 15)  # [False  True  True]\n",
    "\n",
    "# Penjelasan :\n",
    "# Apakah 10 > 15? ❌\n",
    "# Apakah 20 > 15? ✅\n",
    "# Apakah 30 > 15? ✅"
   ]
  },
  {
   "cell_type": "code",
   "execution_count": null,
   "id": "2007c88a",
   "metadata": {},
   "outputs": [],
   "source": [
    "# Filtering pakai Boolean\n",
    "\n",
    "print(a[a > 15])  # [20 30]\n",
    "\n",
    "# artinya, ambil nilai array a yang lebih dari 15\n"
   ]
  },
  {
   "cell_type": "code",
   "execution_count": null,
   "id": "6c649090",
   "metadata": {},
   "outputs": [
    {
     "name": "stdout",
     "output_type": "stream",
     "text": [
      "[[11 22 33]\n",
      " [14 25 36]]\n"
     ]
    }
   ],
   "source": [
    "# Broadcasting 2D vs 1D\n",
    "\n",
    "A = np.array([[1, 2, 3],\n",
    "              [4, 5, 6]])\n",
    "B = np.array([10, 20, 30])\n",
    "\n",
    "print(A + B)\n",
    "\n",
    "# Penjelasan:\n",
    "    # Baris [10 20 30] diulang ke tiap baris matrix A\n",
    "    # Ini namanya broadcasting baris"
   ]
  },
  {
   "cell_type": "markdown",
   "id": "ce7617ec",
   "metadata": {},
   "source": [
    "# Modul 4: Reshape dan Manipulasi Bentuk Array\n",
    "🎯 Tujuan Modul:\n",
    "Mengubah bentuk array (misalnya dari 1D ke 2D, atau 3x3 ke 9x1)\n",
    "\n",
    "Ini penting saat kamu mau menyesuaikan data sebelum diproses atau dikirim ke pipeline/machine learning model\n",
    "\n",
    "🧠 Kenapa perlu belajar reshape?\n",
    "Bayangkan kamu punya array 9 elemen, tapi model butuh input bentuk 3x3. Maka kamu perlu mengubah bentuknya, bukan nilainya.\n",
    "\n",
    "# Fungsi-fungsi penting di Modul ini:\n",
    "| Fungsi        | Kegunaan Singkat                                    |\n",
    "| ------------- | --------------------------------------------------- |\n",
    "| `reshape()`   | Ubah bentuk array                                   |\n",
    "| `flatten()`   | Jadikan array 2D menjadi 1D (salinan)               |\n",
    "| `ravel()`     | Sama seperti `flatten`, tapi **lebih hemat memori** |\n",
    "| `transpose()` | Menukar baris ↔ kolom                               |\n",
    "| `T`           | Shortcut untuk `transpose()`                        |\n"
   ]
  },
  {
   "cell_type": "code",
   "execution_count": null,
   "id": "39a504eb",
   "metadata": {},
   "outputs": [
    {
     "name": "stdout",
     "output_type": "stream",
     "text": [
      "[0 1 2 3 4 5 6 7 8]\n",
      "[[0 1 2]\n",
      " [3 4 5]\n",
      " [6 7 8]]\n"
     ]
    }
   ],
   "source": [
    "# Reshape: Ubah bentuk array\n",
    "\n",
    "arr = np.arange(9)  # array dari 0 sampai 8 (total 9 elemen)\n",
    "print(arr)          # [0 1 2 3 4 5 6 7 8]\n",
    "\n",
    "arr2d = arr.reshape(3, 3)\n",
    "print(arr2d)\n",
    "\n",
    "# Catatan:\n",
    "    # reshape(baris, kolom) → total elemennya harus cocok\n",
    "    # 9 elemen → reshape(3, 3) ✅\n",
    "    # 9 elemen → reshape(2, 4) ❌ (karena butuh 8 elemen)\n"
   ]
  },
  {
   "cell_type": "code",
   "execution_count": null,
   "id": "b140a1a8",
   "metadata": {},
   "outputs": [
    {
     "name": "stdout",
     "output_type": "stream",
     "text": [
      "[1 2 3 4 5 6]\n",
      "[1 2 3 4 5 6]\n"
     ]
    }
   ],
   "source": [
    "# Flatten dan Ravel: dari 2D ke 1D\n",
    "\n",
    "arr2d = np.array([[1, 2, 3],\n",
    "                  [4, 5, 6]])\n",
    "\n",
    "flat = arr2d.flatten()\n",
    "rav = arr2d.ravel()\n",
    "\n",
    "print(flat)  # [1 2 3 4 5 6]\n",
    "print(rav)   # [1 2 3 4 5 6]\n",
    "\n",
    "# Perbedaannya:\n",
    "# | Fungsi      | Salinan baru? | Bisa hemat memori? |\n",
    "# | ----------- | ------------- | ------------------ |\n",
    "# | `flatten()` | Ya            | Tidak              |\n",
    "# | `ravel()`   | Tidak (view)  | Ya (lebih efisien) |\n",
    "\n",
    "# Biasanya ravel() cukup untuk data engineer saat ingin transformasi ringan.\n",
    "\n"
   ]
  },
  {
   "cell_type": "code",
   "execution_count": null,
   "id": "b66ff978",
   "metadata": {},
   "outputs": [
    {
     "name": "stdout",
     "output_type": "stream",
     "text": [
      "(3, 2)\n",
      "[[1 3 5]\n",
      " [2 4 6]]\n",
      "(2, 3)\n"
     ]
    }
   ],
   "source": [
    "# Transpose / T: Tukar baris dan kolom\n",
    "\n",
    "arr = np.array([[1, 2],\n",
    "                [3, 4],\n",
    "                [5, 6]])\n",
    "\n",
    "print(arr.shape)     # (3, 2)\n",
    "\n",
    "# Ada 3 baris:\n",
    "# 👉 [[1, 2], [3, 4], [5, 6]]\n",
    "# → masing-masing daftar adalah 1 baris\n",
    "\n",
    "# Setiap baris punya 2 kolom:\n",
    "# 👉 [1, 2] → 2 angka\n",
    "\n",
    "# Catatan\n",
    "    # sebelum transpose tidak harus pakai .shape dulu karena keduanya bisa langsung dipakai secara terpisah.\n",
    "    # Fungsi .shape hanya digunakan untuk melihat bentuk array.\n",
    "    # Sedangkan .T atau .transpose() digunakan untuk mengubah bentuknya.\n",
    "\n",
    "transpose = arr.T\n",
    "print(transpose)\n",
    "print(transpose.shape) # cek perubahan baris dan kolom, sekarang berubah menjadi 2 baris 3 kolom\n",
    "\n",
    "# [[1 3 5]\n",
    "#  [2 4 6]]"
   ]
  },
  {
   "cell_type": "code",
   "execution_count": null,
   "id": "a8231fe1",
   "metadata": {},
   "outputs": [
    {
     "name": "stdout",
     "output_type": "stream",
     "text": [
      "[ 0  1  2  3  4  5  6  7  8  9 10 11]\n",
      "[[1 2 3]\n",
      " [4 5 6]]\n",
      "[[1 2]\n",
      " [3 4]\n",
      " [5 6]]\n"
     ]
    }
   ],
   "source": [
    "# reshape (-1, n)\n",
    "arr2d = np.arange(12)  # 0 sampai 11\n",
    "print(arr2d)\n",
    "\n",
    "print(arr.reshape(-1, 3))  # 4 baris, 3 kolom otomatis\n",
    "print(arr.reshape(3, -1))  # 3 baris, 4 kolom otomatis\n"
   ]
  },
  {
   "cell_type": "markdown",
   "id": "220d0caf",
   "metadata": {},
   "source": [
    "# Penjelasan Reshape\n",
    "Analogi\n",
    "\"Saya ingin ubah bentuk array ini jadi punya n kolom, tolong NumPy hitung otomatis berapa baris yang cocok.\"\n",
    "📌 -1 = “biarkan NumPy yang hitung”\n",
    "📌 n = jumlah kolom yang kamu tetapkan\n",
    "\n",
    "# Aturan Penting .reshape():\n",
    "Total elemen harus habis dibagi (tanpa sisa) oleh baris × kolom."
   ]
  },
  {
   "cell_type": "code",
   "execution_count": 55,
   "id": "3664be34",
   "metadata": {},
   "outputs": [
    {
     "name": "stdout",
     "output_type": "stream",
     "text": [
      "[ 0  1  2  3  4  5  6  7  8  9 10 11]\n",
      "[[ 0  1  2]\n",
      " [ 3  4  5]\n",
      " [ 6  7  8]\n",
      " [ 9 10 11]]\n",
      "[[ 0  1  2  3]\n",
      " [ 4  5  6  7]\n",
      " [ 8  9 10 11]]\n"
     ]
    }
   ],
   "source": [
    "# contoh\n",
    "arr1 = np.arange(12)  # [0, 1, 2, ..., 11]\n",
    "print(arr1)\n",
    "\n",
    "print(arr1.reshape(-1, 3)) # 12 total elemen, kamu mau 3 kolom → berarti butuh 4 baris\n",
    "\n",
    "arr2 = np.arange(12)\n",
    "print(arr2.reshape(3,-1)) # Saya mau bentuk array ini jadi 3 baris. NumPy tolong hitung sendiri berapa kolom\n"
   ]
  },
  {
   "cell_type": "markdown",
   "id": "eec3e6bb",
   "metadata": {},
   "source": [
    "# Fancy Indexing dan Boolean Masking\n",
    "\n",
    "Fancy Indexing = Ambil data berdasarkan nomor/posisi tertentu yang kamu tentukan\n",
    "Analogi sederhana:\n",
    "    - Bayangkan kamu punya sekantong permen dengan berbagai rasa. Kamu ingin memisahkan hanya permen rasa strawberry. Boolean masking seperti punya \"saringan ajaib\" yang hanya meloloskan permen dengan kriteria tertentu.\n",
    "\n",
    "Boolean Masking = Saring data berdasarkan kondisi tertentu (seperti filter)\n",
    "Analogi sederhana :\n",
    "    Bayangkan kamu punya sekantong permen dengan berbagai rasa. Kamu ingin memisahkan hanya permen rasa strawberry. Boolean masking seperti punya \"saringan ajaib\" yang hanya meloloskan permen dengan kriteria tertentu."
   ]
  },
  {
   "cell_type": "code",
   "execution_count": null,
   "id": "a5b5562b",
   "metadata": {},
   "outputs": [
    {
     "name": "stdout",
     "output_type": "stream",
     "text": [
      "Isi semua loker: [10 20 30 40 50 60]\n",
      "Barang dari loker 1, 3, 5: [20 40 60]\n"
     ]
    }
   ],
   "source": [
    "# Fancy Indexing\n",
    "\n",
    "# Ini seperti deretan loker dengan isinya\n",
    "loker = np.array([10, 20, 30, 40, 50, 60])\n",
    "print(\"Isi semua loker:\", loker)\n",
    "\n",
    "# Fancy indexing: ambil barang dari loker nomor 1, 3, dan 5 sekaligus\n",
    "nomor_loker = [1, 3, 5]\n",
    "    # Kita membuat sebuah list Python biasa berisi angka [1, 3, 5]\n",
    "    # Angka-angka ini adalah nomor index yang ingin kita ambil dari array loker\n",
    "    # Kita ingin mengambil data dari posisi tertentu, bukan semua data\n",
    "    # Angka 1, 3, 5 adalah alamat/posisi dalam array yang ingin kita akses\n",
    "\n",
    "\n",
    "barang_yang_diambil = loker[nomor_loker]\n",
    "# loker[nomor_loker] artinya: \"ambil nilai dari array loker pada posisi-posisi yang ada di nomor_loker\"\n",
    "# NumPy secara otomatis akan:\n",
    "    # Baca nomor_loker[0] = 1 → ambil loker[1] = 20\n",
    "    # Baca nomor_loker[1] = 3 → ambil loker[3] = 40\n",
    "    # Baca nomor_loker[2] = 5 → ambil loker[5] = 60\n",
    "# Hasilnya disimpan dalam variabel barang_yang_diambil\n",
    "\n",
    "print(\"Barang dari loker 1, 3, 5:\", barang_yang_diambil)  # [20, 40, 60]\n",
    "\n",
    "# Kegunaan praktis: Misalnya kamu punya daftar nilai siswa dan ingin mengambil nilai siswa tertentu berdasarkan nomor absen mereka."
   ]
  },
  {
   "cell_type": "code",
   "execution_count": null,
   "id": "632e3417",
   "metadata": {},
   "outputs": [
    {
     "name": "stdout",
     "output_type": "stream",
     "text": [
      "Tingkat manis semua permen: [5 8 2 9 6 3 7]\n",
      "Saringan (True/False): [False  True False  True False False  True]\n",
      "Permen yang sangat manis: [8 9 7]\n"
     ]
    }
   ],
   "source": [
    "# Boolean Masking\n",
    "\n",
    "# Ini seperti sekantong permen dengan nilai manisnya\n",
    "permen = np.array([5, 8, 2, 9, 6, 3, 7])\n",
    "print(\"Tingkat manis semua permen:\", permen)\n",
    "\n",
    "# Boolean masking: cari permen yang manisnya > 6\n",
    "saringan = permen > 6  # Ini menghasilkan True/False untuk setiap permen\n",
    "# NumPy membandingkan setiap elemen dalam array permen dengan angka 6\n",
    "# Proses yang terjadi di belakang layar:\n",
    "    # permen[0] = 5 → 5 > 6? → False\n",
    "    # permen[1] = 8 → 8 > 6? → True\n",
    "    # permen[2] = 2 → 2 > 6? → False\n",
    "    # permen[3] = 9 → 9 > 6? → True\n",
    "    # permen[4] = 6 → 6 > 6? → False\n",
    "    # permen[5] = 3 → 3 > 6? → False\n",
    "    # permen[6] = 7 → 7 > 6? → True\n",
    "# Hasilnya adalah array Boolean: [False, True, False, True, False, False, True]\n",
    "print(\"Saringan (True/False):\", saringan)  # [False, True, False, True, False, False, True]\n",
    "\n",
    "# Mengapa seperti ini:\n",
    "    # Kita ingin membuat \"peta\" atau \"cetakan\" yang menunjukkan mana saja elemen yang memenuhi syarat\n",
    "    # Operator > di NumPy secara otomatis diterapkan ke semua elemen (disebut vectorized operation)\n",
    "    # Hasilnya berupa array True/False yang ukurannya sama dengan array asli\n",
    "\n",
    "# Ambil hanya permen yang lolos saringan\n",
    "permen_manis = permen[saringan]\n",
    "print(\"Permen yang sangat manis:\", permen_manis)  # [8, 9, 7]"
   ]
  },
  {
   "cell_type": "code",
   "execution_count": null,
   "id": "0692a4e1",
   "metadata": {},
   "outputs": [],
   "source": []
  }
 ],
 "metadata": {
  "kernelspec": {
   "display_name": ".venv",
   "language": "python",
   "name": "python3"
  },
  "language_info": {
   "codemirror_mode": {
    "name": "ipython",
    "version": 3
   },
   "file_extension": ".py",
   "mimetype": "text/x-python",
   "name": "python",
   "nbconvert_exporter": "python",
   "pygments_lexer": "ipython3",
   "version": "3.12.0"
  }
 },
 "nbformat": 4,
 "nbformat_minor": 5
}
