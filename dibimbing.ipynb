{
 "cells": [
  {
   "cell_type": "code",
   "execution_count": 1,
   "id": "73e3355e",
   "metadata": {},
   "outputs": [
    {
     "name": "stdout",
     "output_type": "stream",
     "text": [
      "19\n"
     ]
    }
   ],
   "source": [
    "x = 3\n",
    "y = 5\n",
    "z = 4\n",
    "q = z+y*x\n",
    "print(q)"
   ]
  },
  {
   "cell_type": "code",
   "execution_count": 2,
   "id": "f06a94b2",
   "metadata": {},
   "outputs": [
    {
     "name": "stdout",
     "output_type": "stream",
     "text": [
      "Nilai kamu B\n"
     ]
    }
   ],
   "source": [
    "nilai = int(input())\n",
    "indeks = ''\n",
    "if nilai > 90 :\n",
    "   indeks = \"A\"\n",
    "elif nilai <70:\n",
    "   indeks = \"B\"\n",
    "print ('Nilai kamu',indeks)"
   ]
  },
  {
   "cell_type": "code",
   "execution_count": null,
   "id": "15235a0d",
   "metadata": {},
   "outputs": [],
   "source": []
  }
 ],
 "metadata": {
  "kernelspec": {
   "display_name": ".venv (3.12.1)",
   "language": "python",
   "name": "python3"
  },
  "language_info": {
   "codemirror_mode": {
    "name": "ipython",
    "version": 3
   },
   "file_extension": ".py",
   "mimetype": "text/x-python",
   "name": "python",
   "nbconvert_exporter": "python",
   "pygments_lexer": "ipython3",
   "version": "3.12.0"
  }
 },
 "nbformat": 4,
 "nbformat_minor": 5
}
