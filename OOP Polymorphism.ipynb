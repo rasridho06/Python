{
 "cells": [
  {
   "cell_type": "code",
   "execution_count": 26,
   "id": "5ead55a0",
   "metadata": {},
   "outputs": [
    {
     "name": "stdout",
     "output_type": "stream",
     "text": [
      "Meow\n",
      "Guk Guk\n",
      "Ini suara binatang\n",
      "Kendaraan ini bukan mobil atau motor sehingga Jenis Bahan Bakar tidak diketahui\n",
      "Mobil ini memiliki jenis bahan bakar Solar\n",
      "Motor ini memiliki jenis bahan bakar Pertamax 92\n"
     ]
    }
   ],
   "source": [
    "# Polymorphism\n",
    "# banyak bentuk\n",
    "# artinya satu interface (method) bisa memiliki banyak implementasi\n",
    "\n",
    "# Dalam OOP Python, ini artinya:\n",
    "# - Nama method bisa sama, tapi perilakunya berbeda tergantung objek/class yang memakainya.\n",
    "# - Bisa juga satu method menerima berbagai tipe input yang berbeda dan tetap berfungsi.\n",
    "\n",
    "# Analogi Sederhana\n",
    "# Bayangkan perintah “Maju!”\n",
    "# - Kalau perintah ini diberikan ke tentara, dia jalan dengan tegap.\n",
    "# - Kalau ke robot, dia bergerak dengan roda.\n",
    "# - Kalau ke anjing terlatih, dia akan lari ke depan.\n",
    "\n",
    "# 👉 Perintahnya sama (\"Maju!\"), tapi implementasinya berbeda tergantung objeknya.\n",
    "# Itulah polymorphism.\n",
    "\n",
    "# Polymorphism lewat Inheritance (method overriding)\n",
    "\n",
    "class binatang:\n",
    "    def suara (self):\n",
    "        return 'Ini suara binatang'\n",
    "    \n",
    "class kucing(binatang): \n",
    "    # Override method suara(). Artinya: untuk objek Kucing, versi inilah yang dipakai, bukan versi Hewan\n",
    "    def suara(self):\n",
    "        return \"Meow\"\n",
    "\n",
    "class anjing(binatang):\n",
    "    # Override method suara(). Artinya: untuk objek Anjing, versi inilah yang dipakai, bukan versi Hewan\n",
    "    def suara(self):\n",
    "        return \"Guk Guk\"\n",
    "\n",
    "daftar_binatang = [kucing(), anjing(), binatang()]\n",
    "\n",
    "for i in daftar_binatang :\n",
    "    print(i.suara())\n",
    "\n",
    "\"\"\"\n",
    "Kalau h adalah Kucing → panggil Kucing.suara() → \"Meow\".\n",
    "Kalau h adalah Anjing → panggil Anjing.suara() → \"Guk Guk\".\n",
    "Kalau h adalah Hewan → pakai default Hewan.suara() → \"Hewan mengeluarkan suara\"\n",
    "\n",
    "\"\"\"\n",
    "\n",
    "class Kendaraan :\n",
    "    def bahan_bakar (self):\n",
    "        return \"Jenis Bahan Bakar tidak diketahui\"\n",
    "\n",
    "class mobil(Kendaraan):\n",
    "    def bahan_bakar(self):\n",
    "        return \"Solar\"\n",
    "\n",
    "class motor(Kendaraan):\n",
    "    def bahan_bakar(self):\n",
    "        return \"Pertamax 92\"\n",
    "\n",
    "bukan_mobil = Kendaraan()\n",
    "print(f'Kendaraan ini bukan mobil atau motor sehingga {bukan_mobil.bahan_bakar()}')\n",
    "mobil_baru = mobil()\n",
    "print(f'Mobil ini memiliki jenis bahan bakar {mobil_baru.bahan_bakar()}')\n",
    "motor_baru = motor()\n",
    "print(f'Motor ini memiliki jenis bahan bakar {motor_baru.bahan_bakar()}')\n"
   ]
  },
  {
   "cell_type": "code",
   "execution_count": 17,
   "id": "5936dcda",
   "metadata": {},
   "outputs": [
    {
     "name": "stdout",
     "output_type": "stream",
     "text": [
      "7\n",
      "12\n",
      "(1, 2, 3)\n",
      "6\n",
      "nama : Ridho\n",
      "umur : 25\n",
      "pekerjaan : data engineer\n"
     ]
    }
   ],
   "source": [
    "# Polymorphism lewat Overloading (pseudo di Python)\n",
    "# Satu nama method, bisa dipakai dengan parameter berbeda.\n",
    "\n",
    "# default argument\n",
    "class math :\n",
    "    def add (self, a, b, c=None): # c=None artinya parameter opsional.\n",
    "        if c is None :\n",
    "            return a+b # Kalau c tidak diisi, hanya hitung a+b\n",
    "        else :\n",
    "            return a+b+c # Kalau c ada, hitung a+b+c.\n",
    "\n",
    "# buat objek\n",
    "m = math()\n",
    "print(m.add(3,4))\n",
    "print(m.add(3,4,5))\n",
    "\n",
    "# *args (arguments)\n",
    "# - Dipakai untuk menampung jumlah argumen posisi (positional arguments) yang tidak terbatas.\n",
    "# - Disimpan dalam bentuk tuple.\n",
    "\n",
    "def tambah (*args):\n",
    "    print(args)\n",
    "    return sum(args)\n",
    "\n",
    "print(tambah(1,2,3))\n",
    "\n",
    "\n",
    "# **kwargs (Keyword Arguments)\n",
    "# - Dipakai untuk menampung argumen dengan nama (keyword arguments) dalam jumlah tak terbatas.\n",
    "# - Disimpan dalam bentuk dictionary (key: value).\n",
    "\n",
    "def profil (**kwargs):\n",
    "    for key, value in kwargs.items():\n",
    "        print(f'{key} : {value}')\n",
    "\n",
    "profil(nama='Ridho', umur=25, pekerjaan= 'data engineer')\n",
    "\n",
    "\n",
    "# \"\"\"\n",
    "# Tanda bintang (* atau **) yang penting → itu sinyal ke Python.\n",
    "\n",
    "# Nama setelah bintang → bebas kamu kasih nama apapun.\n",
    "\n",
    "# Tapi, untuk keterbacaan kode, biasanya developer pakai *args & **kwargs biar gampang dipahami semua orang.\n",
    "\n",
    "# \"\"\""
   ]
  },
  {
   "cell_type": "code",
   "execution_count": null,
   "id": "83a2f8ca",
   "metadata": {},
   "outputs": [
    {
     "name": "stdout",
     "output_type": "stream",
     "text": [
      "an airplane taking off\n",
      "bird is fly in the sky\n"
     ]
    }
   ],
   "source": [
    "# Polymorphism lewat Duck Typing\n",
    "# Python tidak peduli tipe class, asal punya method/atribut yang dipanggil, maka dianggap valid.\n",
    "\n",
    "class bird:\n",
    "    def fly (self):\n",
    "        return \"bird is fly in the sky\"\n",
    "    \n",
    "class airplane:\n",
    "    def fly(self):\n",
    "        return \"an airplane taking off\"\n",
    "\n",
    "def test_fly(obj):\n",
    "    print(obj.fly())\n",
    "\n",
    "test_fly(airplane()) # airplane adalah nama class\n",
    "test_fly(bird()) # bird adalah nama class"
   ]
  },
  {
   "cell_type": "code",
   "execution_count": null,
   "id": "0486fb87",
   "metadata": {},
   "outputs": [],
   "source": []
  }
 ],
 "metadata": {
  "kernelspec": {
   "display_name": ".venv (3.12.1)",
   "language": "python",
   "name": "python3"
  },
  "language_info": {
   "codemirror_mode": {
    "name": "ipython",
    "version": 3
   },
   "file_extension": ".py",
   "mimetype": "text/x-python",
   "name": "python",
   "nbconvert_exporter": "python",
   "pygments_lexer": "ipython3",
   "version": "3.12.0"
  }
 },
 "nbformat": 4,
 "nbformat_minor": 5
}
