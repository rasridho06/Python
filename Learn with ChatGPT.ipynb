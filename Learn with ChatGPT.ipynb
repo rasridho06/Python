{
 "cells": [
  {
   "cell_type": "markdown",
   "metadata": {},
   "source": [
    "Learn python with ChatGPT"
   ]
  },
  {
   "cell_type": "code",
   "execution_count": 1,
   "metadata": {},
   "outputs": [
    {
     "name": "stdout",
     "output_type": "stream",
     "text": [
      "Menggambar lingkaran ke- 1\n",
      "Menggambar lingkaran ke- 2\n",
      "Menggambar lingkaran ke- 3\n",
      "Menggambar lingkaran ke- 4\n",
      "Menggambar lingkaran ke- 5\n",
      "Menggambar lingkaran ke- 1\n",
      "Menggambar lingkaran ke- 2\n",
      "Menggambar lingkaran ke- 3\n",
      "Menggambar lingkaran ke- 4\n",
      "Menggambar lingkaran ke- 5\n",
      "Menggambar lingkaran berwarna merah\n",
      "Menggambar lingkaran berwarna kuning\n",
      "Menggambar lingkaran berwarna hijau\n",
      "Menggambar lingkaran berwarna biru\n",
      "Menggambar lingkaran berwarna ungu\n"
     ]
    }
   ],
   "source": [
    "# Easy\n",
    "for i in range(5): #dimulai dari 0, diakhiri 4\n",
    "    print(\"Menggambar lingkaran ke-\", i+1) # 0+1=1, 1+1=2, 2+1=3, 3+1=4, 4+1=5\n",
    "\n",
    "# Medium\n",
    "counter = 0\n",
    "while counter < 5:\n",
    "    print(\"Menggambar lingkaran ke-\", counter+1)\n",
    "    counter += 1\n",
    "\n",
    "# Hard\n",
    "colors = [\"merah\", \"kuning\", \"hijau\", \"biru\", \"ungu\"]\n",
    "for color in colors:\n",
    "    print(\"Menggambar lingkaran berwarna\", color)\n"
   ]
  },
  {
   "cell_type": "code",
   "execution_count": 2,
   "metadata": {},
   "outputs": [
    {
     "name": "stdout",
     "output_type": "stream",
     "text": [
      "Halo!\n",
      "Hasil penjumlahan: 7\n",
      "Angka terbesar adalah: 15\n"
     ]
    }
   ],
   "source": [
    "# Easy\n",
    "def greet():\n",
    "    print(\"Halo!\")\n",
    "\n",
    "greet()\n",
    "\n",
    "# Medium\n",
    "def add_numbers(a, b):\n",
    "    result = a + b\n",
    "    return result\n",
    "\n",
    "sum_result = add_numbers(3, 4)\n",
    "print(\"Hasil penjumlahan:\", sum_result)\n",
    "\n",
    "# Hard\n",
    "def find_max(numbers):\n",
    "    max_number = max(numbers)\n",
    "    return max_number\n",
    "\n",
    "numbers_list = [10, 5, 8, 15, 3]\n",
    "max_value = find_max(numbers_list)\n",
    "print(\"Angka terbesar adalah:\", max_value)\n"
   ]
  },
  {
   "cell_type": "code",
   "execution_count": 3,
   "metadata": {},
   "outputs": [
    {
     "name": "stdout",
     "output_type": "stream",
     "text": [
      "30\n"
     ]
    }
   ],
   "source": [
    "# Program untuk menghitung jumlah angka genap dari 1 sampai 10\n",
    "\n",
    "total = 0\n",
    "i = 2\n",
    "while i <= 10:\n",
    "    total += i\n",
    "    i += 2\n",
    "\n",
    "print(total)\n"
   ]
  },
  {
   "cell_type": "code",
   "execution_count": 4,
   "metadata": {},
   "outputs": [
    {
     "name": "stdout",
     "output_type": "stream",
     "text": [
      "49\n"
     ]
    }
   ],
   "source": [
    "# Program untuk menghitung jumlah angka prima dari 1 sampai 100\n",
    "\n",
    "total = 0\n",
    "i = 2\n",
    "while i <= 100:\n",
    "    if i % 2 == 1:\n",
    "        total += 1\n",
    "    i += 1\n",
    "\n",
    "print(total)\n"
   ]
  },
  {
   "cell_type": "code",
   "execution_count": 5,
   "metadata": {},
   "outputs": [
    {
     "name": "stdout",
     "output_type": "stream",
     "text": [
      "50\n"
     ]
    }
   ],
   "source": [
    "# Function untuk menghitung luas persegi panjang\n",
    "\n",
    "def luas_persegi_panjang(panjang, lebar):\n",
    "    return panjang * lebar\n",
    "\n",
    "print(luas_persegi_panjang(10, 5))\n"
   ]
  },
  {
   "cell_type": "code",
   "execution_count": 6,
   "metadata": {},
   "outputs": [
    {
     "name": "stdout",
     "output_type": "stream",
     "text": [
      "1 adalah angka Ganjil\n",
      "2 adalah angka Genap\n",
      "3 adalah angka Ganjil\n",
      "4 adalah angka Genap\n",
      "5 adalah angka Ganjil\n",
      "Angka positif: [5, 10, 3]\n",
      "Nilai 88 mendapatkan grade B\n",
      "Nilai 92 mendapatkan grade A\n",
      "Nilai 78 mendapatkan grade C\n",
      "Nilai 95 mendapatkan grade A\n",
      "Nilai 60 mendapatkan grade D\n"
     ]
    }
   ],
   "source": [
    "# Easy\n",
    "def check_even_or_odd(number):\n",
    "    if number % 2 == 0:\n",
    "        return \"Genap\"\n",
    "    else:\n",
    "        return \"Ganjil\"\n",
    "\n",
    "for i in range(1, 6):\n",
    "    result = check_even_or_odd(i)\n",
    "    print(f\"{i} adalah angka {result}\")\n",
    "\n",
    "# Medium\n",
    "def find_positive_numbers(numbers):\n",
    "    positive_numbers = []\n",
    "    for num in numbers:\n",
    "        if num > 0:\n",
    "            positive_numbers.append(num)\n",
    "    return positive_numbers\n",
    "\n",
    "number_list = [5, -2, 10, -8, 3]\n",
    "positive_numbers = find_positive_numbers(number_list)\n",
    "print(\"Angka positif:\", positive_numbers)\n",
    "\n",
    "# Hard\n",
    "def calculate_grade(score):\n",
    "    if score >= 90:\n",
    "        return \"A\"\n",
    "    elif 80 <= score < 90:\n",
    "        return \"B\"\n",
    "    elif 70 <= score < 80:\n",
    "        return \"C\"\n",
    "    else:\n",
    "        return \"D\"\n",
    "\n",
    "students_scores = [88, 92, 78, 95, 60]\n",
    "for score in students_scores:\n",
    "    grade = calculate_grade(score)\n",
    "    print(f\"Nilai {score} mendapatkan grade {grade}\")\n"
   ]
  },
  {
   "cell_type": "code",
   "execution_count": 2,
   "metadata": {},
   "outputs": [
    {
     "name": "stdout",
     "output_type": "stream",
     "text": [
      "['Kramer', 'Elaine', 'George', 'Newman']\n"
     ]
    }
   ],
   "source": [
    "#Standard Style\n",
    "names = ['Jerry', 'Kramer', 'Elaine', 'George', 'Newman']\n",
    "i = 0\n",
    "new_list= []\n",
    "while i < len(names):\n",
    "    if len(names[i]) >= 6:\n",
    "        new_list.append(names[i])\n",
    "    i += 1\n",
    "print(new_list)\n",
    "\n",
    "#Penjelasan langkah demi langkah:\n",
    "\n",
    "#Inisialisasi list names dengan beberapa nama.\n",
    "#Inisialisasi variabel i dengan nilai 0 sebagai indeks awal.\n",
    "#Inisialisasi list kosong new_list untuk menyimpan nama-nama yang memenuhi kriteria.\n",
    "#Dimulai dari indeks ke-0, program memasuki loop while yang akan berjalan selama i kurang dari panjang list names.\n",
    "#Di dalam loop, setiap nama diperiksa panjangnya. Jika panjang nama lebih besar atau sama dengan 6, \n",
    "#nama tersebut ditambahkan ke dalam list new_list.\n",
    "#i ditambah 1 untuk pindah ke nama berikutnya.\n",
    "#Proses berulang hingga semua nama telah diperiksa.\n",
    "#Setelah loop selesai, program mencetak list new_list, yang berisi nama-nama yang memenuhi kriteria."
   ]
  },
  {
   "cell_type": "code",
   "execution_count": 3,
   "metadata": {},
   "outputs": [
    {
     "name": "stdout",
     "output_type": "stream",
     "text": [
      "['Kramer', 'Elaine', 'George', 'Newman']\n"
     ]
    }
   ],
   "source": [
    "#better style\n",
    "# Print the list created by looping over the contents of names\n",
    "better_list = []\n",
    "for name in names:\n",
    "    if len(name) >= 6:\n",
    "        better_list.append(name)\n",
    "print(better_list)"
   ]
  },
  {
   "cell_type": "code",
   "execution_count": 5,
   "metadata": {},
   "outputs": [
    {
     "name": "stdout",
     "output_type": "stream",
     "text": [
      "['Kramer', 'Elaine', 'George', 'Newman']\n"
     ]
    }
   ],
   "source": [
    "# Print the list created by using list comprehension\n",
    "best_list = [name for name in names if len(name) >= 6]\n",
    "print(best_list)"
   ]
  },
  {
   "cell_type": "code",
   "execution_count": 1,
   "metadata": {},
   "outputs": [
    {
     "name": "stdout",
     "output_type": "stream",
     "text": [
      "0\n",
      "1\n",
      "2\n",
      "3\n",
      "4\n"
     ]
    }
   ],
   "source": [
    "i = 0\n",
    "while i < 5:\n",
    "    print(i)\n",
    "    i += 1"
   ]
  },
  {
   "cell_type": "code",
   "execution_count": 11,
   "metadata": {},
   "outputs": [
    {
     "name": "stdout",
     "output_type": "stream",
     "text": [
      "['Bob']\n"
     ]
    }
   ],
   "source": [
    "names = ['Alice', 'Bob', 'Charlie']\n",
    "new_name = []\n",
    "for x in names:\n",
    "    if len(x) == 3 :\n",
    "        new_name.append(x)\n",
    "print(new_name)"
   ]
  },
  {
   "cell_type": "code",
   "execution_count": 9,
   "metadata": {},
   "outputs": [
    {
     "name": "stdout",
     "output_type": "stream",
     "text": [
      "False\n"
     ]
    }
   ],
   "source": [
    "def capital_indexes ():\n",
    "    x = \"HeLlO\"\n",
    "    xy = x.isupper()\n",
    "    print(xy)\n",
    "capital_indexes()"
   ]
  },
  {
   "cell_type": "code",
   "execution_count": 2,
   "metadata": {},
   "outputs": [
    {
     "name": "stdout",
     "output_type": "stream",
     "text": [
      "6\n"
     ]
    }
   ],
   "source": [
    "i = 0\n",
    "while i <= 5 :\n",
    "    i += 1\n",
    "print(i)"
   ]
  },
  {
   "cell_type": "code",
   "execution_count": 4,
   "metadata": {},
   "outputs": [
    {
     "name": "stdout",
     "output_type": "stream",
     "text": [
      "Anda mendapatkan diskon sebesar 12000.0 dan total yang harus dibayar adalah 108000.0\n"
     ]
    }
   ],
   "source": [
    "total_belanja = 120000\n",
    "if total_belanja > 100000:\n",
    "    diskon = total_belanja * 0.1\n",
    "    total_bayar = total_belanja - diskon\n",
    "    print(\"Anda mendapatkan diskon sebesar\", diskon, \"dan total yang harus dibayar adalah\", total_bayar)\n",
    "else:\n",
    "    print(\"Total yang harus dibayar adalah\", total_belanja)\n"
   ]
  },
  {
   "cell_type": "code",
   "execution_count": 5,
   "metadata": {},
   "outputs": [
    {
     "name": "stdout",
     "output_type": "stream",
     "text": [
      "1\n",
      "3\n",
      "5\n",
      "7\n",
      "9\n"
     ]
    }
   ],
   "source": [
    "angka = 1\n",
    "while angka <= 10:\n",
    "    print(angka)\n",
    "    angka += 2\n"
   ]
  },
  {
   "cell_type": "code",
   "execution_count": 6,
   "metadata": {},
   "outputs": [
    {
     "name": "stdout",
     "output_type": "stream",
     "text": [
      "1\n",
      "3\n",
      "5\n",
      "7\n",
      "9\n"
     ]
    }
   ],
   "source": [
    "angka = 1\n",
    "while angka <= 10:\n",
    "    if angka % 2 != 0:\n",
    "        print(angka)\n",
    "    angka += 1\n",
    "\n",
    "# Dalam kode di atas, kita menggunakan operator modulo (%) untuk memeriksa apakah sisa pembagian angka dengan 2 tidak sama dengan 0. \n",
    "# Jika sisa pembagian bukan 0, itu berarti angka adalah bilangan ganjil, dan kemudian kita mencetaknya. \n",
    "# Dengan menggunakan pendekatan ini, kita dapat mencetak bilangan ganjil tanpa harus menambahkan angka += 2."
   ]
  },
  {
   "cell_type": "code",
   "execution_count": 7,
   "metadata": {},
   "outputs": [
    {
     "name": "stdout",
     "output_type": "stream",
     "text": [
      "Rata-rata nilai ujian adalah: 86.0\n"
     ]
    }
   ],
   "source": [
    "nilai_ujian = [85, 90, 75, 88, 92]\n",
    "total_nilai = sum(nilai_ujian)\n",
    "rata_rata = total_nilai / len(nilai_ujian)\n",
    "print(\"Rata-rata nilai ujian adalah:\", rata_rata)\n"
   ]
  },
  {
   "cell_type": "code",
   "execution_count": 12,
   "metadata": {},
   "outputs": [
    {
     "name": "stdout",
     "output_type": "stream",
     "text": [
      "Rata-rata nilai ujian adalah: 86.0\n"
     ]
    }
   ],
   "source": [
    "nilai_ujian = [85, 90, 75, 88, 92]\n",
    "total_nilai = sum(nilai_ujian)\n",
    "rata_rata = total_nilai / len(nilai_ujian)\n",
    "print(\"Rata-rata nilai ujian adalah:\", rata_rata)\n"
   ]
  },
  {
   "cell_type": "code",
   "execution_count": 10,
   "metadata": {},
   "outputs": [],
   "source": [
    "import statistics as s"
   ]
  },
  {
   "cell_type": "code",
   "execution_count": 13,
   "metadata": {},
   "outputs": [
    {
     "name": "stdout",
     "output_type": "stream",
     "text": [
      "Rata-rata nilai ujian adalah: 86\n"
     ]
    }
   ],
   "source": [
    "nilai_ujian = [85, 90, 75, 88, 92]\n",
    "total_nilai = sum(nilai_ujian)\n",
    "rata_rata = s.mean(nilai_ujian)\n",
    "print(\"Rata-rata nilai ujian adalah:\", rata_rata)\n",
    "\n",
    "# ada 2 cara menghitung rata-rata yaitu :\n",
    "# 1. dengan membagi variabel yang telah di sum dengan len\n",
    "# 2. library statistic dengan import statistis as s lalu gunakan function mean\n"
   ]
  },
  {
   "cell_type": "code",
   "execution_count": 14,
   "metadata": {},
   "outputs": [
    {
     "name": "stdout",
     "output_type": "stream",
     "text": [
      "Koordinat titik: (1, 2)\n",
      "Koordinat titik: (3, 4)\n",
      "Koordinat titik: (5, 6)\n"
     ]
    }
   ],
   "source": [
    "koordinat = ((1, 2), (3, 4), (5, 6))\n",
    "for titik in koordinat:\n",
    "    print(\"Koordinat titik:\", titik)\n"
   ]
  },
  {
   "cell_type": "code",
   "execution_count": 16,
   "metadata": {},
   "outputs": [
    {
     "ename": "TypeError",
     "evalue": "'<=' not supported between instances of 'tuple' and 'int'",
     "output_type": "error",
     "traceback": [
      "\u001b[1;31m---------------------------------------------------------------------------\u001b[0m",
      "\u001b[1;31mTypeError\u001b[0m                                 Traceback (most recent call last)",
      "Cell \u001b[1;32mIn[16], line 2\u001b[0m\n\u001b[0;32m      1\u001b[0m koordinat \u001b[38;5;241m=\u001b[39m ((\u001b[38;5;241m1\u001b[39m, \u001b[38;5;241m2\u001b[39m), (\u001b[38;5;241m3\u001b[39m, \u001b[38;5;241m4\u001b[39m), (\u001b[38;5;241m5\u001b[39m, \u001b[38;5;241m6\u001b[39m))\n\u001b[1;32m----> 2\u001b[0m \u001b[38;5;28;01mwhile\u001b[39;00m \u001b[43mkoordinat\u001b[49m\u001b[43m \u001b[49m\u001b[38;5;241;43m<\u001b[39;49m\u001b[38;5;241;43m=\u001b[39;49m\u001b[43m \u001b[49m\u001b[38;5;241;43m1\u001b[39;49m :\n\u001b[0;32m      3\u001b[0m     \u001b[38;5;28mprint\u001b[39m (koordinat)\n",
      "\u001b[1;31mTypeError\u001b[0m: '<=' not supported between instances of 'tuple' and 'int'"
     ]
    }
   ],
   "source": [
    "koordinat = ((1, 2), (3, 4), (5, 6))\n",
    "while koordinat <= 1 :\n",
    "    print (koordinat)"
   ]
  },
  {
   "cell_type": "code",
   "execution_count": null,
   "metadata": {},
   "outputs": [],
   "source": []
  }
 ],
 "metadata": {
  "kernelspec": {
   "display_name": "Python 3",
   "language": "python",
   "name": "python3"
  },
  "language_info": {
   "codemirror_mode": {
    "name": "ipython",
    "version": 3
   },
   "file_extension": ".py",
   "mimetype": "text/x-python",
   "name": "python",
   "nbconvert_exporter": "python",
   "pygments_lexer": "ipython3",
   "version": "3.12.1"
  }
 },
 "nbformat": 4,
 "nbformat_minor": 2
}
